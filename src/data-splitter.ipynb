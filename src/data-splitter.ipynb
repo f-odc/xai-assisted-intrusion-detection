{
 "cells": [
  {
   "cell_type": "markdown",
   "metadata": {},
   "source": [
    "# Data Splitter\n",
    "---"
   ]
  },
  {
   "cell_type": "code",
   "execution_count": 1,
   "metadata": {},
   "outputs": [],
   "source": [
    "# TODO: define whether to use binary or multiclass classification\n",
    "multiclass = True"
   ]
  },
  {
   "cell_type": "markdown",
   "metadata": {},
   "source": [
    "## Load Preprocessed Data"
   ]
  },
  {
   "cell_type": "code",
   "execution_count": 2,
   "metadata": {},
   "outputs": [
    {
     "data": {
      "text/html": [
       "<div>\n",
       "<style scoped>\n",
       "    .dataframe tbody tr th:only-of-type {\n",
       "        vertical-align: middle;\n",
       "    }\n",
       "\n",
       "    .dataframe tbody tr th {\n",
       "        vertical-align: top;\n",
       "    }\n",
       "\n",
       "    .dataframe thead th {\n",
       "        text-align: right;\n",
       "    }\n",
       "</style>\n",
       "<table border=\"1\" class=\"dataframe\">\n",
       "  <thead>\n",
       "    <tr style=\"text-align: right;\">\n",
       "      <th></th>\n",
       "      <th>Destination Port</th>\n",
       "      <th>Flow Duration</th>\n",
       "      <th>Total Fwd Packets</th>\n",
       "      <th>Total Backward Packets</th>\n",
       "      <th>Total Length of Fwd Packets</th>\n",
       "      <th>Total Length of Bwd Packets</th>\n",
       "      <th>Fwd Packet Length Max</th>\n",
       "      <th>Fwd Packet Length Min</th>\n",
       "      <th>Fwd Packet Length Mean</th>\n",
       "      <th>Fwd Packet Length Std</th>\n",
       "      <th>...</th>\n",
       "      <th>min_seg_size_forward</th>\n",
       "      <th>Active Mean</th>\n",
       "      <th>Active Std</th>\n",
       "      <th>Active Max</th>\n",
       "      <th>Active Min</th>\n",
       "      <th>Idle Mean</th>\n",
       "      <th>Idle Std</th>\n",
       "      <th>Idle Max</th>\n",
       "      <th>Idle Min</th>\n",
       "      <th>Label</th>\n",
       "    </tr>\n",
       "  </thead>\n",
       "  <tbody>\n",
       "    <tr>\n",
       "      <th>0</th>\n",
       "      <td>0.138552</td>\n",
       "      <td>5.083333e-07</td>\n",
       "      <td>0.000005</td>\n",
       "      <td>0.000000</td>\n",
       "      <td>3.100775e-07</td>\n",
       "      <td>0.000000e+00</td>\n",
       "      <td>0.000081</td>\n",
       "      <td>0.000860</td>\n",
       "      <td>0.000337</td>\n",
       "      <td>0.000000</td>\n",
       "      <td>...</td>\n",
       "      <td>1.0</td>\n",
       "      <td>0.0</td>\n",
       "      <td>0.0</td>\n",
       "      <td>0.0</td>\n",
       "      <td>0.0</td>\n",
       "      <td>0.0</td>\n",
       "      <td>0.0</td>\n",
       "      <td>0.0</td>\n",
       "      <td>0.0</td>\n",
       "      <td>0</td>\n",
       "    </tr>\n",
       "    <tr>\n",
       "      <th>1</th>\n",
       "      <td>0.000809</td>\n",
       "      <td>4.499583e-04</td>\n",
       "      <td>0.000000</td>\n",
       "      <td>0.000003</td>\n",
       "      <td>3.643411e-06</td>\n",
       "      <td>1.571432e-07</td>\n",
       "      <td>0.001894</td>\n",
       "      <td>0.020215</td>\n",
       "      <td>0.007911</td>\n",
       "      <td>0.000000</td>\n",
       "      <td>...</td>\n",
       "      <td>1.0</td>\n",
       "      <td>0.0</td>\n",
       "      <td>0.0</td>\n",
       "      <td>0.0</td>\n",
       "      <td>0.0</td>\n",
       "      <td>0.0</td>\n",
       "      <td>0.0</td>\n",
       "      <td>0.0</td>\n",
       "      <td>0.0</td>\n",
       "      <td>0</td>\n",
       "    </tr>\n",
       "    <tr>\n",
       "      <th>2</th>\n",
       "      <td>0.015808</td>\n",
       "      <td>7.499999e-07</td>\n",
       "      <td>0.000000</td>\n",
       "      <td>0.000003</td>\n",
       "      <td>0.000000e+00</td>\n",
       "      <td>9.153974e-09</td>\n",
       "      <td>0.000000</td>\n",
       "      <td>0.000000</td>\n",
       "      <td>0.000000</td>\n",
       "      <td>0.000000</td>\n",
       "      <td>...</td>\n",
       "      <td>1.0</td>\n",
       "      <td>0.0</td>\n",
       "      <td>0.0</td>\n",
       "      <td>0.0</td>\n",
       "      <td>0.0</td>\n",
       "      <td>0.0</td>\n",
       "      <td>0.0</td>\n",
       "      <td>0.0</td>\n",
       "      <td>0.0</td>\n",
       "      <td>10</td>\n",
       "    </tr>\n",
       "    <tr>\n",
       "      <th>3</th>\n",
       "      <td>0.006760</td>\n",
       "      <td>6.526416e-04</td>\n",
       "      <td>0.000023</td>\n",
       "      <td>0.000021</td>\n",
       "      <td>1.494574e-04</td>\n",
       "      <td>5.139956e-06</td>\n",
       "      <td>0.051289</td>\n",
       "      <td>0.000000</td>\n",
       "      <td>0.054089</td>\n",
       "      <td>0.071124</td>\n",
       "      <td>...</td>\n",
       "      <td>1.0</td>\n",
       "      <td>0.0</td>\n",
       "      <td>0.0</td>\n",
       "      <td>0.0</td>\n",
       "      <td>0.0</td>\n",
       "      <td>0.0</td>\n",
       "      <td>0.0</td>\n",
       "      <td>0.0</td>\n",
       "      <td>0.0</td>\n",
       "      <td>0</td>\n",
       "    </tr>\n",
       "    <tr>\n",
       "      <th>4</th>\n",
       "      <td>0.000809</td>\n",
       "      <td>1.758333e-06</td>\n",
       "      <td>0.000005</td>\n",
       "      <td>0.000007</td>\n",
       "      <td>5.426357e-06</td>\n",
       "      <td>3.814156e-07</td>\n",
       "      <td>0.001410</td>\n",
       "      <td>0.015054</td>\n",
       "      <td>0.005891</td>\n",
       "      <td>0.000000</td>\n",
       "      <td>...</td>\n",
       "      <td>1.0</td>\n",
       "      <td>0.0</td>\n",
       "      <td>0.0</td>\n",
       "      <td>0.0</td>\n",
       "      <td>0.0</td>\n",
       "      <td>0.0</td>\n",
       "      <td>0.0</td>\n",
       "      <td>0.0</td>\n",
       "      <td>0.0</td>\n",
       "      <td>0</td>\n",
       "    </tr>\n",
       "  </tbody>\n",
       "</table>\n",
       "<p>5 rows × 71 columns</p>\n",
       "</div>"
      ],
      "text/plain": [
       "    Destination Port   Flow Duration   Total Fwd Packets  \\\n",
       "0           0.138552    5.083333e-07            0.000005   \n",
       "1           0.000809    4.499583e-04            0.000000   \n",
       "2           0.015808    7.499999e-07            0.000000   \n",
       "3           0.006760    6.526416e-04            0.000023   \n",
       "4           0.000809    1.758333e-06            0.000005   \n",
       "\n",
       "    Total Backward Packets  Total Length of Fwd Packets  \\\n",
       "0                 0.000000                 3.100775e-07   \n",
       "1                 0.000003                 3.643411e-06   \n",
       "2                 0.000003                 0.000000e+00   \n",
       "3                 0.000021                 1.494574e-04   \n",
       "4                 0.000007                 5.426357e-06   \n",
       "\n",
       "    Total Length of Bwd Packets   Fwd Packet Length Max  \\\n",
       "0                  0.000000e+00                0.000081   \n",
       "1                  1.571432e-07                0.001894   \n",
       "2                  9.153974e-09                0.000000   \n",
       "3                  5.139956e-06                0.051289   \n",
       "4                  3.814156e-07                0.001410   \n",
       "\n",
       "    Fwd Packet Length Min   Fwd Packet Length Mean   Fwd Packet Length Std  \\\n",
       "0                0.000860                 0.000337                0.000000   \n",
       "1                0.020215                 0.007911                0.000000   \n",
       "2                0.000000                 0.000000                0.000000   \n",
       "3                0.000000                 0.054089                0.071124   \n",
       "4                0.015054                 0.005891                0.000000   \n",
       "\n",
       "   ...   min_seg_size_forward  Active Mean   Active Std   Active Max  \\\n",
       "0  ...                    1.0          0.0          0.0          0.0   \n",
       "1  ...                    1.0          0.0          0.0          0.0   \n",
       "2  ...                    1.0          0.0          0.0          0.0   \n",
       "3  ...                    1.0          0.0          0.0          0.0   \n",
       "4  ...                    1.0          0.0          0.0          0.0   \n",
       "\n",
       "    Active Min  Idle Mean   Idle Std   Idle Max   Idle Min   Label  \n",
       "0          0.0        0.0        0.0        0.0        0.0       0  \n",
       "1          0.0        0.0        0.0        0.0        0.0       0  \n",
       "2          0.0        0.0        0.0        0.0        0.0      10  \n",
       "3          0.0        0.0        0.0        0.0        0.0       0  \n",
       "4          0.0        0.0        0.0        0.0        0.0       0  \n",
       "\n",
       "[5 rows x 71 columns]"
      ]
     },
     "execution_count": 2,
     "metadata": {},
     "output_type": "execute_result"
    }
   ],
   "source": [
    "import pandas as pd\n",
    "\n",
    "# load dataset\n",
    "if multiclass:\n",
    "    df = pd.read_csv('../CICIDS2017/preprocessed/multiclass_min_max_combined.csv')\n",
    "else:\n",
    "    df = pd.read_csv('../CICIDS2017/preprocessed/binary_min_max_combined.csv')\n",
    "df.shape\n",
    "df.head()"
   ]
  },
  {
   "cell_type": "markdown",
   "metadata": {},
   "source": [
    "## Split Data"
   ]
  },
  {
   "cell_type": "code",
   "execution_count": 3,
   "metadata": {},
   "outputs": [],
   "source": [
    "# split data\n",
    "from sklearn.model_selection import train_test_split\n",
    "\n",
    "X = df.drop(columns=[' Label'])\n",
    "y = df[' Label']"
   ]
  },
  {
   "cell_type": "markdown",
   "metadata": {},
   "source": [
    "### One-Hot Label Encoding"
   ]
  },
  {
   "cell_type": "code",
   "execution_count": 4,
   "metadata": {},
   "outputs": [],
   "source": [
    "import json\n",
    "\n",
    "\n",
    "def get_label_encoding():\n",
    "    if multiclass:\n",
    "        with open(\"../CICIDS2017/preprocessed/multiclass_label_encoding.json\", \"r\") as file:\n",
    "            class_mapping = json.load(file)\n",
    "    else: \n",
    "        with open(\"../CICIDS2017/preprocessed/binary_label_encoding.json\", \"r\") as file:\n",
    "            class_mapping = json.load(file)\n",
    "    target_names = [class_mapping[str(i)] for i in range(len(class_mapping))]\n",
    "    return target_names"
   ]
  },
  {
   "cell_type": "code",
   "execution_count": 8,
   "metadata": {},
   "outputs": [],
   "source": [
    "# def set_single_class_encoding():\n",
    "#     y.columns = [\"BENIGN\", \"MALICIOUS\"]\n",
    "\n",
    "# def set_multi_class_encoding():\n",
    "#     import json\n",
    "#     with open('../CICIDS2017/preprocessed/multiclass_label_encoding.json') as f:\n",
    "#         label_encoding = json.load(f)\n",
    "#         y.columns = [label_encoding[str(col)] for col in y.columns]"
   ]
  },
  {
   "cell_type": "code",
   "execution_count": 6,
   "metadata": {},
   "outputs": [
    {
     "name": "stdout",
     "output_type": "stream",
     "text": [
      "Label One-Hot-Encoding....\n",
      "   BENIGN    Bot   DDoS  DoS GoldenEye  DoS Hulk  DoS Slowhttptest  \\\n",
      "0    True  False  False          False     False             False   \n",
      "1    True  False  False          False     False             False   \n",
      "\n",
      "   DoS Slowloris  FTP-Patator  Heartbleed  Infiltration  PortScan  \\\n",
      "0          False        False       False         False     False   \n",
      "1          False        False       False         False     False   \n",
      "\n",
      "   SSH-Patator  Web Attack Brute Force  Web Attack Sql Injection  \\\n",
      "0        False                   False                     False   \n",
      "1        False                   False                     False   \n",
      "\n",
      "   Web Attack XSS  \n",
      "0           False  \n",
      "1           False  \n",
      "Split Data....\n",
      "Train Data: X: (2120907, 70), y: (2120907, 15)\n",
      "Test Data: X: (706969, 70), y: (706969, 15)\n"
     ]
    }
   ],
   "source": [
    "# one-hot-encode y\n",
    "y = pd.get_dummies(y)\n",
    "print(\"Label One-Hot-Encoding....\")\n",
    "label_encoding = get_label_encoding()\n",
    "y.columns = label_encoding\n",
    "print(y[:2])\n",
    "\n",
    "print(\"Split Data....\")\n",
    "X_train, X_test, y_train, y_test = train_test_split(X, y, test_size=0.25, random_state=42)\n",
    "print(f\"Train Data: X: {X_train.shape}, y: {y_train.shape}\")\n",
    "print(f\"Test Data: X: {X_test.shape}, y: {y_test.shape}\")"
   ]
  },
  {
   "cell_type": "markdown",
   "metadata": {},
   "source": [
    "## Store Train and Test Data"
   ]
  },
  {
   "cell_type": "code",
   "execution_count": 10,
   "metadata": {},
   "outputs": [
    {
     "name": "stdout",
     "output_type": "stream",
     "text": [
      "Storing Train and Test Split.....\n",
      "Stored X_train\n",
      "Stored X_test\n",
      "Stored y_train\n",
      "Stored y_test\n",
      "Done!\n"
     ]
    }
   ],
   "source": [
    "print(\"Storing Train and Test Split.....\")\n",
    "X_train.to_csv('../CICIDS2017/train_test_split/X_train.csv', index=False)\n",
    "print(\"Stored X_train\")\n",
    "X_test.to_csv('../CICIDS2017/train_test_split/X_test.csv', index=False)\n",
    "print(\"Stored X_test\")\n",
    "y_train.to_csv('../CICIDS2017/train_test_split/y_train_multiclass.csv', index=False)\n",
    "print(\"Stored y_train\")\n",
    "y_test.to_csv('../CICIDS2017/train_test_split/y_test_multiclass.csv', index=False)\n",
    "print(\"Stored y_test\")\n",
    "print(\"Done!\")"
   ]
  },
  {
   "cell_type": "markdown",
   "metadata": {},
   "source": [
    "## Store Small Train and Test Data"
   ]
  },
  {
   "cell_type": "code",
   "execution_count": 5,
   "metadata": {},
   "outputs": [
    {
     "name": "stdout",
     "output_type": "stream",
     "text": [
      "Storing Small Train and Test Split.....\n",
      "Stored X_train_small\n",
      "Stored X_test_small\n",
      "Stored y_train_small\n",
      "Stored y_test_small\n",
      "Done!\n"
     ]
    }
   ],
   "source": [
    "# 0.25 train/test split -> 2000/500\n",
    "print(\"Storing Small Train and Test Split.....\")\n",
    "X_train[:2000].to_csv('../CICIDS2017/train_test_split/X_train_small.csv', index=False)\n",
    "print(\"Stored X_train_small\")\n",
    "X_test[:500].to_csv('../CICIDS2017/train_test_split/X_test_small.csv', index=False)\n",
    "print(\"Stored X_test_small\")\n",
    "y_train[:2000].to_csv('../CICIDS2017/train_test_split/y_train_small.csv', index=False)\n",
    "print(\"Stored y_train_small\")\n",
    "y_test[:500].to_csv('../CICIDS2017/train_test_split/y_test_small.csv', index=False)\n",
    "print(\"Stored y_test_small\")\n",
    "print(\"Done!\")"
   ]
  },
  {
   "cell_type": "markdown",
   "metadata": {},
   "source": [
    "## Store Train and Test Data for Prototype"
   ]
  },
  {
   "cell_type": "code",
   "execution_count": 4,
   "metadata": {},
   "outputs": [
    {
     "name": "stdout",
     "output_type": "stream",
     "text": [
      "Storing Train and Test Split for Prototyping.....\n",
      "Stored X_train_proto\n",
      "Stored X_test_proto\n",
      "Stored y_train_proto\n",
      "Stored y_test_proto\n",
      "Done!\n"
     ]
    }
   ],
   "source": [
    "print(\"Storing Train and Test Split for Prototyping.....\")\n",
    "X_train[:120000].to_csv('../CICIDS2017/train_test_split/X_train_proto.csv', index=False)\n",
    "print(\"Stored X_train_proto\")\n",
    "X_test[:30000].to_csv('../CICIDS2017/train_test_split/X_test_proto.csv', index=False)\n",
    "print(\"Stored X_test_proto\")\n",
    "y_train[:120000].to_csv('../CICIDS2017/train_test_split/y_train_proto.csv', index=False)\n",
    "print(\"Stored y_train_proto\")\n",
    "y_test[:30000].to_csv('../CICIDS2017/train_test_split/y_test_proto.csv', index=False)\n",
    "print(\"Stored y_test_proto\")\n",
    "print(\"Done!\")"
   ]
  }
 ],
 "metadata": {
  "kernelspec": {
   "display_name": ".env",
   "language": "python",
   "name": "python3"
  },
  "language_info": {
   "codemirror_mode": {
    "name": "ipython",
    "version": 3
   },
   "file_extension": ".py",
   "mimetype": "text/x-python",
   "name": "python",
   "nbconvert_exporter": "python",
   "pygments_lexer": "ipython3",
   "version": "3.12.8"
  }
 },
 "nbformat": 4,
 "nbformat_minor": 2
}
