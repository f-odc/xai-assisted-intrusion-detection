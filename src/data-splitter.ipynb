{
 "cells": [
  {
   "cell_type": "markdown",
   "metadata": {},
   "source": [
    "# Data Splitter\n",
    "---"
   ]
  },
  {
   "cell_type": "markdown",
   "metadata": {},
   "source": [
    "## Load Preprocessed Data"
   ]
  },
  {
   "cell_type": "code",
   "execution_count": 1,
   "metadata": {},
   "outputs": [
    {
     "data": {
      "text/html": [
       "<div>\n",
       "<style scoped>\n",
       "    .dataframe tbody tr th:only-of-type {\n",
       "        vertical-align: middle;\n",
       "    }\n",
       "\n",
       "    .dataframe tbody tr th {\n",
       "        vertical-align: top;\n",
       "    }\n",
       "\n",
       "    .dataframe thead th {\n",
       "        text-align: right;\n",
       "    }\n",
       "</style>\n",
       "<table border=\"1\" class=\"dataframe\">\n",
       "  <thead>\n",
       "    <tr style=\"text-align: right;\">\n",
       "      <th></th>\n",
       "      <th>Destination Port</th>\n",
       "      <th>Flow Duration</th>\n",
       "      <th>Total Fwd Packets</th>\n",
       "      <th>Total Backward Packets</th>\n",
       "      <th>Total Length of Fwd Packets</th>\n",
       "      <th>Total Length of Bwd Packets</th>\n",
       "      <th>Fwd Packet Length Max</th>\n",
       "      <th>Fwd Packet Length Min</th>\n",
       "      <th>Fwd Packet Length Mean</th>\n",
       "      <th>Fwd Packet Length Std</th>\n",
       "      <th>...</th>\n",
       "      <th>min_seg_size_forward</th>\n",
       "      <th>Active Mean</th>\n",
       "      <th>Active Std</th>\n",
       "      <th>Active Max</th>\n",
       "      <th>Active Min</th>\n",
       "      <th>Idle Mean</th>\n",
       "      <th>Idle Std</th>\n",
       "      <th>Idle Max</th>\n",
       "      <th>Idle Min</th>\n",
       "      <th>Label</th>\n",
       "    </tr>\n",
       "  </thead>\n",
       "  <tbody>\n",
       "    <tr>\n",
       "      <th>0</th>\n",
       "      <td>0.837186</td>\n",
       "      <td>1.333333e-07</td>\n",
       "      <td>0.000005</td>\n",
       "      <td>0.000000</td>\n",
       "      <td>9.302326e-07</td>\n",
       "      <td>0.000000e+00</td>\n",
       "      <td>0.000242</td>\n",
       "      <td>0.002581</td>\n",
       "      <td>0.00101</td>\n",
       "      <td>0.0</td>\n",
       "      <td>...</td>\n",
       "      <td>1.0</td>\n",
       "      <td>0.0</td>\n",
       "      <td>0.0</td>\n",
       "      <td>0.0</td>\n",
       "      <td>0.0</td>\n",
       "      <td>0.0</td>\n",
       "      <td>0.0</td>\n",
       "      <td>0.0</td>\n",
       "      <td>0.0</td>\n",
       "      <td>0</td>\n",
       "    </tr>\n",
       "    <tr>\n",
       "      <th>1</th>\n",
       "      <td>0.840070</td>\n",
       "      <td>1.016667e-06</td>\n",
       "      <td>0.000000</td>\n",
       "      <td>0.000003</td>\n",
       "      <td>4.651163e-07</td>\n",
       "      <td>9.153974e-09</td>\n",
       "      <td>0.000242</td>\n",
       "      <td>0.002581</td>\n",
       "      <td>0.00101</td>\n",
       "      <td>0.0</td>\n",
       "      <td>...</td>\n",
       "      <td>1.0</td>\n",
       "      <td>0.0</td>\n",
       "      <td>0.0</td>\n",
       "      <td>0.0</td>\n",
       "      <td>0.0</td>\n",
       "      <td>0.0</td>\n",
       "      <td>0.0</td>\n",
       "      <td>0.0</td>\n",
       "      <td>0.0</td>\n",
       "      <td>0</td>\n",
       "    </tr>\n",
       "    <tr>\n",
       "      <th>2</th>\n",
       "      <td>0.840085</td>\n",
       "      <td>5.416666e-07</td>\n",
       "      <td>0.000000</td>\n",
       "      <td>0.000003</td>\n",
       "      <td>4.651163e-07</td>\n",
       "      <td>9.153974e-09</td>\n",
       "      <td>0.000242</td>\n",
       "      <td>0.002581</td>\n",
       "      <td>0.00101</td>\n",
       "      <td>0.0</td>\n",
       "      <td>...</td>\n",
       "      <td>1.0</td>\n",
       "      <td>0.0</td>\n",
       "      <td>0.0</td>\n",
       "      <td>0.0</td>\n",
       "      <td>0.0</td>\n",
       "      <td>0.0</td>\n",
       "      <td>0.0</td>\n",
       "      <td>0.0</td>\n",
       "      <td>0.0</td>\n",
       "      <td>0</td>\n",
       "    </tr>\n",
       "    <tr>\n",
       "      <th>3</th>\n",
       "      <td>0.705516</td>\n",
       "      <td>3.916666e-07</td>\n",
       "      <td>0.000000</td>\n",
       "      <td>0.000003</td>\n",
       "      <td>4.651163e-07</td>\n",
       "      <td>9.153974e-09</td>\n",
       "      <td>0.000242</td>\n",
       "      <td>0.002581</td>\n",
       "      <td>0.00101</td>\n",
       "      <td>0.0</td>\n",
       "      <td>...</td>\n",
       "      <td>1.0</td>\n",
       "      <td>0.0</td>\n",
       "      <td>0.0</td>\n",
       "      <td>0.0</td>\n",
       "      <td>0.0</td>\n",
       "      <td>0.0</td>\n",
       "      <td>0.0</td>\n",
       "      <td>0.0</td>\n",
       "      <td>0.0</td>\n",
       "      <td>0</td>\n",
       "    </tr>\n",
       "    <tr>\n",
       "      <th>4</th>\n",
       "      <td>0.837156</td>\n",
       "      <td>1.333333e-07</td>\n",
       "      <td>0.000005</td>\n",
       "      <td>0.000000</td>\n",
       "      <td>9.302326e-07</td>\n",
       "      <td>0.000000e+00</td>\n",
       "      <td>0.000242</td>\n",
       "      <td>0.002581</td>\n",
       "      <td>0.00101</td>\n",
       "      <td>0.0</td>\n",
       "      <td>...</td>\n",
       "      <td>1.0</td>\n",
       "      <td>0.0</td>\n",
       "      <td>0.0</td>\n",
       "      <td>0.0</td>\n",
       "      <td>0.0</td>\n",
       "      <td>0.0</td>\n",
       "      <td>0.0</td>\n",
       "      <td>0.0</td>\n",
       "      <td>0.0</td>\n",
       "      <td>0</td>\n",
       "    </tr>\n",
       "  </tbody>\n",
       "</table>\n",
       "<p>5 rows × 71 columns</p>\n",
       "</div>"
      ],
      "text/plain": [
       "    Destination Port   Flow Duration   Total Fwd Packets  \\\n",
       "0           0.837186    1.333333e-07            0.000005   \n",
       "1           0.840070    1.016667e-06            0.000000   \n",
       "2           0.840085    5.416666e-07            0.000000   \n",
       "3           0.705516    3.916666e-07            0.000000   \n",
       "4           0.837156    1.333333e-07            0.000005   \n",
       "\n",
       "    Total Backward Packets  Total Length of Fwd Packets  \\\n",
       "0                 0.000000                 9.302326e-07   \n",
       "1                 0.000003                 4.651163e-07   \n",
       "2                 0.000003                 4.651163e-07   \n",
       "3                 0.000003                 4.651163e-07   \n",
       "4                 0.000000                 9.302326e-07   \n",
       "\n",
       "    Total Length of Bwd Packets   Fwd Packet Length Max  \\\n",
       "0                  0.000000e+00                0.000242   \n",
       "1                  9.153974e-09                0.000242   \n",
       "2                  9.153974e-09                0.000242   \n",
       "3                  9.153974e-09                0.000242   \n",
       "4                  0.000000e+00                0.000242   \n",
       "\n",
       "    Fwd Packet Length Min   Fwd Packet Length Mean   Fwd Packet Length Std  \\\n",
       "0                0.002581                  0.00101                     0.0   \n",
       "1                0.002581                  0.00101                     0.0   \n",
       "2                0.002581                  0.00101                     0.0   \n",
       "3                0.002581                  0.00101                     0.0   \n",
       "4                0.002581                  0.00101                     0.0   \n",
       "\n",
       "   ...   min_seg_size_forward  Active Mean   Active Std   Active Max  \\\n",
       "0  ...                    1.0          0.0          0.0          0.0   \n",
       "1  ...                    1.0          0.0          0.0          0.0   \n",
       "2  ...                    1.0          0.0          0.0          0.0   \n",
       "3  ...                    1.0          0.0          0.0          0.0   \n",
       "4  ...                    1.0          0.0          0.0          0.0   \n",
       "\n",
       "    Active Min  Idle Mean   Idle Std   Idle Max   Idle Min   Label  \n",
       "0          0.0        0.0        0.0        0.0        0.0       0  \n",
       "1          0.0        0.0        0.0        0.0        0.0       0  \n",
       "2          0.0        0.0        0.0        0.0        0.0       0  \n",
       "3          0.0        0.0        0.0        0.0        0.0       0  \n",
       "4          0.0        0.0        0.0        0.0        0.0       0  \n",
       "\n",
       "[5 rows x 71 columns]"
      ]
     },
     "execution_count": 1,
     "metadata": {},
     "output_type": "execute_result"
    }
   ],
   "source": [
    "import pandas as pd\n",
    "\n",
    "# load dataset\n",
    "df = pd.read_csv('../CICIDS2017/preprocessed/binary_min_max_combined.csv')\n",
    "df.shape\n",
    "df.head()"
   ]
  },
  {
   "cell_type": "markdown",
   "metadata": {},
   "source": [
    "## Split Data"
   ]
  },
  {
   "cell_type": "code",
   "execution_count": 3,
   "metadata": {},
   "outputs": [],
   "source": [
    "# split data\n",
    "from sklearn.model_selection import train_test_split\n",
    "\n",
    "X = df.drop(columns=[' Label'])\n",
    "y = df[' Label']"
   ]
  },
  {
   "cell_type": "markdown",
   "metadata": {},
   "source": [
    "### One-Hot Label Encoding"
   ]
  },
  {
   "cell_type": "code",
   "execution_count": 4,
   "metadata": {},
   "outputs": [
    {
     "name": "stdout",
     "output_type": "stream",
     "text": [
      "Label One-Hot-Encoding....\n",
      "   BENIGN  MALICIOUS\n",
      "0    True      False\n",
      "1    True      False\n",
      "Split Data....\n",
      "Train Data: X: (2120907, 70), y: (2120907, 2)\n",
      "Test Data: X: (706969, 70), y: (706969, 2)\n"
     ]
    }
   ],
   "source": [
    "# one-hot-encode y\n",
    "y = pd.get_dummies(y)\n",
    "y.columns = [\"BENIGN\", \"MALICIOUS\"]\n",
    "print(\"Label One-Hot-Encoding....\")\n",
    "print(y[:2])\n",
    "\n",
    "print(\"Split Data....\")\n",
    "X_train, X_test, y_train, y_test = train_test_split(X, y, test_size=0.25, random_state=42)\n",
    "print(f\"Train Data: X: {X_train.shape}, y: {y_train.shape}\")\n",
    "print(f\"Test Data: X: {X_test.shape}, y: {y_test.shape}\")"
   ]
  },
  {
   "cell_type": "markdown",
   "metadata": {},
   "source": [
    "## Store Train and Test Data"
   ]
  },
  {
   "cell_type": "code",
   "execution_count": 11,
   "metadata": {},
   "outputs": [],
   "source": [
    "print(\"Storing Train and Test Split.....\")\n",
    "X_train.to_csv('../CICIDS2017/train_test_split/X_train.csv', index=False)\n",
    "print(\"Stored X_train\")\n",
    "X_test.to_csv('../CICIDS2017/train_test_split/X_test.csv', index=False)\n",
    "print(\"Stored X_test\")\n",
    "y_train.to_csv('../CICIDS2017/train_test_split/y_train.csv', index=False)\n",
    "print(\"Stored y_train\")\n",
    "y_test.to_csv('../CICIDS2017/train_test_split/y_test.csv', index=False)\n",
    "print(\"Stored y_test\")\n",
    "print(\"Done!\")"
   ]
  },
  {
   "cell_type": "markdown",
   "metadata": {},
   "source": [
    "## Store Small Train and Test Data"
   ]
  },
  {
   "cell_type": "code",
   "execution_count": 5,
   "metadata": {},
   "outputs": [
    {
     "name": "stdout",
     "output_type": "stream",
     "text": [
      "Storing Small Train and Test Split.....\n",
      "Stored X_train_small\n",
      "Stored X_test_small\n",
      "Stored y_train_small\n",
      "Stored y_test_small\n",
      "Done!\n"
     ]
    }
   ],
   "source": [
    "# 0.25 train/test split -> 2000/500\n",
    "print(\"Storing Small Train and Test Split.....\")\n",
    "X_train[:2000].to_csv('../CICIDS2017/train_test_split/X_train_small.csv', index=False)\n",
    "print(\"Stored X_train_small\")\n",
    "X_test[:500].to_csv('../CICIDS2017/train_test_split/X_test_small.csv', index=False)\n",
    "print(\"Stored X_test_small\")\n",
    "y_train[:2000].to_csv('../CICIDS2017/train_test_split/y_train_small.csv', index=False)\n",
    "print(\"Stored y_train_small\")\n",
    "y_test[:500].to_csv('../CICIDS2017/train_test_split/y_test_small.csv', index=False)\n",
    "print(\"Stored y_test_small\")\n",
    "print(\"Done!\")"
   ]
  }
 ],
 "metadata": {
  "kernelspec": {
   "display_name": ".env",
   "language": "python",
   "name": "python3"
  },
  "language_info": {
   "codemirror_mode": {
    "name": "ipython",
    "version": 3
   },
   "file_extension": ".py",
   "mimetype": "text/x-python",
   "name": "python",
   "nbconvert_exporter": "python",
   "pygments_lexer": "ipython3",
   "version": "3.12.8"
  }
 },
 "nbformat": 4,
 "nbformat_minor": 2
}
