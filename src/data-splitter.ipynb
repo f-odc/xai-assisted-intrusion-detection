{
 "cells": [
  {
   "cell_type": "markdown",
   "metadata": {},
   "source": [
    "# Data Splitter\n",
    "---"
   ]
  },
  {
   "cell_type": "code",
   "execution_count": 1,
   "metadata": {},
   "outputs": [],
   "source": [
    "# TODO: define whether to use binary or multiclass classification\n",
    "multiclass = False"
   ]
  },
  {
   "cell_type": "markdown",
   "metadata": {},
   "source": [
    "## Load Preprocessed Data"
   ]
  },
  {
   "cell_type": "code",
   "execution_count": 2,
   "metadata": {},
   "outputs": [
    {
     "data": {
      "text/html": [
       "<div>\n",
       "<style scoped>\n",
       "    .dataframe tbody tr th:only-of-type {\n",
       "        vertical-align: middle;\n",
       "    }\n",
       "\n",
       "    .dataframe tbody tr th {\n",
       "        vertical-align: top;\n",
       "    }\n",
       "\n",
       "    .dataframe thead th {\n",
       "        text-align: right;\n",
       "    }\n",
       "</style>\n",
       "<table border=\"1\" class=\"dataframe\">\n",
       "  <thead>\n",
       "    <tr style=\"text-align: right;\">\n",
       "      <th></th>\n",
       "      <th>Destination Port</th>\n",
       "      <th>Flow Duration</th>\n",
       "      <th>Total Fwd Packets</th>\n",
       "      <th>Total Backward Packets</th>\n",
       "      <th>Total Length of Fwd Packets</th>\n",
       "      <th>Total Length of Bwd Packets</th>\n",
       "      <th>Fwd Packet Length Max</th>\n",
       "      <th>Fwd Packet Length Min</th>\n",
       "      <th>Fwd Packet Length Mean</th>\n",
       "      <th>Fwd Packet Length Std</th>\n",
       "      <th>...</th>\n",
       "      <th>min_seg_size_forward</th>\n",
       "      <th>Active Mean</th>\n",
       "      <th>Active Std</th>\n",
       "      <th>Active Max</th>\n",
       "      <th>Active Min</th>\n",
       "      <th>Idle Mean</th>\n",
       "      <th>Idle Std</th>\n",
       "      <th>Idle Max</th>\n",
       "      <th>Idle Min</th>\n",
       "      <th>Label</th>\n",
       "    </tr>\n",
       "  </thead>\n",
       "  <tbody>\n",
       "    <tr>\n",
       "      <th>0</th>\n",
       "      <td>0.000809</td>\n",
       "      <td>0.001820</td>\n",
       "      <td>0.000518</td>\n",
       "      <td>0.000680</td>\n",
       "      <td>0.000241</td>\n",
       "      <td>0.000023</td>\n",
       "      <td>0.002010</td>\n",
       "      <td>0.019022</td>\n",
       "      <td>0.007241</td>\n",
       "      <td>0.000000</td>\n",
       "      <td>...</td>\n",
       "      <td>0.384615</td>\n",
       "      <td>0.000000</td>\n",
       "      <td>0.000000</td>\n",
       "      <td>0.000000</td>\n",
       "      <td>0.000000</td>\n",
       "      <td>0.000000</td>\n",
       "      <td>0.000000</td>\n",
       "      <td>0.000000</td>\n",
       "      <td>0.000000</td>\n",
       "      <td>0</td>\n",
       "    </tr>\n",
       "    <tr>\n",
       "      <th>1</th>\n",
       "      <td>0.006760</td>\n",
       "      <td>0.902694</td>\n",
       "      <td>0.013982</td>\n",
       "      <td>0.009517</td>\n",
       "      <td>0.028526</td>\n",
       "      <td>0.002274</td>\n",
       "      <td>0.063537</td>\n",
       "      <td>0.000000</td>\n",
       "      <td>0.061214</td>\n",
       "      <td>0.049739</td>\n",
       "      <td>...</td>\n",
       "      <td>0.384615</td>\n",
       "      <td>0.012234</td>\n",
       "      <td>0.045256</td>\n",
       "      <td>0.050203</td>\n",
       "      <td>0.001454</td>\n",
       "      <td>0.080074</td>\n",
       "      <td>0.013713</td>\n",
       "      <td>0.084167</td>\n",
       "      <td>0.058331</td>\n",
       "      <td>0</td>\n",
       "    </tr>\n",
       "    <tr>\n",
       "      <th>2</th>\n",
       "      <td>0.001221</td>\n",
       "      <td>0.083823</td>\n",
       "      <td>0.002071</td>\n",
       "      <td>0.000000</td>\n",
       "      <td>0.000129</td>\n",
       "      <td>0.000000</td>\n",
       "      <td>0.000431</td>\n",
       "      <td>0.004076</td>\n",
       "      <td>0.001552</td>\n",
       "      <td>0.000000</td>\n",
       "      <td>...</td>\n",
       "      <td>0.384615</td>\n",
       "      <td>0.000010</td>\n",
       "      <td>0.000000</td>\n",
       "      <td>0.000010</td>\n",
       "      <td>0.000010</td>\n",
       "      <td>0.084167</td>\n",
       "      <td>0.000000</td>\n",
       "      <td>0.084167</td>\n",
       "      <td>0.084167</td>\n",
       "      <td>1</td>\n",
       "    </tr>\n",
       "    <tr>\n",
       "      <th>3</th>\n",
       "      <td>0.001221</td>\n",
       "      <td>0.094355</td>\n",
       "      <td>0.001554</td>\n",
       "      <td>0.000000</td>\n",
       "      <td>0.000103</td>\n",
       "      <td>0.000000</td>\n",
       "      <td>0.000431</td>\n",
       "      <td>0.004076</td>\n",
       "      <td>0.001552</td>\n",
       "      <td>0.000000</td>\n",
       "      <td>...</td>\n",
       "      <td>0.384615</td>\n",
       "      <td>0.000010</td>\n",
       "      <td>0.000000</td>\n",
       "      <td>0.000010</td>\n",
       "      <td>0.000010</td>\n",
       "      <td>0.094167</td>\n",
       "      <td>0.000000</td>\n",
       "      <td>0.094167</td>\n",
       "      <td>0.094167</td>\n",
       "      <td>1</td>\n",
       "    </tr>\n",
       "    <tr>\n",
       "      <th>4</th>\n",
       "      <td>0.001221</td>\n",
       "      <td>0.085065</td>\n",
       "      <td>0.002071</td>\n",
       "      <td>0.000000</td>\n",
       "      <td>0.000129</td>\n",
       "      <td>0.000000</td>\n",
       "      <td>0.000431</td>\n",
       "      <td>0.004076</td>\n",
       "      <td>0.001552</td>\n",
       "      <td>0.000000</td>\n",
       "      <td>...</td>\n",
       "      <td>0.384615</td>\n",
       "      <td>0.000040</td>\n",
       "      <td>0.000000</td>\n",
       "      <td>0.000040</td>\n",
       "      <td>0.000040</td>\n",
       "      <td>0.085000</td>\n",
       "      <td>0.000000</td>\n",
       "      <td>0.085000</td>\n",
       "      <td>0.085000</td>\n",
       "      <td>1</td>\n",
       "    </tr>\n",
       "  </tbody>\n",
       "</table>\n",
       "<p>5 rows × 69 columns</p>\n",
       "</div>"
      ],
      "text/plain": [
       "    Destination Port   Flow Duration   Total Fwd Packets  \\\n",
       "0           0.000809        0.001820            0.000518   \n",
       "1           0.006760        0.902694            0.013982   \n",
       "2           0.001221        0.083823            0.002071   \n",
       "3           0.001221        0.094355            0.001554   \n",
       "4           0.001221        0.085065            0.002071   \n",
       "\n",
       "    Total Backward Packets  Total Length of Fwd Packets  \\\n",
       "0                 0.000680                     0.000241   \n",
       "1                 0.009517                     0.028526   \n",
       "2                 0.000000                     0.000129   \n",
       "3                 0.000000                     0.000103   \n",
       "4                 0.000000                     0.000129   \n",
       "\n",
       "    Total Length of Bwd Packets   Fwd Packet Length Max  \\\n",
       "0                      0.000023                0.002010   \n",
       "1                      0.002274                0.063537   \n",
       "2                      0.000000                0.000431   \n",
       "3                      0.000000                0.000431   \n",
       "4                      0.000000                0.000431   \n",
       "\n",
       "    Fwd Packet Length Min   Fwd Packet Length Mean   Fwd Packet Length Std  \\\n",
       "0                0.019022                 0.007241                0.000000   \n",
       "1                0.000000                 0.061214                0.049739   \n",
       "2                0.004076                 0.001552                0.000000   \n",
       "3                0.004076                 0.001552                0.000000   \n",
       "4                0.004076                 0.001552                0.000000   \n",
       "\n",
       "   ...   min_seg_size_forward  Active Mean   Active Std   Active Max  \\\n",
       "0  ...               0.384615     0.000000     0.000000     0.000000   \n",
       "1  ...               0.384615     0.012234     0.045256     0.050203   \n",
       "2  ...               0.384615     0.000010     0.000000     0.000010   \n",
       "3  ...               0.384615     0.000010     0.000000     0.000010   \n",
       "4  ...               0.384615     0.000040     0.000000     0.000040   \n",
       "\n",
       "    Active Min  Idle Mean   Idle Std   Idle Max   Idle Min   Label  \n",
       "0     0.000000   0.000000   0.000000   0.000000   0.000000       0  \n",
       "1     0.001454   0.080074   0.013713   0.084167   0.058331       0  \n",
       "2     0.000010   0.084167   0.000000   0.084167   0.084167       1  \n",
       "3     0.000010   0.094167   0.000000   0.094167   0.094167       1  \n",
       "4     0.000040   0.085000   0.000000   0.085000   0.085000       1  \n",
       "\n",
       "[5 rows x 69 columns]"
      ]
     },
     "execution_count": 2,
     "metadata": {},
     "output_type": "execute_result"
    }
   ],
   "source": [
    "import pandas as pd\n",
    "\n",
    "# load dataset\n",
    "if multiclass:\n",
    "    df = pd.read_csv('../CICIDS2017/preprocessed/multiclass_min_max_combined.csv')\n",
    "else:\n",
    "    df = pd.read_csv('../CICIDS2017/preprocessed/duo_min_max_combined.csv')\n",
    "df.shape\n",
    "df.head()"
   ]
  },
  {
   "cell_type": "markdown",
   "metadata": {},
   "source": [
    "## Split Data"
   ]
  },
  {
   "cell_type": "code",
   "execution_count": 3,
   "metadata": {},
   "outputs": [],
   "source": [
    "# split data\n",
    "from sklearn.model_selection import train_test_split\n",
    "\n",
    "X = df.drop(columns=[' Label'])\n",
    "y = df[' Label']"
   ]
  },
  {
   "cell_type": "markdown",
   "metadata": {},
   "source": [
    "### TODO: Delete One-Hot Label Encoding"
   ]
  },
  {
   "cell_type": "code",
   "execution_count": null,
   "metadata": {},
   "outputs": [],
   "source": [
    "# import json\n",
    "\n",
    "\n",
    "# def get_label_encoding():\n",
    "#     if multiclass:\n",
    "#         with open(\"../CICIDS2017/preprocessed/multiclass_label_encoding.json\", \"r\") as file:\n",
    "#             class_mapping = json.load(file)\n",
    "#     else: \n",
    "#         with open(\"../CICIDS2017/preprocessed/binary_label_encoding.json\", \"r\") as file:\n",
    "#             class_mapping = json.load(file)\n",
    "#     target_names = [class_mapping[str(i)] for i in range(len(class_mapping))]\n",
    "#     return target_names"
   ]
  },
  {
   "cell_type": "code",
   "execution_count": null,
   "metadata": {},
   "outputs": [],
   "source": [
    "g# # one-hot-encode y\n",
    "# y = pd.get_dummies(y)\n",
    "# print(\"Label One-Hot-Encoding....\")\n",
    "# label_encoding = get_label_encoding()\n",
    "# y.columns = label_encoding\n",
    "# print(y[:2])"
   ]
  },
  {
   "cell_type": "code",
   "execution_count": null,
   "metadata": {},
   "outputs": [],
   "source": [
    "print(\"Split Data....\")\n",
    "X_train, X_test, y_train, y_test = train_test_split(X, y, test_size=0.25, random_state=42)\n",
    "print(f\"Train Data: X: {X_train.shape}, y: {y_train.shape}\")\n",
    "print(f\"Test Data: X: {X_test.shape}, y: {y_test.shape}\")"
   ]
  },
  {
   "cell_type": "markdown",
   "metadata": {},
   "source": [
    "## Store Train and Test Data"
   ]
  },
  {
   "cell_type": "code",
   "execution_count": 6,
   "metadata": {},
   "outputs": [
    {
     "name": "stdout",
     "output_type": "stream",
     "text": [
      "Storing Train and Test Split....\n"
     ]
    }
   ],
   "source": [
    "# POC: store train and test split\n",
    "print(\"Storing POC Train and Test Split....\")\n",
    "X_train.to_csv('../CICIDS2017/train_test_split/X_train_poc.csv', index=False)\n",
    "X_test.to_csv('../CICIDS2017/train_test_split/X_test_poc.csv', index=False)\n",
    "y_train.to_csv('../CICIDS2017/train_test_split/y_train_poc.csv', index=False)\n",
    "y_test.to_csv('../CICIDS2017/train_test_split/y_test_poc.csv', index=False)"
   ]
  },
  {
   "cell_type": "code",
   "execution_count": 10,
   "metadata": {},
   "outputs": [
    {
     "name": "stdout",
     "output_type": "stream",
     "text": [
      "Storing Train and Test Split.....\n",
      "Stored X_train\n",
      "Stored X_test\n",
      "Stored y_train\n",
      "Stored y_test\n",
      "Done!\n"
     ]
    }
   ],
   "source": [
    "print(\"Storing Train and Test Split.....\")\n",
    "X_train.to_csv('../CICIDS2017/train_test_split/X_train.csv', index=False)\n",
    "print(\"Stored X_train\")\n",
    "X_test.to_csv('../CICIDS2017/train_test_split/X_test.csv', index=False)\n",
    "print(\"Stored X_test\")\n",
    "y_train.to_csv('../CICIDS2017/train_test_split/y_train_multiclass.csv', index=False)\n",
    "print(\"Stored y_train\")\n",
    "y_test.to_csv('../CICIDS2017/train_test_split/y_test_multiclass.csv', index=False)\n",
    "print(\"Stored y_test\")\n",
    "print(\"Done!\")"
   ]
  },
  {
   "cell_type": "markdown",
   "metadata": {},
   "source": [
    "## Store Small Train and Test Data"
   ]
  },
  {
   "cell_type": "code",
   "execution_count": 5,
   "metadata": {},
   "outputs": [
    {
     "name": "stdout",
     "output_type": "stream",
     "text": [
      "Storing Small Train and Test Split.....\n",
      "Stored X_train_small\n",
      "Stored X_test_small\n",
      "Stored y_train_small\n",
      "Stored y_test_small\n",
      "Done!\n"
     ]
    }
   ],
   "source": [
    "# 0.25 train/test split -> 2000/500\n",
    "print(\"Storing Small Train and Test Split.....\")\n",
    "X_train[:2000].to_csv('../CICIDS2017/train_test_split/X_train_small.csv', index=False)\n",
    "print(\"Stored X_train_small\")\n",
    "X_test[:500].to_csv('../CICIDS2017/train_test_split/X_test_small.csv', index=False)\n",
    "print(\"Stored X_test_small\")\n",
    "y_train[:2000].to_csv('../CICIDS2017/train_test_split/y_train_small.csv', index=False)\n",
    "print(\"Stored y_train_small\")\n",
    "y_test[:500].to_csv('../CICIDS2017/train_test_split/y_test_small.csv', index=False)\n",
    "print(\"Stored y_test_small\")\n",
    "print(\"Done!\")"
   ]
  },
  {
   "cell_type": "markdown",
   "metadata": {},
   "source": [
    "## Store Train and Test Data for Prototype"
   ]
  },
  {
   "cell_type": "code",
   "execution_count": 4,
   "metadata": {},
   "outputs": [
    {
     "name": "stdout",
     "output_type": "stream",
     "text": [
      "Storing Train and Test Split for Prototyping.....\n",
      "Stored X_train_proto\n",
      "Stored X_test_proto\n",
      "Stored y_train_proto\n",
      "Stored y_test_proto\n",
      "Done!\n"
     ]
    }
   ],
   "source": [
    "print(\"Storing Train and Test Split for Prototyping.....\")\n",
    "X_train[:120000].to_csv('../CICIDS2017/train_test_split/X_train_proto.csv', index=False)\n",
    "print(\"Stored X_train_proto\")\n",
    "X_test[:30000].to_csv('../CICIDS2017/train_test_split/X_test_proto.csv', index=False)\n",
    "print(\"Stored X_test_proto\")\n",
    "y_train[:120000].to_csv('../CICIDS2017/train_test_split/y_train_proto.csv', index=False)\n",
    "print(\"Stored y_train_proto\")\n",
    "y_test[:30000].to_csv('../CICIDS2017/train_test_split/y_test_proto.csv', index=False)\n",
    "print(\"Stored y_test_proto\")\n",
    "print(\"Done!\")"
   ]
  }
 ],
 "metadata": {
  "kernelspec": {
   "display_name": ".env",
   "language": "python",
   "name": "python3"
  },
  "language_info": {
   "codemirror_mode": {
    "name": "ipython",
    "version": 3
   },
   "file_extension": ".py",
   "mimetype": "text/x-python",
   "name": "python",
   "nbconvert_exporter": "python",
   "pygments_lexer": "ipython3",
   "version": "3.12.9"
  }
 },
 "nbformat": 4,
 "nbformat_minor": 2
}
