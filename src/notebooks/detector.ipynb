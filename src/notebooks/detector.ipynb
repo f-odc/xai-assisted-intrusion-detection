{
 "cells": [
  {
   "cell_type": "markdown",
   "metadata": {},
   "source": [
    "# Prototype - Adversarial Detector\n",
    "---"
   ]
  },
  {
   "cell_type": "markdown",
   "metadata": {},
   "source": [
    "## Load Required Model & Data"
   ]
  },
  {
   "cell_type": "code",
   "execution_count": 12,
   "metadata": {},
   "outputs": [
    {
     "data": {
      "text/html": [
       "<pre style=\"white-space:pre;overflow-x:auto;line-height:normal;font-family:Menlo,'DejaVu Sans Mono',consolas,'Courier New',monospace\"><span style=\"font-weight: bold\">Model: \"sequential\"</span>\n",
       "</pre>\n"
      ],
      "text/plain": [
       "\u001b[1mModel: \"sequential\"\u001b[0m\n"
      ]
     },
     "metadata": {},
     "output_type": "display_data"
    },
    {
     "data": {
      "text/html": [
       "<pre style=\"white-space:pre;overflow-x:auto;line-height:normal;font-family:Menlo,'DejaVu Sans Mono',consolas,'Courier New',monospace\">┏━━━━━━━━━━━━━━━━━━━━━━━━━━━━━━━━━┳━━━━━━━━━━━━━━━━━━━━━━━━┳━━━━━━━━━━━━━━━┓\n",
       "┃<span style=\"font-weight: bold\"> Layer (type)                    </span>┃<span style=\"font-weight: bold\"> Output Shape           </span>┃<span style=\"font-weight: bold\">       Param # </span>┃\n",
       "┡━━━━━━━━━━━━━━━━━━━━━━━━━━━━━━━━━╇━━━━━━━━━━━━━━━━━━━━━━━━╇━━━━━━━━━━━━━━━┩\n",
       "│ dense (<span style=\"color: #0087ff; text-decoration-color: #0087ff\">Dense</span>)                   │ (<span style=\"color: #00d7ff; text-decoration-color: #00d7ff\">None</span>, <span style=\"color: #00af00; text-decoration-color: #00af00\">50</span>)             │         <span style=\"color: #00af00; text-decoration-color: #00af00\">3,450</span> │\n",
       "├─────────────────────────────────┼────────────────────────┼───────────────┤\n",
       "│ dense_1 (<span style=\"color: #0087ff; text-decoration-color: #0087ff\">Dense</span>)                 │ (<span style=\"color: #00d7ff; text-decoration-color: #00d7ff\">None</span>, <span style=\"color: #00af00; text-decoration-color: #00af00\">30</span>)             │         <span style=\"color: #00af00; text-decoration-color: #00af00\">1,530</span> │\n",
       "├─────────────────────────────────┼────────────────────────┼───────────────┤\n",
       "│ dense_2 (<span style=\"color: #0087ff; text-decoration-color: #0087ff\">Dense</span>)                 │ (<span style=\"color: #00d7ff; text-decoration-color: #00d7ff\">None</span>, <span style=\"color: #00af00; text-decoration-color: #00af00\">10</span>)             │           <span style=\"color: #00af00; text-decoration-color: #00af00\">310</span> │\n",
       "├─────────────────────────────────┼────────────────────────┼───────────────┤\n",
       "│ dense_3 (<span style=\"color: #0087ff; text-decoration-color: #0087ff\">Dense</span>)                 │ (<span style=\"color: #00d7ff; text-decoration-color: #00d7ff\">None</span>, <span style=\"color: #00af00; text-decoration-color: #00af00\">2</span>)              │            <span style=\"color: #00af00; text-decoration-color: #00af00\">22</span> │\n",
       "└─────────────────────────────────┴────────────────────────┴───────────────┘\n",
       "</pre>\n"
      ],
      "text/plain": [
       "┏━━━━━━━━━━━━━━━━━━━━━━━━━━━━━━━━━┳━━━━━━━━━━━━━━━━━━━━━━━━┳━━━━━━━━━━━━━━━┓\n",
       "┃\u001b[1m \u001b[0m\u001b[1mLayer (type)                   \u001b[0m\u001b[1m \u001b[0m┃\u001b[1m \u001b[0m\u001b[1mOutput Shape          \u001b[0m\u001b[1m \u001b[0m┃\u001b[1m \u001b[0m\u001b[1m      Param #\u001b[0m\u001b[1m \u001b[0m┃\n",
       "┡━━━━━━━━━━━━━━━━━━━━━━━━━━━━━━━━━╇━━━━━━━━━━━━━━━━━━━━━━━━╇━━━━━━━━━━━━━━━┩\n",
       "│ dense (\u001b[38;5;33mDense\u001b[0m)                   │ (\u001b[38;5;45mNone\u001b[0m, \u001b[38;5;34m50\u001b[0m)             │         \u001b[38;5;34m3,450\u001b[0m │\n",
       "├─────────────────────────────────┼────────────────────────┼───────────────┤\n",
       "│ dense_1 (\u001b[38;5;33mDense\u001b[0m)                 │ (\u001b[38;5;45mNone\u001b[0m, \u001b[38;5;34m30\u001b[0m)             │         \u001b[38;5;34m1,530\u001b[0m │\n",
       "├─────────────────────────────────┼────────────────────────┼───────────────┤\n",
       "│ dense_2 (\u001b[38;5;33mDense\u001b[0m)                 │ (\u001b[38;5;45mNone\u001b[0m, \u001b[38;5;34m10\u001b[0m)             │           \u001b[38;5;34m310\u001b[0m │\n",
       "├─────────────────────────────────┼────────────────────────┼───────────────┤\n",
       "│ dense_3 (\u001b[38;5;33mDense\u001b[0m)                 │ (\u001b[38;5;45mNone\u001b[0m, \u001b[38;5;34m2\u001b[0m)              │            \u001b[38;5;34m22\u001b[0m │\n",
       "└─────────────────────────────────┴────────────────────────┴───────────────┘\n"
      ]
     },
     "metadata": {},
     "output_type": "display_data"
    },
    {
     "data": {
      "text/html": [
       "<pre style=\"white-space:pre;overflow-x:auto;line-height:normal;font-family:Menlo,'DejaVu Sans Mono',consolas,'Courier New',monospace\"><span style=\"font-weight: bold\"> Total params: </span><span style=\"color: #00af00; text-decoration-color: #00af00\">15,938</span> (62.26 KB)\n",
       "</pre>\n"
      ],
      "text/plain": [
       "\u001b[1m Total params: \u001b[0m\u001b[38;5;34m15,938\u001b[0m (62.26 KB)\n"
      ]
     },
     "metadata": {},
     "output_type": "display_data"
    },
    {
     "data": {
      "text/html": [
       "<pre style=\"white-space:pre;overflow-x:auto;line-height:normal;font-family:Menlo,'DejaVu Sans Mono',consolas,'Courier New',monospace\"><span style=\"font-weight: bold\"> Trainable params: </span><span style=\"color: #00af00; text-decoration-color: #00af00\">5,312</span> (20.75 KB)\n",
       "</pre>\n"
      ],
      "text/plain": [
       "\u001b[1m Trainable params: \u001b[0m\u001b[38;5;34m5,312\u001b[0m (20.75 KB)\n"
      ]
     },
     "metadata": {},
     "output_type": "display_data"
    },
    {
     "data": {
      "text/html": [
       "<pre style=\"white-space:pre;overflow-x:auto;line-height:normal;font-family:Menlo,'DejaVu Sans Mono',consolas,'Courier New',monospace\"><span style=\"font-weight: bold\"> Non-trainable params: </span><span style=\"color: #00af00; text-decoration-color: #00af00\">0</span> (0.00 B)\n",
       "</pre>\n"
      ],
      "text/plain": [
       "\u001b[1m Non-trainable params: \u001b[0m\u001b[38;5;34m0\u001b[0m (0.00 B)\n"
      ]
     },
     "metadata": {},
     "output_type": "display_data"
    },
    {
     "data": {
      "text/html": [
       "<pre style=\"white-space:pre;overflow-x:auto;line-height:normal;font-family:Menlo,'DejaVu Sans Mono',consolas,'Courier New',monospace\"><span style=\"font-weight: bold\"> Optimizer params: </span><span style=\"color: #00af00; text-decoration-color: #00af00\">10,626</span> (41.51 KB)\n",
       "</pre>\n"
      ],
      "text/plain": [
       "\u001b[1m Optimizer params: \u001b[0m\u001b[38;5;34m10,626\u001b[0m (41.51 KB)\n"
      ]
     },
     "metadata": {},
     "output_type": "display_data"
    }
   ],
   "source": [
    "# load model\n",
    "from tensorflow import keras\n",
    "\n",
    "model_ids = keras.models.load_model('../../CICIDS2017/models/ids_dnn_poc.keras')\n",
    "model_ids.summary()"
   ]
  },
  {
   "cell_type": "code",
   "execution_count": 2,
   "metadata": {},
   "outputs": [
    {
     "name": "stdout",
     "output_type": "stream",
     "text": [
      "(192037, 68) (192037, 2)\n"
     ]
    }
   ],
   "source": [
    "# load data split\n",
    "import pandas as pd\n",
    "\n",
    "X_train = pd.read_csv(\"../../CICIDS2017/train_test_split/X_train_poc.csv\")\n",
    "y_train = pd.read_csv(\"../../CICIDS2017/train_test_split/y_train_poc.csv\")\n",
    "\n",
    "print(X_train.shape, y_train.shape)\n"
   ]
  },
  {
   "cell_type": "code",
   "execution_count": 3,
   "metadata": {},
   "outputs": [
    {
     "name": "stdout",
     "output_type": "stream",
     "text": [
      "(50000, 68) (50000, 2)\n"
     ]
    }
   ],
   "source": [
    "# POC: create smaller dataset\n",
    "X_train = X_train[:50000]\n",
    "y_train = y_train[:50000]\n",
    "\n",
    "print(X_train.shape, y_train.shape)"
   ]
  },
  {
   "cell_type": "code",
   "execution_count": 4,
   "metadata": {},
   "outputs": [
    {
     "name": "stdout",
     "output_type": "stream",
     "text": [
      "(50000, 68)\n"
     ]
    }
   ],
   "source": [
    "# load adversarail samples\n",
    "\n",
    "X_train_adv_fgsm = pd.read_csv(\"../../CICIDS2017/adversarial_samples/X_train_adv_fgsm_poc_50000.csv\")\n",
    "# X_test_adv_hsj = pd.read_csv(\"../../CICIDS2017/adversarial_samples/X_test_adv_hsj_proto.csv\")\n",
    "# X_test_adv_cw = pd.read_csv(\"../../CICIDS2017/adversarial_samples/X_test_adv_cw_poc.csv\")\n",
    "print(X_train_adv_fgsm.shape)"
   ]
  },
  {
   "cell_type": "code",
   "execution_count": 5,
   "metadata": {},
   "outputs": [
    {
     "name": "stdout",
     "output_type": "stream",
     "text": [
      "(50000, 68)\n",
      "(50000, 68)\n"
     ]
    }
   ],
   "source": [
    "# load explanations\n",
    "\n",
    "shap_values_df = pd.read_csv(\"../../CICIDS2017/shap_values/shap_values_poc_train_50000.csv\")\n",
    "print(shap_values_df.shape)\n",
    "adv_shap_values_fgsm_df = pd.read_csv(\"../../CICIDS2017/shap_values/adv_shap_values_fgsm_poc_train_50000.csv\")\n",
    "print(adv_shap_values_fgsm_df.shape)\n",
    "# adv_shap_values_hsj_df = pd.read_csv(\"../../CICIDS2017/shap_values/adv_shap_values_hsj_proto.csv\")\n",
    "# print(adv_shap_values_hsj_df.shape)\n",
    "# adv_shap_values_cw_df = pd.read_csv(\"../../CICIDS2017/shap_values/adv_shap_values_cw_poc.csv\")\n",
    "# print(adv_shap_values_cw_df.shape)"
   ]
  },
  {
   "cell_type": "markdown",
   "metadata": {},
   "source": [
    "---\n",
    "## First Stage"
   ]
  },
  {
   "cell_type": "markdown",
   "metadata": {},
   "source": [
    "### Normal Prediction"
   ]
  },
  {
   "cell_type": "code",
   "execution_count": 6,
   "metadata": {},
   "outputs": [
    {
     "name": "stdout",
     "output_type": "stream",
     "text": [
      "\u001b[1m1563/1563\u001b[0m \u001b[32m━━━━━━━━━━━━━━━━━━━━\u001b[0m\u001b[37m\u001b[0m \u001b[1m1s\u001b[0m 810us/step\n",
      "\u001b[1m1563/1563\u001b[0m \u001b[32m━━━━━━━━━━━━━━━━━━━━\u001b[0m\u001b[37m\u001b[0m \u001b[1m1s\u001b[0m 720us/step\n",
      "Accuracy on test set: 99.66%\n",
      "Accuracy on adversarial samples (FGSM): 27.77%\n"
     ]
    }
   ],
   "source": [
    "y_pred = model_ids.predict(X_train)\n",
    "y_pred_adv_fgsm = model_ids.predict(X_train_adv_fgsm)\n",
    "# y_pred_adv_hsj = model_ids.predict(X_test_adv_hsj)\n",
    "# y_pred_adv_cw = model_ids.predict(X_test_adv_cw)\n",
    "\n",
    "# evaluate model\n",
    "from sklearn.metrics import accuracy_score\n",
    "\n",
    "print(f\"Accuracy on test set: {accuracy_score(y_train, y_pred.round())*100:.2f}%\")\n",
    "print(f\"Accuracy on adversarial samples (FGSM): {accuracy_score(y_train, y_pred_adv_fgsm.round())*100:.2f}%\")\n",
    "# print(f\"Accuracy on adversarial samples (HSJ): {accuracy_score(y_test, y_pred_adv_hsj.round())*100:.2f}%\")\n",
    "# print(f\"Accuracy on adversarial samples (CW): {accuracy_score(y_train, y_pred_adv_cw.round())*100:.2f}%\")"
   ]
  },
  {
   "cell_type": "markdown",
   "metadata": {},
   "source": [
    "### Find Benign Explanations"
   ]
  },
  {
   "cell_type": "code",
   "execution_count": 7,
   "metadata": {},
   "outputs": [],
   "source": [
    "import numpy as np\n",
    "\n",
    "# convert to binary, 1 == benign, 0 == malicious -> easier to work on\n",
    "y_train_binary = np.array(y_train).argmin(axis=1)\n",
    "y_pred_binary = y_pred.argmin(axis=1)\n",
    "adv_fgsm_pred_binary = y_pred_adv_fgsm.argmin(axis=1)\n",
    "# adv_hsj_pred_binary = y_pred_adv_hsj.argmin(axis=1)\n",
    "# adv_cw_pred_binary = y_pred_adv_cw.argmin(axis=1)"
   ]
  },
  {
   "cell_type": "code",
   "execution_count": 8,
   "metadata": {},
   "outputs": [
    {
     "name": "stdout",
     "output_type": "stream",
     "text": [
      "Correct Labels:                           [1 1 0 0 1 1 0 1 1 0]\n",
      "Predicted Labels (FGSM):                  [0 0 1 1 1 0 1 0 1 1]\n",
      "Adversarial samples classified as benign: [ 2  3  4  6  8  9 10 12 14 16]\n"
     ]
    }
   ],
   "source": [
    "print(f\"Correct Labels:                           {y_train_binary[:10]}\")\n",
    "\n",
    "# find indices of correctly classified benign samples\n",
    "# correct_benign_classified_indices = np.where((y_test_binary == 1) & (y_pred_binary == 1))[0]\n",
    "# print(f\"Predicted Labels:                         {y_pred_binary[:10]}\")\n",
    "# print(f\"Correctly classified benign samples:      {correct_benign_classified_indices[:10]}\")\n",
    "\n",
    "# find indices of adversarial samples that were classified as benign\n",
    "# FGSM\n",
    "adv_fgsm_benign_indices = np.where(adv_fgsm_pred_binary == 1)[0]\n",
    "print(f\"Predicted Labels (FGSM):                  {adv_fgsm_pred_binary[:10]}\")\n",
    "print(f\"Adversarial samples classified as benign: {adv_fgsm_benign_indices[:10]}\")\n",
    "# # HSJ\n",
    "# adv_hsj_benign_indices = np.where(adv_hsj_pred_binary == 1)[0]\n",
    "# print(f\"Predicted Labels (HSJ):                   {adv_hsj_pred_binary[:10]}\")\n",
    "# print(f\"Adversarial samples classified as benign: {adv_hsj_benign_indices[:10]}\")\n",
    "# CW\n",
    "# adv_cw_benign_indices = np.where(adv_cw_pred_binary == 1)[0]\n",
    "# print(f\"Predicted Labels (CW):                    {adv_cw_pred_binary[:10]}\")\n",
    "# print(f\"Adversarial samples classified as benign: {adv_cw_benign_indices[:10]}\")"
   ]
  },
  {
   "cell_type": "markdown",
   "metadata": {},
   "source": [
    "---"
   ]
  },
  {
   "cell_type": "markdown",
   "metadata": {},
   "source": [
    "## Build Detector"
   ]
  },
  {
   "cell_type": "markdown",
   "metadata": {},
   "source": [
    "### Build Dataframe"
   ]
  },
  {
   "cell_type": "code",
   "execution_count": 9,
   "metadata": {},
   "outputs": [
    {
     "name": "stdout",
     "output_type": "stream",
     "text": [
      "Correct Labels:                           [1 1 0 0 1 1 0 1 1 0]\n",
      "Predicted Labels:                         [1 1 0 0 1 1 0 1 1 0]\n",
      "Correctly classified benign samples:      [ 0  1  4  5  7  8 11 12 13 14]\n",
      "Predicted Labels (FGSM):                  [0 0 1 1 1 0 1 0 1 1]\n",
      "Adversarial samples classified as benign: [ 2  3  4  6  8  9 10 12 14 16]\n"
     ]
    }
   ],
   "source": [
    "print(f\"Correct Labels:                           {y_train_binary[:10]}\")\n",
    "\n",
    "# find indices of correctly classified benign samples\n",
    "correct_benign_classified_indices = np.where(y_pred_binary == 1)[0]\n",
    "print(f\"Predicted Labels:                         {y_pred_binary[:10]}\")\n",
    "print(f\"Correctly classified benign samples:      {correct_benign_classified_indices[:10]}\")\n",
    "\n",
    "# find indices of adversarial samples that were classified as benign\n",
    "# FGSM\n",
    "adv_fgsm_benign_indices = np.where(adv_fgsm_pred_binary == 1)[0]\n",
    "print(f\"Predicted Labels (FGSM):                  {adv_fgsm_pred_binary[:10]}\")\n",
    "print(f\"Adversarial samples classified as benign: {adv_fgsm_benign_indices[:10]}\")\n",
    "# # HSJ\n",
    "# adv_hsj_benign_indices = np.where(adv_hsj_pred_binary == 1)[0]\n",
    "# print(f\"Predicted Labels (HSJ):                   {adv_hsj_pred_binary[:10]}\")\n",
    "# print(f\"Adversarial samples classified as benign: {adv_hsj_benign_indices[:10]}\")\n",
    "# CW\n",
    "# adv_cw_benign_indices = np.where(adv_cw_pred_binary == 1)[0]\n",
    "# print(f\"Predicted Labels (CW):                    {adv_cw_pred_binary[:10]}\")\n",
    "# print(f\"Adversarial samples classified as benign: {adv_cw_benign_indices[:10]}\")"
   ]
  },
  {
   "cell_type": "code",
   "execution_count": 10,
   "metadata": {},
   "outputs": [
    {
     "name": "stdout",
     "output_type": "stream",
     "text": [
      "Correctly classified benign samples:\n",
      "(25121, 68)\n",
      "Adversarial samples classified as benign (FGSM):\n",
      "(38921, 68)\n",
      "X:\n",
      "(64042, 68)\n",
      "y:\n",
      "(25121, 2) (38921, 2)\n",
      "[1 0] [0 1]\n",
      "(64042, 2)\n"
     ]
    }
   ],
   "source": [
    "# get shap values for correctly classified benign samples\n",
    "print(\"Correctly classified benign samples:\")\n",
    "shap_values_benign_df = shap_values_df.iloc[correct_benign_classified_indices]\n",
    "print(shap_values_benign_df.shape)\n",
    "\n",
    "# get shap values for adversarial samples classified as benign\n",
    "# FGSM\n",
    "print(\"Adversarial samples classified as benign (FGSM):\")\n",
    "adv_shap_values_fgsm_benign_df = adv_shap_values_fgsm_df.iloc[adv_fgsm_benign_indices]\n",
    "print(adv_shap_values_fgsm_benign_df.shape)\n",
    "# # HSJ\n",
    "# print(\"Adversarial samples classified as benign (HSJ):\")\n",
    "# adv_shap_values_hsj_benign_df = adv_shap_values_hsj_df.iloc[adv_hsj_benign_indices]\n",
    "# print(adv_shap_values_hsj_benign_df.shape)\n",
    "# CW\n",
    "# print(\"Adversarial samples classified as benign (CW):\")\n",
    "# adv_shap_values_cw_benign_df = adv_shap_values_cw_df.iloc[adv_cw_benign_indices]\n",
    "# print(adv_shap_values_cw_benign_df.shape)\n",
    "\n",
    "# build X\n",
    "print(\"X:\")\n",
    "X = pd.concat([shap_values_benign_df, adv_shap_values_fgsm_benign_df], axis=0)\n",
    "print(X.shape)\n",
    "\n",
    "# build y \n",
    "# normal: [1, 0], adv: [0, 1]\n",
    "print(\"y:\")\n",
    "y_normal = np.array([[1, 0]] * shap_values_benign_df.shape[0])\n",
    "y_adv = np.array([[0, 1]] * (adv_shap_values_fgsm_benign_df.shape[0]))\n",
    "print(y_normal.shape, y_adv.shape)\n",
    "print(y_normal[0], y_adv[0])\n",
    "y = np.concatenate([y_normal, y_adv], axis=0)\n",
    "print(y.shape)"
   ]
  },
  {
   "cell_type": "markdown",
   "metadata": {},
   "source": [
    "### Normalization"
   ]
  },
  {
   "cell_type": "code",
   "execution_count": 11,
   "metadata": {},
   "outputs": [
    {
     "name": "stdout",
     "output_type": "stream",
     "text": [
      "Columns which contain only 0 values....\n",
      "Zero Columns: Index([], dtype='object')\n",
      "Dropped Zero Columns....\n",
      "(64042, 68)\n"
     ]
    }
   ],
   "source": [
    "# check for columns which contain only 0 values\n",
    "print(\"Columns which contain only 0 values....\")\n",
    "zero_columns = X.columns[(X.sum() == 0)]\n",
    "print(f\"Zero Columns: {zero_columns}\")\n",
    "# drop columns with only 0 values\n",
    "X.drop(columns=zero_columns, inplace=True)\n",
    "print(\"Dropped Zero Columns....\")\n",
    "print(X.shape)"
   ]
  },
  {
   "cell_type": "code",
   "execution_count": 13,
   "metadata": {},
   "outputs": [
    {
     "name": "stdout",
     "output_type": "stream",
     "text": [
      "No Normalization....\n",
      "   Destination Port  Flow Duration  Total Fwd Packets\n",
      "0          -0.01253      -0.011564           0.001365\n",
      "1          -0.00550      -0.005884           0.001749\n",
      "Min-Max Normalization....\n",
      "(64042, 68)\n",
      "   Destination Port  Flow Duration  Total Fwd Packets\n",
      "0          0.150395       0.226796           0.624216\n",
      "1          0.160062       0.238911           0.625272\n"
     ]
    }
   ],
   "source": [
    "from sklearn.preprocessing import MinMaxScaler\n",
    "import joblib\n",
    "\n",
    "print(\"No Normalization....\")\n",
    "print(X[[' Destination Port', ' Flow Duration', ' Total Fwd Packets']].head(2))\n",
    "\n",
    "# min-max normalization\n",
    "print(\"Min-Max Normalization....\")\n",
    "min_max_scaler = MinMaxScaler()\n",
    "min_max_scaler.fit(X)\n",
    "\n",
    "# Save the scaler\n",
    "joblib.dump(min_max_scaler, \"minmax_scaler.pkl\")\n",
    "\n",
    "min_max_norm_feature_df = pd.DataFrame(min_max_scaler.transform(X), columns=X.columns)\n",
    "print(min_max_norm_feature_df.shape)\n",
    "\n",
    "# use normalized data\n",
    "X = min_max_norm_feature_df\n",
    "print(X[[' Destination Port', ' Flow Duration', ' Total Fwd Packets']].head(2))"
   ]
  },
  {
   "cell_type": "markdown",
   "metadata": {},
   "source": [
    "### Shuffle Data"
   ]
  },
  {
   "cell_type": "code",
   "execution_count": 14,
   "metadata": {},
   "outputs": [],
   "source": [
    "# TODO: maybe not needed -> random_state in train-test-split\n",
    "# shuffle both sets in the same way\n",
    "from sklearn.utils import shuffle\n",
    "\n",
    "X, y = shuffle(X, y, random_state=31)"
   ]
  },
  {
   "cell_type": "markdown",
   "metadata": {},
   "source": [
    "### Split Train/Test Set"
   ]
  },
  {
   "cell_type": "code",
   "execution_count": 15,
   "metadata": {},
   "outputs": [
    {
     "name": "stdout",
     "output_type": "stream",
     "text": [
      "(57637, 68) (6405, 68) (57637, 2) (6405, 2)\n"
     ]
    }
   ],
   "source": [
    "from sklearn.model_selection import train_test_split\n",
    "# spit data into train and test set\n",
    "\n",
    "X_train_detector, X_test_detector, y_train_detector, y_test_detector = train_test_split(X, y, test_size=0.10, random_state=21)\n",
    "print(X_train_detector.shape, X_test_detector.shape, y_train_detector.shape, y_test_detector.shape)"
   ]
  },
  {
   "cell_type": "markdown",
   "metadata": {},
   "source": [
    "### Create Validation Set"
   ]
  },
  {
   "cell_type": "code",
   "execution_count": 16,
   "metadata": {},
   "outputs": [
    {
     "name": "stdout",
     "output_type": "stream",
     "text": [
      "(64042, 68) (64042, 2)\n",
      "Val Shapes: (14410, 68), (14410, 2)\n",
      "Shapes: (43227, 68), (43227, 2)\n"
     ]
    }
   ],
   "source": [
    "from sklearn.model_selection import train_test_split\n",
    "print(X.shape, y.shape)\n",
    "\n",
    "X_train_detector, X_val_detector, y_train_detector, y_val_detector = train_test_split(X_train_detector, y_train_detector, test_size=0.25, random_state=31)\n",
    "\n",
    "print(f\"Val Shapes: {X_val_detector.shape}, {y_val_detector.shape}\")\n",
    "print(f\"Shapes: {X_train_detector.shape}, {y_train_detector.shape}\")"
   ]
  },
  {
   "cell_type": "markdown",
   "metadata": {},
   "source": [
    "### Model Creation"
   ]
  },
  {
   "cell_type": "code",
   "execution_count": 17,
   "metadata": {},
   "outputs": [],
   "source": [
    "# Create DNN model from tensorflow\n",
    "import setuptools.dist # needed to avoid error\n",
    "import tensorflow as tf\n",
    "from tensorflow import keras\n",
    "\n",
    "# keras model for handling one hot encoded labels -> needed for attack creation\n",
    "model_explainer = keras.Sequential([\n",
    "    keras.layers.Input(shape=(X_train.shape[1],)),  # Define input shape explicitly\n",
    "    keras.layers.Dense(50, activation='relu'),  # Hidden layer\n",
    "    keras.layers.Dense(30, activation='relu'),  # Hidden layer\n",
    "    keras.layers.Dropout(0.2), # TODO: test\n",
    "    keras.layers.Dense(10, activation='relu'),  # Hidden layer\n",
    "    keras.layers.Dropout(0.2), # TODO: test\n",
    "    keras.layers.Dense(y_train.shape[1], activation='softmax')  # Output layer with softmax for one-hot encoding\n",
    "])\n",
    "# set learning rate\n",
    "opt = keras.optimizers.Adam(learning_rate=0.001)\n",
    "# compile the keras model\n",
    "model_explainer.compile(loss='binary_crossentropy', optimizer=opt, metrics=['accuracy'])"
   ]
  },
  {
   "cell_type": "markdown",
   "metadata": {},
   "source": [
    "### Model Training"
   ]
  },
  {
   "cell_type": "code",
   "execution_count": 18,
   "metadata": {},
   "outputs": [
    {
     "name": "stdout",
     "output_type": "stream",
     "text": [
      "Epoch 1/10\n",
      "\u001b[1m433/433\u001b[0m \u001b[32m━━━━━━━━━━━━━━━━━━━━\u001b[0m\u001b[37m\u001b[0m \u001b[1m4s\u001b[0m 4ms/step - accuracy: 0.7440 - loss: 0.5098 - val_accuracy: 0.9681 - val_loss: 0.0976\n",
      "Epoch 2/10\n",
      "\u001b[1m433/433\u001b[0m \u001b[32m━━━━━━━━━━━━━━━━━━━━\u001b[0m\u001b[37m\u001b[0m \u001b[1m2s\u001b[0m 4ms/step - accuracy: 0.9606 - loss: 0.1177 - val_accuracy: 0.9656 - val_loss: 0.0918\n",
      "Epoch 3/10\n",
      "\u001b[1m433/433\u001b[0m \u001b[32m━━━━━━━━━━━━━━━━━━━━\u001b[0m\u001b[37m\u001b[0m \u001b[1m2s\u001b[0m 4ms/step - accuracy: 0.9730 - loss: 0.0860 - val_accuracy: 0.9633 - val_loss: 0.0960\n",
      "Epoch 4/10\n",
      "\u001b[1m433/433\u001b[0m \u001b[32m━━━━━━━━━━━━━━━━━━━━\u001b[0m\u001b[37m\u001b[0m \u001b[1m2s\u001b[0m 4ms/step - accuracy: 0.9773 - loss: 0.0703 - val_accuracy: 0.9754 - val_loss: 0.0664\n",
      "Epoch 5/10\n",
      "\u001b[1m433/433\u001b[0m \u001b[32m━━━━━━━━━━━━━━━━━━━━\u001b[0m\u001b[37m\u001b[0m \u001b[1m2s\u001b[0m 4ms/step - accuracy: 0.9836 - loss: 0.0536 - val_accuracy: 0.9895 - val_loss: 0.0342\n",
      "Epoch 6/10\n",
      "\u001b[1m433/433\u001b[0m \u001b[32m━━━━━━━━━━━━━━━━━━━━\u001b[0m\u001b[37m\u001b[0m \u001b[1m2s\u001b[0m 3ms/step - accuracy: 0.9854 - loss: 0.0482 - val_accuracy: 0.9793 - val_loss: 0.0534\n",
      "Epoch 7/10\n",
      "\u001b[1m433/433\u001b[0m \u001b[32m━━━━━━━━━━━━━━━━━━━━\u001b[0m\u001b[37m\u001b[0m \u001b[1m2s\u001b[0m 3ms/step - accuracy: 0.9852 - loss: 0.0467 - val_accuracy: 0.9908 - val_loss: 0.0282\n",
      "Epoch 8/10\n",
      "\u001b[1m433/433\u001b[0m \u001b[32m━━━━━━━━━━━━━━━━━━━━\u001b[0m\u001b[37m\u001b[0m \u001b[1m2s\u001b[0m 3ms/step - accuracy: 0.9875 - loss: 0.0414 - val_accuracy: 0.9811 - val_loss: 0.0455\n",
      "Epoch 9/10\n",
      "\u001b[1m433/433\u001b[0m \u001b[32m━━━━━━━━━━━━━━━━━━━━\u001b[0m\u001b[37m\u001b[0m \u001b[1m1s\u001b[0m 3ms/step - accuracy: 0.9904 - loss: 0.0309 - val_accuracy: 0.9929 - val_loss: 0.0224\n",
      "Epoch 10/10\n",
      "\u001b[1m433/433\u001b[0m \u001b[32m━━━━━━━━━━━━━━━━━━━━\u001b[0m\u001b[37m\u001b[0m \u001b[1m2s\u001b[0m 3ms/step - accuracy: 0.9933 - loss: 0.0241 - val_accuracy: 0.9751 - val_loss: 0.0607\n"
     ]
    },
    {
     "data": {
      "text/plain": [
       "<keras.src.callbacks.history.History at 0x7ff2c44f1a90>"
      ]
     },
     "execution_count": 18,
     "metadata": {},
     "output_type": "execute_result"
    }
   ],
   "source": [
    "# fit the keras model on the dataset\n",
    "model_explainer.fit(X_train_detector, y_train_detector, validation_data=(X_val_detector, y_val_detector), epochs=10, batch_size=100)"
   ]
  },
  {
   "cell_type": "markdown",
   "metadata": {},
   "source": [
    "---\n",
    "## Evaluation"
   ]
  },
  {
   "cell_type": "code",
   "execution_count": 19,
   "metadata": {},
   "outputs": [
    {
     "name": "stdout",
     "output_type": "stream",
     "text": [
      "\u001b[1m201/201\u001b[0m \u001b[32m━━━━━━━━━━━━━━━━━━━━\u001b[0m\u001b[37m\u001b[0m \u001b[1m0s\u001b[0m 2ms/step\n",
      "(6405,) (6405,)\n"
     ]
    }
   ],
   "source": [
    "y_pred_detector = model_explainer.predict(X_test_detector)\n",
    "y_pred_detector = (y_pred_detector > 0.5)\n",
    "\n",
    "y_test_detector_binary = np.array(y_test_detector).argmin(axis=1)\n",
    "y_pred_detector_binary = y_pred_detector.argmin(axis=1)\n",
    "print(y_test_detector_binary.shape, y_pred_detector_binary.shape)"
   ]
  },
  {
   "cell_type": "code",
   "execution_count": 20,
   "metadata": {},
   "outputs": [
    {
     "name": "stdout",
     "output_type": "stream",
     "text": [
      "Global Accuracy: 97.35%\n",
      "                    precision    recall  f1-score   support\n",
      "\n",
      "            NORMAL       0.94      1.00      0.97      2545\n",
      "ADVERSARIAL ATTACK       1.00      0.96      0.98      3860\n",
      "\n",
      "         micro avg       0.97      0.97      0.97      6405\n",
      "         macro avg       0.97      0.98      0.97      6405\n",
      "      weighted avg       0.98      0.97      0.97      6405\n",
      "       samples avg       0.97      0.97      0.97      6405\n",
      "\n",
      "True Negative Rate: 95.62%\n",
      "False Positive Rate: 4.38%\n",
      "True Positive Rate: 99.96%\n",
      "False Negative Rate: 0.04%\n"
     ]
    }
   ],
   "source": [
    "# print accuracy, precision, recall and f1-score\n",
    "from sklearn.metrics import classification_report\n",
    "from sklearn.metrics import accuracy_score\n",
    "\n",
    "# print accuracy\n",
    "print(f\"Global Accuracy: {accuracy_score(y_test_detector, y_pred_detector)*100:.2f}%\")\n",
    "\n",
    "# precision, recall, f1-score\n",
    "print(classification_report(y_test_detector, y_pred_detector, target_names=['NORMAL', 'ADVERSARIAL ATTACK']))\n",
    "\n",
    "# print true positive rate, false positive rate, true negative rate, false negative rate\n",
    "from sklearn.metrics import confusion_matrix\n",
    "\n",
    "tn, fp, fn, tp = confusion_matrix(y_test_detector_binary, y_pred_detector_binary).ravel()\n",
    "print(f\"True Negative Rate: {tn/(tn+fp)*100:.2f}%\")\n",
    "print(f\"False Positive Rate: {fp/(tn+fp)*100:.2f}%\")\n",
    "print(f\"True Positive Rate: {tp/(tp+fn)*100:.2f}%\")\n",
    "print(f\"False Negative Rate: {fn/(tp+fn)*100:.2f}%\")"
   ]
  },
  {
   "cell_type": "code",
   "execution_count": 21,
   "metadata": {},
   "outputs": [
    {
     "name": "stdout",
     "output_type": "stream",
     "text": [
      "False Positives: 169\n",
      "False Negatives: 1\n"
     ]
    }
   ],
   "source": [
    "# show number of false positives and false negatives\n",
    "print(f\"False Positives: {fp}\")\n",
    "print(f\"False Negatives: {fn}\")"
   ]
  },
  {
   "cell_type": "code",
   "execution_count": 22,
   "metadata": {},
   "outputs": [
    {
     "name": "stdout",
     "output_type": "stream",
     "text": [
      "[  18   47   96  158  216  224  239  325  330  357  381  394  496  506\n",
      "  575  590  643  649  653  750  760  837  863  869  874  970 1021 1044\n",
      " 1087 1090 1131 1134 1136 1144 1166 1216 1220 1306 1358 1394 1404 1474\n",
      " 1527 1571 1582 1652 1656 1758 1765 1771 1818 1849 1900 1917 1950 1969\n",
      " 2009 2040 2056 2090 2134 2148 2201 2250 2261 2330 2344 2345 2366 2433\n",
      " 2435 2495 2500 2532 2553 2584 2604 2717 2761 2879 2894 2898 2939 3016\n",
      " 3019 3027 3066 3170 3175 3222 3232 3262 3423 3427 3451 3480 3494 3519\n",
      " 3558 3559 3584 3636 3772 3776 3824 3859 3920 3928 3932 3934 3998 4018\n",
      " 4057 4074 4087 4190 4204 4350 4393 4403 4567 4616 4758 4963 4992 5025\n",
      " 5032 5045 5075 5087 5108 5133 5158 5178 5237 5362 5405 5503 5507 5522\n",
      " 5556 5575 5582 5606 5652 5659 5669 5740 5860 5867 5942 5950 6004 6049\n",
      " 6055 6098 6106 6109 6114 6143 6161 6194 6212 6224 6269 6290 6298 6353\n",
      " 6384]\n",
      "[1522]\n"
     ]
    }
   ],
   "source": [
    "# show false positive samples\n",
    "fp_indices = np.where((y_test_detector_binary == 0) & (y_pred_detector_binary == 1))[0]\n",
    "print(fp_indices)\n",
    "# show false negative samples\n",
    "fn_indices = np.where((y_test_detector_binary == 1) & (y_pred_detector_binary == 0))[0]\n",
    "print(fn_indices)"
   ]
  },
  {
   "cell_type": "markdown",
   "metadata": {},
   "source": [
    "---\n",
    "## Store Model"
   ]
  },
  {
   "cell_type": "code",
   "execution_count": null,
   "metadata": {},
   "outputs": [],
   "source": [
    "# save model\n",
    "model_explainer.save('../../CICIDS2017/models/ids_explainer_poc_50000.keras')"
   ]
  },
  {
   "cell_type": "markdown",
   "metadata": {},
   "source": [
    "---\n",
    "## Explanations"
   ]
  },
  {
   "cell_type": "code",
   "execution_count": 24,
   "metadata": {},
   "outputs": [
    {
     "name": "stderr",
     "output_type": "stream",
     "text": [
      "PermutationExplainer explainer: 621it [00:42, 11.68it/s]                         "
     ]
    },
    {
     "name": "stdout",
     "output_type": "stream",
     "text": [
      "(620, 68, 2)\n"
     ]
    },
    {
     "name": "stderr",
     "output_type": "stream",
     "text": [
      "\n"
     ]
    }
   ],
   "source": [
    "import shap \n",
    "\n",
    "# init shap explainer\n",
    "explainer = shap.Explainer(model_explainer, X_test_detector, feature_names=X_test_detector.columns)\n",
    "shap_values = explainer(X_test_detector)\n",
    "\n",
    "print(shap_values.shape)"
   ]
  },
  {
   "cell_type": "code",
   "execution_count": 25,
   "metadata": {},
   "outputs": [
    {
     "name": "stdout",
     "output_type": "stream",
     "text": [
      "(620, 68, 2)\n",
      "(620, 68)\n"
     ]
    }
   ],
   "source": [
    "# convert shap values to correct format\n",
    "print(shap_values.shape) # one shap value per feature per sample per class\n",
    "shap_values = shap_values[:, :, 0] # 1 == Benign, 0 == Malicious\n",
    "print(shap_values.shape) # one shap value per feature per sample"
   ]
  },
  {
   "cell_type": "code",
   "execution_count": 26,
   "metadata": {},
   "outputs": [
    {
     "data": {
      "image/png": "[encoded data removed]",
      "text/plain": [
       "<Figure size 800x750 with 2 Axes>"
      ]
     },
     "metadata": {},
     "output_type": "display_data"
    }
   ],
   "source": [
    "shap.summary_plot(shap_values, X_test_detector, max_display=15)"
   ]
  }
 ],
 "metadata": {
  "kernelspec": {
   "display_name": ".env",
   "language": "python",
   "name": "python3"
  },
  "language_info": {
   "codemirror_mode": {
    "name": "ipython",
    "version": 3
   },
   "file_extension": ".py",
   "mimetype": "text/x-python",
   "name": "python",
   "nbconvert_exporter": "python",
   "pygments_lexer": "ipython3",
   "version": "3.12.9"
  }
 },
 "nbformat": 4,
 "nbformat_minor": 2
}
