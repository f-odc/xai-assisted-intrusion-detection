{
 "cells": [
  {
   "cell_type": "markdown",
   "metadata": {},
   "source": [
    "# Intrusion Detection System\n",
    "---"
   ]
  },
  {
   "cell_type": "markdown",
   "metadata": {},
   "source": [
    "## Load Preprocessed Data"
   ]
  },
  {
   "cell_type": "code",
   "execution_count": 1,
   "metadata": {},
   "outputs": [
    {
     "data": {
      "text/html": [
       "<div>\n",
       "<style scoped>\n",
       "    .dataframe tbody tr th:only-of-type {\n",
       "        vertical-align: middle;\n",
       "    }\n",
       "\n",
       "    .dataframe tbody tr th {\n",
       "        vertical-align: top;\n",
       "    }\n",
       "\n",
       "    .dataframe thead th {\n",
       "        text-align: right;\n",
       "    }\n",
       "</style>\n",
       "<table border=\"1\" class=\"dataframe\">\n",
       "  <thead>\n",
       "    <tr style=\"text-align: right;\">\n",
       "      <th></th>\n",
       "      <th>Destination Port</th>\n",
       "      <th>Flow Duration</th>\n",
       "      <th>Total Fwd Packets</th>\n",
       "      <th>Total Backward Packets</th>\n",
       "      <th>Total Length of Fwd Packets</th>\n",
       "      <th>Total Length of Bwd Packets</th>\n",
       "      <th>Fwd Packet Length Max</th>\n",
       "      <th>Fwd Packet Length Min</th>\n",
       "      <th>Fwd Packet Length Mean</th>\n",
       "      <th>Fwd Packet Length Std</th>\n",
       "      <th>...</th>\n",
       "      <th>Active Mean</th>\n",
       "      <th>Active Std</th>\n",
       "      <th>Active Max</th>\n",
       "      <th>Active Min</th>\n",
       "      <th>Idle Mean</th>\n",
       "      <th>Idle Std</th>\n",
       "      <th>Idle Max</th>\n",
       "      <th>Idle Min</th>\n",
       "      <th>BENIGN</th>\n",
       "      <th>MALICIOUS</th>\n",
       "    </tr>\n",
       "  </thead>\n",
       "  <tbody>\n",
       "    <tr>\n",
       "      <th>0</th>\n",
       "      <td>0.001221</td>\n",
       "      <td>3.838251e-01</td>\n",
       "      <td>0.000032</td>\n",
       "      <td>0.000027</td>\n",
       "      <td>3.744186e-05</td>\n",
       "      <td>3.216096e-06</td>\n",
       "      <td>0.018010</td>\n",
       "      <td>0.000000</td>\n",
       "      <td>0.010163</td>\n",
       "      <td>0.021926</td>\n",
       "      <td>...</td>\n",
       "      <td>2.346841e-04</td>\n",
       "      <td>0.000287</td>\n",
       "      <td>5.247273e-04</td>\n",
       "      <td>1.364455e-04</td>\n",
       "      <td>0.083274</td>\n",
       "      <td>0.000065</td>\n",
       "      <td>0.083297</td>\n",
       "      <td>0.083212</td>\n",
       "      <td>True</td>\n",
       "      <td>False</td>\n",
       "    </tr>\n",
       "    <tr>\n",
       "      <th>1</th>\n",
       "      <td>0.001221</td>\n",
       "      <td>1.333333e-07</td>\n",
       "      <td>0.000005</td>\n",
       "      <td>0.000000</td>\n",
       "      <td>0.000000e+00</td>\n",
       "      <td>0.000000e+00</td>\n",
       "      <td>0.000000</td>\n",
       "      <td>0.000000</td>\n",
       "      <td>0.000000</td>\n",
       "      <td>0.000000</td>\n",
       "      <td>...</td>\n",
       "      <td>0.000000e+00</td>\n",
       "      <td>0.000000</td>\n",
       "      <td>0.000000e+00</td>\n",
       "      <td>0.000000e+00</td>\n",
       "      <td>0.000000</td>\n",
       "      <td>0.000000</td>\n",
       "      <td>0.000000</td>\n",
       "      <td>0.000000</td>\n",
       "      <td>False</td>\n",
       "      <td>True</td>\n",
       "    </tr>\n",
       "    <tr>\n",
       "      <th>2</th>\n",
       "      <td>0.001221</td>\n",
       "      <td>8.224395e-01</td>\n",
       "      <td>0.000027</td>\n",
       "      <td>0.000017</td>\n",
       "      <td>2.511628e-05</td>\n",
       "      <td>1.769005e-05</td>\n",
       "      <td>0.013054</td>\n",
       "      <td>0.000000</td>\n",
       "      <td>0.007791</td>\n",
       "      <td>0.017186</td>\n",
       "      <td>...</td>\n",
       "      <td>4.545455e-08</td>\n",
       "      <td>0.000000</td>\n",
       "      <td>4.545455e-08</td>\n",
       "      <td>4.545455e-08</td>\n",
       "      <td>0.822500</td>\n",
       "      <td>0.000000</td>\n",
       "      <td>0.822500</td>\n",
       "      <td>0.822500</td>\n",
       "      <td>False</td>\n",
       "      <td>True</td>\n",
       "    </tr>\n",
       "    <tr>\n",
       "      <th>3</th>\n",
       "      <td>0.229480</td>\n",
       "      <td>9.036856e-02</td>\n",
       "      <td>0.000000</td>\n",
       "      <td>0.000017</td>\n",
       "      <td>4.651163e-07</td>\n",
       "      <td>4.576987e-08</td>\n",
       "      <td>0.000242</td>\n",
       "      <td>0.002581</td>\n",
       "      <td>0.001010</td>\n",
       "      <td>0.000000</td>\n",
       "      <td>...</td>\n",
       "      <td>3.101364e-04</td>\n",
       "      <td>0.000000</td>\n",
       "      <td>3.101364e-04</td>\n",
       "      <td>3.101364e-04</td>\n",
       "      <td>0.090000</td>\n",
       "      <td>0.000000</td>\n",
       "      <td>0.090000</td>\n",
       "      <td>0.090000</td>\n",
       "      <td>True</td>\n",
       "      <td>False</td>\n",
       "    </tr>\n",
       "    <tr>\n",
       "      <th>4</th>\n",
       "      <td>0.006760</td>\n",
       "      <td>5.702540e-01</td>\n",
       "      <td>0.000141</td>\n",
       "      <td>0.000110</td>\n",
       "      <td>1.717054e-04</td>\n",
       "      <td>7.884623e-06</td>\n",
       "      <td>0.015391</td>\n",
       "      <td>0.000000</td>\n",
       "      <td>0.011651</td>\n",
       "      <td>0.012809</td>\n",
       "      <td>...</td>\n",
       "      <td>2.673343e-02</td>\n",
       "      <td>0.000000</td>\n",
       "      <td>2.673343e-02</td>\n",
       "      <td>2.673343e-02</td>\n",
       "      <td>0.485000</td>\n",
       "      <td>0.000000</td>\n",
       "      <td>0.485000</td>\n",
       "      <td>0.485000</td>\n",
       "      <td>True</td>\n",
       "      <td>False</td>\n",
       "    </tr>\n",
       "  </tbody>\n",
       "</table>\n",
       "<p>5 rows × 72 columns</p>\n",
       "</div>"
      ],
      "text/plain": [
       "    Destination Port   Flow Duration   Total Fwd Packets  \\\n",
       "0           0.001221    3.838251e-01            0.000032   \n",
       "1           0.001221    1.333333e-07            0.000005   \n",
       "2           0.001221    8.224395e-01            0.000027   \n",
       "3           0.229480    9.036856e-02            0.000000   \n",
       "4           0.006760    5.702540e-01            0.000141   \n",
       "\n",
       "    Total Backward Packets  Total Length of Fwd Packets  \\\n",
       "0                 0.000027                 3.744186e-05   \n",
       "1                 0.000000                 0.000000e+00   \n",
       "2                 0.000017                 2.511628e-05   \n",
       "3                 0.000017                 4.651163e-07   \n",
       "4                 0.000110                 1.717054e-04   \n",
       "\n",
       "    Total Length of Bwd Packets   Fwd Packet Length Max  \\\n",
       "0                  3.216096e-06                0.018010   \n",
       "1                  0.000000e+00                0.000000   \n",
       "2                  1.769005e-05                0.013054   \n",
       "3                  4.576987e-08                0.000242   \n",
       "4                  7.884623e-06                0.015391   \n",
       "\n",
       "    Fwd Packet Length Min   Fwd Packet Length Mean   Fwd Packet Length Std  \\\n",
       "0                0.000000                 0.010163                0.021926   \n",
       "1                0.000000                 0.000000                0.000000   \n",
       "2                0.000000                 0.007791                0.017186   \n",
       "3                0.002581                 0.001010                0.000000   \n",
       "4                0.000000                 0.011651                0.012809   \n",
       "\n",
       "   ...   Active Mean   Active Std    Active Max    Active Min  Idle Mean  \\\n",
       "0  ...  2.346841e-04     0.000287  5.247273e-04  1.364455e-04   0.083274   \n",
       "1  ...  0.000000e+00     0.000000  0.000000e+00  0.000000e+00   0.000000   \n",
       "2  ...  4.545455e-08     0.000000  4.545455e-08  4.545455e-08   0.822500   \n",
       "3  ...  3.101364e-04     0.000000  3.101364e-04  3.101364e-04   0.090000   \n",
       "4  ...  2.673343e-02     0.000000  2.673343e-02  2.673343e-02   0.485000   \n",
       "\n",
       "    Idle Std   Idle Max   Idle Min  BENIGN  MALICIOUS  \n",
       "0   0.000065   0.083297   0.083212    True      False  \n",
       "1   0.000000   0.000000   0.000000   False       True  \n",
       "2   0.000000   0.822500   0.822500   False       True  \n",
       "3   0.000000   0.090000   0.090000    True      False  \n",
       "4   0.000000   0.485000   0.485000    True      False  \n",
       "\n",
       "[5 rows x 72 columns]"
      ]
     },
     "execution_count": 1,
     "metadata": {},
     "output_type": "execute_result"
    }
   ],
   "source": [
    "# import pandas as pd\n",
    "\n",
    "# # load dataset\n",
    "# df = pd.read_csv('../data/preprocessed/binary_one_hot_min_max_small.csv')\n",
    "# df.shape\n",
    "# df.head()"
   ]
  },
  {
   "cell_type": "code",
   "execution_count": 2,
   "metadata": {},
   "outputs": [
    {
     "name": "stdout",
     "output_type": "stream",
     "text": [
      "NaN Values : 0\n",
      "BENIGN\n",
      "True     1617\n",
      "False     383\n",
      "Name: count, dtype: int64\n"
     ]
    }
   ],
   "source": [
    "# # check for NaN values\n",
    "# print(f\"NaN Values : {df.isnull().sum().sum()}\")\n",
    "\n",
    "# # print Label value counts\n",
    "# print(df[' Label'].value_counts())"
   ]
  },
  {
   "cell_type": "markdown",
   "metadata": {},
   "source": [
    "## Create Small Dataset"
   ]
  },
  {
   "cell_type": "code",
   "execution_count": 19,
   "metadata": {},
   "outputs": [],
   "source": [
    "# # create df with N samples of each class which holds at least N samples\n",
    "# N = 2000\n",
    "# small_df = pd.DataFrame()\n",
    "# for label in df[' Label'].unique():\n",
    "#     if df[df[' Label'] == label].shape[0] >= N:\n",
    "#         small_df = pd.concat([small_df, df[df[' Label'] == label].sample(N)], ignore_index=True)\n",
    "#     else:\n",
    "#         small_df = pd.concat([small_df, df[df[' Label'] == label]], ignore_index=True)\n",
    "\n",
    "# print(small_df[' Label'].value_counts())\n",
    "# print('Shape: ', small_df.shape)"
   ]
  },
  {
   "cell_type": "markdown",
   "metadata": {},
   "source": [
    "## Split Data"
   ]
  },
  {
   "cell_type": "code",
   "execution_count": 3,
   "metadata": {},
   "outputs": [],
   "source": [
    "# from sklearn.model_selection import train_test_split\n",
    "\n",
    "# # split data\n",
    "# X = df.drop(columns=[' Label'])\n",
    "# y = df[' Label']\n",
    "# X_train, X_test, y_train, y_test = train_test_split(X, y, test_size=0.25, random_state=42)"
   ]
  },
  {
   "cell_type": "markdown",
   "metadata": {},
   "source": [
    "---"
   ]
  },
  {
   "cell_type": "markdown",
   "metadata": {},
   "source": [
    "## Load Data Split"
   ]
  },
  {
   "cell_type": "code",
   "execution_count": 2,
   "metadata": {},
   "outputs": [
    {
     "name": "stdout",
     "output_type": "stream",
     "text": [
      "(2120907, 70) (706969, 70) (2120907, 2) (706969, 2)\n"
     ]
    }
   ],
   "source": [
    "import pandas as pd\n",
    "\n",
    "X_train = pd.read_csv(\"../CICIDS2017/train_test_split/X_train.csv\")\n",
    "X_test = pd.read_csv(\"../CICIDS2017/train_test_split/X_test.csv\")\n",
    "y_train = pd.read_csv(\"../CICIDS2017/train_test_split/y_train.csv\")\n",
    "y_test = pd.read_csv(\"../CICIDS2017/train_test_split/y_test.csv\")\n",
    "\n",
    "print(X_train.shape, X_test.shape, y_train.shape, y_test.shape)"
   ]
  },
  {
   "cell_type": "markdown",
   "metadata": {},
   "source": [
    "## Model Creation"
   ]
  },
  {
   "cell_type": "code",
   "execution_count": 4,
   "metadata": {},
   "outputs": [],
   "source": [
    "# Create DNN model from tensorflow\n",
    "import setuptools.dist # needed to avoid error\n",
    "import tensorflow as tf\n",
    "from tensorflow import keras\n",
    "\n",
    "# normal keras model\n",
    "# TODO: test with 40, 40, 20 and simple adam optimizer\n",
    "# model = keras.Sequential()\n",
    "# model.add(keras.layers.Dense(50, input_dim=X_train.shape[1], activation='relu')) # hidden layer\n",
    "# model.add(keras.layers.Dense(30, activation='relu')) # hidden layer\n",
    "# model.add(keras.layers.Dense(10, activation='relu')) # hidden layer\n",
    "# model.add(keras.layers.Dense(1, activation='sigmoid')) # output layer\n",
    "\n",
    "# keras model for handling one hot encoded labels -> needed for attack creation\n",
    "model = keras.Sequential()\n",
    "model.add(keras.layers.Dense(50, input_dim=X_train.shape[1], activation='relu')) # hidden layer\n",
    "model.add(keras.layers.Dense(30, activation='relu')) # hidden layer\n",
    "model.add(keras.layers.Dense(10, activation='relu')) # hidden layer\n",
    "model.add(keras.layers.Dense(y_train.shape[1], activation='softmax'))  # Output layer with softmax for one-hot encoding\n",
    "\n",
    "# set learning rate\n",
    "opt = keras.optimizers.Adam(learning_rate=0.001)\n",
    "# compile the keras model\n",
    "model.compile(loss='binary_crossentropy', optimizer=opt, metrics=['accuracy'])"
   ]
  },
  {
   "cell_type": "markdown",
   "metadata": {},
   "source": [
    "## Model Training"
   ]
  },
  {
   "cell_type": "code",
   "execution_count": 5,
   "metadata": {},
   "outputs": [
    {
     "name": "stdout",
     "output_type": "stream",
     "text": [
      "Epoch 1/10\n",
      "\u001b[1m21210/21210\u001b[0m \u001b[32m━━━━━━━━━━━━━━━━━━━━\u001b[0m\u001b[37m\u001b[0m \u001b[1m61s\u001b[0m 3ms/step - accuracy: 0.9574 - loss: 0.0994 - val_accuracy: 0.9791 - val_loss: 0.0466\n",
      "Epoch 2/10\n",
      "\u001b[1m21210/21210\u001b[0m \u001b[32m━━━━━━━━━━━━━━━━━━━━\u001b[0m\u001b[37m\u001b[0m \u001b[1m48s\u001b[0m 2ms/step - accuracy: 0.9780 - loss: 0.0478 - val_accuracy: 0.9800 - val_loss: 0.0435\n",
      "Epoch 3/10\n",
      "\u001b[1m21210/21210\u001b[0m \u001b[32m━━━━━━━━━━━━━━━━━━━━\u001b[0m\u001b[37m\u001b[0m \u001b[1m63s\u001b[0m 3ms/step - accuracy: 0.9806 - loss: 0.0418 - val_accuracy: 0.9808 - val_loss: 0.0389\n",
      "Epoch 4/10\n",
      "\u001b[1m21210/21210\u001b[0m \u001b[32m━━━━━━━━━━━━━━━━━━━━\u001b[0m\u001b[37m\u001b[0m \u001b[1m63s\u001b[0m 3ms/step - accuracy: 0.9821 - loss: 0.0396 - val_accuracy: 0.9837 - val_loss: 0.0369\n",
      "Epoch 5/10\n",
      "\u001b[1m21210/21210\u001b[0m \u001b[32m━━━━━━━━━━━━━━━━━━━━\u001b[0m\u001b[37m\u001b[0m \u001b[1m52s\u001b[0m 2ms/step - accuracy: 0.9831 - loss: 0.0381 - val_accuracy: 0.9843 - val_loss: 0.0364\n",
      "Epoch 6/10\n",
      "\u001b[1m21210/21210\u001b[0m \u001b[32m━━━━━━━━━━━━━━━━━━━━\u001b[0m\u001b[37m\u001b[0m \u001b[1m62s\u001b[0m 3ms/step - accuracy: 0.9837 - loss: 0.0371 - val_accuracy: 0.9853 - val_loss: 0.0353\n",
      "Epoch 7/10\n",
      "\u001b[1m21210/21210\u001b[0m \u001b[32m━━━━━━━━━━━━━━━━━━━━\u001b[0m\u001b[37m\u001b[0m \u001b[1m62s\u001b[0m 3ms/step - accuracy: 0.9843 - loss: 0.0361 - val_accuracy: 0.9849 - val_loss: 0.0359\n",
      "Epoch 8/10\n",
      "\u001b[1m21210/21210\u001b[0m \u001b[32m━━━━━━━━━━━━━━━━━━━━\u001b[0m\u001b[37m\u001b[0m \u001b[1m57s\u001b[0m 3ms/step - accuracy: 0.9848 - loss: 0.0353 - val_accuracy: 0.9853 - val_loss: 0.0346\n",
      "Epoch 9/10\n",
      "\u001b[1m21210/21210\u001b[0m \u001b[32m━━━━━━━━━━━━━━━━━━━━\u001b[0m\u001b[37m\u001b[0m \u001b[1m65s\u001b[0m 3ms/step - accuracy: 0.9851 - loss: 0.0348 - val_accuracy: 0.9847 - val_loss: 0.0343\n",
      "Epoch 10/10\n",
      "\u001b[1m21210/21210\u001b[0m \u001b[32m━━━━━━━━━━━━━━━━━━━━\u001b[0m\u001b[37m\u001b[0m \u001b[1m62s\u001b[0m 3ms/step - accuracy: 0.9853 - loss: 0.0343 - val_accuracy: 0.9853 - val_loss: 0.0341\n"
     ]
    },
    {
     "data": {
      "text/plain": [
       "<keras.src.callbacks.history.History at 0x7fdb5e912d80>"
      ]
     },
     "execution_count": 5,
     "metadata": {},
     "output_type": "execute_result"
    }
   ],
   "source": [
    "# fit the keras model on the dataset\n",
    "model.fit(X_train, y_train, validation_data=(X_test, y_test), epochs=10, batch_size=100)"
   ]
  },
  {
   "cell_type": "markdown",
   "metadata": {},
   "source": [
    "## Result Visualization"
   ]
  },
  {
   "cell_type": "code",
   "execution_count": 6,
   "metadata": {},
   "outputs": [
    {
     "data": {
      "image/png": "[encoded data removed]",
      "text/plain": [
       "<Figure size 640x480 with 1 Axes>"
      ]
     },
     "metadata": {},
     "output_type": "display_data"
    }
   ],
   "source": [
    "import matplotlib.pyplot as plt\n",
    "\n",
    "history = model.history.history\n",
    "# plot loss / accuracy vs epoch for train acc, validation acc, train loss, validation loss\n",
    "plt.plot(history['accuracy'])\n",
    "plt.plot(history['val_accuracy'])\n",
    "plt.plot(history['loss'])\n",
    "plt.plot(history['val_loss'])\n",
    "plt.title('model accuracy')\n",
    "plt.ylabel('Loss / Accuracy')\n",
    "plt.xlabel('epoch')\n",
    "plt.legend(['train', 'val', 'train_loss', 'val_loss'], loc='upper left')\n",
    "plt.show()\n"
   ]
  },
  {
   "cell_type": "code",
   "execution_count": 7,
   "metadata": {},
   "outputs": [
    {
     "data": {
      "image/png": "[encoded data removed]",
      "text/plain": [
       "<Figure size 640x480 with 1 Axes>"
      ]
     },
     "metadata": {},
     "output_type": "display_data"
    }
   ],
   "source": [
    "# plot training and validation accuracy over epochs\n",
    "plt.plot(history['accuracy'])\n",
    "plt.plot(history['val_accuracy'])\n",
    "plt.title('model accuracy')\n",
    "plt.ylabel('accuracy')\n",
    "plt.xlabel('epoch')\n",
    "plt.legend(['train', 'val'], loc='upper left')\n",
    "plt.show()"
   ]
  },
  {
   "cell_type": "code",
   "execution_count": 5,
   "metadata": {},
   "outputs": [
    {
     "name": "stdout",
     "output_type": "stream",
     "text": [
      "\u001b[1m22093/22093\u001b[0m \u001b[32m━━━━━━━━━━━━━━━━━━━━\u001b[0m\u001b[37m\u001b[0m \u001b[1m14s\u001b[0m 629us/step\n",
      "Global Accuracy: 98.55%\n",
      "Accuracy BENIGN: 0.99\n",
      "Accuracy ATTACK: 0.97\n",
      "Macro AVG Accuracy: 0.98\n",
      "Weighted AVG Accuracy: 0.99\n",
      "              precision    recall  f1-score   support\n",
      "\n",
      "      BENIGN       0.99      0.99      0.99    567586\n",
      "      ATTACK       0.95      0.97      0.96    139383\n",
      "\n",
      "   micro avg       0.99      0.99      0.99    706969\n",
      "   macro avg       0.97      0.98      0.98    706969\n",
      "weighted avg       0.99      0.99      0.99    706969\n",
      " samples avg       0.99      0.99      0.99    706969\n",
      "\n"
     ]
    }
   ],
   "source": [
    "# print accuracy, precision, recall and f1-score\n",
    "from sklearn.metrics import classification_report\n",
    "from sklearn.metrics import accuracy_score\n",
    "\n",
    "y_pred = model.predict(X_test)\n",
    "y_pred = (y_pred > 0.5)\n",
    "\n",
    "# print accuracy\n",
    "print(f\"Global Accuracy: {accuracy_score(y_test, y_pred)*100:.2f}%\")\n",
    "\n",
    "# accuracy - one hot encoded\n",
    "# [1, 0] == BENIGN\n",
    "# [0, 1] == ATTACK\n",
    "print(f\"Accuracy BENIGN: {accuracy_score(y_test[y_test['BENIGN'] == 1], y_pred[y_test['BENIGN'] == 1]):.2f}\")\n",
    "print(f\"Accuracy ATTACK: {accuracy_score(y_test[y_test['BENIGN'] == 0], y_pred[y_test['BENIGN'] == 0]):.2f}\")\n",
    "print(f\"Macro AVG Accuracy: {(accuracy_score(y_test[y_test['BENIGN'] == 1], y_pred[y_test['BENIGN'] == 1]) + accuracy_score(y_test[y_test['BENIGN'] == 0], y_pred[y_test['BENIGN'] == 0])) / 2:.2f}\")\n",
    "print(f\"Weighted AVG Accuracy: {accuracy_score(y_test, y_pred):.2f}\")\n",
    "\n",
    "# accuracy - normal\n",
    "# print(f\"Accuracy BENIGN: {accuracy_score(y_test[y_test == 0]], y_pred[y_test == 0]):.2f}\")\n",
    "# print(f\"Accuracy ATTACK: {accuracy_score(y_test[y_test == 1], y_pred[y_test == 1]):.2f}\")\n",
    "# print(f\"Macro AVG Accuracy: {(accuracy_score(y_test[y_test == 0], y_pred[y_test == 0]) + accuracy_score(y_test[y_test == 1], y_pred[y_test == 1])) / 2:.2f}\")\n",
    "# print(f\"Weighted AVG Accuracy: {accuracy_score(y_test, y_pred):.2f}\")\n",
    "\n",
    "# precision, recall, f1-score\n",
    "print(classification_report(y_test, y_pred, target_names=['BENIGN', 'ATTACK']))\n"
   ]
  },
  {
   "cell_type": "markdown",
   "metadata": {},
   "source": [
    "## Export Model"
   ]
  },
  {
   "cell_type": "code",
   "execution_count": 9,
   "metadata": {},
   "outputs": [],
   "source": [
    "# export model\n",
    "model.save('../CICIDS2017/models/ids_dnn.keras')"
   ]
  }
 ],
 "metadata": {
  "kernelspec": {
   "display_name": ".env",
   "language": "python",
   "name": "python3"
  },
  "language_info": {
   "codemirror_mode": {
    "name": "ipython",
    "version": 3
   },
   "file_extension": ".py",
   "mimetype": "text/x-python",
   "name": "python",
   "nbconvert_exporter": "python",
   "pygments_lexer": "ipython3",
   "version": "3.12.8"
  }
 },
 "nbformat": 4,
 "nbformat_minor": 2
}
