{
 "cells": [
  {
   "cell_type": "markdown",
   "metadata": {},
   "source": [
    "# Intrusion Detection System\n",
    "-----------------"
   ]
  },
  {
   "cell_type": "markdown",
   "metadata": {},
   "source": [
    "## Load Preprocessed Data"
   ]
  },
  {
   "cell_type": "code",
   "execution_count": 17,
   "metadata": {},
   "outputs": [
    {
     "data": {
      "text/html": [
       "<div>\n",
       "<style scoped>\n",
       "    .dataframe tbody tr th:only-of-type {\n",
       "        vertical-align: middle;\n",
       "    }\n",
       "\n",
       "    .dataframe tbody tr th {\n",
       "        vertical-align: top;\n",
       "    }\n",
       "\n",
       "    .dataframe thead th {\n",
       "        text-align: right;\n",
       "    }\n",
       "</style>\n",
       "<table border=\"1\" class=\"dataframe\">\n",
       "  <thead>\n",
       "    <tr style=\"text-align: right;\">\n",
       "      <th></th>\n",
       "      <th>Destination Port</th>\n",
       "      <th>Flow Duration</th>\n",
       "      <th>Total Fwd Packets</th>\n",
       "      <th>Total Backward Packets</th>\n",
       "      <th>Total Length of Fwd Packets</th>\n",
       "      <th>Total Length of Bwd Packets</th>\n",
       "      <th>Fwd Packet Length Max</th>\n",
       "      <th>Fwd Packet Length Min</th>\n",
       "      <th>Fwd Packet Length Mean</th>\n",
       "      <th>Fwd Packet Length Std</th>\n",
       "      <th>...</th>\n",
       "      <th>min_seg_size_forward</th>\n",
       "      <th>Active Mean</th>\n",
       "      <th>Active Std</th>\n",
       "      <th>Active Max</th>\n",
       "      <th>Active Min</th>\n",
       "      <th>Idle Mean</th>\n",
       "      <th>Idle Std</th>\n",
       "      <th>Idle Max</th>\n",
       "      <th>Idle Min</th>\n",
       "      <th>Label</th>\n",
       "    </tr>\n",
       "  </thead>\n",
       "  <tbody>\n",
       "    <tr>\n",
       "      <th>0</th>\n",
       "      <td>0.837186</td>\n",
       "      <td>1.333333e-07</td>\n",
       "      <td>0.000005</td>\n",
       "      <td>0.000000</td>\n",
       "      <td>9.302326e-07</td>\n",
       "      <td>0.000000e+00</td>\n",
       "      <td>0.000242</td>\n",
       "      <td>0.002581</td>\n",
       "      <td>0.00101</td>\n",
       "      <td>0.0</td>\n",
       "      <td>...</td>\n",
       "      <td>1.0</td>\n",
       "      <td>0.0</td>\n",
       "      <td>0.0</td>\n",
       "      <td>0.0</td>\n",
       "      <td>0.0</td>\n",
       "      <td>0.0</td>\n",
       "      <td>0.0</td>\n",
       "      <td>0.0</td>\n",
       "      <td>0.0</td>\n",
       "      <td>0</td>\n",
       "    </tr>\n",
       "    <tr>\n",
       "      <th>1</th>\n",
       "      <td>0.840070</td>\n",
       "      <td>1.016667e-06</td>\n",
       "      <td>0.000000</td>\n",
       "      <td>0.000003</td>\n",
       "      <td>4.651163e-07</td>\n",
       "      <td>9.153974e-09</td>\n",
       "      <td>0.000242</td>\n",
       "      <td>0.002581</td>\n",
       "      <td>0.00101</td>\n",
       "      <td>0.0</td>\n",
       "      <td>...</td>\n",
       "      <td>1.0</td>\n",
       "      <td>0.0</td>\n",
       "      <td>0.0</td>\n",
       "      <td>0.0</td>\n",
       "      <td>0.0</td>\n",
       "      <td>0.0</td>\n",
       "      <td>0.0</td>\n",
       "      <td>0.0</td>\n",
       "      <td>0.0</td>\n",
       "      <td>0</td>\n",
       "    </tr>\n",
       "    <tr>\n",
       "      <th>2</th>\n",
       "      <td>0.840085</td>\n",
       "      <td>5.416666e-07</td>\n",
       "      <td>0.000000</td>\n",
       "      <td>0.000003</td>\n",
       "      <td>4.651163e-07</td>\n",
       "      <td>9.153974e-09</td>\n",
       "      <td>0.000242</td>\n",
       "      <td>0.002581</td>\n",
       "      <td>0.00101</td>\n",
       "      <td>0.0</td>\n",
       "      <td>...</td>\n",
       "      <td>1.0</td>\n",
       "      <td>0.0</td>\n",
       "      <td>0.0</td>\n",
       "      <td>0.0</td>\n",
       "      <td>0.0</td>\n",
       "      <td>0.0</td>\n",
       "      <td>0.0</td>\n",
       "      <td>0.0</td>\n",
       "      <td>0.0</td>\n",
       "      <td>0</td>\n",
       "    </tr>\n",
       "    <tr>\n",
       "      <th>3</th>\n",
       "      <td>0.705516</td>\n",
       "      <td>3.916666e-07</td>\n",
       "      <td>0.000000</td>\n",
       "      <td>0.000003</td>\n",
       "      <td>4.651163e-07</td>\n",
       "      <td>9.153974e-09</td>\n",
       "      <td>0.000242</td>\n",
       "      <td>0.002581</td>\n",
       "      <td>0.00101</td>\n",
       "      <td>0.0</td>\n",
       "      <td>...</td>\n",
       "      <td>1.0</td>\n",
       "      <td>0.0</td>\n",
       "      <td>0.0</td>\n",
       "      <td>0.0</td>\n",
       "      <td>0.0</td>\n",
       "      <td>0.0</td>\n",
       "      <td>0.0</td>\n",
       "      <td>0.0</td>\n",
       "      <td>0.0</td>\n",
       "      <td>0</td>\n",
       "    </tr>\n",
       "    <tr>\n",
       "      <th>4</th>\n",
       "      <td>0.837156</td>\n",
       "      <td>1.333333e-07</td>\n",
       "      <td>0.000005</td>\n",
       "      <td>0.000000</td>\n",
       "      <td>9.302326e-07</td>\n",
       "      <td>0.000000e+00</td>\n",
       "      <td>0.000242</td>\n",
       "      <td>0.002581</td>\n",
       "      <td>0.00101</td>\n",
       "      <td>0.0</td>\n",
       "      <td>...</td>\n",
       "      <td>1.0</td>\n",
       "      <td>0.0</td>\n",
       "      <td>0.0</td>\n",
       "      <td>0.0</td>\n",
       "      <td>0.0</td>\n",
       "      <td>0.0</td>\n",
       "      <td>0.0</td>\n",
       "      <td>0.0</td>\n",
       "      <td>0.0</td>\n",
       "      <td>0</td>\n",
       "    </tr>\n",
       "  </tbody>\n",
       "</table>\n",
       "<p>5 rows × 71 columns</p>\n",
       "</div>"
      ],
      "text/plain": [
       "    Destination Port   Flow Duration   Total Fwd Packets  \\\n",
       "0           0.837186    1.333333e-07            0.000005   \n",
       "1           0.840070    1.016667e-06            0.000000   \n",
       "2           0.840085    5.416666e-07            0.000000   \n",
       "3           0.705516    3.916666e-07            0.000000   \n",
       "4           0.837156    1.333333e-07            0.000005   \n",
       "\n",
       "    Total Backward Packets  Total Length of Fwd Packets  \\\n",
       "0                 0.000000                 9.302326e-07   \n",
       "1                 0.000003                 4.651163e-07   \n",
       "2                 0.000003                 4.651163e-07   \n",
       "3                 0.000003                 4.651163e-07   \n",
       "4                 0.000000                 9.302326e-07   \n",
       "\n",
       "    Total Length of Bwd Packets   Fwd Packet Length Max  \\\n",
       "0                  0.000000e+00                0.000242   \n",
       "1                  9.153974e-09                0.000242   \n",
       "2                  9.153974e-09                0.000242   \n",
       "3                  9.153974e-09                0.000242   \n",
       "4                  0.000000e+00                0.000242   \n",
       "\n",
       "    Fwd Packet Length Min   Fwd Packet Length Mean   Fwd Packet Length Std  \\\n",
       "0                0.002581                  0.00101                     0.0   \n",
       "1                0.002581                  0.00101                     0.0   \n",
       "2                0.002581                  0.00101                     0.0   \n",
       "3                0.002581                  0.00101                     0.0   \n",
       "4                0.002581                  0.00101                     0.0   \n",
       "\n",
       "   ...   min_seg_size_forward  Active Mean   Active Std   Active Max  \\\n",
       "0  ...                    1.0          0.0          0.0          0.0   \n",
       "1  ...                    1.0          0.0          0.0          0.0   \n",
       "2  ...                    1.0          0.0          0.0          0.0   \n",
       "3  ...                    1.0          0.0          0.0          0.0   \n",
       "4  ...                    1.0          0.0          0.0          0.0   \n",
       "\n",
       "    Active Min  Idle Mean   Idle Std   Idle Max   Idle Min   Label  \n",
       "0          0.0        0.0        0.0        0.0        0.0       0  \n",
       "1          0.0        0.0        0.0        0.0        0.0       0  \n",
       "2          0.0        0.0        0.0        0.0        0.0       0  \n",
       "3          0.0        0.0        0.0        0.0        0.0       0  \n",
       "4          0.0        0.0        0.0        0.0        0.0       0  \n",
       "\n",
       "[5 rows x 71 columns]"
      ]
     },
     "execution_count": 17,
     "metadata": {},
     "output_type": "execute_result"
    }
   ],
   "source": [
    "import pandas as pd\n",
    "\n",
    "# load dataset\n",
    "df = pd.read_csv('../data/preprocessed/binary_min_max_combined.csv')\n",
    "df.shape\n",
    "df.head()"
   ]
  },
  {
   "cell_type": "code",
   "execution_count": 18,
   "metadata": {},
   "outputs": [
    {
     "name": "stdout",
     "output_type": "stream",
     "text": [
      "NaN Values : 0\n",
      " Label\n",
      "0    2271320\n",
      "1     556556\n",
      "Name: count, dtype: int64\n"
     ]
    }
   ],
   "source": [
    "# check for NaN values\n",
    "print(f\"NaN Values : {df.isnull().sum().sum()}\")\n",
    "\n",
    "# print Label value counts\n",
    "print(df[' Label'].value_counts())"
   ]
  },
  {
   "cell_type": "markdown",
   "metadata": {},
   "source": [
    "## Create Small Dataset"
   ]
  },
  {
   "cell_type": "code",
   "execution_count": 19,
   "metadata": {},
   "outputs": [],
   "source": [
    "# # create df with N samples of each class which holds at least N samples\n",
    "# N = 2000\n",
    "# small_df = pd.DataFrame()\n",
    "# for label in df[' Label'].unique():\n",
    "#     if df[df[' Label'] == label].shape[0] >= N:\n",
    "#         small_df = pd.concat([small_df, df[df[' Label'] == label].sample(N)], ignore_index=True)\n",
    "#     else:\n",
    "#         small_df = pd.concat([small_df, df[df[' Label'] == label]], ignore_index=True)\n",
    "\n",
    "# print(small_df[' Label'].value_counts())\n",
    "# print('Shape: ', small_df.shape)"
   ]
  },
  {
   "cell_type": "markdown",
   "metadata": {},
   "source": [
    "## Refactor Data - Remove Nan and Inf"
   ]
  },
  {
   "cell_type": "code",
   "execution_count": 20,
   "metadata": {},
   "outputs": [],
   "source": [
    "# import numpy as np\n",
    "\n",
    "# small_df = df\n",
    "\n",
    "# # shuffle data\n",
    "# small_df = small_df.sample(frac=1).reset_index(drop=True)\n",
    "# print(\"Shuffled data:\")\n",
    "# print(small_df.head(2))\n",
    "\n",
    "# # remove nan and inf values\n",
    "# print(\"Checking for NaN values:\", np.isnan(small_df).sum().sum())\n",
    "# print(\"Checking for Inf values:\", np.isinf(small_df).sum().sum())\n",
    "\n",
    "# # remove NaN and Inf values\n",
    "# print(\"Removing NaN and Inf values...\")\n",
    "# small_df = small_df.replace([np.inf, -np.inf], np.nan)\n",
    "# small_df = small_df.dropna()\n",
    "\n",
    "# print(\"Checking for NaN values:\", np.isnan(small_df).sum().sum())\n",
    "# print(\"Checking for Inf values:\", np.isinf(small_df).sum().sum())\n",
    "# print()"
   ]
  },
  {
   "cell_type": "markdown",
   "metadata": {},
   "source": [
    "## Shuffle Data"
   ]
  },
  {
   "cell_type": "code",
   "execution_count": 21,
   "metadata": {},
   "outputs": [
    {
     "name": "stdout",
     "output_type": "stream",
     "text": [
      "Shuffled data:\n",
      "    Destination Port   Flow Duration   Total Fwd Packets  \\\n",
      "0           0.001221         0.82020            0.000032   \n",
      "1           0.000809         0.00042            0.000005   \n",
      "\n",
      "    Total Backward Packets  Total Length of Fwd Packets  \\\n",
      "0                 0.000021                     0.000028   \n",
      "1                 0.000007                     0.000007   \n",
      "\n",
      "    Total Length of Bwd Packets   Fwd Packet Length Max  \\\n",
      "0                  1.769005e-05                0.014424   \n",
      "1                  3.478510e-07                0.001692   \n",
      "\n",
      "    Fwd Packet Length Min   Fwd Packet Length Mean   Fwd Packet Length Std  \\\n",
      "0                0.000000                 0.007659                0.017723   \n",
      "1                0.018065                 0.007070                0.000000   \n",
      "\n",
      "   ...   min_seg_size_forward  Active Mean   Active Std   Active Max  \\\n",
      "0  ...                    1.0     0.000009          0.0     0.000009   \n",
      "1  ...                    1.0     0.000000          0.0     0.000000   \n",
      "\n",
      "    Active Min  Idle Mean   Idle Std   Idle Max   Idle Min   Label  \n",
      "0     0.000009   0.819167        0.0   0.819167   0.819167       1  \n",
      "1     0.000000   0.000000        0.0   0.000000   0.000000       0  \n",
      "\n",
      "[2 rows x 71 columns]\n"
     ]
    }
   ],
   "source": [
    "# shuffle data\n",
    "df = df.sample(frac=1).reset_index(drop=True)\n",
    "print(\"Shuffled data:\")\n",
    "print(df.head(2))\n"
   ]
  },
  {
   "cell_type": "markdown",
   "metadata": {},
   "source": [
    "## Split Data"
   ]
  },
  {
   "cell_type": "code",
   "execution_count": 22,
   "metadata": {},
   "outputs": [],
   "source": [
    "from sklearn.model_selection import train_test_split\n",
    "\n",
    "# split data\n",
    "X = df.drop(columns=[' Label'])\n",
    "y = df[' Label']\n",
    "X_train, X_test, y_train, y_test = train_test_split(X, y, test_size=0.25, random_state=42)"
   ]
  },
  {
   "cell_type": "markdown",
   "metadata": {},
   "source": [
    "## Model Creation"
   ]
  },
  {
   "cell_type": "code",
   "execution_count": 23,
   "metadata": {},
   "outputs": [
    {
     "name": "stderr",
     "output_type": "stream",
     "text": [
      "/home/felix/Documents/Uni/Master Arbeit/Python/xai-assisted-intrusion-detection-system/.env/lib64/python3.12/site-packages/keras/src/layers/core/dense.py:87: UserWarning: Do not pass an `input_shape`/`input_dim` argument to a layer. When using Sequential models, prefer using an `Input(shape)` object as the first layer in the model instead.\n",
      "  super().__init__(activity_regularizer=activity_regularizer, **kwargs)\n"
     ]
    }
   ],
   "source": [
    "# Create DNN model from tensorflow\n",
    "import setuptools.dist # needed to avoid error\n",
    "import tensorflow as tf\n",
    "from tensorflow import keras\n",
    "\n",
    "# define the keras model\n",
    "# TODO: test with 40, 40, 20 and simple adam optimizer\n",
    "model = keras.Sequential()\n",
    "model.add(keras.layers.Dense(50, input_dim=X_train.shape[1], activation='relu')) # hidden layer\n",
    "model.add(keras.layers.Dense(30, activation='relu')) # hidden layer\n",
    "model.add(keras.layers.Dense(10, activation='relu')) # hidden layer\n",
    "model.add(keras.layers.Dense(1, activation='sigmoid')) # output layer\n",
    "# set learning rate\n",
    "opt = keras.optimizers.Adam(learning_rate=0.001)\n",
    "# compile the keras model\n",
    "model.compile(loss='binary_crossentropy', optimizer=opt, metrics=['accuracy'])"
   ]
  },
  {
   "cell_type": "markdown",
   "metadata": {},
   "source": [
    "## Model Training"
   ]
  },
  {
   "cell_type": "code",
   "execution_count": 24,
   "metadata": {},
   "outputs": [
    {
     "name": "stdout",
     "output_type": "stream",
     "text": [
      "Epoch 1/10\n",
      "\u001b[1m21210/21210\u001b[0m \u001b[32m━━━━━━━━━━━━━━━━━━━━\u001b[0m\u001b[37m\u001b[0m \u001b[1m63s\u001b[0m 3ms/step - accuracy: 0.9552 - loss: 0.1055 - val_accuracy: 0.9791 - val_loss: 0.0460\n",
      "Epoch 2/10\n",
      "\u001b[1m21210/21210\u001b[0m \u001b[32m━━━━━━━━━━━━━━━━━━━━\u001b[0m\u001b[37m\u001b[0m \u001b[1m65s\u001b[0m 3ms/step - accuracy: 0.9791 - loss: 0.0466 - val_accuracy: 0.9799 - val_loss: 0.0499\n",
      "Epoch 3/10\n",
      "\u001b[1m21210/21210\u001b[0m \u001b[32m━━━━━━━━━━━━━━━━━━━━\u001b[0m\u001b[37m\u001b[0m \u001b[1m65s\u001b[0m 3ms/step - accuracy: 0.9810 - loss: 0.0420 - val_accuracy: 0.9787 - val_loss: 0.0427\n",
      "Epoch 4/10\n",
      "\u001b[1m21210/21210\u001b[0m \u001b[32m━━━━━━━━━━━━━━━━━━━━\u001b[0m\u001b[37m\u001b[0m \u001b[1m62s\u001b[0m 3ms/step - accuracy: 0.9820 - loss: 0.0401 - val_accuracy: 0.9825 - val_loss: 0.0391\n",
      "Epoch 5/10\n",
      "\u001b[1m21210/21210\u001b[0m \u001b[32m━━━━━━━━━━━━━━━━━━━━\u001b[0m\u001b[37m\u001b[0m \u001b[1m62s\u001b[0m 3ms/step - accuracy: 0.9830 - loss: 0.0385 - val_accuracy: 0.9841 - val_loss: 0.0367\n",
      "Epoch 6/10\n",
      "\u001b[1m21210/21210\u001b[0m \u001b[32m━━━━━━━━━━━━━━━━━━━━\u001b[0m\u001b[37m\u001b[0m \u001b[1m65s\u001b[0m 3ms/step - accuracy: 0.9833 - loss: 0.0377 - val_accuracy: 0.9849 - val_loss: 0.0363\n",
      "Epoch 7/10\n",
      "\u001b[1m21210/21210\u001b[0m \u001b[32m━━━━━━━━━━━━━━━━━━━━\u001b[0m\u001b[37m\u001b[0m \u001b[1m63s\u001b[0m 3ms/step - accuracy: 0.9840 - loss: 0.0364 - val_accuracy: 0.9829 - val_loss: 0.0400\n",
      "Epoch 8/10\n",
      "\u001b[1m21210/21210\u001b[0m \u001b[32m━━━━━━━━━━━━━━━━━━━━\u001b[0m\u001b[37m\u001b[0m \u001b[1m63s\u001b[0m 3ms/step - accuracy: 0.9843 - loss: 0.0359 - val_accuracy: 0.9837 - val_loss: 0.0383\n",
      "Epoch 9/10\n",
      "\u001b[1m21210/21210\u001b[0m \u001b[32m━━━━━━━━━━━━━━━━━━━━\u001b[0m\u001b[37m\u001b[0m \u001b[1m55s\u001b[0m 3ms/step - accuracy: 0.9849 - loss: 0.0353 - val_accuracy: 0.9846 - val_loss: 0.0352\n",
      "Epoch 10/10\n",
      "\u001b[1m21210/21210\u001b[0m \u001b[32m━━━━━━━━━━━━━━━━━━━━\u001b[0m\u001b[37m\u001b[0m \u001b[1m62s\u001b[0m 3ms/step - accuracy: 0.9852 - loss: 0.0346 - val_accuracy: 0.9853 - val_loss: 0.0354\n"
     ]
    },
    {
     "data": {
      "text/plain": [
       "<keras.src.callbacks.history.History at 0x7f9e6c421f40>"
      ]
     },
     "execution_count": 24,
     "metadata": {},
     "output_type": "execute_result"
    }
   ],
   "source": [
    "# fit the keras model on the dataset\n",
    "model.fit(X, y, validation_split=0.25, epochs=10, batch_size=100)"
   ]
  },
  {
   "cell_type": "markdown",
   "metadata": {},
   "source": [
    "## Result Visualization"
   ]
  },
  {
   "cell_type": "code",
   "execution_count": 25,
   "metadata": {},
   "outputs": [
    {
     "data": {
      "image/png": "[encoded data removed]",
      "text/plain": [
       "<Figure size 640x480 with 1 Axes>"
      ]
     },
     "metadata": {},
     "output_type": "display_data"
    }
   ],
   "source": [
    "import matplotlib.pyplot as plt\n",
    "\n",
    "history = model.history.history\n",
    "# plot loss / accuracy vs epoch for train acc, validation acc, train loss, validation loss\n",
    "plt.plot(history['accuracy'])\n",
    "plt.plot(history['val_accuracy'])\n",
    "plt.plot(history['loss'])\n",
    "plt.plot(history['val_loss'])\n",
    "plt.title('model accuracy')\n",
    "plt.ylabel('Loss / Accuracy')\n",
    "plt.xlabel('epoch')\n",
    "plt.legend(['train', 'val', 'train_loss', 'val_loss'], loc='upper left')\n",
    "plt.show()\n"
   ]
  },
  {
   "cell_type": "code",
   "execution_count": 26,
   "metadata": {},
   "outputs": [
    {
     "data": {
      "image/png": "[encoded data removed]",
      "text/plain": [
       "<Figure size 640x480 with 1 Axes>"
      ]
     },
     "metadata": {},
     "output_type": "display_data"
    }
   ],
   "source": [
    "# plot training and validation accuracy over epochs\n",
    "plt.plot(history['accuracy'])\n",
    "plt.plot(history['val_accuracy'])\n",
    "plt.title('model accuracy')\n",
    "plt.ylabel('accuracy')\n",
    "plt.xlabel('epoch')\n",
    "plt.legend(['train', 'val'], loc='upper left')\n",
    "plt.show()"
   ]
  },
  {
   "cell_type": "code",
   "execution_count": 27,
   "metadata": {},
   "outputs": [
    {
     "name": "stdout",
     "output_type": "stream",
     "text": [
      "\u001b[1m22093/22093\u001b[0m \u001b[32m━━━━━━━━━━━━━━━━━━━━\u001b[0m\u001b[37m\u001b[0m \u001b[1m21s\u001b[0m 936us/step\n",
      "Accuracy BENIGN: 0.99\n",
      "Accuracy ATTACK: 0.98\n",
      "Macro AVG Accuracy: 0.98\n",
      "Weighted AVG Accuracy: 0.99\n",
      "              precision    recall  f1-score   support\n",
      "\n",
      "      BENIGN       0.99      0.99      0.99    567709\n",
      "      ATTACK       0.95      0.98      0.96    139260\n",
      "\n",
      "    accuracy                           0.99    706969\n",
      "   macro avg       0.97      0.98      0.98    706969\n",
      "weighted avg       0.99      0.99      0.99    706969\n",
      "\n"
     ]
    }
   ],
   "source": [
    "# print accuracy, precision, recall and f1-score\n",
    "from sklearn.metrics import classification_report\n",
    "from sklearn.metrics import accuracy_score\n",
    "\n",
    "y_pred = model.predict(X_test)\n",
    "y_pred = (y_pred > 0.5)\n",
    "\n",
    "\n",
    "# accuracy\n",
    "print(f\"Accuracy BENIGN: {accuracy_score(y_test[y_test == 0], y_pred[y_test == 0]):.2f}\")\n",
    "print(f\"Accuracy ATTACK: {accuracy_score(y_test[y_test == 1], y_pred[y_test == 1]):.2f}\")\n",
    "print(f\"Macro AVG Accuracy: {(accuracy_score(y_test[y_test == 0], y_pred[y_test == 0]) + accuracy_score(y_test[y_test == 1], y_pred[y_test == 1])) / 2:.2f}\")\n",
    "print(f\"Weighted AVG Accuracy: {accuracy_score(y_test, y_pred):.2f}\")\n",
    "# precision, recall, f1-score\n",
    "print(classification_report(y_test, y_pred, target_names=['BENIGN', 'ATTACK']))\n"
   ]
  },
  {
   "cell_type": "markdown",
   "metadata": {},
   "source": [
    "## Export Model"
   ]
  },
  {
   "cell_type": "code",
   "execution_count": 28,
   "metadata": {},
   "outputs": [],
   "source": [
    "# export model\n",
    "model.save('../models/ids_dnn.keras')"
   ]
  }
 ],
 "metadata": {
  "kernelspec": {
   "display_name": ".env",
   "language": "python",
   "name": "python3"
  },
  "language_info": {
   "codemirror_mode": {
    "name": "ipython",
    "version": 3
   },
   "file_extension": ".py",
   "mimetype": "text/x-python",
   "name": "python",
   "nbconvert_exporter": "python",
   "pygments_lexer": "ipython3",
   "version": "3.12.8"
  }
 },
 "nbformat": 4,
 "nbformat_minor": 2
}
