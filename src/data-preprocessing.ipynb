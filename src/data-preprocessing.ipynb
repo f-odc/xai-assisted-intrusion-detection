{
 "cells": [
  {
   "cell_type": "markdown",
   "metadata": {},
   "source": [
    "# Data Preprocessing\n",
    "\n",
    "### On the CICIDS2017 Dataset\n",
    "---------------------------------------------"
   ]
  },
  {
   "cell_type": "markdown",
   "metadata": {},
   "source": [
    "## Combine all Data Files"
   ]
  },
  {
   "cell_type": "code",
   "execution_count": 2,
   "metadata": {},
   "outputs": [
    {
     "name": "stdout",
     "output_type": "stream",
     "text": [
      "Friday-WorkingHours-Afternoon-DDos.pcap_ISCX.csv\n",
      "Friday-WorkingHours-Afternoon-PortScan.pcap_ISCX.csv\n",
      "Friday-WorkingHours-Morning.pcap_ISCX.csv\n",
      "Monday-WorkingHours.pcap_ISCX.csv\n",
      "Thursday-WorkingHours-Afternoon-Infilteration.pcap_ISCX.csv\n",
      "Thursday-WorkingHours-Morning-WebAttacks.pcap_ISCX.csv\n",
      "Tuesday-WorkingHours.pcap_ISCX.csv\n",
      "Wednesday-workingHours.pcap_ISCX.csv\n"
     ]
    },
    {
     "data": {
      "text/html": [
       "<div>\n",
       "<style scoped>\n",
       "    .dataframe tbody tr th:only-of-type {\n",
       "        vertical-align: middle;\n",
       "    }\n",
       "\n",
       "    .dataframe tbody tr th {\n",
       "        vertical-align: top;\n",
       "    }\n",
       "\n",
       "    .dataframe thead th {\n",
       "        text-align: right;\n",
       "    }\n",
       "</style>\n",
       "<table border=\"1\" class=\"dataframe\">\n",
       "  <thead>\n",
       "    <tr style=\"text-align: right;\">\n",
       "      <th></th>\n",
       "      <th>Destination Port</th>\n",
       "      <th>Flow Duration</th>\n",
       "      <th>Total Fwd Packets</th>\n",
       "      <th>Total Backward Packets</th>\n",
       "      <th>Total Length of Fwd Packets</th>\n",
       "      <th>Total Length of Bwd Packets</th>\n",
       "      <th>Fwd Packet Length Max</th>\n",
       "      <th>Fwd Packet Length Min</th>\n",
       "      <th>Fwd Packet Length Mean</th>\n",
       "      <th>Fwd Packet Length Std</th>\n",
       "      <th>...</th>\n",
       "      <th>min_seg_size_forward</th>\n",
       "      <th>Active Mean</th>\n",
       "      <th>Active Std</th>\n",
       "      <th>Active Max</th>\n",
       "      <th>Active Min</th>\n",
       "      <th>Idle Mean</th>\n",
       "      <th>Idle Std</th>\n",
       "      <th>Idle Max</th>\n",
       "      <th>Idle Min</th>\n",
       "      <th>Label</th>\n",
       "    </tr>\n",
       "  </thead>\n",
       "  <tbody>\n",
       "    <tr>\n",
       "      <th>0</th>\n",
       "      <td>54865</td>\n",
       "      <td>3</td>\n",
       "      <td>2</td>\n",
       "      <td>0</td>\n",
       "      <td>12</td>\n",
       "      <td>0</td>\n",
       "      <td>6</td>\n",
       "      <td>6</td>\n",
       "      <td>6.0</td>\n",
       "      <td>0.0</td>\n",
       "      <td>...</td>\n",
       "      <td>20</td>\n",
       "      <td>0.0</td>\n",
       "      <td>0.0</td>\n",
       "      <td>0</td>\n",
       "      <td>0</td>\n",
       "      <td>0.0</td>\n",
       "      <td>0.0</td>\n",
       "      <td>0</td>\n",
       "      <td>0</td>\n",
       "      <td>BENIGN</td>\n",
       "    </tr>\n",
       "    <tr>\n",
       "      <th>1</th>\n",
       "      <td>55054</td>\n",
       "      <td>109</td>\n",
       "      <td>1</td>\n",
       "      <td>1</td>\n",
       "      <td>6</td>\n",
       "      <td>6</td>\n",
       "      <td>6</td>\n",
       "      <td>6</td>\n",
       "      <td>6.0</td>\n",
       "      <td>0.0</td>\n",
       "      <td>...</td>\n",
       "      <td>20</td>\n",
       "      <td>0.0</td>\n",
       "      <td>0.0</td>\n",
       "      <td>0</td>\n",
       "      <td>0</td>\n",
       "      <td>0.0</td>\n",
       "      <td>0.0</td>\n",
       "      <td>0</td>\n",
       "      <td>0</td>\n",
       "      <td>BENIGN</td>\n",
       "    </tr>\n",
       "    <tr>\n",
       "      <th>2</th>\n",
       "      <td>55055</td>\n",
       "      <td>52</td>\n",
       "      <td>1</td>\n",
       "      <td>1</td>\n",
       "      <td>6</td>\n",
       "      <td>6</td>\n",
       "      <td>6</td>\n",
       "      <td>6</td>\n",
       "      <td>6.0</td>\n",
       "      <td>0.0</td>\n",
       "      <td>...</td>\n",
       "      <td>20</td>\n",
       "      <td>0.0</td>\n",
       "      <td>0.0</td>\n",
       "      <td>0</td>\n",
       "      <td>0</td>\n",
       "      <td>0.0</td>\n",
       "      <td>0.0</td>\n",
       "      <td>0</td>\n",
       "      <td>0</td>\n",
       "      <td>BENIGN</td>\n",
       "    </tr>\n",
       "    <tr>\n",
       "      <th>3</th>\n",
       "      <td>46236</td>\n",
       "      <td>34</td>\n",
       "      <td>1</td>\n",
       "      <td>1</td>\n",
       "      <td>6</td>\n",
       "      <td>6</td>\n",
       "      <td>6</td>\n",
       "      <td>6</td>\n",
       "      <td>6.0</td>\n",
       "      <td>0.0</td>\n",
       "      <td>...</td>\n",
       "      <td>20</td>\n",
       "      <td>0.0</td>\n",
       "      <td>0.0</td>\n",
       "      <td>0</td>\n",
       "      <td>0</td>\n",
       "      <td>0.0</td>\n",
       "      <td>0.0</td>\n",
       "      <td>0</td>\n",
       "      <td>0</td>\n",
       "      <td>BENIGN</td>\n",
       "    </tr>\n",
       "    <tr>\n",
       "      <th>4</th>\n",
       "      <td>54863</td>\n",
       "      <td>3</td>\n",
       "      <td>2</td>\n",
       "      <td>0</td>\n",
       "      <td>12</td>\n",
       "      <td>0</td>\n",
       "      <td>6</td>\n",
       "      <td>6</td>\n",
       "      <td>6.0</td>\n",
       "      <td>0.0</td>\n",
       "      <td>...</td>\n",
       "      <td>20</td>\n",
       "      <td>0.0</td>\n",
       "      <td>0.0</td>\n",
       "      <td>0</td>\n",
       "      <td>0</td>\n",
       "      <td>0.0</td>\n",
       "      <td>0.0</td>\n",
       "      <td>0</td>\n",
       "      <td>0</td>\n",
       "      <td>BENIGN</td>\n",
       "    </tr>\n",
       "  </tbody>\n",
       "</table>\n",
       "<p>5 rows × 79 columns</p>\n",
       "</div>"
      ],
      "text/plain": [
       "    Destination Port   Flow Duration   Total Fwd Packets  \\\n",
       "0              54865               3                   2   \n",
       "1              55054             109                   1   \n",
       "2              55055              52                   1   \n",
       "3              46236              34                   1   \n",
       "4              54863               3                   2   \n",
       "\n",
       "    Total Backward Packets  Total Length of Fwd Packets  \\\n",
       "0                        0                           12   \n",
       "1                        1                            6   \n",
       "2                        1                            6   \n",
       "3                        1                            6   \n",
       "4                        0                           12   \n",
       "\n",
       "    Total Length of Bwd Packets   Fwd Packet Length Max  \\\n",
       "0                             0                       6   \n",
       "1                             6                       6   \n",
       "2                             6                       6   \n",
       "3                             6                       6   \n",
       "4                             0                       6   \n",
       "\n",
       "    Fwd Packet Length Min   Fwd Packet Length Mean   Fwd Packet Length Std  \\\n",
       "0                       6                      6.0                     0.0   \n",
       "1                       6                      6.0                     0.0   \n",
       "2                       6                      6.0                     0.0   \n",
       "3                       6                      6.0                     0.0   \n",
       "4                       6                      6.0                     0.0   \n",
       "\n",
       "   ...   min_seg_size_forward  Active Mean   Active Std   Active Max  \\\n",
       "0  ...                     20          0.0          0.0            0   \n",
       "1  ...                     20          0.0          0.0            0   \n",
       "2  ...                     20          0.0          0.0            0   \n",
       "3  ...                     20          0.0          0.0            0   \n",
       "4  ...                     20          0.0          0.0            0   \n",
       "\n",
       "    Active Min  Idle Mean   Idle Std   Idle Max   Idle Min   Label  \n",
       "0            0        0.0        0.0          0          0  BENIGN  \n",
       "1            0        0.0        0.0          0          0  BENIGN  \n",
       "2            0        0.0        0.0          0          0  BENIGN  \n",
       "3            0        0.0        0.0          0          0  BENIGN  \n",
       "4            0        0.0        0.0          0          0  BENIGN  \n",
       "\n",
       "[5 rows x 79 columns]"
      ]
     },
     "execution_count": 2,
     "metadata": {},
     "output_type": "execute_result"
    }
   ],
   "source": [
    "import pandas as pd\n",
    "import os\n",
    "\n",
    "# combine all CICIDS2017 files\n",
    "path = '../CICIDS2017/raw/'\n",
    "combined_df = pd.DataFrame()\n",
    "for file in os.listdir(path):\n",
    "    if file.endswith('.csv'):\n",
    "        print(file)\n",
    "        df = pd.read_csv(path + file)\n",
    "        combined_df = pd.concat([combined_df, df], ignore_index=True)\n",
    "\n",
    "    \n",
    "\n",
    "combined_df.head()"
   ]
  },
  {
   "cell_type": "code",
   "execution_count": 2,
   "metadata": {},
   "outputs": [
    {
     "name": "stdout",
     "output_type": "stream",
     "text": [
      " Label\n",
      "BENIGN                        2273097\n",
      "DoS Hulk                       231073\n",
      "PortScan                       158930\n",
      "DDoS                           128027\n",
      "DoS GoldenEye                   10293\n",
      "FTP-Patator                      7938\n",
      "SSH-Patator                      5897\n",
      "DoS slowloris                    5796\n",
      "DoS Slowhttptest                 5499\n",
      "Bot                              1966\n",
      "Web Attack � Brute Force         1507\n",
      "Web Attack � XSS                  652\n",
      "Infiltration                       36\n",
      "Web Attack � Sql Injection         21\n",
      "Heartbleed                         11\n",
      "Name: count, dtype: int64\n",
      "Shape:  (2830743, 79)\n"
     ]
    }
   ],
   "source": [
    "print(combined_df[' Label'].value_counts())\n",
    "print('Shape: ', combined_df.shape)\n",
    "\n",
    "df = combined_df.copy()"
   ]
  },
  {
   "cell_type": "markdown",
   "metadata": {},
   "source": [
    "## Remove NaN and Infinity Values"
   ]
  },
  {
   "cell_type": "code",
   "execution_count": 3,
   "metadata": {},
   "outputs": [
    {
     "name": "stdout",
     "output_type": "stream",
     "text": [
      "Number of rows with NaN values:  1358\n",
      "Number of rows with Infinity values: 2867\n",
      "Removing NaN and Infinity values....\n"
     ]
    },
    {
     "name": "stderr",
     "output_type": "stream",
     "text": [
      "/tmp/ipykernel_7926/3829355026.py:15: UserWarning: Boolean Series key will be reindexed to match DataFrame index.\n",
      "  df = df[~inf_rows]\n"
     ]
    },
    {
     "name": "stdout",
     "output_type": "stream",
     "text": [
      "Remaining NaN Values: 0\n",
      "Remaining Infinity values: 0\n",
      "Shape after removing NaN and Infinity values:  (2827876, 79)\n"
     ]
    }
   ],
   "source": [
    "import numpy as np\n",
    "\n",
    "# print number of rows with NaN values\n",
    "print(\"Number of rows with NaN values: \", df.isnull().sum().sum())\n",
    "\n",
    "# print number of rows with Infinity values\n",
    "inf_rows = df.isin([np.inf, -np.inf]).any(axis=1)\n",
    "print(f\"Number of rows with Infinity values: {inf_rows.sum()}\")\n",
    "\n",
    "\n",
    "print(\"Removing NaN and Infinity values....\")\n",
    "# remove NaN values\n",
    "df.dropna(inplace=True)\n",
    "# remove Infinity values\n",
    "df = df[~inf_rows]\n",
    "\n",
    "\n",
    "# check if there are still NaN or Infinity values\n",
    "print(f\"Remaining NaN Values: {df.isnull().sum().sum()}\")\n",
    "print(f\"Remaining Infinity values: {df.isin([np.inf, -np.inf]).any(axis=1).sum()}\")\n",
    "print('Shape after removing NaN and Infinity values: ', df.shape)\n"
   ]
  },
  {
   "cell_type": "markdown",
   "metadata": {},
   "source": [
    "## Shuffle Data"
   ]
  },
  {
   "cell_type": "code",
   "execution_count": 4,
   "metadata": {},
   "outputs": [
    {
     "name": "stdout",
     "output_type": "stream",
     "text": [
      "Shuffled data:\n",
      "    Destination Port   Flow Duration   Total Fwd Packets  \\\n",
      "0                 80        63095538                   7   \n",
      "1              51235             159                   1   \n",
      "\n",
      "    Total Backward Packets  Total Length of Fwd Packets  \\\n",
      "0                        0                            0   \n",
      "1                        1                            0   \n",
      "\n",
      "    Total Length of Bwd Packets   Fwd Packet Length Max  \\\n",
      "0                             0                       0   \n",
      "1                             0                       0   \n",
      "\n",
      "    Fwd Packet Length Min   Fwd Packet Length Mean   Fwd Packet Length Std  \\\n",
      "0                       0                      0.0                     0.0   \n",
      "1                       0                      0.0                     0.0   \n",
      "\n",
      "   ...   min_seg_size_forward  Active Mean   Active Std   Active Max  \\\n",
      "0  ...                     40    7008270.0          0.0      7008270   \n",
      "1  ...                     32          0.0          0.0            0   \n",
      "\n",
      "    Active Min   Idle Mean    Idle Std   Idle Max   Idle Min             Label  \n",
      "0      7008270  18700000.0  12200000.0   32000000    8023641  DoS Slowhttptest  \n",
      "1            0         0.0         0.0          0          0            BENIGN  \n",
      "\n",
      "[2 rows x 79 columns]\n"
     ]
    }
   ],
   "source": [
    "# shuffle data\n",
    "df = df.sample(frac=1, random_state=187).reset_index(drop=True)\n",
    "print(\"Shuffled data:\")\n",
    "print(df.head(2))\n"
   ]
  },
  {
   "cell_type": "markdown",
   "metadata": {},
   "source": [
    "## Split Label & Features"
   ]
  },
  {
   "cell_type": "code",
   "execution_count": 5,
   "metadata": {},
   "outputs": [],
   "source": [
    "feature_df = df.drop(columns=' Label')\n",
    "label_df = df[' Label']"
   ]
  },
  {
   "cell_type": "markdown",
   "metadata": {},
   "source": [
    "## Symbolic Feature Encoding"
   ]
  },
  {
   "cell_type": "code",
   "execution_count": 6,
   "metadata": {},
   "outputs": [
    {
     "name": "stdout",
     "output_type": "stream",
     "text": [
      "Checking for symbolic values....\n",
      "Symbolic values: Index([' Label'], dtype='object')\n"
     ]
    }
   ],
   "source": [
    "# check for symbolic values\n",
    "print(\"Checking for symbolic values....\")\n",
    "symbolic_values = df.select_dtypes(include=['object']).columns\n",
    "print(f\"Symbolic values: {symbolic_values}\")"
   ]
  },
  {
   "cell_type": "code",
   "execution_count": 7,
   "metadata": {},
   "outputs": [
    {
     "name": "stdout",
     "output_type": "stream",
     "text": [
      "Binary label encoding....\n",
      " Label\n",
      "0    2271320\n",
      "1     556556\n",
      "Name: count, dtype: int64\n",
      "(2827876,)\n",
      "Multi-class label encoding....\n",
      " Label\n",
      "0         2271320\n",
      "4          230124\n",
      "10         158804\n",
      "2          128025\n",
      "3           10293\n",
      "7            7935\n",
      "11           5897\n",
      "6            5796\n",
      "5            5499\n",
      "1            1956\n",
      "12           1507\n",
      "14            652\n",
      "9              36\n",
      "13             21\n",
      "8              11\n",
      "Name: count, dtype: int64\n",
      "(2827876, 1)\n"
     ]
    }
   ],
   "source": [
    "from sklearn.preprocessing import LabelEncoder\n",
    "\n",
    "# binary label encoding \n",
    "print(\"Binary label encoding....\")\n",
    "binary_label_df = label_df.apply(lambda x: 0 if x == 'BENIGN' else 1)\n",
    "print(binary_label_df.value_counts())\n",
    "print(binary_label_df.shape)\n",
    "\n",
    "# multi-class label encoding\n",
    "print(\"Multi-class label encoding....\")\n",
    "label_encoder = LabelEncoder()\n",
    "multiclass_label_df = pd.DataFrame()\n",
    "multiclass_label_df[' Label'] = label_encoder.fit_transform(label_df)\n",
    "print(multiclass_label_df.value_counts())\n",
    "print(multiclass_label_df.shape)"
   ]
  },
  {
   "cell_type": "markdown",
   "metadata": {},
   "source": [
    "## Remove Feature Columns with only 0 values"
   ]
  },
  {
   "cell_type": "code",
   "execution_count": 8,
   "metadata": {},
   "outputs": [
    {
     "name": "stdout",
     "output_type": "stream",
     "text": [
      "Columns which contain only 0 values....\n",
      "Zero Columns: Index([' Bwd PSH Flags', ' Bwd URG Flags', 'Fwd Avg Bytes/Bulk',\n",
      "       ' Fwd Avg Packets/Bulk', ' Fwd Avg Bulk Rate', ' Bwd Avg Bytes/Bulk',\n",
      "       ' Bwd Avg Packets/Bulk', 'Bwd Avg Bulk Rate'],\n",
      "      dtype='object')\n",
      "Dropped Zero Columns....\n",
      "(2827876, 70)\n"
     ]
    }
   ],
   "source": [
    "# check for columns which contain only 0 values\n",
    "print(\"Columns which contain only 0 values....\")\n",
    "zero_columns = feature_df.columns[(feature_df.sum() == 0)]\n",
    "print(f\"Zero Columns: {zero_columns}\")\n",
    "# drop columns with only 0 values\n",
    "feature_df.drop(columns=zero_columns, inplace=True)\n",
    "print(\"Dropped Zero Columns....\")\n",
    "print(feature_df.shape)"
   ]
  },
  {
   "cell_type": "code",
   "execution_count": 10,
   "metadata": {},
   "outputs": [
    {
     "name": "stdout",
     "output_type": "stream",
     "text": [
      "Index([' Destination Port', ' Flow Duration', ' Total Fwd Packets',\n",
      "       ' Total Backward Packets', 'Total Length of Fwd Packets',\n",
      "       ' Total Length of Bwd Packets', ' Fwd Packet Length Max',\n",
      "       ' Fwd Packet Length Min', ' Fwd Packet Length Mean',\n",
      "       ' Fwd Packet Length Std', 'Bwd Packet Length Max',\n",
      "       ' Bwd Packet Length Min', ' Bwd Packet Length Mean',\n",
      "       ' Bwd Packet Length Std', 'Flow Bytes/s', ' Flow Packets/s',\n",
      "       ' Flow IAT Mean', ' Flow IAT Std', ' Flow IAT Max', ' Flow IAT Min',\n",
      "       'Fwd IAT Total', ' Fwd IAT Mean', ' Fwd IAT Std', ' Fwd IAT Max',\n",
      "       ' Fwd IAT Min', 'Bwd IAT Total', ' Bwd IAT Mean', ' Bwd IAT Std',\n",
      "       ' Bwd IAT Max', ' Bwd IAT Min', 'Fwd PSH Flags', ' Fwd URG Flags',\n",
      "       ' Fwd Header Length', ' Bwd Header Length', 'Fwd Packets/s',\n",
      "       ' Bwd Packets/s', ' Min Packet Length', ' Max Packet Length',\n",
      "       ' Packet Length Mean', ' Packet Length Std', ' Packet Length Variance',\n",
      "       'FIN Flag Count', ' SYN Flag Count', ' RST Flag Count',\n",
      "       ' PSH Flag Count', ' ACK Flag Count', ' URG Flag Count',\n",
      "       ' CWE Flag Count', ' ECE Flag Count', ' Down/Up Ratio',\n",
      "       ' Average Packet Size', ' Avg Fwd Segment Size',\n",
      "       ' Avg Bwd Segment Size', ' Fwd Header Length.1', 'Subflow Fwd Packets',\n",
      "       ' Subflow Fwd Bytes', ' Subflow Bwd Packets', ' Subflow Bwd Bytes',\n",
      "       'Init_Win_bytes_forward', ' Init_Win_bytes_backward',\n",
      "       ' act_data_pkt_fwd', ' min_seg_size_forward', 'Active Mean',\n",
      "       ' Active Std', ' Active Max', ' Active Min', 'Idle Mean', ' Idle Std',\n",
      "       ' Idle Max', ' Idle Min'],\n",
      "      dtype='object')\n"
     ]
    }
   ],
   "source": [
    "# print out all feature names\n",
    "print(feature_df.columns)"
   ]
  },
  {
   "cell_type": "markdown",
   "metadata": {},
   "source": [
    "## Normalization"
   ]
  },
  {
   "cell_type": "markdown",
   "metadata": {},
   "source": [
    "### Min-Max, Standard and No-Norm Normalization"
   ]
  },
  {
   "cell_type": "code",
   "execution_count": 9,
   "metadata": {},
   "outputs": [
    {
     "name": "stdout",
     "output_type": "stream",
     "text": [
      "Min-Max Normalization....\n",
      "(2827876, 70)\n",
      "    Destination Port   Flow Duration   Total Fwd Packets  \\\n",
      "0           0.001221        0.525796            0.000027   \n",
      "1           0.781796        0.000001            0.000000   \n",
      "\n",
      "    Total Backward Packets  Total Length of Fwd Packets  \\\n",
      "0                 0.000000                          0.0   \n",
      "1                 0.000003                          0.0   \n",
      "\n",
      "    Total Length of Bwd Packets   Fwd Packet Length Max  \\\n",
      "0                           0.0                     0.0   \n",
      "1                           0.0                     0.0   \n",
      "\n",
      "    Fwd Packet Length Min   Fwd Packet Length Mean   Fwd Packet Length Std  \\\n",
      "0                     0.0                      0.0                     0.0   \n",
      "1                     0.0                      0.0                     0.0   \n",
      "\n",
      "   ...   act_data_pkt_fwd   min_seg_size_forward  Active Mean   Active Std  \\\n",
      "0  ...                0.0                    1.0     0.063712          0.0   \n",
      "1  ...                0.0                    1.0     0.000000          0.0   \n",
      "\n",
      "    Active Max   Active Min  Idle Mean   Idle Std   Idle Max   Idle Min  \n",
      "0     0.063712     0.063712   0.155833   0.158648   0.266667   0.066864  \n",
      "1     0.000000     0.000000   0.000000   0.000000   0.000000   0.000000  \n",
      "\n",
      "[2 rows x 70 columns]\n",
      "Standardization....\n",
      "(2827876, 70)\n",
      "    Destination Port   Flow Duration   Total Fwd Packets  \\\n",
      "0          -0.436762        1.434466           -0.003158   \n",
      "1           2.362522       -0.439608           -0.011158   \n",
      "\n",
      "    Total Backward Packets  Total Length of Fwd Packets  \\\n",
      "0                -0.010426                    -0.054993   \n",
      "1                -0.009424                    -0.054993   \n",
      "\n",
      "    Total Length of Bwd Packets   Fwd Packet Length Max  \\\n",
      "0                     -0.007145               -0.289616   \n",
      "1                     -0.007145               -0.289616   \n",
      "\n",
      "    Fwd Packet Length Min   Fwd Packet Length Mean   Fwd Packet Length Std  \\\n",
      "0               -0.310317                -0.312914               -0.245193   \n",
      "1               -0.310317                -0.312914               -0.245193   \n",
      "\n",
      "   ...   act_data_pkt_fwd   min_seg_size_forward  Active Mean   Active Std  \\\n",
      "0  ...          -0.008518               0.002565    10.674044    -0.104619   \n",
      "1  ...          -0.008518               0.002558    -0.125799    -0.104619   \n",
      "\n",
      "    Active Max   Active Min  Idle Mean   Idle Std   Idle Max   Idle Min  \n",
      "0     6.679052    12.036952   0.438887   2.539612   0.955606   0.004089  \n",
      "1    -0.149404    -0.101068  -0.352126  -0.109516  -0.357072  -0.339184  \n",
      "\n",
      "[2 rows x 70 columns]\n",
      "No Normalization....\n",
      "(2827876, 70)\n",
      "    Destination Port   Flow Duration   Total Fwd Packets  \\\n",
      "0                 80        63095538                   7   \n",
      "1              51235             159                   1   \n",
      "\n",
      "    Total Backward Packets  Total Length of Fwd Packets  \\\n",
      "0                        0                            0   \n",
      "1                        1                            0   \n",
      "\n",
      "    Total Length of Bwd Packets   Fwd Packet Length Max  \\\n",
      "0                             0                       0   \n",
      "1                             0                       0   \n",
      "\n",
      "    Fwd Packet Length Min   Fwd Packet Length Mean   Fwd Packet Length Std  \\\n",
      "0                       0                      0.0                     0.0   \n",
      "1                       0                      0.0                     0.0   \n",
      "\n",
      "   ...   act_data_pkt_fwd   min_seg_size_forward  Active Mean   Active Std  \\\n",
      "0  ...                  0                     40    7008270.0          0.0   \n",
      "1  ...                  0                     32          0.0          0.0   \n",
      "\n",
      "    Active Max   Active Min   Idle Mean    Idle Std   Idle Max   Idle Min  \n",
      "0      7008270      7008270  18700000.0  12200000.0   32000000    8023641  \n",
      "1            0            0         0.0         0.0          0          0  \n",
      "\n",
      "[2 rows x 70 columns]\n"
     ]
    }
   ],
   "source": [
    "from sklearn.preprocessing import StandardScaler, MinMaxScaler\n",
    "\n",
    "# min-max normalization\n",
    "print(\"Min-Max Normalization....\")\n",
    "min_max_scaler = MinMaxScaler()\n",
    "min_max_norm_feature_df = pd.DataFrame(min_max_scaler.fit_transform(feature_df), columns=feature_df.columns, index=df.index)\n",
    "print(min_max_norm_feature_df.shape)\n",
    "print(min_max_norm_feature_df.head(2))\n",
    "\n",
    "# standardization without label column\n",
    "print(\"Standardization....\")\n",
    "scaler = StandardScaler()\n",
    "standard_feature_df = pd.DataFrame(scaler.fit_transform(feature_df), columns=feature_df.columns, index=df.index)\n",
    "print(standard_feature_df.shape)\n",
    "print(standard_feature_df.head(2))\n",
    "\n",
    "# no normalization\n",
    "print(\"No Normalization....\")\n",
    "no_norm_feature_df = feature_df.copy()\n",
    "print(no_norm_feature_df.shape)\n",
    "print(no_norm_feature_df.head(2))"
   ]
  },
  {
   "cell_type": "markdown",
   "metadata": {},
   "source": [
    "## Store Data"
   ]
  },
  {
   "cell_type": "code",
   "execution_count": 9,
   "metadata": {},
   "outputs": [
    {
     "name": "stdout",
     "output_type": "stream",
     "text": [
      "Binary Min-Max Combined : (2827876, 71)\n",
      "   Destination Port  Label\n",
      "0          0.837186      0\n",
      "1          0.840070      0\n",
      "Binary Standard Combined : (2827876, 71)\n",
      "   Destination Port  Label\n",
      "0          2.561161      0\n",
      "1          2.571503      0\n",
      "Binary No Norm Combined : (2827876, 71)\n",
      "   Destination Port  Label\n",
      "0             54865      0\n",
      "1             55054      0\n",
      "Multiclass Min-Max Combined : (2830743, 71)\n",
      "   Destination Port  Label\n",
      "0          0.837186    0.0\n",
      "1          0.840070    0.0\n",
      "Multiclass Standard Combined : (2830743, 71)\n",
      "   Destination Port  Label\n",
      "0          2.561161    0.0\n",
      "1          2.571503    0.0\n",
      "Multiclass No Norm Combined : (2830743, 71)\n",
      "   Destination Port  Label\n",
      "0           54865.0    0.0\n",
      "1           55054.0    0.0\n",
      "Store Dataframes to csv....\n",
      "... binary_min_max_combined.csv\n",
      "... binary_standard_combined.csv\n",
      "... binary_no_norm_combined.csv\n",
      "... multiclass_min_max_combined.csv\n",
      "... multiclass_standard_combined.csv\n",
      "... multiclass_no_norm_combined.csv\n"
     ]
    }
   ],
   "source": [
    "# combine features and labels\n",
    "binary_min_max_combined_df = pd.concat([min_max_norm_feature_df, binary_label_df], axis=1)\n",
    "print(f\"Binary Min-Max Combined : {binary_min_max_combined_df.shape}\")\n",
    "print(binary_min_max_combined_df.iloc[:, [0, -1]].head(2))\n",
    "binary_standard_combined_df = pd.concat([standard_feature_df, binary_label_df], axis=1)\n",
    "print(f\"Binary Standard Combined : {binary_standard_combined_df.shape}\")\n",
    "print(binary_standard_combined_df.iloc[:, [0, -1]].head(2))\n",
    "binary_no_norm_combined_df = pd.concat([no_norm_feature_df, binary_label_df], axis=1)\n",
    "print(f\"Binary No Norm Combined : {binary_no_norm_combined_df.shape}\")\n",
    "print(binary_no_norm_combined_df.iloc[:, [0, -1]].head(2))\n",
    "multiclass_min_max_combined_df = pd.concat([min_max_norm_feature_df, multiclass_label_df], axis=1)\n",
    "print(f\"Multiclass Min-Max Combined : {multiclass_min_max_combined_df.shape}\")\n",
    "print(multiclass_min_max_combined_df.iloc[:, [0, -1]].head(2))\n",
    "multiclass_standard_combined_df = pd.concat([standard_feature_df, multiclass_label_df], axis=1)\n",
    "print(f\"Multiclass Standard Combined : {multiclass_standard_combined_df.shape}\")\n",
    "print(multiclass_standard_combined_df.iloc[:, [0, -1]].head(2))\n",
    "multiclass_no_norm_combined_df = pd.concat([no_norm_feature_df, multiclass_label_df], axis=1)\n",
    "print(f\"Multiclass No Norm Combined : {multiclass_no_norm_combined_df.shape}\")\n",
    "print(multiclass_no_norm_combined_df.iloc[:, [0, -1]].head(2))\n",
    "\n",
    "\n",
    "# store dataframes to csv\n",
    "print(\"Store Dataframes to csv....\")\n",
    "binary_min_max_combined_df.to_csv('../CICIDS2017/preprocessed/binary_min_max_combined.csv', index=False)\n",
    "print(\"... binary_min_max_combined.csv\")\n",
    "binary_standard_combined_df.to_csv('../CICIDS2017/preprocessed/binary_standard_combined.csv', index=False)\n",
    "print(\"... binary_standard_combined.csv\")\n",
    "binary_no_norm_combined_df.to_csv('../CICIDS2017/preprocessed/binary_no_norm_combined.csv', index=False)\n",
    "print(\"... binary_no_norm_combined.csv\")\n",
    "multiclass_min_max_combined_df.to_csv('../CICIDS2017/preprocessed/multiclass_min_max_combined.csv', index=False)\n",
    "print(\"... multiclass_min_max_combined.csv\")\n",
    "multiclass_standard_combined_df.to_csv('../CICIDS2017/preprocessed/multiclass_standard_combined.csv', index=False)\n",
    "print(\"... multiclass_standard_combined.csv\")\n",
    "multiclass_no_norm_combined_df.to_csv('../CICIDS2017/preprocessed/multiclass_no_norm_combined.csv', index=False)\n",
    "print(\"... multiclass_no_norm_combined.csv\")"
   ]
  },
  {
   "cell_type": "code",
   "execution_count": 60,
   "metadata": {},
   "outputs": [
    {
     "name": "stdout",
     "output_type": "stream",
     "text": [
      "Storing Min-Max values to csv....\n",
      "... stored min_max_values.csv\n"
     ]
    }
   ],
   "source": [
    "print(\"Storing additional Data....\")\n",
    "\n",
    "# store min-max values\n",
    "min = min_max_scaler.data_min_\n",
    "max = min_max_scaler.data_max_\n",
    "min_max_df = pd.DataFrame({'min': min, 'max': max}, index=feature_df.columns)\n",
    "min_max_df.to_csv('../CICIDS2017/preprocessed/min_max_values.csv')\n",
    "print(\"... stored min_max_values.csv\")\n",
    "\n",
    "# store feature types\n",
    "feature_types = feature_df.dtypes.to_numpy()\n",
    "np.save('../CICIDS2017/preprocessed/feature_types.npy', feature_types)\n",
    "print(\"... stored feature_types.npy\")"
   ]
  }
 ],
 "metadata": {
  "kernelspec": {
   "display_name": ".env",
   "language": "python",
   "name": "python3"
  },
  "language_info": {
   "codemirror_mode": {
    "name": "ipython",
    "version": 3
   },
   "file_extension": ".py",
   "mimetype": "text/x-python",
   "name": "python",
   "nbconvert_exporter": "python",
   "pygments_lexer": "ipython3",
   "version": "3.12.8"
  }
 },
 "nbformat": 4,
 "nbformat_minor": 2
}
