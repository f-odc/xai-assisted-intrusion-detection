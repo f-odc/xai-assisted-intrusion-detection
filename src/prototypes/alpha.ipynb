{
 "cells": [
  {
   "cell_type": "markdown",
   "metadata": {},
   "source": [
    "# Prototype: Alpha\n",
    "\n",
    "| Properties      | Data    |\n",
    "|---------------|-----------|\n",
    "| *Labels* | `['BENIGN', 'DDoS']` |\n",
    "| *Normalization* | `Min-Max` |\n",
    "| *Sample Size* | `2000`|\n",
    "| *Adversarial Attack* | `FGSM` |\n",
    "| *Explanations* | `SHAP` |\n"
   ]
  },
  {
   "cell_type": "markdown",
   "metadata": {},
   "source": [
    "---"
   ]
  },
  {
   "cell_type": "code",
   "execution_count": 98,
   "metadata": {},
   "outputs": [],
   "source": [
    "# To import modules from the functions directory\n",
    "import sys\n",
    "import os\n",
    "sys.path.append(os.path.abspath(os.path.join('..')))"
   ]
  },
  {
   "cell_type": "markdown",
   "metadata": {},
   "source": [
    "## Data Preprocessing"
   ]
  },
  {
   "cell_type": "code",
   "execution_count": 99,
   "metadata": {},
   "outputs": [
    {
     "name": "stdout",
     "output_type": "stream",
     "text": [
      "--- Combining all CICIDS2017 files ---\n",
      "Friday-WorkingHours-Afternoon-DDos.pcap_ISCX.csv\n",
      "Friday-WorkingHours-Afternoon-PortScan.pcap_ISCX.csv\n",
      "Friday-WorkingHours-Morning.pcap_ISCX.csv\n",
      "Monday-WorkingHours.pcap_ISCX.csv\n",
      "Thursday-WorkingHours-Afternoon-Infilteration.pcap_ISCX.csv\n",
      "Thursday-WorkingHours-Morning-WebAttacks.pcap_ISCX.csv\n",
      "Tuesday-WorkingHours.pcap_ISCX.csv\n",
      "Wednesday-workingHours.pcap_ISCX.csv\n",
      "--- Removing NaN and Infinity values ---\n",
      "Number of rows with NaN values:  1358\n",
      "Removing NaN values....\n",
      "Number of rows with Infinity values: 1509\n",
      "Removing Infinity values....\n",
      "--- Extracting labels ---\n",
      " Label\n",
      "BENIGN    2271320\n",
      "DDoS       128025\n",
      "Name: count, dtype: int64\n",
      "--- Sampling balanced data ---\n",
      "Sample to shape: (2000, 79)\n",
      "--- Splitting labels and features ---\n",
      "--- Encoding labels as binary one-hot values ---\n",
      "--- Removing irrelevant features ---\n",
      "Removed Zero Columns: [' Bwd PSH Flags', ' Fwd URG Flags', ' Bwd URG Flags', ' RST Flag Count', ' CWE Flag Count', ' ECE Flag Count', 'Fwd Avg Bytes/Bulk', ' Fwd Avg Packets/Bulk', ' Fwd Avg Bulk Rate', ' Bwd Avg Bytes/Bulk', ' Bwd Avg Packets/Bulk', 'Bwd Avg Bulk Rate']\n",
      "--- Normalizing features using Min-Max Normalization ---\n"
     ]
    },
    {
     "data": {
      "text/plain": [
       "BENIGN  ATTACK\n",
       "False   True      1000\n",
       "True    False     1000\n",
       "Name: count, dtype: int64"
      ]
     },
     "execution_count": 99,
     "metadata": {},
     "output_type": "execute_result"
    }
   ],
   "source": [
    "import functions.data_preprocessing as dp\n",
    "import importlib\n",
    "importlib.reload(dp)\n",
    "\n",
    "encoding_type = 0 # binary encoding\n",
    "norm_type = 0 # min-max normalization\n",
    "label_names = ['BENIGN', 'DDoS'] # labels to include\n",
    "sample_size = 1000 # sample size for each label\n",
    "\n",
    "label_df, feature_df = dp.preprocess(encoding_type, norm_type, label_names=label_names, sample_size=sample_size)\n",
    "label_df.value_counts()"
   ]
  },
  {
   "cell_type": "markdown",
   "metadata": {},
   "source": [
    "## Split Data"
   ]
  },
  {
   "cell_type": "code",
   "execution_count": 100,
   "metadata": {},
   "outputs": [
    {
     "name": "stdout",
     "output_type": "stream",
     "text": [
      "(1600, 66) (400, 66) (1600, 2) (400, 2)\n"
     ]
    }
   ],
   "source": [
    "from sklearn.model_selection import train_test_split\n",
    "\n",
    "X_train, X_test, y_train, y_test = train_test_split(feature_df, label_df, test_size=0.2, random_state=42)\n",
    "print(X_train.shape, X_test.shape, y_train.shape, y_test.shape)"
   ]
  },
  {
   "cell_type": "markdown",
   "metadata": {},
   "source": [
    "## Create IDS"
   ]
  },
  {
   "cell_type": "code",
   "execution_count": 101,
   "metadata": {},
   "outputs": [
    {
     "name": "stdout",
     "output_type": "stream",
     "text": [
      "Epoch 1/10\n",
      "\u001b[1m13/13\u001b[0m \u001b[32m━━━━━━━━━━━━━━━━━━━━\u001b[0m\u001b[37m\u001b[0m \u001b[1m1s\u001b[0m 17ms/step - accuracy: 0.5687 - loss: 0.6781 - val_accuracy: 0.7500 - val_loss: 0.6331\n",
      "Epoch 2/10\n",
      "\u001b[1m13/13\u001b[0m \u001b[32m━━━━━━━━━━━━━━━━━━━━\u001b[0m\u001b[37m\u001b[0m \u001b[1m0s\u001b[0m 6ms/step - accuracy: 0.7600 - loss: 0.6045 - val_accuracy: 0.8125 - val_loss: 0.5566\n",
      "Epoch 3/10\n",
      "\u001b[1m13/13\u001b[0m \u001b[32m━━━━━━━━━━━━━━━━━━━━\u001b[0m\u001b[37m\u001b[0m \u001b[1m0s\u001b[0m 5ms/step - accuracy: 0.8141 - loss: 0.5333 - val_accuracy: 0.8687 - val_loss: 0.4590\n",
      "Epoch 4/10\n",
      "\u001b[1m13/13\u001b[0m \u001b[32m━━━━━━━━━━━━━━━━━━━━\u001b[0m\u001b[37m\u001b[0m \u001b[1m0s\u001b[0m 6ms/step - accuracy: 0.8844 - loss: 0.4223 - val_accuracy: 0.9750 - val_loss: 0.3464\n",
      "Epoch 5/10\n",
      "\u001b[1m13/13\u001b[0m \u001b[32m━━━━━━━━━━━━━━━━━━━━\u001b[0m\u001b[37m\u001b[0m \u001b[1m0s\u001b[0m 5ms/step - accuracy: 0.9824 - loss: 0.2995 - val_accuracy: 0.9750 - val_loss: 0.2352\n",
      "Epoch 6/10\n",
      "\u001b[1m13/13\u001b[0m \u001b[32m━━━━━━━━━━━━━━━━━━━━\u001b[0m\u001b[37m\u001b[0m \u001b[1m0s\u001b[0m 6ms/step - accuracy: 0.9836 - loss: 0.1924 - val_accuracy: 0.9750 - val_loss: 0.1543\n",
      "Epoch 7/10\n",
      "\u001b[1m13/13\u001b[0m \u001b[32m━━━━━━━━━━━━━━━━━━━━\u001b[0m\u001b[37m\u001b[0m \u001b[1m0s\u001b[0m 6ms/step - accuracy: 0.9882 - loss: 0.1147 - val_accuracy: 0.9781 - val_loss: 0.1053\n",
      "Epoch 8/10\n",
      "\u001b[1m13/13\u001b[0m \u001b[32m━━━━━━━━━━━━━━━━━━━━\u001b[0m\u001b[37m\u001b[0m \u001b[1m0s\u001b[0m 6ms/step - accuracy: 0.9900 - loss: 0.0700 - val_accuracy: 0.9781 - val_loss: 0.0801\n",
      "Epoch 9/10\n",
      "\u001b[1m13/13\u001b[0m \u001b[32m━━━━━━━━━━━━━━━━━━━━\u001b[0m\u001b[37m\u001b[0m \u001b[1m0s\u001b[0m 5ms/step - accuracy: 0.9930 - loss: 0.0474 - val_accuracy: 0.9781 - val_loss: 0.0667\n",
      "Epoch 10/10\n",
      "\u001b[1m13/13\u001b[0m \u001b[32m━━━━━━━━━━━━━━━━━━━━\u001b[0m\u001b[37m\u001b[0m \u001b[1m0s\u001b[0m 5ms/step - accuracy: 0.9906 - loss: 0.0410 - val_accuracy: 0.9781 - val_loss: 0.0614\n",
      "\u001b[1m13/13\u001b[0m \u001b[32m━━━━━━━━━━━━━━━━━━━━\u001b[0m\u001b[37m\u001b[0m \u001b[1m0s\u001b[0m 4ms/step \n",
      "Global Accuracy: 99.00%\n",
      "              precision    recall  f1-score   support\n",
      "\n",
      "      BENIGN       1.00      0.98      0.99       199\n",
      "      ATTACK       0.98      1.00      0.99       201\n",
      "\n",
      "    accuracy                           0.99       400\n",
      "   macro avg       0.99      0.99      0.99       400\n",
      "weighted avg       0.99      0.99      0.99       400\n",
      "\n"
     ]
    }
   ],
   "source": [
    "import functions.intrusion_detection_system as ids\n",
    "import importlib\n",
    "importlib.reload(ids)\n",
    "\n",
    "ids_model = ids.build_intrusion_detection_system(X_train, y_train, X_test, y_test)"
   ]
  },
  {
   "cell_type": "markdown",
   "metadata": {},
   "source": [
    "## Generate Attacks"
   ]
  },
  {
   "cell_type": "code",
   "execution_count": 102,
   "metadata": {},
   "outputs": [
    {
     "name": "stdout",
     "output_type": "stream",
     "text": [
      "Adversarial FGSM examples generated. Shape: (1600, 66)\n",
      "Accuracy: 0.33375\n",
      "              precision    recall  f1-score   support\n",
      "\n",
      "      BENIGN       0.40      0.66      0.50       801\n",
      "      ATTACK       0.01      0.00      0.00       799\n",
      "\n",
      "   micro avg       0.33      0.33      0.33      1600\n",
      "   macro avg       0.20      0.33      0.25      1600\n",
      "weighted avg       0.20      0.33      0.25      1600\n",
      " samples avg       0.33      0.33      0.33      1600\n",
      "\n",
      "Confusion Matrix: Positive == BENIGN\n",
      "TN: 2, FP: 797, FN: 269, TP: 532\n"
     ]
    },
    {
     "data": {
      "text/plain": [
       "0.33375"
      ]
     },
     "execution_count": 102,
     "metadata": {},
     "output_type": "execute_result"
    }
   ],
   "source": [
    "import functions.attack_generator as ag\n",
    "import importlib\n",
    "importlib.reload(ag)\n",
    "\n",
    "art_model = ag.convert_to_art_model(ids_model, X_train)\n",
    "\n",
    "# import numpy as np\n",
    "# target_label = np.zeros_like(y_train)\n",
    "# target_label[:, 0] = 1 # desired predicted label = [1, 0] = BENIGN\n",
    "# print(target_label[:3])\n",
    "\n",
    "X_adv_fgsm = ag.generate_fgsm_attacks(art_model, X_train)\n",
    "ag.evaluate_art_model(art_model, X_adv_fgsm, y_train)"
   ]
  },
  {
   "cell_type": "markdown",
   "metadata": {},
   "source": [
    "## Explainer"
   ]
  },
  {
   "cell_type": "code",
   "execution_count": 103,
   "metadata": {},
   "outputs": [
    {
     "name": "stderr",
     "output_type": "stream",
     "text": [
      "PermutationExplainer explainer: 1601it [01:23, 16.94it/s]                          \n"
     ]
    },
    {
     "name": "stdout",
     "output_type": "stream",
     "text": [
      "(1600, 66)\n"
     ]
    },
    {
     "name": "stderr",
     "output_type": "stream",
     "text": [
      "PermutationExplainer explainer: 1601it [01:36, 14.78it/s]                          \n"
     ]
    },
    {
     "name": "stdout",
     "output_type": "stream",
     "text": [
      "(1600, 66)\n"
     ]
    }
   ],
   "source": [
    "import functions.explainer as exp\n",
    "import importlib\n",
    "importlib.reload(exp)\n",
    "\n",
    "explainer = exp.generate_shap_explainer(ids_model, X_train)\n",
    "\n",
    "shap_values = exp.generate_shap_values(explainer, X_train)\n",
    "print(shap_values.shape)\n",
    "shap_values_df = exp.convert_shap_values_to_pd(shap_values, X_train.columns)\n",
    "\n",
    "shap_values_adv = exp.generate_shap_values(explainer, X_adv_fgsm)\n",
    "print(shap_values_adv.shape)\n",
    "shap_values_adv_df = exp.convert_shap_values_to_pd(shap_values_adv, X_train.columns)"
   ]
  },
  {
   "cell_type": "markdown",
   "metadata": {},
   "source": [
    "## Detector"
   ]
  },
  {
   "cell_type": "code",
   "execution_count": 119,
   "metadata": {},
   "outputs": [
    {
     "name": "stdout",
     "output_type": "stream",
     "text": [
      "(3200, 66) (3200, 2)\n",
      "(2880, 66) (320, 66) (2880, 2) (320, 2)\n",
      "Epoch 1/10\n",
      "\u001b[1m24/24\u001b[0m \u001b[32m━━━━━━━━━━━━━━━━━━━━\u001b[0m\u001b[37m\u001b[0m \u001b[1m3s\u001b[0m 17ms/step - accuracy: 0.5321 - loss: 0.6907 - val_accuracy: 0.5243 - val_loss: 0.6821\n",
      "Epoch 2/10\n",
      "\u001b[1m24/24\u001b[0m \u001b[32m━━━━━━━━━━━━━━━━━━━━\u001b[0m\u001b[37m\u001b[0m \u001b[1m0s\u001b[0m 7ms/step - accuracy: 0.5359 - loss: 0.6794 - val_accuracy: 0.5538 - val_loss: 0.6628\n",
      "Epoch 3/10\n",
      "\u001b[1m24/24\u001b[0m \u001b[32m━━━━━━━━━━━━━━━━━━━━\u001b[0m\u001b[37m\u001b[0m \u001b[1m0s\u001b[0m 7ms/step - accuracy: 0.6102 - loss: 0.6540 - val_accuracy: 0.7465 - val_loss: 0.6225\n",
      "Epoch 4/10\n",
      "\u001b[1m24/24\u001b[0m \u001b[32m━━━━━━━━━━━━━━━━━━━━\u001b[0m\u001b[37m\u001b[0m \u001b[1m0s\u001b[0m 7ms/step - accuracy: 0.7335 - loss: 0.6189 - val_accuracy: 0.7865 - val_loss: 0.5727\n",
      "Epoch 5/10\n",
      "\u001b[1m24/24\u001b[0m \u001b[32m━━━━━━━━━━━━━━━━━━━━\u001b[0m\u001b[37m\u001b[0m \u001b[1m0s\u001b[0m 7ms/step - accuracy: 0.8154 - loss: 0.5698 - val_accuracy: 0.8663 - val_loss: 0.5207\n",
      "Epoch 6/10\n",
      "\u001b[1m24/24\u001b[0m \u001b[32m━━━━━━━━━━━━━━━━━━━━\u001b[0m\u001b[37m\u001b[0m \u001b[1m0s\u001b[0m 7ms/step - accuracy: 0.8592 - loss: 0.5329 - val_accuracy: 0.8663 - val_loss: 0.4610\n",
      "Epoch 7/10\n",
      "\u001b[1m24/24\u001b[0m \u001b[32m━━━━━━━━━━━━━━━━━━━━\u001b[0m\u001b[37m\u001b[0m \u001b[1m0s\u001b[0m 7ms/step - accuracy: 0.8894 - loss: 0.4596 - val_accuracy: 0.9444 - val_loss: 0.3948\n",
      "Epoch 8/10\n",
      "\u001b[1m24/24\u001b[0m \u001b[32m━━━━━━━━━━━━━━━━━━━━\u001b[0m\u001b[37m\u001b[0m \u001b[1m0s\u001b[0m 7ms/step - accuracy: 0.9389 - loss: 0.4051 - val_accuracy: 0.9670 - val_loss: 0.3348\n",
      "Epoch 9/10\n",
      "\u001b[1m24/24\u001b[0m \u001b[32m━━━━━━━━━━━━━━━━━━━━\u001b[0m\u001b[37m\u001b[0m \u001b[1m0s\u001b[0m 7ms/step - accuracy: 0.9519 - loss: 0.3515 - val_accuracy: 0.9635 - val_loss: 0.2815\n",
      "Epoch 10/10\n",
      "\u001b[1m24/24\u001b[0m \u001b[32m━━━━━━━━━━━━━━━━━━━━\u001b[0m\u001b[37m\u001b[0m \u001b[1m0s\u001b[0m 7ms/step - accuracy: 0.9580 - loss: 0.2916 - val_accuracy: 0.9740 - val_loss: 0.2329\n",
      "\u001b[1m10/10\u001b[0m \u001b[32m━━━━━━━━━━━━━━━━━━━━\u001b[0m\u001b[37m\u001b[0m \u001b[1m0s\u001b[0m 4ms/step \n",
      "Global Accuracy: 96.56%\n",
      "              precision    recall  f1-score   support\n",
      "\n",
      "      BENIGN       0.97      0.96      0.96       149\n",
      " ADVERSARIAL       0.97      0.97      0.97       171\n",
      "\n",
      "    accuracy                           0.97       320\n",
      "   macro avg       0.97      0.97      0.97       320\n",
      "weighted avg       0.97      0.97      0.97       320\n",
      "\n",
      "True Negative Rate: 95.97%\n",
      "False Positive Rate: 4.03%\n",
      "True Positive Rate: 97.08%\n",
      "False Negative Rate: 2.92%\n"
     ]
    }
   ],
   "source": [
    "import functions.detector as det\n",
    "import importlib\n",
    "importlib.reload(det)\n",
    "import numpy as np\n",
    "\n",
    "# create dataframe\n",
    "X, y = det.build_train_datasets(shap_values_df, shap_values_adv_df)\n",
    "print(X.shape, y.shape)\n",
    "\n",
    "# create normalizer\n",
    "normalizer = det.create_min_max_normalizer(X)\n",
    "# print(np.max(normalizer.data_max_))\n",
    "# print(np.min(normalizer.data_min_))\n",
    "\n",
    "# TODO: how to normalize? min/max should be consistent for all datasets\n",
    "# normalize features\n",
    "# X = normalizer.transform(X)\n",
    "# print(np.max(X))\n",
    "# print(np.min(X))\n",
    "\n",
    "# split data\n",
    "X_train_det, X_test_det, y_train_det, y_test_det = train_test_split(X, y, test_size=0.1, random_state=1503)\n",
    "print(X_train_det.shape, X_test_det.shape, y_train_det.shape, y_test_det.shape)\n",
    "\n",
    "# build detector\n",
    "detector = det.build_detector(X_train_det, y_train_det, X_test_det, y_test_det)\n",
    "\n",
    "\n",
    "# normalizer_adv = det.create_min_max_normalizer(shap_values_adv_df)\n",
    "# print(np.max(normalizer_adv.data_max_))\n",
    "# print(np.min(normalizer_adv.data_min_))\n",
    "\n",
    "# shap_values_normalized = det.normalize_shap_values(shap_values_df)\n",
    "# print(shap_values_normalized.shape)\n",
    "# print(np.max(shap_values_normalized))\n",
    "# print(np.min(shap_values_normalized))"
   ]
  },
  {
   "cell_type": "markdown",
   "metadata": {},
   "source": [
    "---\n",
    "## Test Process"
   ]
  },
  {
   "cell_type": "code",
   "execution_count": 120,
   "metadata": {},
   "outputs": [
    {
     "name": "stdout",
     "output_type": "stream",
     "text": [
      "(400, 66)\n"
     ]
    }
   ],
   "source": [
    "print(X_test.shape)"
   ]
  },
  {
   "cell_type": "markdown",
   "metadata": {},
   "source": [
    "### Generate Attacks"
   ]
  },
  {
   "cell_type": "code",
   "execution_count": 121,
   "metadata": {},
   "outputs": [
    {
     "name": "stdout",
     "output_type": "stream",
     "text": [
      "Adversarial FGSM examples generated. Shape: (400, 66)\n"
     ]
    }
   ],
   "source": [
    "X_test_adv = ag.generate_fgsm_attacks(art_model, X_test)"
   ]
  },
  {
   "cell_type": "markdown",
   "metadata": {},
   "source": [
    "### Generate Explanations"
   ]
  },
  {
   "cell_type": "code",
   "execution_count": 107,
   "metadata": {},
   "outputs": [
    {
     "name": "stderr",
     "output_type": "stream",
     "text": [
      "PermutationExplainer explainer: 401it [00:22,  9.81it/s]                         \n",
      "PermutationExplainer explainer: 401it [00:23,  8.87it/s]                         \n"
     ]
    }
   ],
   "source": [
    "X_test_adv_shap_values = exp.generate_shap_values(explainer, X_test_adv)\n",
    "X_test_shap_values = exp.generate_shap_values(explainer, X_test)\n",
    "X_test_shap_values_df = exp.convert_shap_values_to_pd(X_test_shap_values, X_test.columns)\n",
    "X_test_adv_shap_values_df = exp.convert_shap_values_to_pd(X_test_adv_shap_values, X_test.columns)"
   ]
  },
  {
   "cell_type": "markdown",
   "metadata": {},
   "source": [
    "### Generate Datasets"
   ]
  },
  {
   "cell_type": "code",
   "execution_count": 122,
   "metadata": {},
   "outputs": [],
   "source": [
    "X, y = det.build_train_datasets(X_test_shap_values_df, X_test_adv_shap_values_df)"
   ]
  },
  {
   "cell_type": "markdown",
   "metadata": {},
   "source": [
    "### Preprocess Data"
   ]
  },
  {
   "cell_type": "code",
   "execution_count": 118,
   "metadata": {},
   "outputs": [],
   "source": [
    "# print(np.max(X))\n",
    "# print(np.min(X))\n",
    "# X = normalizer.transform(X)\n",
    "# print(np.max(X))\n",
    "# print(np.min(X))"
   ]
  },
  {
   "cell_type": "markdown",
   "metadata": {},
   "source": [
    "### Shuffle Data & Predict"
   ]
  },
  {
   "cell_type": "code",
   "execution_count": 123,
   "metadata": {},
   "outputs": [
    {
     "name": "stdout",
     "output_type": "stream",
     "text": [
      "\u001b[1m25/25\u001b[0m \u001b[32m━━━━━━━━━━━━━━━━━━━━\u001b[0m\u001b[37m\u001b[0m \u001b[1m0s\u001b[0m 3ms/step \n"
     ]
    }
   ],
   "source": [
    "from sklearn.utils import shuffle\n",
    "\n",
    "X, y = shuffle(X, y, random_state=187)\n",
    "\n",
    "y_pred = detector.predict(X)"
   ]
  },
  {
   "cell_type": "markdown",
   "metadata": {},
   "source": [
    "### Evaluate"
   ]
  },
  {
   "cell_type": "code",
   "execution_count": 124,
   "metadata": {},
   "outputs": [
    {
     "name": "stdout",
     "output_type": "stream",
     "text": [
      "Global Accuracy: 96.75%\n",
      "              precision    recall  f1-score   support\n",
      "\n",
      "      BENIGN       0.97      0.97      0.97       400\n",
      " ADVERSARIAL       0.97      0.97      0.97       400\n",
      "\n",
      "    accuracy                           0.97       800\n",
      "   macro avg       0.97      0.97      0.97       800\n",
      "weighted avg       0.97      0.97      0.97       800\n",
      "\n",
      "True Negative Rate: 96.75%\n",
      "False Positive Rate: 3.25%\n",
      "True Positive Rate: 96.75%\n",
      "False Negative Rate: 3.25%\n"
     ]
    }
   ],
   "source": [
    "det.evaluate_model(y_pred, y)"
   ]
  }
 ],
 "metadata": {
  "kernelspec": {
   "display_name": ".env",
   "language": "python",
   "name": "python3"
  },
  "language_info": {
   "codemirror_mode": {
    "name": "ipython",
    "version": 3
   },
   "file_extension": ".py",
   "mimetype": "text/x-python",
   "name": "python",
   "nbconvert_exporter": "python",
   "pygments_lexer": "ipython3",
   "version": "3.12.9"
  }
 },
 "nbformat": 4,
 "nbformat_minor": 2
}
