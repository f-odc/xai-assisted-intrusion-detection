{
 "cells": [
  {
   "cell_type": "markdown",
   "metadata": {},
   "source": [
    "# Prototype: omikron\n",
    "\n",
    "| Properties      | Data    |\n",
    "|---------------|-----------|\n",
    "| *Dateset* | `CICIDS2017` |\n",
    "| *Labels* | `ALL` |\n",
    "| *Normalization* | `Min-Max` |\n",
    "| *Sample Size* | `100.000`|\n",
    "| *Adversarial Attack* | `FGSM & C&W & JSMA & PGD & Boundary & HSJ` |\n",
    "| *Explanations* | `SHAP` |\n",
    "| *Detector* | `Detect Attacks and Misclassified Samples` |\n"
   ]
  },
  {
   "cell_type": "markdown",
   "metadata": {},
   "source": [
    "---"
   ]
  },
  {
   "cell_type": "markdown",
   "metadata": {},
   "source": [
    "## *Setup*"
   ]
  },
  {
   "cell_type": "code",
   "execution_count": 3,
   "metadata": {},
   "outputs": [],
   "source": [
    "# To import modules from the functions directory\n",
    "import sys\n",
    "import os\n",
    "# Get current directory of script or notebook\n",
    "current_dir = os.path.dirname(os.path.abspath(__file__)) if '__file__' in globals() else os.getcwd()\n",
    "\n",
    "# Append parent directory (where \"functions/\" likely lives)\n",
    "parent_dir = os.path.abspath(os.path.join(current_dir, \"..\"))\n",
    "if parent_dir not in sys.path:\n",
    "    sys.path.insert(0, parent_dir)  # Make sure it's at the front"
   ]
  },
  {
   "cell_type": "markdown",
   "metadata": {},
   "source": [
    "## Data Preprocessing"
   ]
  },
  {
   "cell_type": "code",
   "execution_count": 4,
   "metadata": {},
   "outputs": [
    {
     "name": "stdout",
     "output_type": "stream",
     "text": [
      "-- Building CICIDS2017 dataset --\n",
      "--- Combining all CICIDS2017 files ---\n",
      "Friday-WorkingHours-Afternoon-PortScan.pcap_ISCX.csv\n",
      "Friday-WorkingHours-Afternoon-DDos.pcap_ISCX.csv\n",
      "Tuesday-WorkingHours.pcap_ISCX.csv\n",
      "Wednesday-workingHours.pcap_ISCX.csv\n",
      "Friday-WorkingHours-Morning.pcap_ISCX.csv\n",
      "Thursday-WorkingHours-Morning-WebAttacks.pcap_ISCX.csv\n",
      "Monday-WorkingHours.pcap_ISCX.csv\n",
      "Thursday-WorkingHours-Afternoon-Infilteration.pcap_ISCX.csv\n",
      "--- Removing NaN and Infinity values ---\n",
      "Removing 1358 Rows with NaN values\n",
      "Removing 1509 Rows with Infinity values\n",
      "-- Generating normalizer --\n",
      "--- Splitting labels and features ---\n",
      "Zero Columns: [' Bwd PSH Flags', ' Bwd URG Flags', 'Fwd Avg Bytes/Bulk', ' Fwd Avg Packets/Bulk', ' Fwd Avg Bulk Rate', ' Bwd Avg Bytes/Bulk', ' Bwd Avg Packets/Bulk', 'Bwd Avg Bulk Rate']\n",
      "-- Preprocessing data --\n",
      "--- Splitting labels and features ---\n",
      "--- Encoding labels as binary one-hot values ---\n",
      "--- Sampling balanced data ---\n",
      "Sample to shape: (100000, 70)\n",
      "--- Normalizing features using MinMaxScaler ---\n",
      "Generate Features | Indices: Index([401913, 242773, 150707, 430583, 307657], dtype='int64')... | Shape: (100000, 70)\n",
      "Generate Labels | Indices: Index([401913, 242773, 150707, 430583, 307657], dtype='int64')... | Shape: (100000, 2)\n",
      "BENIGN  ATTACK\n",
      "False   True      50000\n",
      "True    False     50000\n",
      "Name: count, dtype: int64\n"
     ]
    }
   ],
   "source": [
    "import functions.data_preprocessing as dp\n",
    "import importlib\n",
    "importlib.reload(dp)\n",
    "\n",
    "encoding_type = 0 # binary encoding\n",
    "norm_type = 0 # min-max normalization\n",
    "sample_size = 50000 # sample size for each label -> 2 x sample_size = total samples\n",
    "\n",
    "dataset = dp.build_dataset()\n",
    "\n",
    "normalizer, zero_columns = dp.generate_normalizer(dataset, norm_type)\n",
    "\n",
    "feature_df, label_df, used_indices = dp.preprocess_data(dataset, encoding_type, normalizer, zero_columns, sample_size=sample_size, random_sample_state=3001)\n",
    "print(f\"Generate Features | Indices: {feature_df.index[:5]}... | Shape: {feature_df.shape}\")\n",
    "print(f\"Generate Labels | Indices: {label_df.index[:5]}... | Shape: {label_df.shape}\")\n",
    "print(label_df.value_counts()) # -> will first show [0, 1] then [1, 0] if label number is equal"
   ]
  },
  {
   "cell_type": "markdown",
   "metadata": {},
   "source": [
    "## Split Data"
   ]
  },
  {
   "cell_type": "code",
   "execution_count": 5,
   "metadata": {},
   "outputs": [
    {
     "name": "stdout",
     "output_type": "stream",
     "text": [
      "(90000, 70) (10000, 70) (90000, 2) (10000, 2)\n"
     ]
    }
   ],
   "source": [
    "from sklearn.model_selection import train_test_split\n",
    "\n",
    "X_train, X_test, y_train, y_test = train_test_split(feature_df, label_df, test_size=0.1, random_state=42)\n",
    "print(X_train.shape, X_test.shape, y_train.shape, y_test.shape)"
   ]
  },
  {
   "cell_type": "markdown",
   "metadata": {},
   "source": [
    "## Create IDS"
   ]
  },
  {
   "cell_type": "code",
   "execution_count": 6,
   "metadata": {},
   "outputs": [
    {
     "name": "stderr",
     "output_type": "stream",
     "text": [
      "2025-04-28 15:17:40.444393: E external/local_xla/xla/stream_executor/cuda/cuda_fft.cc:477] Unable to register cuFFT factory: Attempting to register factory for plugin cuFFT when one has already been registered\n",
      "WARNING: All log messages before absl::InitializeLog() is called are written to STDERR\n",
      "E0000 00:00:1745846260.456336   53943 cuda_dnn.cc:8310] Unable to register cuDNN factory: Attempting to register factory for plugin cuDNN when one has already been registered\n",
      "E0000 00:00:1745846260.459813   53943 cuda_blas.cc:1418] Unable to register cuBLAS factory: Attempting to register factory for plugin cuBLAS when one has already been registered\n",
      "2025-04-28 15:17:40.472057: I tensorflow/core/platform/cpu_feature_guard.cc:210] This TensorFlow binary is optimized to use available CPU instructions in performance-critical operations.\n",
      "To enable the following instructions: AVX2 FMA, in other operations, rebuild TensorFlow with the appropriate compiler flags.\n"
     ]
    },
    {
     "name": "stdout",
     "output_type": "stream",
     "text": [
      "Epoch 1/20\n"
     ]
    },
    {
     "name": "stderr",
     "output_type": "stream",
     "text": [
      "2025-04-28 15:17:41.845284: E external/local_xla/xla/stream_executor/cuda/cuda_driver.cc:152] failed call to cuInit: INTERNAL: CUDA error: Failed call to cuInit: UNKNOWN ERROR (303)\n"
     ]
    },
    {
     "name": "stdout",
     "output_type": "stream",
     "text": [
      "\u001b[1m1800/1800\u001b[0m \u001b[32m━━━━━━━━━━━━━━━━━━━━\u001b[0m\u001b[37m\u001b[0m \u001b[1m2s\u001b[0m 885us/step - accuracy: 0.8968 - loss: 0.2664 - val_accuracy: 0.9489 - val_loss: 0.1258\n",
      "Epoch 2/20\n",
      "\u001b[1m1800/1800\u001b[0m \u001b[32m━━━━━━━━━━━━━━━━━━━━\u001b[0m\u001b[37m\u001b[0m \u001b[1m1s\u001b[0m 812us/step - accuracy: 0.9498 - loss: 0.1215 - val_accuracy: 0.9546 - val_loss: 0.1093\n",
      "Epoch 3/20\n",
      "\u001b[1m1800/1800\u001b[0m \u001b[32m━━━━━━━━━━━━━━━━━━━━\u001b[0m\u001b[37m\u001b[0m \u001b[1m1s\u001b[0m 823us/step - accuracy: 0.9560 - loss: 0.1079 - val_accuracy: 0.9611 - val_loss: 0.0982\n",
      "Epoch 4/20\n",
      "\u001b[1m1800/1800\u001b[0m \u001b[32m━━━━━━━━━━━━━━━━━━━━\u001b[0m\u001b[37m\u001b[0m \u001b[1m1s\u001b[0m 813us/step - accuracy: 0.9608 - loss: 0.0990 - val_accuracy: 0.9662 - val_loss: 0.0912\n",
      "Epoch 5/20\n",
      "\u001b[1m1800/1800\u001b[0m \u001b[32m━━━━━━━━━━━━━━━━━━━━\u001b[0m\u001b[37m\u001b[0m \u001b[1m2s\u001b[0m 831us/step - accuracy: 0.9645 - loss: 0.0919 - val_accuracy: 0.9684 - val_loss: 0.0855\n",
      "Epoch 6/20\n",
      "\u001b[1m1800/1800\u001b[0m \u001b[32m━━━━━━━━━━━━━━━━━━━━\u001b[0m\u001b[37m\u001b[0m \u001b[1m1s\u001b[0m 808us/step - accuracy: 0.9681 - loss: 0.0859 - val_accuracy: 0.9706 - val_loss: 0.0792\n",
      "Epoch 7/20\n",
      "\u001b[1m1800/1800\u001b[0m \u001b[32m━━━━━━━━━━━━━━━━━━━━\u001b[0m\u001b[37m\u001b[0m \u001b[1m1s\u001b[0m 815us/step - accuracy: 0.9703 - loss: 0.0808 - val_accuracy: 0.9734 - val_loss: 0.0752\n",
      "Epoch 8/20\n",
      "\u001b[1m1800/1800\u001b[0m \u001b[32m━━━━━━━━━━━━━━━━━━━━\u001b[0m\u001b[37m\u001b[0m \u001b[1m2s\u001b[0m 826us/step - accuracy: 0.9729 - loss: 0.0765 - val_accuracy: 0.9760 - val_loss: 0.0722\n",
      "Epoch 9/20\n",
      "\u001b[1m1800/1800\u001b[0m \u001b[32m━━━━━━━━━━━━━━━━━━━━\u001b[0m\u001b[37m\u001b[0m \u001b[1m1s\u001b[0m 797us/step - accuracy: 0.9740 - loss: 0.0729 - val_accuracy: 0.9758 - val_loss: 0.0692\n",
      "Epoch 10/20\n",
      "\u001b[1m1800/1800\u001b[0m \u001b[32m━━━━━━━━━━━━━━━━━━━━\u001b[0m\u001b[37m\u001b[0m \u001b[1m1s\u001b[0m 805us/step - accuracy: 0.9756 - loss: 0.0696 - val_accuracy: 0.9785 - val_loss: 0.0668\n",
      "Epoch 11/20\n",
      "\u001b[1m1800/1800\u001b[0m \u001b[32m━━━━━━━━━━━━━━━━━━━━\u001b[0m\u001b[37m\u001b[0m \u001b[1m2s\u001b[0m 845us/step - accuracy: 0.9756 - loss: 0.0681 - val_accuracy: 0.9792 - val_loss: 0.0649\n",
      "Epoch 12/20\n",
      "\u001b[1m1800/1800\u001b[0m \u001b[32m━━━━━━━━━━━━━━━━━━━━\u001b[0m\u001b[37m\u001b[0m \u001b[1m2s\u001b[0m 835us/step - accuracy: 0.9773 - loss: 0.0653 - val_accuracy: 0.9824 - val_loss: 0.0616\n",
      "Epoch 13/20\n",
      "\u001b[1m1800/1800\u001b[0m \u001b[32m━━━━━━━━━━━━━━━━━━━━\u001b[0m\u001b[37m\u001b[0m \u001b[1m2s\u001b[0m 838us/step - accuracy: 0.9779 - loss: 0.0637 - val_accuracy: 0.9791 - val_loss: 0.0588\n",
      "Epoch 14/20\n",
      "\u001b[1m1800/1800\u001b[0m \u001b[32m━━━━━━━━━━━━━━━━━━━━\u001b[0m\u001b[37m\u001b[0m \u001b[1m1s\u001b[0m 816us/step - accuracy: 0.9783 - loss: 0.0627 - val_accuracy: 0.9791 - val_loss: 0.0585\n",
      "Epoch 15/20\n",
      "\u001b[1m1800/1800\u001b[0m \u001b[32m━━━━━━━━━━━━━━━━━━━━\u001b[0m\u001b[37m\u001b[0m \u001b[1m1s\u001b[0m 816us/step - accuracy: 0.9789 - loss: 0.0615 - val_accuracy: 0.9828 - val_loss: 0.0559\n",
      "Epoch 16/20\n",
      "\u001b[1m1800/1800\u001b[0m \u001b[32m━━━━━━━━━━━━━━━━━━━━\u001b[0m\u001b[37m\u001b[0m \u001b[1m1s\u001b[0m 819us/step - accuracy: 0.9788 - loss: 0.0596 - val_accuracy: 0.9822 - val_loss: 0.0553\n",
      "Epoch 17/20\n",
      "\u001b[1m1800/1800\u001b[0m \u001b[32m━━━━━━━━━━━━━━━━━━━━\u001b[0m\u001b[37m\u001b[0m \u001b[1m1s\u001b[0m 797us/step - accuracy: 0.9792 - loss: 0.0586 - val_accuracy: 0.9829 - val_loss: 0.0535\n",
      "Epoch 18/20\n",
      "\u001b[1m1800/1800\u001b[0m \u001b[32m━━━━━━━━━━━━━━━━━━━━\u001b[0m\u001b[37m\u001b[0m \u001b[1m1s\u001b[0m 799us/step - accuracy: 0.9799 - loss: 0.0572 - val_accuracy: 0.9823 - val_loss: 0.0548\n",
      "Epoch 19/20\n",
      "\u001b[1m1800/1800\u001b[0m \u001b[32m━━━━━━━━━━━━━━━━━━━━\u001b[0m\u001b[37m\u001b[0m \u001b[1m2s\u001b[0m 836us/step - accuracy: 0.9800 - loss: 0.0563 - val_accuracy: 0.9832 - val_loss: 0.0508\n",
      "Epoch 20/20\n",
      "\u001b[1m1800/1800\u001b[0m \u001b[32m━━━━━━━━━━━━━━━━━━━━\u001b[0m\u001b[37m\u001b[0m \u001b[1m1s\u001b[0m 795us/step - accuracy: 0.9804 - loss: 0.0550 - val_accuracy: 0.9829 - val_loss: 0.0516\n",
      "\u001b[1m313/313\u001b[0m \u001b[32m━━━━━━━━━━━━━━━━━━━━\u001b[0m\u001b[37m\u001b[0m \u001b[1m0s\u001b[0m 467us/step\n"
     ]
    },
    {
     "name": "stderr",
     "output_type": "stream",
     "text": [
      "2025-04-28 15:18:12.487534: E tensorflow/core/framework/node_def_util.cc:676] NodeDef mentions attribute use_unbounded_threadpool which is not in the op definition: Op<name=MapDataset; signature=input_dataset:variant, other_arguments: -> handle:variant; attr=f:func; attr=Targuments:list(type),min=0; attr=output_types:list(type),min=1; attr=output_shapes:list(shape),min=1; attr=use_inter_op_parallelism:bool,default=true; attr=preserve_cardinality:bool,default=false; attr=force_synchronous:bool,default=false; attr=metadata:string,default=\"\"> This may be expected if your graph generating binary is newer  than this binary. Unknown attributes will be ignored. NodeDef: {{node ParallelMapDatasetV2/_14}}\n"
     ]
    },
    {
     "name": "stdout",
     "output_type": "stream",
     "text": [
      "Global Accuracy: 98.40%\n",
      "              precision    recall  f1-score   support\n",
      "\n",
      "      ATTACK     0.9743    0.9947    0.9844      5061\n",
      "      BENIGN     0.9944    0.9731    0.9836      4939\n",
      "\n",
      "    accuracy                         0.9840     10000\n",
      "   macro avg     0.9843    0.9839    0.9840     10000\n",
      "weighted avg     0.9842    0.9840    0.9840     10000\n",
      "\n",
      "\u001b[1m2813/2813\u001b[0m \u001b[32m━━━━━━━━━━━━━━━━━━━━\u001b[0m\u001b[37m\u001b[0m \u001b[1m1s\u001b[0m 374us/step\n",
      "Predictions on Normal Data | Indices: Index([2306655, 1376979, 173584, 2612982, 2697027], dtype='int64')... | Shape: (90000, 2)\n"
     ]
    }
   ],
   "source": [
    "import functions.intrusion_detection_system as ids\n",
    "import importlib\n",
    "importlib.reload(ids)\n",
    "\n",
    "# TODO: build ids with complete dataset\n",
    "# X_train_all, y_train_all, _ = dp.preprocess_data(dataset, encoding_type, normalizer, zero_columns, random_sample_state=42)\n",
    "# print(y_train_all.value_counts())\n",
    "# X_train_all, X_test_all, y_train_all, y_test_all = train_test_split(X_train_all, y_train_all, test_size=0.2, random_state=42)\n",
    "# print(X_train_all.shape, X_test_all.shape, y_train_all.shape, y_test_all.shape)\n",
    "\n",
    "# build ids and evaluate it on test data\n",
    "ids_model = ids.build_intrusion_detection_system(X_train, y_train, X_test, y_test)\n",
    "# store prediction from X_train\n",
    "y_pred = ids.predict(ids_model, X_train, columns=y_train.columns)\n",
    "print(f\"Predictions on Normal Data | Indices: {y_pred.index[:5]}... | Shape: {y_pred.shape}\")"
   ]
  },
  {
   "cell_type": "markdown",
   "metadata": {},
   "source": [
    "## Generate Adversarial Attacks"
   ]
  },
  {
   "cell_type": "code",
   "execution_count": 6,
   "metadata": {},
   "outputs": [
    {
     "name": "stdout",
     "output_type": "stream",
     "text": [
      "Normal Data: (12858, 70) | CW Data: (12857, 70) | FGSM Data: (12857, 70) | JSMA Data: (12857, 70) | PGD Data: (12857, 70) | Boundary Data: (12857, 70) | HSJ Data: (12857, 70)\n",
      "Adversarial FGSM examples generated. Shape: (12857, 70)\n",
      "Create FGSM Adversarial Attack | Indices: Index([1556755, 1502880, 1188693, 1901844, 1433020], dtype='int64')... | Shape: (12857, 70)\n",
      "Accuracy: 49.64%\n",
      "              precision    recall  f1-score   support\n",
      "\n",
      "      ATTACK     0.0000    0.0000    0.0000      6475\n",
      "      BENIGN     0.4964    1.0000    0.6634      6382\n",
      "\n",
      "    accuracy                         0.4964     12857\n",
      "   macro avg     0.2482    0.5000    0.3317     12857\n",
      "weighted avg     0.2464    0.4964    0.3293     12857\n",
      "\n",
      "Confusion Matrix: Positive == BENIGN\n",
      "TN: 0, FP: 6475, FN: 0, TP: 6382\n",
      "Predictions on Adversarial Attacks | Indices: Index([1556755, 1502880, 1188693, 1901844, 1433020], dtype='int64')... | Shape: (12857, 2)\n",
      "Running attack using 24 CPU cores...\n",
      "\n",
      "Process 1285225 is generating adversarial examples for batch of size 535 \n",
      "Process 1285227 is generating adversarial examples for batch of size 535 \n",
      "Process 1285226 is generating adversarial examples for batch of size 535 \n",
      "\n",
      "Process 1285228 is generating adversarial examples for batch of size 535 \n",
      "Process 1285229 is generating adversarial examples for batch of size 535 \n",
      "\n",
      "\n",
      "\n",
      "Process 1285230 is generating adversarial examples for batch of size 535 \n",
      "Process 1285231 is generating adversarial examples for batch of size 535 \n",
      "\n",
      "Process 1285232 is generating adversarial examples for batch of size 535 \n",
      "\n",
      "\n",
      "Process 1285233 is generating adversarial examples for batch of size 535 \n",
      "\n",
      "Process 1285234 is generating adversarial examples for batch of size 535 \n",
      "Process 1285235 is generating adversarial examples for batch of size 535 \n",
      "\n",
      "\n",
      "Process 1285236 is generating adversarial examples for batch of size 535 \n",
      "\n",
      "Process 1285237 is generating adversarial examples for batch of size 535 \n",
      "\n",
      "Process 1285238 is generating adversarial examples for batch of size 535 \n",
      "Process 1285239 is generating adversarial examples for batch of size 535 \n",
      "Process 1285240 is generating adversarial examples for batch of size 535 \n",
      "Process 1285241 is generating adversarial examples for batch of size 535 \n",
      "Process 1285242 is generating adversarial examples for batch of size 535 \n",
      "Process 1285243 is generating adversarial examples for batch of size 535 \n",
      "Process 1285244 is generating adversarial examples for batch of size 535 \n",
      "Process 1285245 is generating adversarial examples for batch of size 535 \n",
      "Process 1285246 is generating adversarial examples for batch of size 535 \n",
      "Process 1285247 is generating adversarial examples for batch of size 535 \n",
      "\n",
      "\n",
      "Process 1285248 is generating adversarial examples for batch of size 552 \n",
      "\n",
      "\n",
      "\n",
      "\n",
      "\n",
      "\n",
      "\n",
      "\n",
      "\n",
      "\n"
     ]
    },
    {
     "data": {
      "application/vnd.jupyter.widget-view+json": {
       "model_id": "bc80c1c3efe4415bae188b9d14cdb522",
       "version_major": 2,
       "version_minor": 0
      },
      "text/plain": [
       "C&W L_2:   0%|          | 0/535 [00:00<?, ?it/s]"
      ]
     },
     "metadata": {},
     "output_type": "display_data"
    },
    {
     "data": {
      "application/vnd.jupyter.widget-view+json": {
       "model_id": "ef5edec700524711bb131448fe089f05",
       "version_major": 2,
       "version_minor": 0
      },
      "text/plain": [
       "C&W L_2:   0%|          | 0/535 [00:00<?, ?it/s]"
      ]
     },
     "metadata": {},
     "output_type": "display_data"
    },
    {
     "data": {
      "application/vnd.jupyter.widget-view+json": {
       "model_id": "0577d71f1b544175aa431714e9b27259",
       "version_major": 2,
       "version_minor": 0
      },
      "text/plain": [
       "C&W L_2:   0%|          | 0/535 [00:00<?, ?it/s]"
      ]
     },
     "metadata": {},
     "output_type": "display_data"
    },
    {
     "data": {
      "application/vnd.jupyter.widget-view+json": {
       "model_id": "9e1e18686b234d08a1850ed2e0f7cc0d",
       "version_major": 2,
       "version_minor": 0
      },
      "text/plain": [
       "C&W L_2:   0%|          | 0/535 [00:00<?, ?it/s]"
      ]
     },
     "metadata": {},
     "output_type": "display_data"
    },
    {
     "data": {
      "application/vnd.jupyter.widget-view+json": {
       "model_id": "bc46278e2d2942639ec6bc0809c9e1e1",
       "version_major": 2,
       "version_minor": 0
      },
      "text/plain": [
       "C&W L_2:   0%|          | 0/535 [00:00<?, ?it/s]"
      ]
     },
     "metadata": {},
     "output_type": "display_data"
    },
    {
     "data": {
      "application/vnd.jupyter.widget-view+json": {
       "model_id": "6fad09df3d764d96a60b70a7d6f998ec",
       "version_major": 2,
       "version_minor": 0
      },
      "text/plain": [
       "C&W L_2:   0%|          | 0/535 [00:00<?, ?it/s]"
      ]
     },
     "metadata": {},
     "output_type": "display_data"
    },
    {
     "data": {
      "application/vnd.jupyter.widget-view+json": {
       "model_id": "1afe0f160d90436699fcb0d2201b937f",
       "version_major": 2,
       "version_minor": 0
      },
      "text/plain": [
       "C&W L_2:   0%|          | 0/535 [00:00<?, ?it/s]"
      ]
     },
     "metadata": {},
     "output_type": "display_data"
    },
    {
     "data": {
      "application/vnd.jupyter.widget-view+json": {
       "model_id": "ff7ce9707e894edd93a72754b0d922bc",
       "version_major": 2,
       "version_minor": 0
      },
      "text/plain": [
       "C&W L_2:   0%|          | 0/535 [00:00<?, ?it/s]"
      ]
     },
     "metadata": {},
     "output_type": "display_data"
    },
    {
     "data": {
      "application/vnd.jupyter.widget-view+json": {
       "model_id": "799f8a3d394949ae9b030bbe948af34a",
       "version_major": 2,
       "version_minor": 0
      },
      "text/plain": [
       "C&W L_2:   0%|          | 0/535 [00:00<?, ?it/s]"
      ]
     },
     "metadata": {},
     "output_type": "display_data"
    },
    {
     "data": {
      "application/vnd.jupyter.widget-view+json": {
       "model_id": "462159eb13f144098e44d48bc837e63b",
       "version_major": 2,
       "version_minor": 0
      },
      "text/plain": [
       "C&W L_2:   0%|          | 0/535 [00:00<?, ?it/s]"
      ]
     },
     "metadata": {},
     "output_type": "display_data"
    },
    {
     "data": {
      "application/vnd.jupyter.widget-view+json": {
       "model_id": "e8629dfb905e4fbd9974a62cc2ddf991",
       "version_major": 2,
       "version_minor": 0
      },
      "text/plain": [
       "C&W L_2:   0%|          | 0/535 [00:00<?, ?it/s]"
      ]
     },
     "metadata": {},
     "output_type": "display_data"
    },
    {
     "data": {
      "application/vnd.jupyter.widget-view+json": {
       "model_id": "e3912a3e97c4458ca1911244e69d19ef",
       "version_major": 2,
       "version_minor": 0
      },
      "text/plain": [
       "C&W L_2:   0%|          | 0/535 [00:00<?, ?it/s]"
      ]
     },
     "metadata": {},
     "output_type": "display_data"
    },
    {
     "data": {
      "application/vnd.jupyter.widget-view+json": {
       "model_id": "6c2677dc61cc42f3a0082a47fee3ae19",
       "version_major": 2,
       "version_minor": 0
      },
      "text/plain": [
       "C&W L_2:   0%|          | 0/535 [00:00<?, ?it/s]"
      ]
     },
     "metadata": {},
     "output_type": "display_data"
    },
    {
     "data": {
      "application/vnd.jupyter.widget-view+json": {
       "model_id": "a3e63c15d99446e2be16d0638c1a3853",
       "version_major": 2,
       "version_minor": 0
      },
      "text/plain": [
       "C&W L_2:   0%|          | 0/535 [00:00<?, ?it/s]"
      ]
     },
     "metadata": {},
     "output_type": "display_data"
    },
    {
     "data": {
      "application/vnd.jupyter.widget-view+json": {
       "model_id": "ce846c4d61214a67ba8413da0aaa053b",
       "version_major": 2,
       "version_minor": 0
      },
      "text/plain": [
       "C&W L_2:   0%|          | 0/535 [00:00<?, ?it/s]"
      ]
     },
     "metadata": {},
     "output_type": "display_data"
    },
    {
     "data": {
      "application/vnd.jupyter.widget-view+json": {
       "model_id": "5366bad5b34f44bdb2928042b025b449",
       "version_major": 2,
       "version_minor": 0
      },
      "text/plain": [
       "C&W L_2:   0%|          | 0/535 [00:00<?, ?it/s]"
      ]
     },
     "metadata": {},
     "output_type": "display_data"
    },
    {
     "data": {
      "application/vnd.jupyter.widget-view+json": {
       "model_id": "7144199804614de6beb87430ce68831c",
       "version_major": 2,
       "version_minor": 0
      },
      "text/plain": [
       "C&W L_2:   0%|          | 0/535 [00:00<?, ?it/s]"
      ]
     },
     "metadata": {},
     "output_type": "display_data"
    },
    {
     "data": {
      "application/vnd.jupyter.widget-view+json": {
       "model_id": "904202d1eb9144f3a2879f2ed223188c",
       "version_major": 2,
       "version_minor": 0
      },
      "text/plain": [
       "C&W L_2:   0%|          | 0/535 [00:00<?, ?it/s]"
      ]
     },
     "metadata": {},
     "output_type": "display_data"
    },
    {
     "data": {
      "application/vnd.jupyter.widget-view+json": {
       "model_id": "0fbe1e85fff54c6c9d8c47401b6aacd4",
       "version_major": 2,
       "version_minor": 0
      },
      "text/plain": [
       "C&W L_2:   0%|          | 0/535 [00:00<?, ?it/s]"
      ]
     },
     "metadata": {},
     "output_type": "display_data"
    },
    {
     "data": {
      "application/vnd.jupyter.widget-view+json": {
       "model_id": "db4dedf5ebb446e39a4398498a7c4ab2",
       "version_major": 2,
       "version_minor": 0
      },
      "text/plain": [
       "C&W L_2:   0%|          | 0/535 [00:00<?, ?it/s]"
      ]
     },
     "metadata": {},
     "output_type": "display_data"
    },
    {
     "data": {
      "application/vnd.jupyter.widget-view+json": {
       "model_id": "4fe1aaee911045eaac59da77ccaf2bb3",
       "version_major": 2,
       "version_minor": 0
      },
      "text/plain": [
       "C&W L_2:   0%|          | 0/535 [00:00<?, ?it/s]"
      ]
     },
     "metadata": {},
     "output_type": "display_data"
    },
    {
     "data": {
      "application/vnd.jupyter.widget-view+json": {
       "model_id": "0eb78603c96f45c088bf12263ac7b2c1",
       "version_major": 2,
       "version_minor": 0
      },
      "text/plain": [
       "C&W L_2:   0%|          | 0/535 [00:00<?, ?it/s]"
      ]
     },
     "metadata": {},
     "output_type": "display_data"
    },
    {
     "data": {
      "application/vnd.jupyter.widget-view+json": {
       "model_id": "4b26c037858143fe94fda8538a283c3a",
       "version_major": 2,
       "version_minor": 0
      },
      "text/plain": [
       "C&W L_2:   0%|          | 0/535 [00:00<?, ?it/s]"
      ]
     },
     "metadata": {},
     "output_type": "display_data"
    },
    {
     "data": {
      "application/vnd.jupyter.widget-view+json": {
       "model_id": "b4b6d9599c744ec88992225c5c1d39ce",
       "version_major": 2,
       "version_minor": 0
      },
      "text/plain": [
       "C&W L_2:   0%|          | 0/552 [00:00<?, ?it/s]"
      ]
     },
     "metadata": {},
     "output_type": "display_data"
    },
    {
     "name": "stdout",
     "output_type": "stream",
     "text": [
      "Create CW Adversarial Attack | Indices: Index([1761902, 107683, 1209133, 511075, 937845], dtype='int64')... | Shape: (12857, 70)\n",
      "Accuracy: 75.44%\n",
      "              precision    recall  f1-score   support\n",
      "\n",
      "      ATTACK     0.9979    0.5127    0.6774      6466\n",
      "      BENIGN     0.6695    0.9989    0.8017      6391\n",
      "\n",
      "    accuracy                         0.7544     12857\n",
      "   macro avg     0.8337    0.7558    0.7395     12857\n",
      "weighted avg     0.8347    0.7544    0.7392     12857\n",
      "\n",
      "Confusion Matrix: Positive == BENIGN\n",
      "TN: 3315, FP: 3151, FN: 7, TP: 6384\n",
      "Predictions on Adversarial Attacks | Indices: Index([1761902, 107683, 1209133, 511075, 937845], dtype='int64')... | Shape: (12857, 2)\n"
     ]
    },
    {
     "data": {
      "application/vnd.jupyter.widget-view+json": {
       "model_id": "63972be494794f988953e7dd4beb971f",
       "version_major": 2,
       "version_minor": 0
      },
      "text/plain": [
       "JSMA:   0%|          | 0/12857 [00:00<?, ?it/s]"
      ]
     },
     "metadata": {},
     "output_type": "display_data"
    },
    {
     "name": "stdout",
     "output_type": "stream",
     "text": [
      "Adversarial JSMA examples generated. Shape: (12857, 70)\n",
      "Create JSMA Adversarial Attack | Indices: Index([979925, 1338813, 1870573, 367268, 890837], dtype='int64')... | Shape: (12857, 70)\n",
      "Accuracy: 49.72%\n",
      "              precision    recall  f1-score   support\n",
      "\n",
      "      ATTACK     0.0000    0.0000    0.0000      6465\n",
      "      BENIGN     0.4972    1.0000    0.6641      6392\n",
      "\n",
      "    accuracy                         0.4972     12857\n",
      "   macro avg     0.2486    0.5000    0.3321     12857\n",
      "weighted avg     0.2472    0.4972    0.3302     12857\n",
      "\n",
      "Confusion Matrix: Positive == BENIGN\n",
      "TN: 0, FP: 6465, FN: 0, TP: 6392\n",
      "Predictions on Adversarial Attacks | Indices: Index([979925, 1338813, 1870573, 367268, 890837], dtype='int64')... | Shape: (12857, 2)\n"
     ]
    },
    {
     "data": {
      "application/vnd.jupyter.widget-view+json": {
       "model_id": "23a4401c61b24376aaeafad4c054a3a6",
       "version_major": 2,
       "version_minor": 0
      },
      "text/plain": [
       "PGD - Batches: 0it [00:00, ?it/s]"
      ]
     },
     "metadata": {},
     "output_type": "display_data"
    },
    {
     "name": "stderr",
     "output_type": "stream",
     "text": [
      "2025-04-22 17:09:46.662988: I tensorflow/core/framework/local_rendezvous.cc:405] Local rendezvous is aborting with status: OUT_OF_RANGE: End of sequence\n"
     ]
    },
    {
     "name": "stdout",
     "output_type": "stream",
     "text": [
      "Adversarial PGD examples generated. Shape: (12857, 70)\n",
      "Create PGD Adversarial Attack | Indices: Index([335288, 163852, 379946, 169074, 324288], dtype='int64')... | Shape: (12857, 70)\n",
      "Accuracy: 49.94%\n",
      "              precision    recall  f1-score   support\n",
      "\n",
      "      ATTACK     0.0000    0.0000    0.0000      6436\n",
      "      BENIGN     0.4994    1.0000    0.6661      6421\n",
      "\n",
      "    accuracy                         0.4994     12857\n",
      "   macro avg     0.2497    0.5000    0.3331     12857\n",
      "weighted avg     0.2494    0.4994    0.3327     12857\n",
      "\n",
      "Confusion Matrix: Positive == BENIGN\n",
      "TN: 0, FP: 6436, FN: 0, TP: 6421\n",
      "Predictions on Adversarial Attacks | Indices: Index([335288, 163852, 379946, 169074, 324288], dtype='int64')... | Shape: (12857, 2)\n",
      "Running attack using 23 CPU cores...\n",
      "\n",
      "Process 1342556 is generating adversarial examples for batch of size 347 \n",
      "Process 1342557 is generating adversarial examples for batch of size 347 \n",
      "Process 1342558 is generating adversarial examples for batch of size 347 \n",
      "Process 1342559 is generating adversarial examples for batch of size 347 \n",
      "\n",
      "Process 1342560 is generating adversarial examples for batch of size 347 \n",
      "Process 1342561 is generating adversarial examples for batch of size 347 \n",
      "\n",
      "\n",
      "Process 1342562 is generating adversarial examples for batch of size 347 \n",
      "Process 1342563 is generating adversarial examples for batch of size 347 \n",
      "\n",
      "Process 1342564 is generating adversarial examples for batch of size 347 \n",
      "\n",
      "\n",
      "Process 1342565 is generating adversarial examples for batch of size 347 \n",
      "\n",
      "Process 1342566 is generating adversarial examples for batch of size 347 \n",
      "\n",
      "Process 1342567 is generating adversarial examples for batch of size 347 \n",
      "\n",
      "\n",
      "Process 1342568 is generating adversarial examples for batch of size 347 \n",
      "Process 1342569 is generating adversarial examples for batch of size 347 \n",
      "\n",
      "\n",
      "Process 1342570 is generating adversarial examples for batch of size 347 \n",
      "Process 1342571 is generating adversarial examples for batch of size 347 \n",
      "\n",
      "\n",
      "Process 1342572 is generating adversarial examples for batch of size 347 \n",
      "\n",
      "Process 1342573 is generating adversarial examples for batch of size 347 \n",
      "\n",
      "Process 1342574 is generating adversarial examples for batch of size 347 \n",
      "\n",
      "Process 1342576 is generating adversarial examples for batch of size 347 \n",
      "\n",
      "Process 1342575 is generating adversarial examples for batch of size 347 \n",
      "\n",
      "Process 1342577 is generating adversarial examples for batch of size 347 \n",
      "Process 1342578 is generating adversarial examples for batch of size 366 \n",
      "\n",
      "\n",
      "\n",
      "\n"
     ]
    },
    {
     "data": {
      "application/vnd.jupyter.widget-view+json": {
       "model_id": "61382978382e4fe99fa08234ba1a1e19",
       "version_major": 2,
       "version_minor": 0
      },
      "text/plain": [
       "HopSkipJump:   0%|          | 0/347 [00:00<?, ?it/s]"
      ]
     },
     "metadata": {},
     "output_type": "display_data"
    },
    {
     "data": {
      "application/vnd.jupyter.widget-view+json": {
       "model_id": "bb1dd70270964a98826ed2219b988b8b",
       "version_major": 2,
       "version_minor": 0
      },
      "text/plain": [
       "HopSkipJump:   0%|          | 0/347 [00:00<?, ?it/s]"
      ]
     },
     "metadata": {},
     "output_type": "display_data"
    },
    {
     "data": {
      "application/vnd.jupyter.widget-view+json": {
       "model_id": "776bbdea8e784a20828222c5bbc48f7d",
       "version_major": 2,
       "version_minor": 0
      },
      "text/plain": [
       "HopSkipJump:   0%|          | 0/347 [00:00<?, ?it/s]"
      ]
     },
     "metadata": {},
     "output_type": "display_data"
    },
    {
     "data": {
      "application/vnd.jupyter.widget-view+json": {
       "model_id": "b316df296fc24b0d915ec9b93280d275",
       "version_major": 2,
       "version_minor": 0
      },
      "text/plain": [
       "HopSkipJump:   0%|          | 0/347 [00:00<?, ?it/s]"
      ]
     },
     "metadata": {},
     "output_type": "display_data"
    },
    {
     "data": {
      "application/vnd.jupyter.widget-view+json": {
       "model_id": "a2eaa16983db478e831fc695a4994c5f",
       "version_major": 2,
       "version_minor": 0
      },
      "text/plain": [
       "HopSkipJump:   0%|          | 0/347 [00:00<?, ?it/s]"
      ]
     },
     "metadata": {},
     "output_type": "display_data"
    },
    {
     "data": {
      "application/vnd.jupyter.widget-view+json": {
       "model_id": "4d32949feef244259b5821eb6abc91b5",
       "version_major": 2,
       "version_minor": 0
      },
      "text/plain": [
       "HopSkipJump:   0%|          | 0/347 [00:00<?, ?it/s]"
      ]
     },
     "metadata": {},
     "output_type": "display_data"
    },
    {
     "data": {
      "application/vnd.jupyter.widget-view+json": {
       "model_id": "6e92be4f9752467180c7991032709e71",
       "version_major": 2,
       "version_minor": 0
      },
      "text/plain": [
       "HopSkipJump:   0%|          | 0/347 [00:00<?, ?it/s]"
      ]
     },
     "metadata": {},
     "output_type": "display_data"
    },
    {
     "data": {
      "application/vnd.jupyter.widget-view+json": {
       "model_id": "4bc86f4175d445a98ade7550316f46bb",
       "version_major": 2,
       "version_minor": 0
      },
      "text/plain": [
       "HopSkipJump:   0%|          | 0/347 [00:00<?, ?it/s]"
      ]
     },
     "metadata": {},
     "output_type": "display_data"
    },
    {
     "data": {
      "application/vnd.jupyter.widget-view+json": {
       "model_id": "cb501fb6695c48ba96902456e32811b1",
       "version_major": 2,
       "version_minor": 0
      },
      "text/plain": [
       "HopSkipJump:   0%|          | 0/347 [00:00<?, ?it/s]"
      ]
     },
     "metadata": {},
     "output_type": "display_data"
    },
    {
     "data": {
      "application/vnd.jupyter.widget-view+json": {
       "model_id": "425848fa84044cbc8e6c66a859bbde9d",
       "version_major": 2,
       "version_minor": 0
      },
      "text/plain": [
       "HopSkipJump:   0%|          | 0/347 [00:00<?, ?it/s]"
      ]
     },
     "metadata": {},
     "output_type": "display_data"
    },
    {
     "data": {
      "application/vnd.jupyter.widget-view+json": {
       "model_id": "fa825c6a94084c5c9f34fd16af0873b9",
       "version_major": 2,
       "version_minor": 0
      },
      "text/plain": [
       "HopSkipJump:   0%|          | 0/347 [00:00<?, ?it/s]"
      ]
     },
     "metadata": {},
     "output_type": "display_data"
    },
    {
     "data": {
      "application/vnd.jupyter.widget-view+json": {
       "model_id": "f9f9f5dea5df48a0b5288303c097655d",
       "version_major": 2,
       "version_minor": 0
      },
      "text/plain": [
       "HopSkipJump:   0%|          | 0/347 [00:00<?, ?it/s]"
      ]
     },
     "metadata": {},
     "output_type": "display_data"
    },
    {
     "data": {
      "application/vnd.jupyter.widget-view+json": {
       "model_id": "4a965ae659b84fc28b0bf1a6adb82151",
       "version_major": 2,
       "version_minor": 0
      },
      "text/plain": [
       "HopSkipJump:   0%|          | 0/347 [00:00<?, ?it/s]"
      ]
     },
     "metadata": {},
     "output_type": "display_data"
    },
    {
     "data": {
      "application/vnd.jupyter.widget-view+json": {
       "model_id": "4939b4e132a44f10bd8b56321bed0b1d",
       "version_major": 2,
       "version_minor": 0
      },
      "text/plain": [
       "HopSkipJump:   0%|          | 0/347 [00:00<?, ?it/s]"
      ]
     },
     "metadata": {},
     "output_type": "display_data"
    },
    {
     "data": {
      "application/vnd.jupyter.widget-view+json": {
       "model_id": "db938ba458f6415f8627ecbfaf48d688",
       "version_major": 2,
       "version_minor": 0
      },
      "text/plain": [
       "HopSkipJump:   0%|          | 0/347 [00:00<?, ?it/s]"
      ]
     },
     "metadata": {},
     "output_type": "display_data"
    },
    {
     "data": {
      "application/vnd.jupyter.widget-view+json": {
       "model_id": "263fd4b3fbb144e5be637d126d1e4345",
       "version_major": 2,
       "version_minor": 0
      },
      "text/plain": [
       "HopSkipJump:   0%|          | 0/347 [00:00<?, ?it/s]"
      ]
     },
     "metadata": {},
     "output_type": "display_data"
    },
    {
     "data": {
      "application/vnd.jupyter.widget-view+json": {
       "model_id": "14f10f215ce344e6a0efe3818f09ff85",
       "version_major": 2,
       "version_minor": 0
      },
      "text/plain": [
       "HopSkipJump:   0%|          | 0/347 [00:00<?, ?it/s]"
      ]
     },
     "metadata": {},
     "output_type": "display_data"
    },
    {
     "data": {
      "application/vnd.jupyter.widget-view+json": {
       "model_id": "b58bc800ab2141f0952798b3ff211211",
       "version_major": 2,
       "version_minor": 0
      },
      "text/plain": [
       "HopSkipJump:   0%|          | 0/347 [00:00<?, ?it/s]"
      ]
     },
     "metadata": {},
     "output_type": "display_data"
    },
    {
     "data": {
      "application/vnd.jupyter.widget-view+json": {
       "model_id": "27df5f05f61241468cd92383ea7484ac",
       "version_major": 2,
       "version_minor": 0
      },
      "text/plain": [
       "HopSkipJump:   0%|          | 0/347 [00:00<?, ?it/s]"
      ]
     },
     "metadata": {},
     "output_type": "display_data"
    },
    {
     "data": {
      "application/vnd.jupyter.widget-view+json": {
       "model_id": "aade3874b29744c8b5af452a20aca2b2",
       "version_major": 2,
       "version_minor": 0
      },
      "text/plain": [
       "HopSkipJump:   0%|          | 0/347 [00:00<?, ?it/s]"
      ]
     },
     "metadata": {},
     "output_type": "display_data"
    },
    {
     "data": {
      "application/vnd.jupyter.widget-view+json": {
       "model_id": "f163c3c3e4d64e81ba7af8e560ef28cf",
       "version_major": 2,
       "version_minor": 0
      },
      "text/plain": [
       "HopSkipJump:   0%|          | 0/347 [00:00<?, ?it/s]"
      ]
     },
     "metadata": {},
     "output_type": "display_data"
    },
    {
     "data": {
      "application/vnd.jupyter.widget-view+json": {
       "model_id": "51721a3c1c01434e9d88c39cb6f23e71",
       "version_major": 2,
       "version_minor": 0
      },
      "text/plain": [
       "HopSkipJump:   0%|          | 0/347 [00:00<?, ?it/s]"
      ]
     },
     "metadata": {},
     "output_type": "display_data"
    },
    {
     "data": {
      "application/vnd.jupyter.widget-view+json": {
       "model_id": "f9cfcbfefb6e466aab47bfb07b9f0a1d",
       "version_major": 2,
       "version_minor": 0
      },
      "text/plain": [
       "HopSkipJump:   0%|          | 0/366 [00:00<?, ?it/s]"
      ]
     },
     "metadata": {},
     "output_type": "display_data"
    },
    {
     "name": "stdout",
     "output_type": "stream",
     "text": [
      "Adversarial HopSkipJump examples generated. Shape: (8000, 70)\n",
      "Running attack using 23 CPU cores...\n",
      "\n",
      "Process 1364151 is generating adversarial examples for batch of size 211 \n",
      "Process 1364152 is generating adversarial examples for batch of size 211 \n",
      "Process 1364153 is generating adversarial examples for batch of size 211 \n",
      "Process 1364154 is generating adversarial examples for batch of size 211 \n",
      "Process 1364155 is generating adversarial examples for batch of size 211 \n",
      "Process 1364156 is generating adversarial examples for batch of size 211 \n",
      "Process 1364157 is generating adversarial examples for batch of size 211 \n",
      "\n",
      "\n",
      "\n",
      "\n",
      "Process 1364159 is generating adversarial examples for batch of size 211 \n",
      "Process 1364158 is generating adversarial examples for batch of size 211 \n",
      "\n",
      "Process 1364160 is generating adversarial examples for batch of size 211 \n",
      "\n",
      "\n",
      "Process 1364161 is generating adversarial examples for batch of size 211 \n",
      "Process 1364162 is generating adversarial examples for batch of size 211 \n",
      "Process 1364163 is generating adversarial examples for batch of size 211 \n",
      "\n",
      "\n",
      "\n",
      "Process 1364164 is generating adversarial examples for batch of size 211 \n",
      "\n",
      "Process 1364165 is generating adversarial examples for batch of size 211 \n",
      "\n",
      "\n",
      "Process 1364166 is generating adversarial examples for batch of size 211 \n",
      "Process 1364167 is generating adversarial examples for batch of size 211 \n",
      "\n",
      "Process 1364168 is generating adversarial examples for batch of size 211 \n",
      "Process 1364169 is generating adversarial examples for batch of size 211 \n",
      "\n",
      "Process 1364171 is generating adversarial examples for batch of size 211 \n",
      "Process 1364170 is generating adversarial examples for batch of size 211 \n",
      "Process 1364173 is generating adversarial examples for batch of size 215 \n",
      "Process 1364172 is generating adversarial examples for batch of size 211 \n",
      "\n",
      "\n",
      "\n",
      "\n",
      "\n",
      "\n",
      "\n",
      "\n"
     ]
    },
    {
     "data": {
      "application/vnd.jupyter.widget-view+json": {
       "model_id": "8476d4ea05004111a3756215772ae85c",
       "version_major": 2,
       "version_minor": 0
      },
      "text/plain": [
       "HopSkipJump:   0%|          | 0/211 [00:00<?, ?it/s]"
      ]
     },
     "metadata": {},
     "output_type": "display_data"
    },
    {
     "data": {
      "application/vnd.jupyter.widget-view+json": {
       "model_id": "72da5ef958354c11b417c3159e4736b5",
       "version_major": 2,
       "version_minor": 0
      },
      "text/plain": [
       "HopSkipJump:   0%|          | 0/211 [00:00<?, ?it/s]"
      ]
     },
     "metadata": {},
     "output_type": "display_data"
    },
    {
     "data": {
      "application/vnd.jupyter.widget-view+json": {
       "model_id": "ec16e0d38c774bc4a92ebed8f8fcd0d4",
       "version_major": 2,
       "version_minor": 0
      },
      "text/plain": [
       "HopSkipJump:   0%|          | 0/211 [00:00<?, ?it/s]"
      ]
     },
     "metadata": {},
     "output_type": "display_data"
    },
    {
     "data": {
      "application/vnd.jupyter.widget-view+json": {
       "model_id": "720bdc83b890413ca5a9c69c5255ed70",
       "version_major": 2,
       "version_minor": 0
      },
      "text/plain": [
       "HopSkipJump:   0%|          | 0/211 [00:00<?, ?it/s]"
      ]
     },
     "metadata": {},
     "output_type": "display_data"
    },
    {
     "data": {
      "application/vnd.jupyter.widget-view+json": {
       "model_id": "2f2b63528fa846e489d648d5b170d673",
       "version_major": 2,
       "version_minor": 0
      },
      "text/plain": [
       "HopSkipJump:   0%|          | 0/211 [00:00<?, ?it/s]"
      ]
     },
     "metadata": {},
     "output_type": "display_data"
    },
    {
     "data": {
      "application/vnd.jupyter.widget-view+json": {
       "model_id": "2f0561d6b49348aaa015e9f0b8986142",
       "version_major": 2,
       "version_minor": 0
      },
      "text/plain": [
       "HopSkipJump:   0%|          | 0/211 [00:00<?, ?it/s]"
      ]
     },
     "metadata": {},
     "output_type": "display_data"
    },
    {
     "data": {
      "application/vnd.jupyter.widget-view+json": {
       "model_id": "4d88d14fbdd14547b347642f61c74ba1",
       "version_major": 2,
       "version_minor": 0
      },
      "text/plain": [
       "HopSkipJump:   0%|          | 0/211 [00:00<?, ?it/s]"
      ]
     },
     "metadata": {},
     "output_type": "display_data"
    },
    {
     "data": {
      "application/vnd.jupyter.widget-view+json": {
       "model_id": "dac3ac261d7b4c108e42068659d42df1",
       "version_major": 2,
       "version_minor": 0
      },
      "text/plain": [
       "HopSkipJump:   0%|          | 0/211 [00:00<?, ?it/s]"
      ]
     },
     "metadata": {},
     "output_type": "display_data"
    },
    {
     "data": {
      "application/vnd.jupyter.widget-view+json": {
       "model_id": "834e5311813f41e994e2d763abc924cd",
       "version_major": 2,
       "version_minor": 0
      },
      "text/plain": [
       "HopSkipJump:   0%|          | 0/211 [00:00<?, ?it/s]"
      ]
     },
     "metadata": {},
     "output_type": "display_data"
    },
    {
     "data": {
      "application/vnd.jupyter.widget-view+json": {
       "model_id": "e036659b83b34509b9b33d72da17c290",
       "version_major": 2,
       "version_minor": 0
      },
      "text/plain": [
       "HopSkipJump:   0%|          | 0/211 [00:00<?, ?it/s]"
      ]
     },
     "metadata": {},
     "output_type": "display_data"
    },
    {
     "data": {
      "application/vnd.jupyter.widget-view+json": {
       "model_id": "a638d00adf36461ba725d579cdcf97c9",
       "version_major": 2,
       "version_minor": 0
      },
      "text/plain": [
       "HopSkipJump:   0%|          | 0/211 [00:00<?, ?it/s]"
      ]
     },
     "metadata": {},
     "output_type": "display_data"
    },
    {
     "data": {
      "application/vnd.jupyter.widget-view+json": {
       "model_id": "0e13dbea6623416e9c26d9dc1cb2cf36",
       "version_major": 2,
       "version_minor": 0
      },
      "text/plain": [
       "HopSkipJump:   0%|          | 0/211 [00:00<?, ?it/s]"
      ]
     },
     "metadata": {},
     "output_type": "display_data"
    },
    {
     "data": {
      "application/vnd.jupyter.widget-view+json": {
       "model_id": "498ca3e435d1446c8275809475a43a22",
       "version_major": 2,
       "version_minor": 0
      },
      "text/plain": [
       "HopSkipJump:   0%|          | 0/211 [00:00<?, ?it/s]"
      ]
     },
     "metadata": {},
     "output_type": "display_data"
    },
    {
     "data": {
      "application/vnd.jupyter.widget-view+json": {
       "model_id": "ea9a4377f58c46eebd82f64dc65ef046",
       "version_major": 2,
       "version_minor": 0
      },
      "text/plain": [
       "HopSkipJump:   0%|          | 0/211 [00:00<?, ?it/s]"
      ]
     },
     "metadata": {},
     "output_type": "display_data"
    },
    {
     "data": {
      "application/vnd.jupyter.widget-view+json": {
       "model_id": "a26342589809441aa5c21a776aca317e",
       "version_major": 2,
       "version_minor": 0
      },
      "text/plain": [
       "HopSkipJump:   0%|          | 0/211 [00:00<?, ?it/s]"
      ]
     },
     "metadata": {},
     "output_type": "display_data"
    },
    {
     "data": {
      "application/vnd.jupyter.widget-view+json": {
       "model_id": "7cbc884a80554b4a9d34e94ec82aeae3",
       "version_major": 2,
       "version_minor": 0
      },
      "text/plain": [
       "HopSkipJump:   0%|          | 0/211 [00:00<?, ?it/s]"
      ]
     },
     "metadata": {},
     "output_type": "display_data"
    },
    {
     "data": {
      "application/vnd.jupyter.widget-view+json": {
       "model_id": "9f3c1d88f8ec4fe89e02a54ebde761c3",
       "version_major": 2,
       "version_minor": 0
      },
      "text/plain": [
       "HopSkipJump:   0%|          | 0/211 [00:00<?, ?it/s]"
      ]
     },
     "metadata": {},
     "output_type": "display_data"
    },
    {
     "data": {
      "application/vnd.jupyter.widget-view+json": {
       "model_id": "0ab2166405cc489a9c037fb5b35cdaa7",
       "version_major": 2,
       "version_minor": 0
      },
      "text/plain": [
       "HopSkipJump:   0%|          | 0/211 [00:00<?, ?it/s]"
      ]
     },
     "metadata": {},
     "output_type": "display_data"
    },
    {
     "data": {
      "application/vnd.jupyter.widget-view+json": {
       "model_id": "053ae43d41454d50bd6d22301ba7eabb",
       "version_major": 2,
       "version_minor": 0
      },
      "text/plain": [
       "HopSkipJump:   0%|          | 0/211 [00:00<?, ?it/s]"
      ]
     },
     "metadata": {},
     "output_type": "display_data"
    },
    {
     "data": {
      "application/vnd.jupyter.widget-view+json": {
       "model_id": "4320d09b0db0439e8c5f62d8e2a34267",
       "version_major": 2,
       "version_minor": 0
      },
      "text/plain": [
       "HopSkipJump:   0%|          | 0/211 [00:00<?, ?it/s]"
      ]
     },
     "metadata": {},
     "output_type": "display_data"
    },
    {
     "data": {
      "application/vnd.jupyter.widget-view+json": {
       "model_id": "e7416ccd943243b68c3da9ba315d186f",
       "version_major": 2,
       "version_minor": 0
      },
      "text/plain": [
       "HopSkipJump:   0%|          | 0/211 [00:00<?, ?it/s]"
      ]
     },
     "metadata": {},
     "output_type": "display_data"
    },
    {
     "data": {
      "application/vnd.jupyter.widget-view+json": {
       "model_id": "b4b1ffd685e14c6591dac4aff5ae9290",
       "version_major": 2,
       "version_minor": 0
      },
      "text/plain": [
       "HopSkipJump:   0%|          | 0/211 [00:00<?, ?it/s]"
      ]
     },
     "metadata": {},
     "output_type": "display_data"
    },
    {
     "data": {
      "application/vnd.jupyter.widget-view+json": {
       "model_id": "f47f4736936244dcbc6f9bca85d7251f",
       "version_major": 2,
       "version_minor": 0
      },
      "text/plain": [
       "HopSkipJump:   0%|          | 0/215 [00:00<?, ?it/s]"
      ]
     },
     "metadata": {},
     "output_type": "display_data"
    },
    {
     "name": "stdout",
     "output_type": "stream",
     "text": [
      "Adversarial HopSkipJump examples generated. Shape: (4857, 70)\n",
      "Create HSJ Adversarial Attack | Indices: Index([88742, 2133571, 243066, 370119, 1901648], dtype='int64')... | Shape: (12857, 70)\n",
      "Accuracy: 49.59%\n",
      "              precision    recall  f1-score   support\n",
      "\n",
      "      ATTACK     0.0000    0.0000    0.0000      6481\n",
      "      BENIGN     0.4959    1.0000    0.6630      6376\n",
      "\n",
      "    accuracy                         0.4959     12857\n",
      "   macro avg     0.2480    0.5000    0.3315     12857\n",
      "weighted avg     0.2459    0.4959    0.3288     12857\n",
      "\n",
      "Confusion Matrix: Positive == BENIGN\n",
      "TN: 0, FP: 6481, FN: 0, TP: 6376\n",
      "Predictions on Adversarial Attacks | Indices: Index([88742, 2133571, 243066, 370119, 1901648], dtype='int64')... | Shape: (12857, 2)\n",
      "Running attack using 24 CPU cores...\n",
      "\n",
      "Process 1378853 is generating adversarial examples for batch of size 333 \n",
      "Process 1378854 is generating adversarial examples for batch of size 333 \n",
      "Process 1378855 is generating adversarial examples for batch of size 333 \n",
      "Process 1378856 is generating adversarial examples for batch of size 333 \n",
      "Process 1378857 is generating adversarial examples for batch of size 333 \n",
      "\n",
      "\n",
      "Process 1378858 is generating adversarial examples for batch of size 333 \n",
      "\n",
      "Process 1378859 is generating adversarial examples for batch of size 333 \n",
      "\n",
      "Process 1378860 is generating adversarial examples for batch of size 333 \n",
      "Process 1378861 is generating adversarial examples for batch of size 333 \n",
      "Process 1378862 is generating adversarial examples for batch of size 333 \n",
      "\n",
      "\n",
      "\n",
      "\n",
      "Process 1378864 is generating adversarial examples for batch of size 333 \n",
      "Process 1378863 is generating adversarial examples for batch of size 333 \n",
      "\n",
      "Process 1378865 is generating adversarial examples for batch of size 333 \n",
      "\n",
      "Process 1378866 is generating adversarial examples for batch of size 333 \n",
      "\n",
      "Process 1378867 is generating adversarial examples for batch of size 333 \n",
      "\n",
      "\n",
      "Process 1378868 is generating adversarial examples for batch of size 333 \n",
      "Process 1378869 is generating adversarial examples for batch of size 333 \n",
      "\n",
      "Process 1378870 is generating adversarial examples for batch of size 333 \n",
      "\n",
      "Process 1378871 is generating adversarial examples for batch of size 333 \n",
      "\n",
      "\n",
      "Process 1378872 is generating adversarial examples for batch of size 333 \n",
      "\n",
      "\n",
      "Process 1378873 is generating adversarial examples for batch of size 333 \n",
      "Process 1378874 is generating adversarial examples for batch of size 333 \n",
      "\n",
      "Process 1378875 is generating adversarial examples for batch of size 333 \n",
      "\n",
      "\n",
      "\n",
      "Process 1378876 is generating adversarial examples for batch of size 341 \n",
      "\n",
      "Adversarial Boundary examples generated. Shape: (8000, 70)\n",
      "Running attack using 24 CPU cores...\n",
      "\n",
      "Process 1378984 is generating adversarial examples for batch of size 202 \n",
      "Process 1378985 is generating adversarial examples for batch of size 202 \n",
      "Process 1378986 is generating adversarial examples for batch of size 202 \n",
      "Process 1378987 is generating adversarial examples for batch of size 202 \n",
      "Process 1378988 is generating adversarial examples for batch of size 202 \n",
      "Process 1378990 is generating adversarial examples for batch of size 202 \n",
      "Process 1378989 is generating adversarial examples for batch of size 202 \n",
      "Process 1378991 is generating adversarial examples for batch of size 202 \n",
      "\n",
      "\n",
      "Process 1378993 is generating adversarial examples for batch of size 202 \n",
      "Process 1378994 is generating adversarial examples for batch of size 202 \n",
      "\n",
      "Process 1378992 is generating adversarial examples for batch of size 202 \n",
      "\n",
      "\n",
      "\n",
      "\n",
      "\n",
      "Process 1378995 is generating adversarial examples for batch of size 202 \n",
      "\n",
      "Process 1378996 is generating adversarial examples for batch of size 202 \n",
      "Process 1378997 is generating adversarial examples for batch of size 202 \n",
      "\n",
      "Process 1378998 is generating adversarial examples for batch of size 202 \n",
      "\n",
      "\n",
      "Process 1379001 is generating adversarial examples for batch of size 202 \n",
      "Process 1379000 is generating adversarial examples for batch of size 202 \n",
      "\n",
      "\n",
      "Process 1379002 is generating adversarial examples for batch of size 202 \n",
      "Process 1378999 is generating adversarial examples for batch of size 202 \n",
      "\n",
      "Process 1379003 is generating adversarial examples for batch of size 202 \n",
      "Process 1379004 is generating adversarial examples for batch of size 202 \n",
      "Process 1379005 is generating adversarial examples for batch of size 202 \n",
      "\n",
      "Process 1379006 is generating adversarial examples for batch of size 202 \n",
      "\n",
      "\n",
      "\n",
      "\n",
      "\n",
      "\n",
      "\n",
      "Process 1379007 is generating adversarial examples for batch of size 211 \n",
      "\n",
      "Adversarial Boundary examples generated. Shape: (4857, 70)\n",
      "Create Boundary Adversarial Attack | Indices: Index([131810, 1999489, 2443322, 874620, 993721], dtype='int64')... | Shape: (12857, 70)\n",
      "Accuracy: 51.89%\n",
      "              precision    recall  f1-score   support\n",
      "\n",
      "      ATTACK     0.7846    0.0082    0.0162      6223\n",
      "      BENIGN     0.5175    0.9979    0.6816      6634\n",
      "\n",
      "    accuracy                         0.5189     12857\n",
      "   macro avg     0.6511    0.5030    0.3489     12857\n",
      "weighted avg     0.6468    0.5189    0.3595     12857\n",
      "\n",
      "Confusion Matrix: Positive == BENIGN\n",
      "TN: 51, FP: 6172, FN: 14, TP: 6620\n",
      "Predictions on Adversarial Attacks | Indices: Index([131810, 1999489, 2443322, 874620, 993721], dtype='int64')... | Shape: (12857, 2)\n"
     ]
    }
   ],
   "source": [
    "import functions.attack_generator as ag\n",
    "import importlib\n",
    "import numpy as np\n",
    "importlib.reload(ag)\n",
    "\n",
    "all_features = dataset.drop(columns=[' Label'])\n",
    "art_model = ag.convert_to_art_model(ids_model, X_train) # TODO: use all features for generating art model\n",
    "\n",
    "# Split the training data into classes\n",
    "class_labels = [\"normal\", \"cw\", \"fgsm\", \"jsma\", \"pgd\", \"boundary\", \"hsj\"]\n",
    "splits = ag.split_into_attack_classes(X_train, y_train, class_labels)\n",
    "X_normal, y_normal = splits[\"normal\"]\n",
    "X_cw, y_cw = splits[\"cw\"]\n",
    "X_fgsm, y_fgsm = splits[\"fgsm\"]\n",
    "X_jsma, y_jsma = splits[\"jsma\"]\n",
    "X_pgd, y_pgd = splits[\"pgd\"]\n",
    "X_boundary, y_boundary = splits[\"boundary\"]\n",
    "X_hsj, y_hsj = splits[\"hsj\"]\n",
    "print(f\"Normal Data: {X_normal.shape} | CW Data: {X_cw.shape} | FGSM Data: {X_fgsm.shape} | JSMA Data: {X_jsma.shape} | PGD Data: {X_pgd.shape} | Boundary Data: {X_boundary.shape} | HSJ Data: {X_hsj.shape}\")\n",
    "\n",
    "# -- White-Box Attacks --\n",
    "# generate attacks on the separated training data\n",
    "X_adv_fgsm = ag.generate_fgsm_attacks(art_model, X_fgsm, target_label=1)\n",
    "print(f\"Create FGSM Adversarial Attack | Indices: {X_adv_fgsm.index[:5]}... | Shape: {X_adv_fgsm.shape}\")\n",
    "y_pred_adv_fgsm = ag.evaluate_art_model(art_model, X_adv_fgsm, y_fgsm)\n",
    "print(f\"Predictions on Adversarial Attacks | Indices: {y_pred_adv_fgsm.index[:5]}... | Shape: {y_pred_adv_fgsm.shape}\")\n",
    "y_pred_fgsm = y_pred.loc[X_fgsm.index]\n",
    "\n",
    "import multiprocessing\n",
    "num_cores = multiprocessing.cpu_count()\n",
    "X_adv_cw = ag.generate_cw_attacks_parallel(art_model, X_cw, target_label=1, num_cores=num_cores)\n",
    "print(f\"Create CW Adversarial Attack | Indices: {X_adv_cw.index[:5]}... | Shape: {X_adv_cw.shape}\")\n",
    "y_pred_adv_cw = ag.evaluate_art_model(art_model, X_adv_cw, y_cw)\n",
    "print(f\"Predictions on Adversarial Attacks | Indices: {y_pred_adv_cw.index[:5]}... | Shape: {y_pred_adv_cw.shape}\")\n",
    "y_pred_cw = y_pred.loc[X_cw.index]\n",
    "\n",
    "X_adv_jsma = ag.generate_jsma_attacks(art_model, X_jsma, target_label=1)\n",
    "print(f\"Create JSMA Adversarial Attack | Indices: {X_adv_jsma.index[:5]}... | Shape: {X_adv_jsma.shape}\")\n",
    "y_pred_adv_jsma = ag.evaluate_art_model(art_model, X_adv_jsma, y_jsma)\n",
    "print(f\"Predictions on Adversarial Attacks | Indices: {y_pred_adv_jsma.index[:5]}... | Shape: {y_pred_adv_jsma.shape}\")\n",
    "y_pred_jsma = y_pred.loc[X_jsma.index]\n",
    "\n",
    "X_adv_pgd = ag.generate_pgd_attacks(art_model, X_pgd, target_label=1)\n",
    "print(f\"Create PGD Adversarial Attack | Indices: {X_adv_pgd.index[:5]}... | Shape: {X_adv_pgd.shape}\")\n",
    "y_pred_adv_pgd = ag.evaluate_art_model(art_model, X_adv_pgd, y_pgd)\n",
    "print(f\"Predictions on Adversarial Attacks | Indices: {y_pred_adv_pgd.index[:5]}... | Shape: {y_pred_adv_pgd.shape}\")\n",
    "y_pred_pgd = y_pred.loc[X_pgd.index]\n",
    "\n",
    "# -- Black-Box Attacks --\n",
    "import pandas as pd\n",
    "X_hsj_first = X_hsj[:8000] # split data to avoid memory error\n",
    "X_hsj_second = X_hsj[8000:16000]\n",
    "X_adv_hsj_first = ag.generate_hsj_attacks_parallel(art_model, X_hsj_first, target_label=1, num_cores=num_cores-1) # TODO: use num_cores-1 to avoid memory error\n",
    "X_adv_hsj_second = ag.generate_hsj_attacks_parallel(art_model, X_hsj_second, target_label=1, num_cores=num_cores-1) # TODO: use num_cores-1 to avoid memory error\n",
    "X_adv_hsj = pd.concat([X_adv_hsj_first, X_adv_hsj_second])\n",
    "# X_adv_hsj = ag.generate_hsj_attacks_parallel(art_model, X_hsj, target_label=1, num_cores=num_cores)\n",
    "print(f\"Create HSJ Adversarial Attack | Indices: {X_adv_hsj.index[:5]}... | Shape: {X_adv_hsj.shape}\")\n",
    "y_pred_adv_hsj = ag.evaluate_art_model(art_model, X_adv_hsj, y_hsj)\n",
    "print(f\"Predictions on Adversarial Attacks | Indices: {y_pred_adv_hsj.index[:5]}... | Shape: {y_pred_adv_hsj.shape}\")\n",
    "y_pred_hsj = y_pred.loc[X_hsj.index]\n",
    "\n",
    "X_boundary_first = X_boundary[:8000] # split data to avoid memory error\n",
    "X_boundary_second = X_boundary[8000:16000]\n",
    "X_adv_boundary_first = ag.generate_boundary_attacks_parallel(art_model, X_boundary_first, target_label=1, num_cores=num_cores)\n",
    "X_adv_boundary_second = ag.generate_boundary_attacks_parallel(art_model, X_boundary_second, target_label=1, num_cores=num_cores)\n",
    "X_adv_boundary = pd.concat([X_adv_boundary_first, X_adv_boundary_second])\n",
    "print(f\"Create Boundary Adversarial Attack | Indices: {X_adv_boundary.index[:5]}... | Shape: {X_adv_boundary.shape}\")\n",
    "y_pred_adv_boundary = ag.evaluate_art_model(art_model, X_adv_boundary, y_boundary)\n",
    "print(f\"Predictions on Adversarial Attacks | Indices: {y_pred_adv_boundary.index[:5]}... | Shape: {y_pred_adv_boundary.shape}\")\n",
    "y_pred_boundary = y_pred.loc[X_adv_boundary.index]"
   ]
  },
  {
   "cell_type": "code",
   "execution_count": 7,
   "metadata": {},
   "outputs": [
    {
     "name": "stdout",
     "output_type": "stream",
     "text": [
      "Adversarial Samples Generated | FGSM: (12857, 70) | CW: (12857, 70) | JSMA: (12857, 70) | PGD: (12857, 70) | HSJ: (12857, 70) | Boundary: (12857, 70)\n"
     ]
    }
   ],
   "source": [
    "print(f\"Adversarial Samples Generated | FGSM: {X_adv_fgsm.shape} | CW: {X_adv_cw.shape} | JSMA: {X_adv_jsma.shape} | PGD: {X_adv_pgd.shape} | HSJ: {X_hsj.shape} | Boundary: {X_boundary.shape}\")"
   ]
  },
  {
   "cell_type": "code",
   "execution_count": 8,
   "metadata": {},
   "outputs": [],
   "source": [
    "def get_correctly_benign_classified_indices(y_train, y_pred):\n",
    "    benign_indices = y_train[y_train['BENIGN'] == 1].index\n",
    "    benign_adv_predicted_indices = y_pred[y_pred['BENIGN'] == 1].index\n",
    "    correctly_benign_classified_indices = benign_indices.intersection(benign_adv_predicted_indices)\n",
    "    return correctly_benign_classified_indices\n",
    "\n",
    "def get_misclassified_as_benign_due_attack_indices(y_train, y_pred, y_pred_adv):\n",
    "    attack_indices = y_train[y_train['ATTACK'] == 1].index\n",
    "    attack_adv_predicted_indices = y_pred[y_pred['ATTACK'] == 1].index\n",
    "    benign_predicted_adversarial_indices = y_pred_adv[y_pred_adv['BENIGN'] == 1].index\n",
    "    misclassified_as_benign_due_attack_indices = attack_indices.intersection(attack_adv_predicted_indices).intersection(benign_predicted_adversarial_indices)\n",
    "    return misclassified_as_benign_due_attack_indices"
   ]
  },
  {
   "cell_type": "code",
   "execution_count": 10,
   "metadata": {},
   "outputs": [
    {
     "name": "stdout",
     "output_type": "stream",
     "text": [
      "Correctly classified as BENIGN from the IDS: 6298 | Indices: Index([262886, 1486827, 918584], dtype='int64')\n",
      "ATTACK sample misclassified as BENIGN from the IDS: 39 | Indices: Index([1914664, 1868083, 1925337], dtype='int64')\n",
      "    Correctly classified as BENIGN from the IDS (FGSM): 6382 | Indices: Index([1556755, 1502880, 1901844], dtype='int64')\n",
      "    ATTACK sample misclassified as BENIGN due to adversarial attack (FGSM): 6437 | Indices: Index([1188693, 1048854, 1126467], dtype='int64')\n",
      "        Correctly classified as BENIGN from the IDS (CW): 6200 | Indices: Index([511075, 679007, 2621563], dtype='int64')\n",
      "        ATTACK sample misclassified as BENIGN due to adversarial attack (CW): 3108 | Indices: Index([107683, 937845, 182152], dtype='int64')\n",
      "            Correctly classified as BENIGN from the IDS (PGD): 6260 | Indices: Index([1726962, 2821724, 1728919], dtype='int64')\n",
      "            ATTACK sample misclassified as BENIGN due to adversarial attack (PGD): 6383 | Indices: Index([335288, 163852, 379946], dtype='int64')\n",
      "                Correctly classified as BENIGN from the IDS (JSMA): 6214 | Indices: Index([979925, 1338813, 1870573], dtype='int64')\n",
      "                ATTACK sample misclassified as BENIGN due to adversarial attack (JSMA): 6427 | Indices: Index([367268, 1260926, 438297], dtype='int64')\n",
      "                    Correctly classified as BENIGN from the IDS (Boundary): 6620 | Indices: Index([1999489, 2443322, 874620], dtype='int64')\n",
      "                    ATTACK sample misclassified as BENIGN due to adversarial attack (Boundary): 6138 | Indices: Index([131810, 1244986, 93766], dtype='int64')\n",
      "                        Correctly classified as BENIGN from the IDS (HSJ): 6211 | Indices: Index([2133571, 1901648, 816645], dtype='int64')\n",
      "                        ATTACK sample misclassified as BENIGN due to adversarial attack (HSJ): 6449 | Indices: Index([88742, 243066, 370119], dtype='int64')\n"
     ]
    }
   ],
   "source": [
    "y_pred_normal = y_pred.loc[X_normal.index]\n",
    "correctly_benign_classified_indices = get_correctly_benign_classified_indices(y_normal, y_pred_normal)\n",
    "misclassified_as_benign_indices = get_misclassified_as_benign_due_attack_indices(y_normal, y_normal, y_pred_normal)\n",
    "\n",
    "correctly_benign_classified_indices_fgsm = get_correctly_benign_classified_indices(y_fgsm, y_pred_adv_fgsm)\n",
    "misclassified_as_benign_due_attack_indices_fgsm = get_misclassified_as_benign_due_attack_indices(y_fgsm, y_pred_fgsm, y_pred_adv_fgsm)\n",
    "\n",
    "correctly_benign_classified_indices_cw = get_correctly_benign_classified_indices(y_cw, y_pred_cw)\n",
    "misclassified_as_benign_due_attack_indices_cw = get_misclassified_as_benign_due_attack_indices(y_cw, y_pred_cw, y_pred_adv_cw)\n",
    "\n",
    "correctly_benign_classified_indices_jsma = get_correctly_benign_classified_indices(y_jsma, y_pred_jsma)\n",
    "misclassified_as_benign_due_attack_indices_jsma = get_misclassified_as_benign_due_attack_indices(y_jsma, y_pred_jsma, y_pred_adv_jsma)\n",
    "\n",
    "# TODO: is it correct to only include the samples that are correctly classified from the IDS?\n",
    "correctly_benign_classified_indices_pgd = get_correctly_benign_classified_indices(y_pgd, y_pred_pgd)\n",
    "misclassified_as_benign_due_attack_indices_pgd = get_misclassified_as_benign_due_attack_indices(y_pgd, y_pred_pgd, y_pred_adv_pgd)\n",
    "\n",
    "correctly_benign_classified_indices_boundary = get_correctly_benign_classified_indices(y_boundary, y_pred_adv_boundary)\n",
    "misclassified_as_benign_due_attack_indices_boundary = get_misclassified_as_benign_due_attack_indices(y_boundary, y_pred_boundary, y_pred_adv_boundary)\n",
    "\n",
    "correctly_benign_classified_indices_hsj = get_correctly_benign_classified_indices(y_hsj, y_pred_hsj)\n",
    "misclassified_as_benign_due_attack_indices_hsj = get_misclassified_as_benign_due_attack_indices(y_hsj, y_pred_hsj, y_pred_adv_hsj)\n",
    "\n",
    "print(f\"Correctly classified as BENIGN from the IDS: {len(correctly_benign_classified_indices)} | Indices: {correctly_benign_classified_indices[:3]}\")\n",
    "print(f\"ATTACK sample misclassified as BENIGN from the IDS: {len(misclassified_as_benign_indices)} | Indices: {misclassified_as_benign_indices[:3]}\")\n",
    "print(f\"    Correctly classified as BENIGN from the IDS (FGSM): {len(correctly_benign_classified_indices_fgsm)} | Indices: {correctly_benign_classified_indices_fgsm[:3]}\")\n",
    "print(f\"    ATTACK sample misclassified as BENIGN due to adversarial attack (FGSM): {len(misclassified_as_benign_due_attack_indices_fgsm)} | Indices: {misclassified_as_benign_due_attack_indices_fgsm[:3]}\")\n",
    "print(f\"        Correctly classified as BENIGN from the IDS (CW): {len(correctly_benign_classified_indices_cw)} | Indices: {correctly_benign_classified_indices_cw[:3]}\")\n",
    "print(f\"        ATTACK sample misclassified as BENIGN due to adversarial attack (CW): {len(misclassified_as_benign_due_attack_indices_cw)} | Indices: {misclassified_as_benign_due_attack_indices_cw[:3]}\")\n",
    "print(f\"            Correctly classified as BENIGN from the IDS (PGD): {len(correctly_benign_classified_indices_pgd)} | Indices: {correctly_benign_classified_indices_pgd[:3]}\")\n",
    "print(f\"            ATTACK sample misclassified as BENIGN due to adversarial attack (PGD): {len(misclassified_as_benign_due_attack_indices_pgd)} | Indices: {misclassified_as_benign_due_attack_indices_pgd[:3]}\")\n",
    "print(f\"                Correctly classified as BENIGN from the IDS (JSMA): {len(correctly_benign_classified_indices_jsma)} | Indices: {correctly_benign_classified_indices_jsma[:3]}\")\n",
    "print(f\"                ATTACK sample misclassified as BENIGN due to adversarial attack (JSMA): {len(misclassified_as_benign_due_attack_indices_jsma)} | Indices: {misclassified_as_benign_due_attack_indices_jsma[:3]}\")\n",
    "print(f\"                    Correctly classified as BENIGN from the IDS (Boundary): {len(correctly_benign_classified_indices_boundary)} | Indices: {correctly_benign_classified_indices_boundary[:3]}\")\n",
    "print(f\"                    ATTACK sample misclassified as BENIGN due to adversarial attack (Boundary): {len(misclassified_as_benign_due_attack_indices_boundary)} | Indices: {misclassified_as_benign_due_attack_indices_boundary[:3]}\")\n",
    "print(f\"                        Correctly classified as BENIGN from the IDS (HSJ): {len(correctly_benign_classified_indices_hsj)} | Indices: {correctly_benign_classified_indices_hsj[:3]}\")\n",
    "print(f\"                        ATTACK sample misclassified as BENIGN due to adversarial attack (HSJ): {len(misclassified_as_benign_due_attack_indices_hsj)} | Indices: {misclassified_as_benign_due_attack_indices_hsj[:3]}\")"
   ]
  },
  {
   "cell_type": "code",
   "execution_count": 1,
   "metadata": {},
   "outputs": [],
   "source": [
    "# import functions.visualizer as visualizer\n",
    "# import importlib\n",
    "# importlib.reload(visualizer)\n",
    "\n",
    "# visualizer.visualize_data_distribution(X_train.loc[correctly_benign_classified_indices], 'Normal Data', X_adv_boundary.loc[misclassified_as_benign_due_attack_indices_boundary], 'Adversarial Data')\n",
    "# visualizer.visualize_data_distribution(X_train.loc[correctly_benign_classified_indices], 'Normal Data', X_adv_hsj.loc[misclassified_as_benign_due_attack_indices_hsj], 'Adversarial Data', side_by_side=False)"
   ]
  },
  {
   "cell_type": "markdown",
   "metadata": {},
   "source": [
    "## Explainer"
   ]
  },
  {
   "cell_type": "code",
   "execution_count": 9,
   "metadata": {},
   "outputs": [
    {
     "name": "stderr",
     "output_type": "stream",
     "text": [
      "PermutationExplainer explainer: 12859it [05:15, 39.79it/s]                           \n"
     ]
    },
    {
     "name": "stdout",
     "output_type": "stream",
     "text": [
      "Generate Explanations | Indices: Index([262886, 1486827, 1143127, 1180575, 1111871], dtype='int64')... | Shape: (12858, 70)\n"
     ]
    },
    {
     "name": "stderr",
     "output_type": "stream",
     "text": [
      "PermutationExplainer explainer: 12858it [06:17, 33.31it/s]                           \n"
     ]
    },
    {
     "name": "stdout",
     "output_type": "stream",
     "text": [
      "Generate FGSM Adversarial Explanations | Indices: Index([1556755, 1502880, 1188693, 1901844, 1433020], dtype='int64')... | Shape: (12857, 70)\n"
     ]
    },
    {
     "name": "stderr",
     "output_type": "stream",
     "text": [
      "PermutationExplainer explainer: 12858it [05:55, 35.16it/s]                           \n"
     ]
    },
    {
     "name": "stdout",
     "output_type": "stream",
     "text": [
      "Generate CW Adversarial Explanations | Indices: Index([1761902, 107683, 1209133, 511075, 937845], dtype='int64')... | Shape: (12857, 70)\n"
     ]
    },
    {
     "name": "stderr",
     "output_type": "stream",
     "text": [
      "PermutationExplainer explainer: 12858it [05:39, 36.75it/s]                           \n"
     ]
    },
    {
     "name": "stdout",
     "output_type": "stream",
     "text": [
      "Generate JSMA Adversarial Explanations | Indices: Index([979925, 1338813, 1870573, 367268, 890837], dtype='int64')... | Shape: (12857, 70)\n"
     ]
    },
    {
     "name": "stderr",
     "output_type": "stream",
     "text": [
      "PermutationExplainer explainer: 12858it [06:31, 31.98it/s]                           \n"
     ]
    },
    {
     "name": "stdout",
     "output_type": "stream",
     "text": [
      "Generate PGD Adversarial Explanations | Indices: Index([335288, 163852, 379946, 169074, 324288], dtype='int64')... | Shape: (12857, 70)\n"
     ]
    },
    {
     "name": "stderr",
     "output_type": "stream",
     "text": [
      "PermutationExplainer explainer: 12858it [06:08, 33.92it/s]                           \n"
     ]
    },
    {
     "name": "stdout",
     "output_type": "stream",
     "text": [
      "Generate Boundary Adversarial Explanations | Indices: Index([131810, 1999489, 2443322, 874620, 993721], dtype='int64')... | Shape: (12857, 70)\n"
     ]
    },
    {
     "name": "stderr",
     "output_type": "stream",
     "text": [
      "PermutationExplainer explainer: 12858it [06:08, 33.97it/s]                           \n"
     ]
    },
    {
     "name": "stdout",
     "output_type": "stream",
     "text": [
      "Generate HSJ Adversarial Explanations | Indices: Index([88742, 2133571, 243066, 370119, 1901648], dtype='int64')... | Shape: (12857, 70)\n"
     ]
    }
   ],
   "source": [
    "import functions.explainer as exp\n",
    "import importlib\n",
    "importlib.reload(exp)\n",
    "\n",
    "explainer = exp.generate_shap_explainer(ids_model, X_train)\n",
    "\n",
    "shap_values_df = exp.generate_shap_values(explainer, X_normal)\n",
    "print(f\"Generate Explanations | Indices: {shap_values_df.index[:5]}... | Shape: {shap_values_df.shape}\")\n",
    "\n",
    "shap_values_adv_df_fgsm = exp.generate_shap_values(explainer, X_adv_fgsm)\n",
    "print(f\"Generate FGSM Adversarial Explanations | Indices: {shap_values_adv_df_fgsm.index[:5]}... | Shape: {shap_values_adv_df_fgsm.shape}\")\n",
    "\n",
    "shap_values_adv_df_cw = exp.generate_shap_values(explainer, X_adv_cw)\n",
    "print(f\"Generate CW Adversarial Explanations | Indices: {shap_values_adv_df_cw.index[:5]}... | Shape: {shap_values_adv_df_cw.shape}\")\n",
    "\n",
    "shap_values_adv_df_jsma = exp.generate_shap_values(explainer, X_adv_jsma)\n",
    "print(f\"Generate JSMA Adversarial Explanations | Indices: {shap_values_adv_df_jsma.index[:5]}... | Shape: {shap_values_adv_df_jsma.shape}\")\n",
    "\n",
    "shap_values_adv_df_pgd = exp.generate_shap_values(explainer, X_adv_pgd)\n",
    "print(f\"Generate PGD Adversarial Explanations | Indices: {shap_values_adv_df_pgd.index[:5]}... | Shape: {shap_values_adv_df_pgd.shape}\")\n",
    "\n",
    "shap_values_adv_df_boundary = exp.generate_shap_values(explainer, X_adv_boundary)\n",
    "print(f\"Generate Boundary Adversarial Explanations | Indices: {shap_values_adv_df_boundary.index[:5]}... | Shape: {shap_values_adv_df_boundary.shape}\")\n",
    "\n",
    "shap_values_adv_df_hsj = exp.generate_shap_values(explainer, X_adv_hsj)\n",
    "print(f\"Generate HSJ Adversarial Explanations | Indices: {shap_values_adv_df_hsj.index[:5]}... | Shape: {shap_values_adv_df_hsj.shape}\")"
   ]
  },
  {
   "cell_type": "code",
   "execution_count": null,
   "metadata": {},
   "outputs": [],
   "source": [
    "# # store shap values\n",
    "# shap_values_df.to_csv(\"../../datasets/CICIDS2017/shap_values/shap_values.csv\", index=False)\n",
    "# shap_values_adv_df_fgsm.to_csv(\"../../datasets/CICIDS2017/shap_values/shap_values_adv_fgsm.csv\", index=False)\n",
    "# shap_values_adv_df_cw.to_csv(\"../../datasets/CICIDS2017/shap_values/shap_values_adv_cw.csv\", index=False)\n",
    "# shap_values_adv_df_jsma.to_csv(\"../../datasets/CICIDS2017/shap_values/shap_values_adv_jsma.csv\", index=False)\n",
    "# shap_values_adv_df_pgd.to_csv(\"../../datasets/CICIDS2017/shap_values/shap_values_adv_pgd.csv\", index=False)\n",
    "# shap_values_adv_df_boundary.to_csv(\"../../datasets/CICIDS2017/shap_values/shap_values_adv_boundary.csv\", index=False)\n",
    "# shap_values_adv_df_hsj.to_csv(\"../../datasets/CICIDS2017/shap_values/shap_values_adv_hsj.csv\", index=False)"
   ]
  },
  {
   "cell_type": "code",
   "execution_count": null,
   "metadata": {},
   "outputs": [],
   "source": [
    "# load shap values\n",
    "shap_values_df = pd.read_csv(\"../../datasets/CICIDS2017/shap_values/shap_values.csv\")\n",
    "shap_values_adv_df_fgsm = pd.read_csv(\"../../datasets/CICIDS2017/shap_values/shap_values_adv_fgsm.csv\")\n",
    "shap_values_adv_df_cw = pd.read_csv(\"../../datasets/CICIDS2017/shap_values/shap_values_adv_cw.csv\")\n",
    "shap_values_adv_df_jsma = pd.read_csv(\"../../datasets/CICIDS2017/shap_values/shap_values_adv_jsma.csv\")\n",
    "shap_values_adv_df_pgd = pd.read_csv(\"../../datasets/CICIDS2017/shap_values/shap_values_adv_pgd.csv\")\n",
    "shap_values_adv_df_boundary = pd.read_csv(\"../../datasets/CICIDS2017/shap_values/shap_values_adv_boundary.csv\")\n",
    "shap_values_adv_df_hsj = pd.read_csv(\"../../datasets/CICIDS2017/shap_values/shap_values_adv_hsj.csv\")"
   ]
  },
  {
   "cell_type": "code",
   "execution_count": 13,
   "metadata": {},
   "outputs": [],
   "source": [
    "# import functions.visualizer as visualizer\n",
    "# import importlib\n",
    "# importlib.reload(visualizer)\n",
    "\n",
    "# visualizer.visualize_data_distribution(shap_values_df.loc[correctly_benign_classified_indices], 'Normal Explanations', shap_values_adv_df_fgsm.loc[misclassified_as_benign_due_attack_indices_fgsm], 'Adversarial Explanations')"
   ]
  },
  {
   "cell_type": "code",
   "execution_count": 14,
   "metadata": {},
   "outputs": [],
   "source": [
    "# exp.plot_shap_summary_comparison(shap_values_df.loc[correctly_benign_classified_indices].values, X_train.loc[correctly_benign_classified_indices], shap_values_adv_df.loc[misclassified_as_benign_due_attack_indices].values, X_adv.loc[misclassified_as_benign_due_attack_indices], 6, title='Normal vs Adversarial Explanations of Benign Samples')"
   ]
  },
  {
   "cell_type": "code",
   "execution_count": null,
   "metadata": {},
   "outputs": [],
   "source": [
    "# import pandas as pd\n",
    "# adv_concat_correctly_benign_classified_shaps = pd.concat([\n",
    "#     shap_values_adv_df_fgsm.loc[correctly_benign_classified_indices_fgsm],\n",
    "#     shap_values_adv_df_pgd.loc[correctly_benign_classified_indices_pgd],\n",
    "#     ], axis=0)\n",
    "\n",
    "# adv_concat_misclassified_as_benign_shaps = pd.concat([\n",
    "#     shap_values_adv_df_fgsm.loc[misclassified_as_benign_due_attack_indices_fgsm], \n",
    "#     shap_values_adv_df_pgd.loc[misclassified_as_benign_due_attack_indices_pgd],\n",
    "#     shap_values_adv_df_boundary.loc[misclassified_as_benign_due_attack_indices_boundary], \n",
    "#     shap_values_adv_df_hsj.loc[misclassified_as_benign_due_attack_indices_hsj],\n",
    "#     shap_values_adv_df_cw.loc[misclassified_as_benign_due_attack_indices_cw],\n",
    "#     shap_values_adv_df_jsma.loc[misclassified_as_benign_due_attack_indices_jsma]\n",
    "#     ], axis=0)\n",
    "\n",
    "# concat_correct_benign_shaps = pd.concat([\n",
    "#     shap_values_df.loc[correctly_benign_classified_indices], \n",
    "#     shap_values_adv_df_cw.loc[correctly_benign_classified_indices_cw],\n",
    "#     shap_values_adv_df_jsma.loc[correctly_benign_classified_indices_jsma],\n",
    "#     shap_values_adv_df_boundary.loc[correctly_benign_classified_indices_boundary],\n",
    "#     shap_values_adv_df_hsj.loc[correctly_benign_classified_indices_hsj],\n",
    "#     ], axis=0)"
   ]
  },
  {
   "cell_type": "code",
   "execution_count": null,
   "metadata": {},
   "outputs": [],
   "source": [
    "# alternative setup\n",
    "import pandas as pd\n",
    "fgm_concat_correctly_benign_classified_shaps = pd.concat([\n",
    "    shap_values_adv_df_fgsm.loc[correctly_benign_classified_indices_fgsm],\n",
    "    shap_values_adv_df_pgd.loc[correctly_benign_classified_indices_pgd],\n",
    "    ], axis=0)\n",
    "\n",
    "fgm_concat_misclassified_as_benign_shaps = pd.concat([\n",
    "    shap_values_adv_df_fgsm.loc[misclassified_as_benign_due_attack_indices_fgsm], \n",
    "    shap_values_adv_df_pgd.loc[misclassified_as_benign_due_attack_indices_pgd],\n",
    "    ], axis=0)\n",
    "\n",
    "adv_concat_correctly_benign_classified_shaps = pd.concat([\n",
    "    shap_values_adv_df_cw.loc[correctly_benign_classified_indices_cw],\n",
    "    shap_values_adv_df_jsma.loc[correctly_benign_classified_indices_jsma],\n",
    "    shap_values_adv_df_boundary.loc[correctly_benign_classified_indices_boundary],\n",
    "    shap_values_adv_df_hsj.loc[correctly_benign_classified_indices_hsj],\n",
    "    ], axis=0)\n",
    "\n",
    "adv_concat_misclassified_as_benign_shaps = pd.concat([\n",
    "    shap_values_adv_df_boundary.loc[misclassified_as_benign_due_attack_indices_boundary], \n",
    "    shap_values_adv_df_hsj.loc[misclassified_as_benign_due_attack_indices_hsj],\n",
    "    shap_values_adv_df_cw.loc[misclassified_as_benign_due_attack_indices_cw],\n",
    "    shap_values_adv_df_jsma.loc[misclassified_as_benign_due_attack_indices_jsma]\n",
    "    ], axis=0)\n",
    "\n",
    "concat_correct_benign_shaps = pd.concat([\n",
    "    shap_values_df.loc[correctly_benign_classified_indices], \n",
    "    ], axis=0)"
   ]
  },
  {
   "cell_type": "markdown",
   "metadata": {},
   "source": [
    "## Detector"
   ]
  },
  {
   "cell_type": "code",
   "execution_count": null,
   "metadata": {},
   "outputs": [
    {
     "name": "stdout",
     "output_type": "stream",
     "text": [
      "Generated dataset: X shape (79127, 70), y shape (79127, 5)\n",
      "(79127, 70) (79127, 5)\n",
      "(71214, 70) (7913, 70) (71214, 5) (7913, 5)\n",
      "Epoch 1/20\n"
     ]
    },
    {
     "name": "stderr",
     "output_type": "stream",
     "text": [
      "2025-04-22 18:14:51.949741: E tensorflow/core/framework/node_def_util.cc:676] NodeDef mentions attribute use_unbounded_threadpool which is not in the op definition: Op<name=MapDataset; signature=input_dataset:variant, other_arguments: -> handle:variant; attr=f:func; attr=Targuments:list(type),min=0; attr=output_types:list(type),min=1; attr=output_shapes:list(shape),min=1; attr=use_inter_op_parallelism:bool,default=true; attr=preserve_cardinality:bool,default=false; attr=force_synchronous:bool,default=false; attr=metadata:string,default=\"\"> This may be expected if your graph generating binary is newer  than this binary. Unknown attributes will be ignored. NodeDef: {{node ParallelMapDatasetV2/_15}}\n"
     ]
    },
    {
     "name": "stdout",
     "output_type": "stream",
     "text": [
      "\u001b[1m1425/1425\u001b[0m \u001b[32m━━━━━━━━━━━━━━━━━━━━\u001b[0m\u001b[37m\u001b[0m \u001b[1m3s\u001b[0m 1ms/step - accuracy: 0.6252 - loss: 0.9339 - val_accuracy: 0.8078 - val_loss: 0.4640\n",
      "Epoch 2/20\n",
      "\u001b[1m1425/1425\u001b[0m \u001b[32m━━━━━━━━━━━━━━━━━━━━\u001b[0m\u001b[37m\u001b[0m \u001b[1m1s\u001b[0m 1ms/step - accuracy: 0.7873 - loss: 0.4998 - val_accuracy: 0.8207 - val_loss: 0.4354\n",
      "Epoch 3/20\n",
      "\u001b[1m1425/1425\u001b[0m \u001b[32m━━━━━━━━━━━━━━━━━━━━\u001b[0m\u001b[37m\u001b[0m \u001b[1m2s\u001b[0m 1ms/step - accuracy: 0.8053 - loss: 0.4665 - val_accuracy: 0.8251 - val_loss: 0.4198\n",
      "Epoch 4/20\n",
      "\u001b[1m1425/1425\u001b[0m \u001b[32m━━━━━━━━━━━━━━━━━━━━\u001b[0m\u001b[37m\u001b[0m \u001b[1m2s\u001b[0m 1ms/step - accuracy: 0.8123 - loss: 0.4493 - val_accuracy: 0.8301 - val_loss: 0.4104\n",
      "Epoch 5/20\n",
      "\u001b[1m1425/1425\u001b[0m \u001b[32m━━━━━━━━━━━━━━━━━━━━\u001b[0m\u001b[37m\u001b[0m \u001b[1m2s\u001b[0m 1ms/step - accuracy: 0.8165 - loss: 0.4367 - val_accuracy: 0.8302 - val_loss: 0.4041\n",
      "Epoch 6/20\n",
      "\u001b[1m1425/1425\u001b[0m \u001b[32m━━━━━━━━━━━━━━━━━━━━\u001b[0m\u001b[37m\u001b[0m \u001b[1m2s\u001b[0m 1ms/step - accuracy: 0.8241 - loss: 0.4228 - val_accuracy: 0.8309 - val_loss: 0.3972\n",
      "Epoch 7/20\n",
      "\u001b[1m1425/1425\u001b[0m \u001b[32m━━━━━━━━━━━━━━━━━━━━\u001b[0m\u001b[37m\u001b[0m \u001b[1m1s\u001b[0m 1ms/step - accuracy: 0.8295 - loss: 0.4131 - val_accuracy: 0.8325 - val_loss: 0.3917\n",
      "Epoch 8/20\n",
      "\u001b[1m1425/1425\u001b[0m \u001b[32m━━━━━━━━━━━━━━━━━━━━\u001b[0m\u001b[37m\u001b[0m \u001b[1m2s\u001b[0m 1ms/step - accuracy: 0.8311 - loss: 0.4077 - val_accuracy: 0.8356 - val_loss: 0.3867\n",
      "Epoch 9/20\n",
      "\u001b[1m1425/1425\u001b[0m \u001b[32m━━━━━━━━━━━━━━━━━━━━\u001b[0m\u001b[37m\u001b[0m \u001b[1m2s\u001b[0m 1ms/step - accuracy: 0.8332 - loss: 0.4012 - val_accuracy: 0.8365 - val_loss: 0.3834\n",
      "Epoch 10/20\n",
      "\u001b[1m1425/1425\u001b[0m \u001b[32m━━━━━━━━━━━━━━━━━━━━\u001b[0m\u001b[37m\u001b[0m \u001b[1m2s\u001b[0m 1ms/step - accuracy: 0.8354 - loss: 0.3949 - val_accuracy: 0.8402 - val_loss: 0.3780\n",
      "Epoch 11/20\n",
      "\u001b[1m1425/1425\u001b[0m \u001b[32m━━━━━━━━━━━━━━━━━━━━\u001b[0m\u001b[37m\u001b[0m \u001b[1m2s\u001b[0m 1ms/step - accuracy: 0.8382 - loss: 0.3917 - val_accuracy: 0.8412 - val_loss: 0.3737\n",
      "Epoch 12/20\n",
      "\u001b[1m1425/1425\u001b[0m \u001b[32m━━━━━━━━━━━━━━━━━━━━\u001b[0m\u001b[37m\u001b[0m \u001b[1m2s\u001b[0m 1ms/step - accuracy: 0.8409 - loss: 0.3844 - val_accuracy: 0.8383 - val_loss: 0.3777\n",
      "Epoch 13/20\n",
      "\u001b[1m1425/1425\u001b[0m \u001b[32m━━━━━━━━━━━━━━━━━━━━\u001b[0m\u001b[37m\u001b[0m \u001b[1m2s\u001b[0m 1ms/step - accuracy: 0.8425 - loss: 0.3802 - val_accuracy: 0.8418 - val_loss: 0.3711\n",
      "Epoch 14/20\n",
      "\u001b[1m1425/1425\u001b[0m \u001b[32m━━━━━━━━━━━━━━━━━━━━\u001b[0m\u001b[37m\u001b[0m \u001b[1m2s\u001b[0m 1ms/step - accuracy: 0.8422 - loss: 0.3802 - val_accuracy: 0.8399 - val_loss: 0.3733\n",
      "Epoch 15/20\n",
      "\u001b[1m1425/1425\u001b[0m \u001b[32m━━━━━━━━━━━━━━━━━━━━\u001b[0m\u001b[37m\u001b[0m \u001b[1m2s\u001b[0m 1ms/step - accuracy: 0.8456 - loss: 0.3745 - val_accuracy: 0.8415 - val_loss: 0.3719\n",
      "Epoch 16/20\n",
      "\u001b[1m1425/1425\u001b[0m \u001b[32m━━━━━━━━━━━━━━━━━━━━\u001b[0m\u001b[37m\u001b[0m \u001b[1m1s\u001b[0m 1ms/step - accuracy: 0.8459 - loss: 0.3723 - val_accuracy: 0.8465 - val_loss: 0.3640\n",
      "Epoch 17/20\n",
      "\u001b[1m1425/1425\u001b[0m \u001b[32m━━━━━━━━━━━━━━━━━━━━\u001b[0m\u001b[37m\u001b[0m \u001b[1m2s\u001b[0m 1ms/step - accuracy: 0.8475 - loss: 0.3659 - val_accuracy: 0.8451 - val_loss: 0.3651\n",
      "Epoch 18/20\n",
      "\u001b[1m1425/1425\u001b[0m \u001b[32m━━━━━━━━━━━━━━━━━━━━\u001b[0m\u001b[37m\u001b[0m \u001b[1m2s\u001b[0m 1ms/step - accuracy: 0.8490 - loss: 0.3647 - val_accuracy: 0.8495 - val_loss: 0.3596\n",
      "Epoch 19/20\n",
      "\u001b[1m1425/1425\u001b[0m \u001b[32m━━━━━━━━━━━━━━━━━━━━\u001b[0m\u001b[37m\u001b[0m \u001b[1m2s\u001b[0m 1ms/step - accuracy: 0.8482 - loss: 0.3644 - val_accuracy: 0.8439 - val_loss: 0.3652\n",
      "Epoch 20/20\n",
      "\u001b[1m1425/1425\u001b[0m \u001b[32m━━━━━━━━━━━━━━━━━━━━\u001b[0m\u001b[37m\u001b[0m \u001b[1m2s\u001b[0m 1ms/step - accuracy: 0.8510 - loss: 0.3623 - val_accuracy: 0.8453 - val_loss: 0.3638\n",
      "\u001b[1m248/248\u001b[0m \u001b[32m━━━━━━━━━━━━━━━━━━━━\u001b[0m\u001b[37m\u001b[0m \u001b[1m0s\u001b[0m 495us/step\n"
     ]
    },
    {
     "name": "stderr",
     "output_type": "stream",
     "text": [
      "2025-04-22 18:15:27.849233: E tensorflow/core/framework/node_def_util.cc:676] NodeDef mentions attribute use_unbounded_threadpool which is not in the op definition: Op<name=MapDataset; signature=input_dataset:variant, other_arguments: -> handle:variant; attr=f:func; attr=Targuments:list(type),min=0; attr=output_types:list(type),min=1; attr=output_shapes:list(shape),min=1; attr=use_inter_op_parallelism:bool,default=true; attr=preserve_cardinality:bool,default=false; attr=force_synchronous:bool,default=false; attr=metadata:string,default=\"\"> This may be expected if your graph generating binary is newer  than this binary. Unknown attributes will be ignored. NodeDef: {{node ParallelMapDatasetV2/_14}}\n"
     ]
    }
   ],
   "source": [
    "import functions.detector as det\n",
    "import importlib\n",
    "importlib.reload(det)\n",
    "\n",
    "# create dataframe\n",
    "# class_samples = {\n",
    "#     'ADV CORRECT BENIGN': adv_concat_correctly_benign_classified_shaps,\n",
    "#     'ADV MISCLASSIFIED': adv_concat_misclassified_as_benign_shaps,\n",
    "#     'CORRECT BENIGN': concat_correct_benign_shaps, \n",
    "# }\n",
    "\n",
    "class_samples = {\n",
    "    'FGM CORRECT BENIGN': fgm_concat_correctly_benign_classified_shaps,\n",
    "    'FGM MISCLASSIFIED': fgm_concat_misclassified_as_benign_shaps,\n",
    "    'ADV CORRECT BENIGN': adv_concat_correctly_benign_classified_shaps,\n",
    "    'ADV MISCLASSIFIED': adv_concat_misclassified_as_benign_shaps,\n",
    "    'CORRECT BENIGN': concat_correct_benign_shaps, \n",
    "}\n",
    "X, y = det.build_detector_dataset(class_samples)\n",
    "print(X.shape, y.shape)\n",
    "\n",
    "# split data\n",
    "X_train_det, X_test_det, y_train_det, y_test_det = train_test_split(X, y, test_size=0.1, random_state=1503)\n",
    "print(X_train_det.shape, X_test_det.shape, y_train_det.shape, y_test_det.shape)\n",
    "\n",
    "# build detector\n",
    "detector = det.build_detector(X_train_det, y_train_det, X_test_det, y_test_det)\n",
    "\n",
    "# store detector\n",
    "det.store(detector, 'omikron')"
   ]
  },
  {
   "cell_type": "code",
   "execution_count": 14,
   "metadata": {},
   "outputs": [
    {
     "name": "stdout",
     "output_type": "stream",
     "text": [
      "\u001b[1m136/248\u001b[0m \u001b[32m━━━━━━━━━━\u001b[0m\u001b[37m━━━━━━━━━━\u001b[0m \u001b[1m0s\u001b[0m 372us/step"
     ]
    },
    {
     "name": "stdout",
     "output_type": "stream",
     "text": [
      "\u001b[1m248/248\u001b[0m \u001b[32m━━━━━━━━━━━━━━━━━━━━\u001b[0m\u001b[37m\u001b[0m \u001b[1m0s\u001b[0m 412us/step\n",
      "Predictions on Detector | Indices: Index([1584432, 2753222, 1277717, 2134297, 220927], dtype='int64')... | Shape: (7913, 5)\n",
      "[3 0 3 2 3] [3 0 3 2 3]\n",
      "Overall Accuracy: 0.8499\n",
      "Classification Report (Overall):\n",
      "                    precision    recall  f1-score   support\n",
      "\n",
      "FGM CORRECT BENIGN       0.89      0.73      0.80      1275\n",
      " FGM MISCLASSIFIED       0.77      0.92      0.84      1281\n",
      "ADV CORRECT BENIGN       0.79      0.97      0.87      2528\n",
      " ADV MISCLASSIFIED       0.97      0.99      0.98      2186\n",
      "    CORRECT BENIGN       0.00      0.00      0.00       643\n",
      "\n",
      "          accuracy                           0.85      7913\n",
      "         macro avg       0.68      0.72      0.70      7913\n",
      "      weighted avg       0.79      0.85      0.81      7913\n",
      "\n"
     ]
    }
   ],
   "source": [
    "# Evaluate detector\n",
    "y_pred_det = det.predict(detector, X_test_det, y.columns)\n",
    "print(f\"Predictions on Detector | Indices: {y_pred_det.index[:5]}... | Shape: {y_pred_det.shape}\")\n",
    "\n",
    "# Convert one-hot to class indices\n",
    "y_true_indices = np.argmax(y_test_det, axis=1)\n",
    "y_true_indices_pd = pd.Series(y_true_indices, index=y_test_det.index)\n",
    "y_pred_indices = np.argmax(y_pred_det, axis=1)\n",
    "y_pred_indices_pd = pd.Series(y_pred_indices, index=y_pred_det.index)\n",
    "print(y_true_indices[:5], y_pred_indices[:5])\n",
    "\n",
    "from sklearn.metrics import classification_report, accuracy_score, confusion_matrix\n",
    "\n",
    "# Compute Accuracy\n",
    "accuracy = accuracy_score(y_true_indices, y_pred_indices)\n",
    "print(f\"Overall Accuracy: {accuracy:.4f}\")\n",
    "\n",
    "# Compute Classification Report for overall classification\n",
    "print(\"Classification Report (Overall):\")\n",
    "print(classification_report(y_true_indices, y_pred_indices, target_names=y.columns, zero_division=0))"
   ]
  },
  {
   "cell_type": "code",
   "execution_count": 15,
   "metadata": {},
   "outputs": [
    {
     "data": {
      "image/png": "[encoded data removed]",
      "text/plain": [
       "<Figure size 1000x800 with 1 Axes>"
      ]
     },
     "metadata": {},
     "output_type": "display_data"
    }
   ],
   "source": [
    "from sklearn.decomposition import PCA\n",
    "from sklearn.manifold import TSNE\n",
    "import matplotlib.pyplot as plt\n",
    "import numpy as np\n",
    "\n",
    "# Optional: UMAP (must be installed separately)\n",
    "try:\n",
    "    import umap\n",
    "    UMAP_AVAILABLE = True\n",
    "except ImportError:\n",
    "    UMAP_AVAILABLE = False\n",
    "\n",
    "def plot_dim_reduction(X, y_onehot, class_labels, method=\"pca\", **kwargs):\n",
    "    \"\"\"\n",
    "    Plots dimensionality-reduced data using PCA, t-SNE, or UMAP.\n",
    "\n",
    "    Args:\n",
    "        X (ndarray or DataFrame): Feature matrix.\n",
    "        y_onehot (ndarray): One-hot encoded labels.\n",
    "        class_labels (list of str): Class label names.\n",
    "        method (str): 'pca', 'tsne', or 'umap'.\n",
    "        **kwargs: Additional arguments for the reducer (e.g., perplexity for t-SNE).\n",
    "    \"\"\"\n",
    "    y_indices = np.argmax(y_onehot, axis=1)\n",
    "\n",
    "    if method == \"pca\":\n",
    "        reducer = PCA(n_components=2)\n",
    "    elif method == \"tsne\":\n",
    "        reducer = TSNE(n_components=2, random_state=42, **kwargs)\n",
    "    elif method == \"umap\":\n",
    "        if not UMAP_AVAILABLE:\n",
    "            raise ImportError(\"UMAP is not installed. Run: pip install umap-learn\")\n",
    "        reducer = umap.UMAP(n_components=2, random_state=42, **kwargs)\n",
    "    else:\n",
    "        raise ValueError(\"Invalid method. Choose from 'pca', 'tsne', or 'umap'.\")\n",
    "\n",
    "    X_reduced = reducer.fit_transform(X)\n",
    "\n",
    "    # Plot\n",
    "    plt.figure(figsize=(10, 8))\n",
    "    for i, label in enumerate(class_labels):\n",
    "        idx = y_indices == i\n",
    "        plt.scatter(X_reduced[idx, 0], X_reduced[idx, 1], label=label, alpha=0.6)\n",
    "\n",
    "    plt.title(f\"{method.upper()} Projection of SHAP Values\")\n",
    "    plt.xlabel(\"Component 1\")\n",
    "    plt.ylabel(\"Component 2\")\n",
    "    plt.legend()\n",
    "    plt.grid(True)\n",
    "    plt.tight_layout()\n",
    "    plt.show()\n",
    "\n",
    "# Choose method: 'pca', 'tsne', or 'umap'\n",
    "plot_dim_reduction(X, y, class_samples, method=\"tsne\", perplexity=30)\n",
    "# plot_dim_reduction(X, y, class_samples, method=\"pca\")"
   ]
  },
  {
   "cell_type": "markdown",
   "metadata": {},
   "source": [
    "---\n",
    "## Manual Evaluation\n",
    "We perform the whole two-stages approach on new unseen data and evaluate the following scores:\n",
    "- Recall\n",
    "- Precision\n",
    "- Accuracy\n",
    "- F1 Score"
   ]
  },
  {
   "cell_type": "code",
   "execution_count": 7,
   "metadata": {},
   "outputs": [
    {
     "name": "stdout",
     "output_type": "stream",
     "text": [
      "-- Preprocessing data --\n",
      "--- Splitting labels and features ---\n",
      "--- Encoding labels as binary one-hot values ---\n",
      "--- Sampling balanced data ---\n",
      "Sample to shape: (2000, 70)\n",
      "--- Normalizing features using MinMaxScaler ---\n",
      "Generate Features | Indices: Index([1237277, 1117276, 1077149, 213477, 144738], dtype='int64')... | Shape: (2000, 70)\n",
      "Generate Labels | Indices: Index([1237277, 1117276, 1077149, 213477, 144738], dtype='int64')... | Shape: (2000, 2)\n",
      "BENIGN  ATTACK\n",
      "False   True      1000\n",
      "True    False     1000\n",
      "Name: count, dtype: int64\n"
     ]
    }
   ],
   "source": [
    "import functions.data_preprocessing as dp\n",
    "import importlib\n",
    "importlib.reload(dp)\n",
    "\n",
    "# exclude previously used samples\n",
    "dataset_eval_excluded = dataset.drop(index=used_indices)\n",
    "\n",
    "X_eval, y_eval, used_eval_indices = dp.preprocess_data(dataset_eval_excluded, encoding_type, normalizer, zero_columns, sample_size=1000, random_sample_state=17)\n",
    "print(f\"Generate Features | Indices: {X_eval.index[:5]}... | Shape: {X_eval.shape}\")\n",
    "print(f\"Generate Labels | Indices: {y_eval.index[:5]}... | Shape: {y_eval.shape}\")\n",
    "print(y_eval.value_counts())"
   ]
  },
  {
   "cell_type": "markdown",
   "metadata": {},
   "source": [
    "### Load Detector etc."
   ]
  },
  {
   "cell_type": "code",
   "execution_count": 31,
   "metadata": {},
   "outputs": [],
   "source": [
    "# import functions.detector as det\n",
    "# import functions.explainer as exp\n",
    "# import functions.attack_generator as ag\n",
    "# importlib.reload(det)\n",
    "# import numpy as np\n",
    "# detector = det.load('omikron')\n",
    "\n",
    "# print(detector.summary())\n",
    "\n",
    "# explainer = exp.generate_shap_explainer(ids_model, X_train)\n",
    "\n",
    "# all_features = dataset.drop(columns=[' Label'])\n",
    "# art_model = ag.convert_to_art_model(ids_model, X_train) # TODO: use all features for generating art model\n",
    "\n",
    "# import multiprocessing\n",
    "# num_cores = multiprocessing.cpu_count()"
   ]
  },
  {
   "cell_type": "code",
   "execution_count": 10,
   "metadata": {},
   "outputs": [
    {
     "name": "stdout",
     "output_type": "stream",
     "text": [
      "Running attack using 24 CPU cores...\n",
      "\n",
      "Process 57365 is generating adversarial examples for batch of size 83 \n",
      "Process 57366 is generating adversarial examples for batch of size 83 \n",
      "Process 57367 is generating adversarial examples for batch of size 83 \n",
      "Process 57368 is generating adversarial examples for batch of size 83 \n",
      "Process 57369 is generating adversarial examples for batch of size 83 \n",
      "Process 57371 is generating adversarial examples for batch of size 83 \n",
      "Process 57370 is generating adversarial examples for batch of size 83 \n",
      "Process 57372 is generating adversarial examples for batch of size 83 \n",
      "Process 57373 is generating adversarial examples for batch of size 83 \n",
      "Process 57374 is generating adversarial examples for batch of size 83 \n",
      "\n",
      "\n",
      "Process 57375 is generating adversarial examples for batch of size 83 \n",
      "\n",
      "Process 57379 is generating adversarial examples for batch of size 83 \n",
      "Process 57377 is generating adversarial examples for batch of size 83 \n",
      "Process 57376 is generating adversarial examples for batch of size 83 \n",
      "Process 57380 is generating adversarial examples for batch of size 83 \n",
      "Process 57381 is generating adversarial examples for batch of size 83 \n",
      "Process 57378 is generating adversarial examples for batch of size 83 \n",
      "Process 57382 is generating adversarial examples for batch of size 83 \n",
      "Process 57383 is generating adversarial examples for batch of size 83 \n",
      "Process 57384 is generating adversarial examples for batch of size 83 \n",
      "Process 57385 is generating adversarial examples for batch of size 83 \n",
      "Process 57386 is generating adversarial examples for batch of size 83 \n",
      "\n",
      "\n",
      "\n",
      "\n",
      "\n",
      "\n",
      "\n",
      "\n",
      "\n",
      "\n",
      "\n",
      "\n",
      "\n",
      "Process 57387 is generating adversarial examples for batch of size 83 \n",
      "\n",
      "\n",
      "\n",
      "Process 57388 is generating adversarial examples for batch of size 91 \n",
      "\n",
      "\n",
      "\n",
      "\n",
      "\n",
      "Adversarial Boundary examples generated. Shape: (2000, 70)\n",
      "Create Adversarial Attack | Indices: Index([1237277, 1117276, 1077149, 213477, 144738], dtype='int64')... | Shape: (2000, 70)\n",
      "Accuracy: 50.65%\n",
      "              precision    recall  f1-score   support\n",
      "\n",
      "      ATTACK     0.9333    0.0140    0.0276      1000\n",
      "      BENIGN     0.5033    0.9990    0.6693      1000\n",
      "\n",
      "    accuracy                         0.5065      2000\n",
      "   macro avg     0.7183    0.5065    0.3485      2000\n",
      "weighted avg     0.7183    0.5065    0.3485      2000\n",
      "\n",
      "Confusion Matrix: Positive == BENIGN\n",
      "TN: 14, FP: 986, FN: 1, TP: 999\n",
      "Predictions on Adversarial Attacks | Indices: Index([1237277, 1117276, 1077149, 213477, 144738], dtype='int64')... | Shape: (2000, 2)\n"
     ]
    }
   ],
   "source": [
    "importlib.reload(ag)\n",
    "\n",
    "X_adv_eval = ag.generate_boundary_attacks_parallel(art_model, X_eval, target_label=1, num_cores=num_cores)\n",
    "print(f\"Create Adversarial Attack | Indices: {X_adv_eval.index[:5]}... | Shape: {X_adv_eval.shape}\")\n",
    "\n",
    "y_pred_adv_eval = ag.evaluate_art_model(art_model, X_adv_eval, y_eval)\n",
    "print(f\"Predictions on Adversarial Attacks | Indices: {y_pred_adv_eval.index[:5]}... | Shape: {y_pred_adv_eval.shape}\")"
   ]
  },
  {
   "cell_type": "code",
   "execution_count": 13,
   "metadata": {},
   "outputs": [
    {
     "name": "stderr",
     "output_type": "stream",
     "text": [
      "PermutationExplainer explainer: 2001it [00:57, 29.35it/s]                          \n"
     ]
    },
    {
     "name": "stdout",
     "output_type": "stream",
     "text": [
      "Create Explanations | Indices: Index([1237277, 1117276, 1077149, 213477, 144738], dtype='int64')... | Shape: (2000, 70)\n"
     ]
    }
   ],
   "source": [
    "importlib.reload(exp)\n",
    "X_eval_adv_shap_values_df = exp.generate_shap_values(explainer, X_adv_eval)\n",
    "\n",
    "print(f\"Create Explanations | Indices: {X_eval_adv_shap_values_df.index[:5]}... | Shape: {X_eval_adv_shap_values_df.shape}\")"
   ]
  },
  {
   "cell_type": "code",
   "execution_count": 86,
   "metadata": {},
   "outputs": [],
   "source": [
    "# # normal shap values\n",
    "# y_pred_adv_eval = ag.evaluate_art_model(art_model, X_eval, y_eval)\n",
    "# print(f\"Predictions on Adversarial Attacks | Indices: {y_pred_adv_eval.index[:5]}... | Shape: {y_pred_adv_eval.shape}\")\n",
    "\n",
    "# X_eval_adv_shap_values_df = exp.generate_shap_values(explainer, X_eval)\n",
    "\n",
    "# print(f\"Create Explanations | Indices: {X_eval_adv_shap_values_df.index[:5]}... | Shape: {X_eval_adv_shap_values_df.shape}\")"
   ]
  },
  {
   "cell_type": "code",
   "execution_count": 22,
   "metadata": {},
   "outputs": [
    {
     "name": "stdout",
     "output_type": "stream",
     "text": [
      "\u001b[1m63/63\u001b[0m \u001b[32m━━━━━━━━━━━━━━━━━━━━\u001b[0m\u001b[37m\u001b[0m \u001b[1m0s\u001b[0m 694us/step\n"
     ]
    },
    {
     "name": "stderr",
     "output_type": "stream",
     "text": [
      "2025-04-28 15:31:38.518769: E tensorflow/core/framework/node_def_util.cc:676] NodeDef mentions attribute use_unbounded_threadpool which is not in the op definition: Op<name=MapDataset; signature=input_dataset:variant, other_arguments: -> handle:variant; attr=f:func; attr=Targuments:list(type),min=0; attr=output_types:list(type),min=1; attr=output_shapes:list(shape),min=1; attr=use_inter_op_parallelism:bool,default=true; attr=preserve_cardinality:bool,default=false; attr=force_synchronous:bool,default=false; attr=metadata:string,default=\"\"> This may be expected if your graph generating binary is newer  than this binary. Unknown attributes will be ignored. NodeDef: {{node ParallelMapDatasetV2/_14}}\n"
     ]
    }
   ],
   "source": [
    "benign_eval_idx = y_eval[y_eval['BENIGN'] == 1].index\n",
    "attack_eval_idx = y_eval[y_eval['ATTACK'] == 1].index\n",
    "\n",
    "pred_benign_idx = y_pred_adv_eval[y_pred_adv_eval['BENIGN'] == 1].index\n",
    "pred_attack_idx = y_pred_adv_eval[y_pred_adv_eval['ATTACK'] == 1].index\n",
    "\n",
    "# predict\n",
    "# columns = y_train_det.columns\n",
    "columns = ['ADV CORRECT BENIGN', 'ADV MISCLASSIFIED', 'CORRECT BENIGN', 'DA']\n",
    "X_eval_detector = X_eval_adv_shap_values_df.loc[pred_benign_idx]\n",
    "y_pred_eval_detector = det.predict(detector, X_eval_detector, columns)"
   ]
  },
  {
   "cell_type": "code",
   "execution_count": 23,
   "metadata": {},
   "outputs": [
    {
     "name": "stdout",
     "output_type": "stream",
     "text": [
      "Predicted Class 0: 0\n",
      "Predicted Class 1: 1020\n",
      "Predicted Class 4: 965\n"
     ]
    }
   ],
   "source": [
    "pred_class_0 = y_pred_eval_detector[y_pred_eval_detector['ADV CORRECT BENIGN'] == 1].index \n",
    "pred_class_1 = y_pred_eval_detector[y_pred_eval_detector['ADV MISCLASSIFIED'] == 1].index\n",
    "pred_class_4 = y_pred_eval_detector[y_pred_eval_detector['CORRECT BENIGN'] == 1].index\n",
    "\n",
    "print(f\"Predicted Class 0: {len(pred_class_0)}\")\n",
    "print(f\"Predicted Class 1: {len(pred_class_1)}\")\n",
    "print(f\"Predicted Class 4: {len(pred_class_4)}\")"
   ]
  },
  {
   "cell_type": "code",
   "execution_count": 24,
   "metadata": {},
   "outputs": [
    {
     "name": "stdout",
     "output_type": "stream",
     "text": [
      "IDS classifies 'ATTACK' samples as 'ATTACK': 11\n",
      "IDS mis-classifies 'BENIGN' samples as 'ATTACK': 1\n",
      "Detector classifies 'BENIGN' samples as correct 'BENIGN': 958\n",
      "Detector mis-classifies 'ATTACK' samples as correct 'BENIGN': 7\n",
      "Detector classifies 'ATTACK' samples as misclassified due to 'ATTACK': 979\n",
      "Detector classifies 'BENIGN' samples as misclassified due to 'ATTACK': 41\n",
      "TP: 958\n",
      "FP: 7\n",
      "TN: 990\n",
      "FN: 42\n",
      "Sum: 1997\n"
     ]
    }
   ],
   "source": [
    "# After IDS Stage\n",
    "TN = len(attack_eval_idx.intersection(pred_attack_idx)) # IDS classifies 'ATTACK' samples as 'ATTACK'\n",
    "print(f\"IDS classifies 'ATTACK' samples as 'ATTACK': {TN}\")\n",
    "FN = len(benign_eval_idx.intersection(pred_attack_idx)) # IDS classifies 'BENIGN' samples as 'ATTACK'\n",
    "print(f\"IDS mis-classifies 'BENIGN' samples as 'ATTACK': {FN}\")\n",
    "\n",
    "# TODO: define correct and misclassified classes for each attack:\n",
    "correctly_classified_det_idx = y_pred_eval_detector.loc[pred_class_4].index # Detector classifies 'BENIGN' samples as correct 'BENIGN'\n",
    "misclassified_det_idx = y_pred_eval_detector.loc[pred_class_1].index # Detector classifies 'ATTACK' samples as misclassified due to 'ATTACK'\n",
    "\n",
    "# After Detector Stage\n",
    "TP = len(benign_eval_idx.intersection(correctly_classified_det_idx)) # Detector classifies 'BENIGN' samples as correct 'BENIGN'\n",
    "print(f\"Detector classifies 'BENIGN' samples as correct 'BENIGN': {TP}\")\n",
    "FP = len(attack_eval_idx.intersection(correctly_classified_det_idx)) # Detector classifies 'ATTACK' samples as correct 'BENIGN'\n",
    "print(f\"Detector mis-classifies 'ATTACK' samples as correct 'BENIGN': {FP}\")\n",
    "\n",
    "TN_2 = len(attack_eval_idx.intersection(misclassified_det_idx)) # Detector classifies 'ATTACK' samples as misclassified due to 'ATTACK'\n",
    "print(f\"Detector classifies 'ATTACK' samples as misclassified due to 'ATTACK': {TN_2}\")\n",
    "FN_2 = len(benign_eval_idx.intersection(misclassified_det_idx)) # Detector classifies 'BENIGN' samples as misclassified due to 'ATTACK'\n",
    "print(f\"Detector classifies 'BENIGN' samples as misclassified due to 'ATTACK': {FN_2}\")\n",
    "\n",
    "# Sum up TN & FN from both stages\n",
    "TN = TN + TN_2\n",
    "FN = FN + FN_2\n",
    "\n",
    "print(f\"TP: {TP}\")\n",
    "print(f\"FP: {FP}\")\n",
    "print(f\"TN: {TN}\")\n",
    "print(f\"FN: {FN}\")\n",
    "print(f\"Sum: {TP + FP + TN + FN}\")"
   ]
  },
  {
   "cell_type": "code",
   "execution_count": 25,
   "metadata": {},
   "outputs": [
    {
     "name": "stdout",
     "output_type": "stream",
     "text": [
      "Global Accuracy: 97.55%\n",
      "              precision    recall  f1-score   support\n",
      "\n",
      "      ATTACK     0.9593    0.9930    0.9759       997\n",
      "      BENIGN     0.9927    0.9580    0.9751      1000\n",
      "\n",
      "    accuracy                         0.9755      1997\n",
      "   macro avg     0.9760    0.9755    0.9755      1997\n",
      "weighted avg     0.9760    0.9755    0.9755      1997\n",
      "\n",
      "True Negative Rate: 99.30%\n",
      "False Positive Rate: 0.70%\n",
      "True Positive Rate: 95.80%\n",
      "False Negative Rate: 4.20%\n"
     ]
    }
   ],
   "source": [
    "from sklearn.metrics import classification_report\n",
    "\n",
    "print(f\"Global Accuracy: {(TP + TN) / (TP + FP + TN + FN) * 100:.2f}%\")\n",
    "\n",
    "# Construct a fake y_true and y_pred to match sklearn's classification_report format\n",
    "y_true = np.array([1] * TP + [0] * TN + [1] * FN + [0] * FP)  # True labels\n",
    "y_pred = np.array([1] * TP + [0] * TN + [0] * FN + [1] * FP)  # Predicted labels\n",
    "\n",
    "# Generate classification report\n",
    "report = classification_report(y_true, y_pred, target_names=['ATTACK', 'BENIGN'], digits=4) # reverse labels because classification_report assumes first label is 0\n",
    "print(report)\n",
    "\n",
    "print(f\"True Negative Rate: {TN/(TN+FP)*100:.2f}%\")\n",
    "print(f\"False Positive Rate: {FP/(TN+FP)*100:.2f}%\")\n",
    "print(f\"True Positive Rate: {TP/(TP+FN)*100:.2f}%\")\n",
    "print(f\"False Negative Rate: {FN/(TP+FN)*100:.2f}%\")"
   ]
  },
  {
   "cell_type": "code",
   "execution_count": 26,
   "metadata": {},
   "outputs": [
    {
     "name": "stdout",
     "output_type": "stream",
     "text": [
      "#Attack-Samples: 1985\n",
      "Predicted indices: 1985\n",
      "Predicted Normal indices: 1985\n",
      "Normal Misclassified indices: 0\n",
      "ADV Detection Rate: 1.0000\n",
      "Misclassification Rate: 0.0000\n"
     ]
    }
   ],
   "source": [
    "sample_indices = y_pred_eval_detector.index\n",
    "print(f\"#Attack-Samples: {len(sample_indices)}\")\n",
    "\n",
    "detected_indices = np.unique(np.concatenate((pred_class_4, pred_class_1)))\n",
    "print(f\"Predicted indices: {len(detected_indices)}\")\n",
    "\n",
    "correct_benign_pred_indices = np.intersect1d(sample_indices, detected_indices)\n",
    "print(f\"Predicted Normal indices: {len(correct_benign_pred_indices)}\")\n",
    "\n",
    "normal_benign_misclassified_indices = np.setdiff1d(sample_indices, detected_indices)\n",
    "print(f\"Normal Misclassified indices: {len(normal_benign_misclassified_indices)}\")\n",
    "\n",
    "print(f\"ADV Detection Rate: {len(correct_benign_pred_indices) / len(sample_indices):.4f}\")\n",
    "print(f\"Misclassification Rate: {len(normal_benign_misclassified_indices) / len(sample_indices):.4f}\")"
   ]
  },
  {
   "cell_type": "markdown",
   "metadata": {},
   "source": [
    "### Attack Success Rate (ASR)"
   ]
  },
  {
   "cell_type": "code",
   "execution_count": 27,
   "metadata": {},
   "outputs": [
    {
     "name": "stdout",
     "output_type": "stream",
     "text": [
      "Misclassified as BENIGN - Attacks: 986\n",
      "Accepted Samples: 965\n",
      "Successful Attacks: 7\n",
      "Attack Success Rate: 0.0071\n",
      "Attack Success Rate (all attacked samples): 0.0070\n"
     ]
    }
   ],
   "source": [
    "# Attack = Misclassified as benign\n",
    "attacks_idx = attack_eval_idx.intersection(pred_benign_idx)\n",
    "print(f\"Misclassified as BENIGN - Attacks: {len(attacks_idx)}\")\n",
    "\n",
    "\n",
    "# Accepted Samples\n",
    "accepted_benign_det_idx = y_pred_eval_detector.loc[pred_class_4].index # Detector classifies 'BENIGN' samples as correct 'BENIGN'\n",
    "print(f\"Accepted Samples: {len(accepted_benign_det_idx)}\")\n",
    "\n",
    "# Attack Success\n",
    "correct_benign_det = attacks_idx.intersection(accepted_benign_det_idx)\n",
    "print(f\"Successful Attacks: {len(correct_benign_det)}\")\n",
    "\n",
    "# Attack Success Rate\n",
    "attack_success_rate = len(correct_benign_det) / len(attacks_idx) # / #working attacks\n",
    "print(f\"Attack Success Rate: {attack_success_rate:.4f}\")\n",
    "true_positive_rate = len(correct_benign_det) / len(attack_eval_idx) # / #all attacked samples\n",
    "print(f\"Attack Success Rate (all attacked samples): {true_positive_rate:.4f}\")"
   ]
  },
  {
   "cell_type": "markdown",
   "metadata": {},
   "source": [
    "### BENIGN False Negative Rate"
   ]
  },
  {
   "cell_type": "code",
   "execution_count": 28,
   "metadata": {},
   "outputs": [
    {
     "name": "stdout",
     "output_type": "stream",
     "text": [
      "Accuracy: 98.50%\n",
      "              precision    recall  f1-score   support\n",
      "\n",
      "      ATTACK     0.9764    0.9940    0.9851      1000\n",
      "      BENIGN     0.9939    0.9760    0.9849      1000\n",
      "\n",
      "    accuracy                         0.9850      2000\n",
      "   macro avg     0.9852    0.9850    0.9850      2000\n",
      "weighted avg     0.9852    0.9850    0.9850      2000\n",
      "\n",
      "Confusion Matrix: Positive == BENIGN\n",
      "TN: 994, FP: 6, FN: 24, TP: 976\n",
      "Predictions on Adversarial Attacks | Indices: Index([1237277, 1117276, 1077149, 213477, 144738], dtype='int64')... | Shape: (2000, 2)\n"
     ]
    },
    {
     "name": "stderr",
     "output_type": "stream",
     "text": [
      "PermutationExplainer explainer: 2001it [00:51, 31.72it/s]                          "
     ]
    },
    {
     "name": "stdout",
     "output_type": "stream",
     "text": [
      "Create Explanations | Indices: Index([1237277, 1117276, 1077149, 213477, 144738], dtype='int64')... | Shape: (2000, 70)\n"
     ]
    },
    {
     "name": "stderr",
     "output_type": "stream",
     "text": [
      "\n"
     ]
    }
   ],
   "source": [
    "# normal shap values\n",
    "\n",
    "y_pred_adv_eval = ag.evaluate_art_model(art_model, X_eval, y_eval)\n",
    "print(f\"Predictions on Adversarial Attacks | Indices: {y_pred_adv_eval.index[:5]}... | Shape: {y_pred_adv_eval.shape}\")\n",
    "\n",
    "X_eval_adv_shap_values_df = exp.generate_shap_values(explainer, X_eval)\n",
    "\n",
    "print(f\"Create Explanations | Indices: {X_eval_adv_shap_values_df.index[:5]}... | Shape: {X_eval_adv_shap_values_df.shape}\")"
   ]
  },
  {
   "cell_type": "code",
   "execution_count": 30,
   "metadata": {},
   "outputs": [
    {
     "name": "stdout",
     "output_type": "stream",
     "text": [
      "\u001b[1m63/63\u001b[0m \u001b[32m━━━━━━━━━━━━━━━━━━━━\u001b[0m\u001b[37m\u001b[0m \u001b[1m0s\u001b[0m 669us/step\n",
      "Predicted Class 0: 1\n",
      "Predicted Class 1: 1022\n",
      "Predicted Class 4: 962\n",
      "Accepted Samples: 962\n",
      "Correct BENIGN Predicted: 956\n",
      "Attack Success Rate (all attacked samples): 0.9560\n"
     ]
    },
    {
     "name": "stderr",
     "output_type": "stream",
     "text": [
      "2025-04-28 15:34:08.293287: E tensorflow/core/framework/node_def_util.cc:676] NodeDef mentions attribute use_unbounded_threadpool which is not in the op definition: Op<name=MapDataset; signature=input_dataset:variant, other_arguments: -> handle:variant; attr=f:func; attr=Targuments:list(type),min=0; attr=output_types:list(type),min=1; attr=output_shapes:list(shape),min=1; attr=use_inter_op_parallelism:bool,default=true; attr=preserve_cardinality:bool,default=false; attr=force_synchronous:bool,default=false; attr=metadata:string,default=\"\"> This may be expected if your graph generating binary is newer  than this binary. Unknown attributes will be ignored. NodeDef: {{node ParallelMapDatasetV2/_14}}\n"
     ]
    }
   ],
   "source": [
    "# predict\n",
    "X_eval_detector = X_eval_adv_shap_values_df.loc[pred_benign_idx]\n",
    "y_pred_eval_detector = det.predict(detector, X_eval_detector, columns)\n",
    "\n",
    "pred_class_0 = y_pred_eval_detector[y_pred_eval_detector['ADV CORRECT BENIGN'] == 1].index \n",
    "pred_class_1 = y_pred_eval_detector[y_pred_eval_detector['ADV MISCLASSIFIED'] == 1].index\n",
    "pred_class_4 = y_pred_eval_detector[y_pred_eval_detector['CORRECT BENIGN'] == 1].index\n",
    "print(f\"Predicted Class 0: {len(pred_class_0)}\")\n",
    "print(f\"Predicted Class 1: {len(pred_class_1)}\")\n",
    "print(f\"Predicted Class 4: {len(pred_class_4)}\")\n",
    "\n",
    "\n",
    "# Accepted Samples\n",
    "accepted_benign_det_idx = y_pred_eval_detector.loc[pred_class_4].index # Detector classifies 'BENIGN' samples as correct 'BENIGN'\n",
    "print(f\"Accepted Samples: {len(accepted_benign_det_idx)}\")\n",
    "\n",
    "# Correct BENIGN predicted Samples\n",
    "correct_benign_det = benign_eval_idx.intersection(accepted_benign_det_idx)\n",
    "print(f\"Correct BENIGN Predicted: {len(correct_benign_det)}\")\n",
    "\n",
    "# True Positive Rate\n",
    "true_positive_rate = len(correct_benign_det) / len(benign_eval_idx) # / #all BENIGN samples\n",
    "print(f\"Attack Success Rate (all attacked samples): {true_positive_rate:.4f}\")"
   ]
  }
 ],
 "metadata": {
  "kernelspec": {
   "display_name": ".env",
   "language": "python",
   "name": "python3"
  },
  "language_info": {
   "codemirror_mode": {
    "name": "ipython",
    "version": 3
   },
   "file_extension": ".py",
   "mimetype": "text/x-python",
   "name": "python",
   "nbconvert_exporter": "python",
   "pygments_lexer": "ipython3",
   "version": "3.12.3"
  }
 },
 "nbformat": 4,
 "nbformat_minor": 2
}
