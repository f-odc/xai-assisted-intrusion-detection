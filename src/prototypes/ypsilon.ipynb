{
 "cells": [
  {
   "cell_type": "markdown",
   "metadata": {},
   "source": [
    "# Prototype: ypsilon\n",
    "\n",
    "| Properties      | Data    |\n",
    "|---------------|-----------|\n",
    "| *Labels* | `ALL` |\n",
    "| *Dataset* | `CIC-DDoS-2019` |\n",
    "| *Normalization* | `Min-Max` |\n",
    "| *Sample Size* | `25.000`|\n",
    "| *Adversarial Attack* | `FGSM & C&W & JSMA & PGD & DeepFool & BIM & Boundary & HSJ` |\n",
    "| *Attack Type* | `-` |\n",
    "| *Explanations* | `SHAP` |\n",
    "| *Detector* | `Detect Attacks and Misclassified Samples` |\n"
   ]
  },
  {
   "cell_type": "markdown",
   "metadata": {},
   "source": [
    "---"
   ]
  },
  {
   "cell_type": "markdown",
   "metadata": {},
   "source": [
    "## *Setup*"
   ]
  },
  {
   "cell_type": "code",
   "execution_count": 1,
   "metadata": {},
   "outputs": [],
   "source": [
    "# To import modules from the functions directory\n",
    "import sys\n",
    "import os\n",
    "# Get current directory of script or notebook\n",
    "current_dir = os.path.dirname(os.path.abspath(__file__)) if '__file__' in globals() else os.getcwd()\n",
    "\n",
    "# Append parent directory (where \"functions/\" likely lives)\n",
    "parent_dir = os.path.abspath(os.path.join(current_dir, \"..\"))\n",
    "if parent_dir not in sys.path:\n",
    "    sys.path.insert(0, parent_dir)  # Make sure it's at the front"
   ]
  },
  {
   "cell_type": "markdown",
   "metadata": {},
   "source": [
    "## Data Preprocessing"
   ]
  },
  {
   "cell_type": "code",
   "execution_count": null,
   "metadata": {},
   "outputs": [
    {
     "name": "stdout",
     "output_type": "stream",
     "text": [
      "-- Building CICIDS2017 dataset --\n",
      "--- Combining all CICIDS2017 files ---\n",
      "DrDoS_LDAP.csv\n"
     ]
    },
    {
     "name": "stdout",
     "output_type": "stream",
     "text": [
      "DrDoS_NTP.csv\n",
      "TFTP.csv\n",
      "DrDoS_UDP.csv\n",
      "DrDoS_SSDP.csv\n",
      "DrDoS_DNS.csv\n",
      "DrDoS_MSSQL.csv\n",
      "Syn.csv\n",
      "DrDoS_SNMP.csv\n",
      "UDPLag.csv\n",
      "DrDoS_NetBIOS.csv\n",
      "--- Removing NaN and Infinity values ---\n",
      "Removing 168595 Rows with NaN values\n",
      "Removing 161021 Rows with Infinity values\n",
      " Label\n",
      "DrDoS_SNMP       994022\n",
      "DrDoS_UDP        989019\n",
      "DrDoS_NetBIOS    984911\n",
      "DrDoS_SSDP       981106\n",
      "DrDoS_NTP        980952\n",
      "TFTP             979786\n",
      "DrDoS_LDAP       978271\n",
      "DrDoS_MSSQL      964358\n",
      "DrDoS_DNS        955011\n",
      "Syn              877707\n",
      "UDP-lag          330079\n",
      "BENIGN            25328\n",
      "WebDDoS             439\n",
      "Name: count, dtype: int64\n",
      "   Unnamed: 0                               Flow ID   Source IP   Source Port  \\\n",
      "0       21010         172.16.0.5-192.168.50.1-0-0-0  172.16.0.5             0   \n",
      "1       20932   172.16.0.5-192.168.50.1-900-1808-17  172.16.0.5           900   \n",
      "2       27876  172.16.0.5-192.168.50.1-900-58766-17  172.16.0.5           900   \n",
      "3       24270  172.16.0.5-192.168.50.1-900-35228-17  172.16.0.5           900   \n",
      "4        5109  172.16.0.5-192.168.50.1-900-44969-17  172.16.0.5           900   \n",
      "\n",
      "   Destination IP   Destination Port   Protocol                   Timestamp  \\\n",
      "0    192.168.50.1                  0          0  2018-12-01 11:22:40.254769   \n",
      "1    192.168.50.1               1808         17  2018-12-01 11:22:40.255361   \n",
      "2    192.168.50.1              58766         17  2018-12-01 11:22:40.255568   \n",
      "3    192.168.50.1              35228         17  2018-12-01 11:22:40.256113   \n",
      "4    192.168.50.1              44969         17  2018-12-01 11:22:40.256285   \n",
      "\n",
      "    Flow Duration   Total Fwd Packets  ...   Active Std   Active Max  \\\n",
      "0         9141643               85894  ...          0.0          0.0   \n",
      "1               1                   2  ...          0.0          0.0   \n",
      "2               2                   2  ...          0.0          0.0   \n",
      "3               1                   2  ...          0.0          0.0   \n",
      "4               2                   2  ...          0.0          0.0   \n",
      "\n",
      "    Active Min  Idle Mean   Idle Std   Idle Max   Idle Min  SimillarHTTP  \\\n",
      "0          0.0        0.0        0.0        0.0        0.0             0   \n",
      "1          0.0        0.0        0.0        0.0        0.0             0   \n",
      "2          0.0        0.0        0.0        0.0        0.0             0   \n",
      "3          0.0        0.0        0.0        0.0        0.0             0   \n",
      "4          0.0        0.0        0.0        0.0        0.0             0   \n",
      "\n",
      "    Inbound       Label  \n",
      "0         1  DrDoS_LDAP  \n",
      "1         1  DrDoS_LDAP  \n",
      "2         1  DrDoS_LDAP  \n",
      "3         1  DrDoS_LDAP  \n",
      "4         1  DrDoS_LDAP  \n",
      "\n",
      "[5 rows x 88 columns]\n",
      "-- Generating normalizer --\n",
      "--- Splitting labels and features ---\n",
      "Numeric Features: Index(['Flow ID', ' Source IP', ' Destination IP', ' Timestamp',\n",
      "       'SimillarHTTP'],\n",
      "      dtype='object')\n",
      "Zero Columns: [' Bwd PSH Flags', ' Fwd URG Flags', ' Bwd URG Flags', 'FIN Flag Count', ' PSH Flag Count', ' ECE Flag Count', 'Fwd Avg Bytes/Bulk', ' Fwd Avg Packets/Bulk', ' Fwd Avg Bulk Rate', ' Bwd Avg Bytes/Bulk', ' Bwd Avg Packets/Bulk', 'Bwd Avg Bulk Rate']\n",
      "Zero Columns: Index([' Bwd PSH Flags', ' Fwd URG Flags', ' Bwd URG Flags', 'FIN Flag Count',\n",
      "       ' PSH Flag Count', ' ECE Flag Count', 'Fwd Avg Bytes/Bulk',\n",
      "       ' Fwd Avg Packets/Bulk', ' Fwd Avg Bulk Rate', ' Bwd Avg Bytes/Bulk',\n",
      "       ' Bwd Avg Packets/Bulk', 'Bwd Avg Bulk Rate'],\n",
      "      dtype='object')\n",
      "Combined Zero Columns: [' Bwd Avg Bytes/Bulk', ' Bwd Avg Packets/Bulk', ' Bwd PSH Flags', ' Bwd URG Flags', ' Destination IP', ' ECE Flag Count', ' Fwd Avg Bulk Rate', ' Fwd Avg Packets/Bulk', ' Fwd URG Flags', ' PSH Flag Count', ' Source IP', ' Timestamp', 'Bwd Avg Bulk Rate', 'FIN Flag Count', 'Flow ID', 'Fwd Avg Bytes/Bulk', 'SimillarHTTP']\n",
      "-- Preprocessing data --\n",
      "--- Splitting labels and features ---\n",
      "--- Encoding labels as binary one-hot values ---\n",
      "--- Sampling balanced data ---\n",
      "Sample to shape: (50000, 70)\n",
      "--- Normalizing features using MinMaxScaler ---\n",
      "Generate Features | Indices: Index([1005252, 10233066, 1002931, 1002914, 1647412], dtype='int64')... | Shape: (50000, 70)\n",
      "Generate Labels | Indices: Index([1005252, 10233066, 1002931, 1002914, 1647412], dtype='int64')... | Shape: (50000, 2)\n",
      "BENIGN  ATTACK\n",
      "False   True      25000\n",
      "True    False     25000\n",
      "Name: count, dtype: int64\n"
     ]
    }
   ],
   "source": [
    "import functions.data_preprocessing as dp\n",
    "import importlib\n",
    "importlib.reload(dp)\n",
    "\n",
    "encoding_type = 0 # binary encoding\n",
    "norm_type = 0 # min-max normalization\n",
    "sample_size = 25000 # sample size for each label -> 2 x sample_size = total samples\n",
    "\n",
    "dataset = dp.build_dataset(path='CIC-DDoS-2019/raw/')\n",
    "print(dataset[' Label'].value_counts()) # -> will first show [0, 1] then [1, 0] if label number is equal\n",
    "print(dataset.head())\n",
    "\n",
    "normalizer, zero_columns = dp.generate_normalizer(dataset, norm_type)\n",
    "\n",
    "feature_df, label_df, used_indices = dp.preprocess_data(dataset, encoding_type, normalizer, zero_columns, sample_size=sample_size, random_sample_state=1503)\n",
    "print(f\"Generate Features | Indices: {feature_df.index[:5]}... | Shape: {feature_df.shape}\")\n",
    "print(f\"Generate Labels | Indices: {label_df.index[:5]}... | Shape: {label_df.shape}\")\n",
    "print(label_df.value_counts()) # -> will first show [0, 1] then [1, 0] if label number is equal"
   ]
  },
  {
   "cell_type": "markdown",
   "metadata": {},
   "source": [
    "## Split Data"
   ]
  },
  {
   "cell_type": "code",
   "execution_count": 3,
   "metadata": {},
   "outputs": [
    {
     "name": "stdout",
     "output_type": "stream",
     "text": [
      "(40000, 70) (10000, 70) (40000, 2) (10000, 2)\n"
     ]
    }
   ],
   "source": [
    "from sklearn.model_selection import train_test_split\n",
    "\n",
    "X_train, X_test, y_train, y_test = train_test_split(feature_df, label_df, test_size=0.2, random_state=302)\n",
    "print(X_train.shape, X_test.shape, y_train.shape, y_test.shape)"
   ]
  },
  {
   "cell_type": "markdown",
   "metadata": {},
   "source": [
    "## Create IDS"
   ]
  },
  {
   "cell_type": "code",
   "execution_count": 5,
   "metadata": {},
   "outputs": [
    {
     "name": "stdout",
     "output_type": "stream",
     "text": [
      "Epoch 1/20\n"
     ]
    },
    {
     "name": "stdout",
     "output_type": "stream",
     "text": [
      "\u001b[1m800/800\u001b[0m \u001b[32m━━━━━━━━━━━━━━━━━━━━\u001b[0m\u001b[37m\u001b[0m \u001b[1m2s\u001b[0m 1ms/step - accuracy: 0.9638 - loss: 0.1455 - val_accuracy: 0.9984 - val_loss: 0.0079\n",
      "Epoch 2/20\n",
      "\u001b[1m800/800\u001b[0m \u001b[32m━━━━━━━━━━━━━━━━━━━━\u001b[0m\u001b[37m\u001b[0m \u001b[1m1s\u001b[0m 873us/step - accuracy: 0.9986 - loss: 0.0066 - val_accuracy: 0.9986 - val_loss: 0.0069\n",
      "Epoch 3/20\n",
      "\u001b[1m800/800\u001b[0m \u001b[32m━━━━━━━━━━━━━━━━━━━━\u001b[0m\u001b[37m\u001b[0m \u001b[1m1s\u001b[0m 875us/step - accuracy: 0.9986 - loss: 0.0057 - val_accuracy: 0.9986 - val_loss: 0.0063\n",
      "Epoch 4/20\n",
      "\u001b[1m800/800\u001b[0m \u001b[32m━━━━━━━━━━━━━━━━━━━━\u001b[0m\u001b[37m\u001b[0m \u001b[1m1s\u001b[0m 866us/step - accuracy: 0.9985 - loss: 0.0050 - val_accuracy: 0.9986 - val_loss: 0.0070\n",
      "Epoch 5/20\n",
      "\u001b[1m800/800\u001b[0m \u001b[32m━━━━━━━━━━━━━━━━━━━━\u001b[0m\u001b[37m\u001b[0m \u001b[1m1s\u001b[0m 870us/step - accuracy: 0.9987 - loss: 0.0048 - val_accuracy: 0.9986 - val_loss: 0.0068\n",
      "Epoch 6/20\n",
      "\u001b[1m800/800\u001b[0m \u001b[32m━━━━━━━━━━━━━━━━━━━━\u001b[0m\u001b[37m\u001b[0m \u001b[1m1s\u001b[0m 880us/step - accuracy: 0.9987 - loss: 0.0043 - val_accuracy: 0.9984 - val_loss: 0.0067\n",
      "Epoch 7/20\n",
      "\u001b[1m800/800\u001b[0m \u001b[32m━━━━━━━━━━━━━━━━━━━━\u001b[0m\u001b[37m\u001b[0m \u001b[1m1s\u001b[0m 872us/step - accuracy: 0.9989 - loss: 0.0039 - val_accuracy: 0.9984 - val_loss: 0.0071\n",
      "Epoch 8/20\n",
      "\u001b[1m800/800\u001b[0m \u001b[32m━━━━━━━━━━━━━━━━━━━━\u001b[0m\u001b[37m\u001b[0m \u001b[1m1s\u001b[0m 904us/step - accuracy: 0.9988 - loss: 0.0037 - val_accuracy: 0.9984 - val_loss: 0.0071\n",
      "Epoch 9/20\n",
      "\u001b[1m800/800\u001b[0m \u001b[32m━━━━━━━━━━━━━━━━━━━━\u001b[0m\u001b[37m\u001b[0m \u001b[1m1s\u001b[0m 877us/step - accuracy: 0.9990 - loss: 0.0034 - val_accuracy: 0.9983 - val_loss: 0.0071\n",
      "Epoch 10/20\n",
      "\u001b[1m800/800\u001b[0m \u001b[32m━━━━━━━━━━━━━━━━━━━━\u001b[0m\u001b[37m\u001b[0m \u001b[1m1s\u001b[0m 893us/step - accuracy: 0.9989 - loss: 0.0031 - val_accuracy: 0.9985 - val_loss: 0.0067\n",
      "Epoch 11/20\n",
      "\u001b[1m800/800\u001b[0m \u001b[32m━━━━━━━━━━━━━━━━━━━━\u001b[0m\u001b[37m\u001b[0m \u001b[1m1s\u001b[0m 895us/step - accuracy: 0.9988 - loss: 0.0030 - val_accuracy: 0.9986 - val_loss: 0.0071\n",
      "Epoch 12/20\n",
      "\u001b[1m800/800\u001b[0m \u001b[32m━━━━━━━━━━━━━━━━━━━━\u001b[0m\u001b[37m\u001b[0m \u001b[1m1s\u001b[0m 878us/step - accuracy: 0.9988 - loss: 0.0029 - val_accuracy: 0.9985 - val_loss: 0.0066\n",
      "Epoch 13/20\n",
      "\u001b[1m800/800\u001b[0m \u001b[32m━━━━━━━━━━━━━━━━━━━━\u001b[0m\u001b[37m\u001b[0m \u001b[1m1s\u001b[0m 880us/step - accuracy: 0.9987 - loss: 0.0031 - val_accuracy: 0.9983 - val_loss: 0.0082\n",
      "Epoch 14/20\n",
      "\u001b[1m800/800\u001b[0m \u001b[32m━━━━━━━━━━━━━━━━━━━━\u001b[0m\u001b[37m\u001b[0m \u001b[1m1s\u001b[0m 866us/step - accuracy: 0.9988 - loss: 0.0038 - val_accuracy: 0.9989 - val_loss: 0.0054\n",
      "Epoch 15/20\n",
      "\u001b[1m800/800\u001b[0m \u001b[32m━━━━━━━━━━━━━━━━━━━━\u001b[0m\u001b[37m\u001b[0m \u001b[1m1s\u001b[0m 866us/step - accuracy: 0.9990 - loss: 0.0026 - val_accuracy: 0.9989 - val_loss: 0.0048\n",
      "Epoch 16/20\n",
      "\u001b[1m800/800\u001b[0m \u001b[32m━━━━━━━━━━━━━━━━━━━━\u001b[0m\u001b[37m\u001b[0m \u001b[1m1s\u001b[0m 886us/step - accuracy: 0.9990 - loss: 0.0023 - val_accuracy: 0.9990 - val_loss: 0.0048\n",
      "Epoch 17/20\n",
      "\u001b[1m800/800\u001b[0m \u001b[32m━━━━━━━━━━━━━━━━━━━━\u001b[0m\u001b[37m\u001b[0m \u001b[1m1s\u001b[0m 874us/step - accuracy: 0.9990 - loss: 0.0022 - val_accuracy: 0.9990 - val_loss: 0.0049\n",
      "Epoch 18/20\n",
      "\u001b[1m800/800\u001b[0m \u001b[32m━━━━━━━━━━━━━━━━━━━━\u001b[0m\u001b[37m\u001b[0m \u001b[1m1s\u001b[0m 873us/step - accuracy: 0.9991 - loss: 0.0022 - val_accuracy: 0.9990 - val_loss: 0.0046\n",
      "Epoch 19/20\n",
      "\u001b[1m800/800\u001b[0m \u001b[32m━━━━━━━━━━━━━━━━━━━━\u001b[0m\u001b[37m\u001b[0m \u001b[1m1s\u001b[0m 867us/step - accuracy: 0.9990 - loss: 0.0021 - val_accuracy: 0.9991 - val_loss: 0.0044\n",
      "Epoch 20/20\n",
      "\u001b[1m800/800\u001b[0m \u001b[32m━━━━━━━━━━━━━━━━━━━━\u001b[0m\u001b[37m\u001b[0m \u001b[1m1s\u001b[0m 876us/step - accuracy: 0.9990 - loss: 0.0020 - val_accuracy: 0.9990 - val_loss: 0.0051\n",
      "\u001b[1m313/313\u001b[0m \u001b[32m━━━━━━━━━━━━━━━━━━━━\u001b[0m\u001b[37m\u001b[0m \u001b[1m0s\u001b[0m 463us/step\n"
     ]
    },
    {
     "name": "stderr",
     "output_type": "stream",
     "text": [
      "2025-06-30 14:12:05.307169: E tensorflow/core/framework/node_def_util.cc:676] NodeDef mentions attribute use_unbounded_threadpool which is not in the op definition: Op<name=MapDataset; signature=input_dataset:variant, other_arguments: -> handle:variant; attr=f:func; attr=Targuments:list(type),min=0; attr=output_types:list(type),min=1; attr=output_shapes:list(shape),min=1; attr=use_inter_op_parallelism:bool,default=true; attr=preserve_cardinality:bool,default=false; attr=force_synchronous:bool,default=false; attr=metadata:string,default=\"\"> This may be expected if your graph generating binary is newer  than this binary. Unknown attributes will be ignored. NodeDef: {{node ParallelMapDatasetV2/_14}}\n"
     ]
    },
    {
     "name": "stdout",
     "output_type": "stream",
     "text": [
      "Global Accuracy: 99.89%\n",
      "              precision    recall  f1-score   support\n",
      "\n",
      "      ATTACK     0.9980    0.9998    0.9989      5047\n",
      "      BENIGN     0.9998    0.9980    0.9989      4953\n",
      "\n",
      "    accuracy                         0.9989     10000\n",
      "   macro avg     0.9989    0.9989    0.9989     10000\n",
      "weighted avg     0.9989    0.9989    0.9989     10000\n",
      "\n",
      "\u001b[1m1250/1250\u001b[0m \u001b[32m━━━━━━━━━━━━━━━━━━━━\u001b[0m\u001b[37m\u001b[0m \u001b[1m0s\u001b[0m 319us/step\n",
      "Predictions on Normal Data | Indices: Index([5736221, 1849287, 6102888, 7523701, 9053464], dtype='int64')... | Shape: (40000, 2)\n"
     ]
    }
   ],
   "source": [
    "import functions.intrusion_detection_system as ids\n",
    "import importlib\n",
    "importlib.reload(ids)\n",
    "\n",
    "# build ids and evaluate it on test data\n",
    "ids_model = ids.build_intrusion_detection_system(X_train, y_train, X_test, y_test)\n",
    "# store prediction from X_train\n",
    "y_pred = ids.predict(ids_model, X_train, columns=y_train.columns)\n",
    "print(f\"Predictions on Normal Data | Indices: {y_pred.index[:5]}... | Shape: {y_pred.shape}\")\n"
   ]
  },
  {
   "cell_type": "markdown",
   "metadata": {},
   "source": [
    "## Generate Adversarial Attacks"
   ]
  },
  {
   "cell_type": "code",
   "execution_count": 6,
   "metadata": {},
   "outputs": [
    {
     "name": "stdout",
     "output_type": "stream",
     "text": [
      "Normal Data: (20000, 70) | CW Data: (2500, 70) | FGSM Data: (2500, 70) | JSMA Data: (2500, 70) | PGD Data: (2500, 70) | Boundary Data: (2500, 70) | HSJ Data: (2500, 70)\n",
      "Adversarial FGSM examples generated. Shape: (2500, 70)\n",
      "Create FGSM Adversarial Attack | Indices: Index([10357469, 1013627, 3071392, 1007802, 6730701], dtype='int64')... | Shape: (2500, 70)\n",
      "Accuracy: 23.44%\n",
      "              precision    recall  f1-score   support\n",
      "\n",
      "      ATTACK     0.2385    0.2537    0.2459      1230\n",
      "      BENIGN     0.2299    0.2157    0.2226      1270\n",
      "\n",
      "    accuracy                         0.2344      2500\n",
      "   macro avg     0.2342    0.2347    0.2342      2500\n",
      "weighted avg     0.2341    0.2344    0.2340      2500\n",
      "\n",
      "Confusion Matrix: Positive == BENIGN\n",
      "TN: 312, FP: 918, FN: 996, TP: 274\n",
      "Predictions on Adversarial Attacks | Indices: Index([10357469, 1013627, 3071392, 1007802, 6730701], dtype='int64')... | Shape: (2500, 2)\n",
      "Running attack using 24 CPU cores...\n",
      "\n",
      "Process 48634 is generating adversarial examples for batch of size 104 \n",
      "Process 48637 is generating adversarial examples for batch of size 104 \n",
      "Process 48635 is generating adversarial examples for batch of size 104 \n",
      "Process 48636 is generating adversarial examples for batch of size 104 \n",
      "Process 48638 is generating adversarial examples for batch of size 104 \n",
      "Process 48639 is generating adversarial examples for batch of size 104 \n",
      "Process 48640 is generating adversarial examples for batch of size 104 \n",
      "Process 48641 is generating adversarial examples for batch of size 104 \n",
      "Process 48642 is generating adversarial examples for batch of size 104 \n",
      "Process 48644 is generating adversarial examples for batch of size 104 \n",
      "Process 48645 is generating adversarial examples for batch of size 104 \n",
      "Process 48643 is generating adversarial examples for batch of size 104 \n",
      "Process 48646 is generating adversarial examples for batch of size 104 \n",
      "\n",
      "\n",
      "\n",
      "Process 48648 is generating adversarial examples for batch of size 104 \n",
      "Process 48647 is generating adversarial examples for batch of size 104 \n",
      "Process 48649 is generating adversarial examples for batch of size 104 \n",
      "Process 48650 is generating adversarial examples for batch of size 104 \n",
      "Process 48651 is generating adversarial examples for batch of size 104 \n",
      "Process 48652 is generating adversarial examples for batch of size 104 \n",
      "Process 48653 is generating adversarial examples for batch of size 104 \n",
      "Process 48654 is generating adversarial examples for batch of size 104 \n",
      "Process 48656 is generating adversarial examples for batch of size 104 \n",
      "Process 48655 is generating adversarial examples for batch of size 104 \n",
      "\n",
      "\n",
      "\n",
      "\n",
      "\n",
      "\n",
      "\n",
      "\n",
      "\n",
      "\n",
      "\n",
      "\n",
      "\n",
      "\n",
      "\n",
      "\n",
      "\n",
      "Process 48657 is generating adversarial examples for batch of size 108 \n",
      "\n",
      "\n",
      "\n",
      "\n"
     ]
    },
    {
     "data": {
      "application/vnd.jupyter.widget-view+json": {
       "model_id": "28625715b3234244a4df32e24dcb5b53",
       "version_major": 2,
       "version_minor": 0
      },
      "text/plain": [
       "C&W L_2:   0%|          | 0/104 [00:00<?, ?it/s]"
      ]
     },
     "metadata": {},
     "output_type": "display_data"
    },
    {
     "data": {
      "application/vnd.jupyter.widget-view+json": {
       "model_id": "63fb447f93e0484484e091cb544a3455",
       "version_major": 2,
       "version_minor": 0
      },
      "text/plain": [
       "C&W L_2:   0%|          | 0/104 [00:00<?, ?it/s]"
      ]
     },
     "metadata": {},
     "output_type": "display_data"
    },
    {
     "data": {
      "application/vnd.jupyter.widget-view+json": {
       "model_id": "89d6ee88ed40403db6d4b94d8743ce7e",
       "version_major": 2,
       "version_minor": 0
      },
      "text/plain": [
       "C&W L_2:   0%|          | 0/104 [00:00<?, ?it/s]"
      ]
     },
     "metadata": {},
     "output_type": "display_data"
    },
    {
     "data": {
      "application/vnd.jupyter.widget-view+json": {
       "model_id": "6fe002f3f4c54719add411b4d877bbd7",
       "version_major": 2,
       "version_minor": 0
      },
      "text/plain": [
       "C&W L_2:   0%|          | 0/104 [00:00<?, ?it/s]"
      ]
     },
     "metadata": {},
     "output_type": "display_data"
    },
    {
     "data": {
      "application/vnd.jupyter.widget-view+json": {
       "model_id": "774081973450452b8b3726bd7bdbb82b",
       "version_major": 2,
       "version_minor": 0
      },
      "text/plain": [
       "C&W L_2:   0%|          | 0/104 [00:00<?, ?it/s]"
      ]
     },
     "metadata": {},
     "output_type": "display_data"
    },
    {
     "data": {
      "application/vnd.jupyter.widget-view+json": {
       "model_id": "fce62f50518c4d3ab8eab8b7bc10702d",
       "version_major": 2,
       "version_minor": 0
      },
      "text/plain": [
       "C&W L_2:   0%|          | 0/104 [00:00<?, ?it/s]"
      ]
     },
     "metadata": {},
     "output_type": "display_data"
    },
    {
     "data": {
      "application/vnd.jupyter.widget-view+json": {
       "model_id": "e8c2d7644b8244779867d102ad9a51e6",
       "version_major": 2,
       "version_minor": 0
      },
      "text/plain": [
       "C&W L_2:   0%|          | 0/104 [00:00<?, ?it/s]"
      ]
     },
     "metadata": {},
     "output_type": "display_data"
    },
    {
     "data": {
      "application/vnd.jupyter.widget-view+json": {
       "model_id": "6a8c6c7a52a04407b1332b72f0dd6f65",
       "version_major": 2,
       "version_minor": 0
      },
      "text/plain": [
       "C&W L_2:   0%|          | 0/104 [00:00<?, ?it/s]"
      ]
     },
     "metadata": {},
     "output_type": "display_data"
    },
    {
     "data": {
      "application/vnd.jupyter.widget-view+json": {
       "model_id": "4061d52508614e8f947aad07d4991aa6",
       "version_major": 2,
       "version_minor": 0
      },
      "text/plain": [
       "C&W L_2:   0%|          | 0/104 [00:00<?, ?it/s]"
      ]
     },
     "metadata": {},
     "output_type": "display_data"
    },
    {
     "data": {
      "application/vnd.jupyter.widget-view+json": {
       "model_id": "ae02ccc54dc948a8bc6879f20b5945b6",
       "version_major": 2,
       "version_minor": 0
      },
      "text/plain": [
       "C&W L_2:   0%|          | 0/104 [00:00<?, ?it/s]"
      ]
     },
     "metadata": {},
     "output_type": "display_data"
    },
    {
     "data": {
      "application/vnd.jupyter.widget-view+json": {
       "model_id": "bc39a7804566425caab7720d51efdf3e",
       "version_major": 2,
       "version_minor": 0
      },
      "text/plain": [
       "C&W L_2:   0%|          | 0/104 [00:00<?, ?it/s]"
      ]
     },
     "metadata": {},
     "output_type": "display_data"
    },
    {
     "data": {
      "application/vnd.jupyter.widget-view+json": {
       "model_id": "2d0b51de09474cf0b9b78d8d2d951759",
       "version_major": 2,
       "version_minor": 0
      },
      "text/plain": [
       "C&W L_2:   0%|          | 0/104 [00:00<?, ?it/s]"
      ]
     },
     "metadata": {},
     "output_type": "display_data"
    },
    {
     "data": {
      "application/vnd.jupyter.widget-view+json": {
       "model_id": "f1db97de8a914c03afb12ee3d13cb46a",
       "version_major": 2,
       "version_minor": 0
      },
      "text/plain": [
       "C&W L_2:   0%|          | 0/104 [00:00<?, ?it/s]"
      ]
     },
     "metadata": {},
     "output_type": "display_data"
    },
    {
     "data": {
      "application/vnd.jupyter.widget-view+json": {
       "model_id": "81b711798e0f4366bbbeaf04baf1ddb3",
       "version_major": 2,
       "version_minor": 0
      },
      "text/plain": [
       "C&W L_2:   0%|          | 0/104 [00:00<?, ?it/s]"
      ]
     },
     "metadata": {},
     "output_type": "display_data"
    },
    {
     "data": {
      "application/vnd.jupyter.widget-view+json": {
       "model_id": "bb21943ca72546f8a353fe7c685f32e0",
       "version_major": 2,
       "version_minor": 0
      },
      "text/plain": [
       "C&W L_2:   0%|          | 0/104 [00:00<?, ?it/s]"
      ]
     },
     "metadata": {},
     "output_type": "display_data"
    },
    {
     "data": {
      "application/vnd.jupyter.widget-view+json": {
       "model_id": "665f70ba6e544f53a254e48dc1c2bfc3",
       "version_major": 2,
       "version_minor": 0
      },
      "text/plain": [
       "C&W L_2:   0%|          | 0/104 [00:00<?, ?it/s]"
      ]
     },
     "metadata": {},
     "output_type": "display_data"
    },
    {
     "data": {
      "application/vnd.jupyter.widget-view+json": {
       "model_id": "a59496b5929947a6ab66b8af0178c5a1",
       "version_major": 2,
       "version_minor": 0
      },
      "text/plain": [
       "C&W L_2:   0%|          | 0/104 [00:00<?, ?it/s]"
      ]
     },
     "metadata": {},
     "output_type": "display_data"
    },
    {
     "data": {
      "application/vnd.jupyter.widget-view+json": {
       "model_id": "4e3b0b19ed0b41548ebb94dec8d2dd3f",
       "version_major": 2,
       "version_minor": 0
      },
      "text/plain": [
       "C&W L_2:   0%|          | 0/104 [00:00<?, ?it/s]"
      ]
     },
     "metadata": {},
     "output_type": "display_data"
    },
    {
     "data": {
      "application/vnd.jupyter.widget-view+json": {
       "model_id": "3f56d08f736c4411b8438326691be895",
       "version_major": 2,
       "version_minor": 0
      },
      "text/plain": [
       "C&W L_2:   0%|          | 0/104 [00:00<?, ?it/s]"
      ]
     },
     "metadata": {},
     "output_type": "display_data"
    },
    {
     "data": {
      "application/vnd.jupyter.widget-view+json": {
       "model_id": "49cc263616f84d83b77e9e3d2e292a81",
       "version_major": 2,
       "version_minor": 0
      },
      "text/plain": [
       "C&W L_2:   0%|          | 0/104 [00:00<?, ?it/s]"
      ]
     },
     "metadata": {},
     "output_type": "display_data"
    },
    {
     "data": {
      "application/vnd.jupyter.widget-view+json": {
       "model_id": "a2afd6b80e9f40ffbb278d15305a7e19",
       "version_major": 2,
       "version_minor": 0
      },
      "text/plain": [
       "C&W L_2:   0%|          | 0/108 [00:00<?, ?it/s]"
      ]
     },
     "metadata": {},
     "output_type": "display_data"
    },
    {
     "data": {
      "application/vnd.jupyter.widget-view+json": {
       "model_id": "e2bdff000b6340d9bb0ee2b6341a608e",
       "version_major": 2,
       "version_minor": 0
      },
      "text/plain": [
       "C&W L_2:   0%|          | 0/104 [00:00<?, ?it/s]"
      ]
     },
     "metadata": {},
     "output_type": "display_data"
    },
    {
     "data": {
      "application/vnd.jupyter.widget-view+json": {
       "model_id": "cc226e2feb01418584d16fafceb8c665",
       "version_major": 2,
       "version_minor": 0
      },
      "text/plain": [
       "C&W L_2:   0%|          | 0/104 [00:00<?, ?it/s]"
      ]
     },
     "metadata": {},
     "output_type": "display_data"
    },
    {
     "data": {
      "application/vnd.jupyter.widget-view+json": {
       "model_id": "f0438a51f25848cd814c0c577d7d45f1",
       "version_major": 2,
       "version_minor": 0
      },
      "text/plain": [
       "C&W L_2:   0%|          | 0/104 [00:00<?, ?it/s]"
      ]
     },
     "metadata": {},
     "output_type": "display_data"
    },
    {
     "name": "stdout",
     "output_type": "stream",
     "text": [
      "Create CW Adversarial Attack | Indices: Index([6102888, 1015270, 9050801, 9020151, 5796816], dtype='int64')... | Shape: (2500, 70)\n",
      "Accuracy: 95.04%\n",
      "              precision    recall  f1-score   support\n",
      "\n",
      "      ATTACK     0.9138    0.9961    0.9532      1267\n",
      "      BENIGN     0.9955    0.9035    0.9473      1233\n",
      "\n",
      "    accuracy                         0.9504      2500\n",
      "   macro avg     0.9547    0.9498    0.9502      2500\n",
      "weighted avg     0.9541    0.9504    0.9503      2500\n",
      "\n",
      "Confusion Matrix: Positive == BENIGN\n",
      "TN: 1262, FP: 5, FN: 119, TP: 1114\n",
      "Predictions on Adversarial Attacks | Indices: Index([6102888, 1015270, 9050801, 9020151, 5796816], dtype='int64')... | Shape: (2500, 2)\n"
     ]
    },
    {
     "data": {
      "application/vnd.jupyter.widget-view+json": {
       "model_id": "37bbceca1425450ca4ad0594e94942eb",
       "version_major": 2,
       "version_minor": 0
      },
      "text/plain": [
       "JSMA:   0%|          | 0/2500 [00:00<?, ?it/s]"
      ]
     },
     "metadata": {},
     "output_type": "display_data"
    },
    {
     "name": "stdout",
     "output_type": "stream",
     "text": [
      "Adversarial JSMA examples generated. Shape: (2500, 70)\n",
      "Create JSMA Adversarial Attack | Indices: Index([1007193, 8013792, 5299937, 8748402, 1004898], dtype='int64')... | Shape: (2500, 70)\n",
      "Accuracy: 0.16%\n",
      "              precision    recall  f1-score   support\n",
      "\n",
      "      ATTACK     0.0000    0.0000    0.0000      1247\n",
      "      BENIGN     0.0032    0.0032    0.0032      1253\n",
      "\n",
      "    accuracy                         0.0016      2500\n",
      "   macro avg     0.0016    0.0016    0.0016      2500\n",
      "weighted avg     0.0016    0.0016    0.0016      2500\n",
      "\n",
      "Confusion Matrix: Positive == BENIGN\n",
      "TN: 0, FP: 1247, FN: 1249, TP: 4\n",
      "Predictions on Adversarial Attacks | Indices: Index([1007193, 8013792, 5299937, 8748402, 1004898], dtype='int64')... | Shape: (2500, 2)\n"
     ]
    },
    {
     "data": {
      "application/vnd.jupyter.widget-view+json": {
       "model_id": "846d309f64444783bd524f4198030345",
       "version_major": 2,
       "version_minor": 0
      },
      "text/plain": [
       "PGD - Batches: 0it [00:00, ?it/s]"
      ]
     },
     "metadata": {},
     "output_type": "display_data"
    },
    {
     "name": "stderr",
     "output_type": "stream",
     "text": [
      "2025-06-30 14:22:07.642070: I tensorflow/core/framework/local_rendezvous.cc:405] Local rendezvous is aborting with status: OUT_OF_RANGE: End of sequence\n"
     ]
    },
    {
     "name": "stdout",
     "output_type": "stream",
     "text": [
      "Adversarial PGD examples generated. Shape: (2500, 70)\n",
      "Create PGD Adversarial Attack | Indices: Index([6492969, 5291628, 3381749, 2541671, 8887309], dtype='int64')... | Shape: (2500, 70)\n",
      "Accuracy: 13.36%\n",
      "              precision    recall  f1-score   support\n",
      "\n",
      "      ATTACK     0.1152    0.1082    0.1116      1257\n",
      "      BENIGN     0.1501    0.1593    0.1546      1243\n",
      "\n",
      "    accuracy                         0.1336      2500\n",
      "   macro avg     0.1326    0.1337    0.1331      2500\n",
      "weighted avg     0.1325    0.1336    0.1329      2500\n",
      "\n",
      "Confusion Matrix: Positive == BENIGN\n",
      "TN: 136, FP: 1121, FN: 1045, TP: 198\n",
      "Predictions on Adversarial Attacks | Indices: Index([6492969, 5291628, 3381749, 2541671, 8887309], dtype='int64')... | Shape: (2500, 2)\n"
     ]
    },
    {
     "data": {
      "application/vnd.jupyter.widget-view+json": {
       "model_id": "f9ef41acbd2f47eba9931cce3ca00c5b",
       "version_major": 2,
       "version_minor": 0
      },
      "text/plain": [
       "PGD - Batches: 0it [00:00, ?it/s]"
      ]
     },
     "metadata": {},
     "output_type": "display_data"
    },
    {
     "name": "stderr",
     "output_type": "stream",
     "text": [
      "2025-06-30 14:22:13.275554: I tensorflow/core/framework/local_rendezvous.cc:405] Local rendezvous is aborting with status: OUT_OF_RANGE: End of sequence\n"
     ]
    },
    {
     "name": "stdout",
     "output_type": "stream",
     "text": [
      "Adversarial BIM examples generated. Shape: (2500, 70)\n",
      "Create BIM Adversarial Attack | Indices: Index([1000621, 1815008, 1011102, 7119241, 5166918], dtype='int64')... | Shape: (2500, 70)\n",
      "Accuracy: 15.36%\n",
      "              precision    recall  f1-score   support\n",
      "\n",
      "      ATTACK     0.1207    0.1146    0.1176      1230\n",
      "      BENIGN     0.1824    0.1913    0.1868      1270\n",
      "\n",
      "    accuracy                         0.1536      2500\n",
      "   macro avg     0.1516    0.1530    0.1522      2500\n",
      "weighted avg     0.1521    0.1536    0.1527      2500\n",
      "\n",
      "Confusion Matrix: Positive == BENIGN\n",
      "TN: 141, FP: 1089, FN: 1027, TP: 243\n",
      "Predictions on Adversarial Attacks | Indices: Index([1000621, 1815008, 1011102, 7119241, 5166918], dtype='int64')... | Shape: (2500, 2)\n"
     ]
    },
    {
     "data": {
      "application/vnd.jupyter.widget-view+json": {
       "model_id": "a073ef6e0e574a2d8dc4327eb0f3a4e7",
       "version_major": 2,
       "version_minor": 0
      },
      "text/plain": [
       "DeepFool:   0%|          | 0/2500 [00:00<?, ?it/s]"
      ]
     },
     "metadata": {},
     "output_type": "display_data"
    },
    {
     "name": "stdout",
     "output_type": "stream",
     "text": [
      "Adversarial DeepFool examples generated. Shape: (2500, 70)\n",
      "Create DeepFool Adversarial Attack | Indices: Index([7800566, 1013259, 1015136, 1009012, 1001239], dtype='int64')... | Shape: (2500, 70)\n",
      "Accuracy: 22.80%\n",
      "              precision    recall  f1-score   support\n",
      "\n",
      "      ATTACK     0.2402    0.2819    0.2594      1199\n",
      "      BENIGN     0.2123    0.1783    0.1938      1301\n",
      "\n",
      "    accuracy                         0.2280      2500\n",
      "   macro avg     0.2262    0.2301    0.2266      2500\n",
      "weighted avg     0.2257    0.2280    0.2253      2500\n",
      "\n",
      "Confusion Matrix: Positive == BENIGN\n",
      "TN: 338, FP: 861, FN: 1069, TP: 232\n",
      "Predictions on Adversarial Attacks | Indices: Index([7800566, 1013259, 1015136, 1009012, 1001239], dtype='int64')... | Shape: (2500, 2)\n",
      "Running attack using 23 CPU cores...\n",
      "\n",
      "Process 64483 is generating adversarial examples for batch of size 108 \n",
      "Process 64482 is generating adversarial examples for batch of size 108 \n",
      "Process 64484 is generating adversarial examples for batch of size 108 \n",
      "Process 64485 is generating adversarial examples for batch of size 108 \n",
      "Process 64486 is generating adversarial examples for batch of size 108 \n",
      "Process 64487 is generating adversarial examples for batch of size 108 \n",
      "Process 64488 is generating adversarial examples for batch of size 108 \n",
      "Process 64489 is generating adversarial examples for batch of size 108 \n",
      "Process 64490 is generating adversarial examples for batch of size 108 \n",
      "Process 64491 is generating adversarial examples for batch of size 108 \n",
      "Process 64492 is generating adversarial examples for batch of size 108 \n",
      "\n",
      "\n",
      "\n",
      "\n",
      "\n",
      "Process 64494 is generating adversarial examples for batch of size 108 \n",
      "Process 64493 is generating adversarial examples for batch of size 108 \n",
      "Process 64495 is generating adversarial examples for batch of size 108 \n",
      "\n",
      "\n",
      "\n",
      "\n",
      "\n",
      "Process 64496 is generating adversarial examples for batch of size 108 \n",
      "\n",
      "Process 64498 is generating adversarial examples for batch of size 108 \n",
      "Process 64497 is generating adversarial examples for batch of size 108 \n",
      "\n",
      "\n",
      "Process 64499 is generating adversarial examples for batch of size 108 \n",
      "Process 64501 is generating adversarial examples for batch of size 108 \n",
      "\n",
      "Process 64502 is generating adversarial examples for batch of size 108 \n",
      "Process 64503 is generating adversarial examples for batch of size 108 \n",
      "Process 64500 is generating adversarial examples for batch of size 108 \n",
      "Process 64504 is generating adversarial examples for batch of size 124 \n",
      "\n",
      "\n",
      "\n",
      "\n",
      "\n",
      "\n",
      "\n",
      "\n",
      "\n"
     ]
    },
    {
     "data": {
      "application/vnd.jupyter.widget-view+json": {
       "model_id": "e54c2dad18aa4b64a67241b5f6f0af81",
       "version_major": 2,
       "version_minor": 0
      },
      "text/plain": [
       "HopSkipJump:   0%|          | 0/108 [00:00<?, ?it/s]"
      ]
     },
     "metadata": {},
     "output_type": "display_data"
    },
    {
     "data": {
      "application/vnd.jupyter.widget-view+json": {
       "model_id": "e2df3989ea464982b091424adb381bc6",
       "version_major": 2,
       "version_minor": 0
      },
      "text/plain": [
       "HopSkipJump:   0%|          | 0/108 [00:00<?, ?it/s]"
      ]
     },
     "metadata": {},
     "output_type": "display_data"
    },
    {
     "data": {
      "application/vnd.jupyter.widget-view+json": {
       "model_id": "8fc2c91fb3fc4b9f8cdbbde8a9243535",
       "version_major": 2,
       "version_minor": 0
      },
      "text/plain": [
       "HopSkipJump:   0%|          | 0/108 [00:00<?, ?it/s]"
      ]
     },
     "metadata": {},
     "output_type": "display_data"
    },
    {
     "data": {
      "application/vnd.jupyter.widget-view+json": {
       "model_id": "c1ca0b107d804c12b9506ddd8b9fe7b6",
       "version_major": 2,
       "version_minor": 0
      },
      "text/plain": [
       "HopSkipJump:   0%|          | 0/108 [00:00<?, ?it/s]"
      ]
     },
     "metadata": {},
     "output_type": "display_data"
    },
    {
     "data": {
      "application/vnd.jupyter.widget-view+json": {
       "model_id": "1c6f27588c13414c82855753dd51f8ee",
       "version_major": 2,
       "version_minor": 0
      },
      "text/plain": [
       "HopSkipJump:   0%|          | 0/108 [00:00<?, ?it/s]"
      ]
     },
     "metadata": {},
     "output_type": "display_data"
    },
    {
     "data": {
      "application/vnd.jupyter.widget-view+json": {
       "model_id": "563d8cc125b24bddb0ccb908498683a3",
       "version_major": 2,
       "version_minor": 0
      },
      "text/plain": [
       "HopSkipJump:   0%|          | 0/108 [00:00<?, ?it/s]"
      ]
     },
     "metadata": {},
     "output_type": "display_data"
    },
    {
     "data": {
      "application/vnd.jupyter.widget-view+json": {
       "model_id": "9d2868a64eca4dcf98bc604a4bff37bb",
       "version_major": 2,
       "version_minor": 0
      },
      "text/plain": [
       "HopSkipJump:   0%|          | 0/108 [00:00<?, ?it/s]"
      ]
     },
     "metadata": {},
     "output_type": "display_data"
    },
    {
     "data": {
      "application/vnd.jupyter.widget-view+json": {
       "model_id": "86254d053a6b498ea5edf8e86d6e9d3f",
       "version_major": 2,
       "version_minor": 0
      },
      "text/plain": [
       "HopSkipJump:   0%|          | 0/108 [00:00<?, ?it/s]"
      ]
     },
     "metadata": {},
     "output_type": "display_data"
    },
    {
     "data": {
      "application/vnd.jupyter.widget-view+json": {
       "model_id": "add0d1defb5d4940880a86b9c625d58b",
       "version_major": 2,
       "version_minor": 0
      },
      "text/plain": [
       "HopSkipJump:   0%|          | 0/108 [00:00<?, ?it/s]"
      ]
     },
     "metadata": {},
     "output_type": "display_data"
    },
    {
     "data": {
      "application/vnd.jupyter.widget-view+json": {
       "model_id": "9e893a8c49c34a1fa90087a1bb3900ff",
       "version_major": 2,
       "version_minor": 0
      },
      "text/plain": [
       "HopSkipJump:   0%|          | 0/108 [00:00<?, ?it/s]"
      ]
     },
     "metadata": {},
     "output_type": "display_data"
    },
    {
     "data": {
      "application/vnd.jupyter.widget-view+json": {
       "model_id": "a129647dee83424083b8d8ba53fee39b",
       "version_major": 2,
       "version_minor": 0
      },
      "text/plain": [
       "HopSkipJump:   0%|          | 0/108 [00:00<?, ?it/s]"
      ]
     },
     "metadata": {},
     "output_type": "display_data"
    },
    {
     "data": {
      "application/vnd.jupyter.widget-view+json": {
       "model_id": "c7006f9b794045349a44abdf78aeac8a",
       "version_major": 2,
       "version_minor": 0
      },
      "text/plain": [
       "HopSkipJump:   0%|          | 0/108 [00:00<?, ?it/s]"
      ]
     },
     "metadata": {},
     "output_type": "display_data"
    },
    {
     "data": {
      "application/vnd.jupyter.widget-view+json": {
       "model_id": "353752c2903f46fab4d438efabaeea78",
       "version_major": 2,
       "version_minor": 0
      },
      "text/plain": [
       "HopSkipJump:   0%|          | 0/108 [00:00<?, ?it/s]"
      ]
     },
     "metadata": {},
     "output_type": "display_data"
    },
    {
     "data": {
      "application/vnd.jupyter.widget-view+json": {
       "model_id": "57d3c301f3ca4df9aa1b0b1725ead848",
       "version_major": 2,
       "version_minor": 0
      },
      "text/plain": [
       "HopSkipJump:   0%|          | 0/108 [00:00<?, ?it/s]"
      ]
     },
     "metadata": {},
     "output_type": "display_data"
    },
    {
     "data": {
      "application/vnd.jupyter.widget-view+json": {
       "model_id": "2aace312650b4f1e91a6195799a0b993",
       "version_major": 2,
       "version_minor": 0
      },
      "text/plain": [
       "HopSkipJump:   0%|          | 0/108 [00:00<?, ?it/s]"
      ]
     },
     "metadata": {},
     "output_type": "display_data"
    },
    {
     "data": {
      "application/vnd.jupyter.widget-view+json": {
       "model_id": "40c04bb9e97642e38e14ffe72644e98c",
       "version_major": 2,
       "version_minor": 0
      },
      "text/plain": [
       "HopSkipJump:   0%|          | 0/108 [00:00<?, ?it/s]"
      ]
     },
     "metadata": {},
     "output_type": "display_data"
    },
    {
     "data": {
      "application/vnd.jupyter.widget-view+json": {
       "model_id": "d1eca68eb31a44a9ad72166a0b0cf538",
       "version_major": 2,
       "version_minor": 0
      },
      "text/plain": [
       "HopSkipJump:   0%|          | 0/108 [00:00<?, ?it/s]"
      ]
     },
     "metadata": {},
     "output_type": "display_data"
    },
    {
     "data": {
      "application/vnd.jupyter.widget-view+json": {
       "model_id": "b15a7564659140b98be495b0ee90f4b9",
       "version_major": 2,
       "version_minor": 0
      },
      "text/plain": [
       "HopSkipJump:   0%|          | 0/108 [00:00<?, ?it/s]"
      ]
     },
     "metadata": {},
     "output_type": "display_data"
    },
    {
     "data": {
      "application/vnd.jupyter.widget-view+json": {
       "model_id": "2da6ecaaf32e45c5be7b8abb4587ec8f",
       "version_major": 2,
       "version_minor": 0
      },
      "text/plain": [
       "HopSkipJump:   0%|          | 0/108 [00:00<?, ?it/s]"
      ]
     },
     "metadata": {},
     "output_type": "display_data"
    },
    {
     "data": {
      "application/vnd.jupyter.widget-view+json": {
       "model_id": "d3a9788e6e7a476c8311de8674070de5",
       "version_major": 2,
       "version_minor": 0
      },
      "text/plain": [
       "HopSkipJump:   0%|          | 0/108 [00:00<?, ?it/s]"
      ]
     },
     "metadata": {},
     "output_type": "display_data"
    },
    {
     "data": {
      "application/vnd.jupyter.widget-view+json": {
       "model_id": "58eceed6dadb4decaa47fca7450de1d1",
       "version_major": 2,
       "version_minor": 0
      },
      "text/plain": [
       "HopSkipJump:   0%|          | 0/124 [00:00<?, ?it/s]"
      ]
     },
     "metadata": {},
     "output_type": "display_data"
    },
    {
     "data": {
      "application/vnd.jupyter.widget-view+json": {
       "model_id": "fa22f4e31e3b4f338a5a51f33281588c",
       "version_major": 2,
       "version_minor": 0
      },
      "text/plain": [
       "HopSkipJump:   0%|          | 0/108 [00:00<?, ?it/s]"
      ]
     },
     "metadata": {},
     "output_type": "display_data"
    },
    {
     "data": {
      "application/vnd.jupyter.widget-view+json": {
       "model_id": "1e04dd28bfcd4939a812b48e02ed7d51",
       "version_major": 2,
       "version_minor": 0
      },
      "text/plain": [
       "HopSkipJump:   0%|          | 0/108 [00:00<?, ?it/s]"
      ]
     },
     "metadata": {},
     "output_type": "display_data"
    },
    {
     "name": "stdout",
     "output_type": "stream",
     "text": [
      "Adversarial HopSkipJump examples generated. Shape: (2500, 70)\n",
      "Create HSJ Adversarial Attack | Indices: Index([5741515, 1007053, 1178144, 1009559, 5010989], dtype='int64')... | Shape: (2500, 70)\n",
      "Accuracy: 49.12%\n",
      "              precision    recall  f1-score   support\n",
      "\n",
      "      ATTACK     0.0000    0.0000    0.0000      1272\n",
      "      BENIGN     0.4912    1.0000    0.6588      1228\n",
      "\n",
      "    accuracy                         0.4912      2500\n",
      "   macro avg     0.2456    0.5000    0.3294      2500\n",
      "weighted avg     0.2413    0.4912    0.3236      2500\n",
      "\n",
      "Confusion Matrix: Positive == BENIGN\n",
      "TN: 0, FP: 1272, FN: 0, TP: 1228\n",
      "Predictions on Adversarial Attacks | Indices: Index([5741515, 1007053, 1178144, 1009559, 5010989], dtype='int64')... | Shape: (2500, 2)\n",
      "Running attack using 24 CPU cores...\n",
      "\n",
      "Process 79944 is generating adversarial examples for batch of size 104 \n",
      "Process 79942 is generating adversarial examples for batch of size 104 \n",
      "Process 79945 is generating adversarial examples for batch of size 104 \n",
      "Process 79943 is generating adversarial examples for batch of size 104 \n",
      "Process 79946 is generating adversarial examples for batch of size 104 \n",
      "Process 79947 is generating adversarial examples for batch of size 104 \n",
      "Process 79950 is generating adversarial examples for batch of size 104 \n",
      "Process 79949 is generating adversarial examples for batch of size 104 \n",
      "Process 79948 is generating adversarial examples for batch of size 104 \n",
      "Process 79951 is generating adversarial examples for batch of size 104 \n",
      "Process 79953 is generating adversarial examples for batch of size 104 \n",
      "Process 79952 is generating adversarial examples for batch of size 104 \n",
      "\n",
      "\n",
      "Process 79954 is generating adversarial examples for batch of size 104 \n",
      "\n",
      "\n",
      "\n",
      "Process 79955 is generating adversarial examples for batch of size 104 \n",
      "\n",
      "\n",
      "\n",
      "Process 79956 is generating adversarial examples for batch of size 104 \n",
      "\n",
      "\n",
      "\n",
      "\n",
      "Process 79957 is generating adversarial examples for batch of size 104 \n",
      "\n",
      "Process 79959 is generating adversarial examples for batch of size 104 \n",
      "Process 79958 is generating adversarial examples for batch of size 104 \n",
      "Process 79961 is generating adversarial examples for batch of size 104 \n",
      "\n",
      "Process 79960 is generating adversarial examples for batch of size 104 \n",
      "Process 79964 is generating adversarial examples for batch of size 104 \n",
      "Process 79962 is generating adversarial examples for batch of size 104 \n",
      "Process 79963 is generating adversarial examples for batch of size 104 \n",
      "\n",
      "\n",
      "\n",
      "\n",
      "\n",
      "\n",
      "\n",
      "\n",
      "\n",
      "Process 79965 is generating adversarial examples for batch of size 108 \n",
      "\n",
      "Adversarial Boundary examples generated. Shape: (2500, 70)\n",
      "Create Boundary Adversarial Attack | Indices: Index([6698337, 1013498, 6412521, 1012312, 1014705], dtype='int64')... | Shape: (2500, 70)\n",
      "Accuracy: 50.92%\n",
      "              precision    recall  f1-score   support\n",
      "\n",
      "      ATTACK     0.6000    0.0024    0.0049      1228\n",
      "      BENIGN     0.5090    0.9984    0.6743      1272\n",
      "\n",
      "    accuracy                         0.5092      2500\n",
      "   macro avg     0.5545    0.5004    0.3396      2500\n",
      "weighted avg     0.5537    0.5092    0.3455      2500\n",
      "\n",
      "Confusion Matrix: Positive == BENIGN\n",
      "TN: 3, FP: 1225, FN: 2, TP: 1270\n",
      "Predictions on Adversarial Attacks | Indices: Index([6698337, 1013498, 6412521, 1012312, 1014705], dtype='int64')... | Shape: (2500, 2)\n"
     ]
    }
   ],
   "source": [
    "import functions.attack_generator as ag\n",
    "import importlib\n",
    "import numpy as np\n",
    "import pandas as pd\n",
    "importlib.reload(ag)\n",
    "\n",
    "# all_features = dataset.drop(columns=[' Label'])\n",
    "art_model = ag.convert_to_art_model(ids_model, X_train) # TODO: use all features for generating art model\n",
    "\n",
    "# Split the training data into normal and attack classes\n",
    "attack_class_labels = [\"cw\", \"fgsm\", \"jsma\", \"pgd\", \"bim\", \"deepfool\", \"boundary\", \"hsj\"]\n",
    "splits = ag.split_into_classes(X_train, y_train, \"normal\", attack_class_labels, split=0.5)\n",
    "# splits = ag.split_into_attack_classes(X_train, y_train, class_labels)\n",
    "X_normal, y_normal = splits[\"normal\"]\n",
    "X_cw, y_cw = splits[\"cw\"]\n",
    "X_fgsm, y_fgsm = splits[\"fgsm\"]\n",
    "X_jsma, y_jsma = splits[\"jsma\"]\n",
    "X_pgd, y_pgd = splits[\"pgd\"]\n",
    "X_bim, y_bim = splits[\"bim\"]\n",
    "X_deepfool, y_deepfool = splits[\"deepfool\"]\n",
    "X_boundary, y_boundary = splits[\"boundary\"]\n",
    "X_hsj, y_hsj = splits[\"hsj\"]\n",
    "print(f\"Normal Data: {X_normal.shape} | CW Data: {X_cw.shape} | FGSM Data: {X_fgsm.shape} | JSMA Data: {X_jsma.shape} | PGD Data: {X_pgd.shape} | Boundary Data: {X_boundary.shape} | HSJ Data: {X_hsj.shape}\")\n",
    "\n",
    "# -- White-Box Attacks --\n",
    "# generate attacks on the separated training data\n",
    "X_adv_fgsm = ag.generate_fgsm_attacks(art_model, X_fgsm)\n",
    "print(f\"Create FGSM Adversarial Attack | Indices: {X_adv_fgsm.index[:5]}... | Shape: {X_adv_fgsm.shape}\")\n",
    "y_pred_adv_fgsm = ag.evaluate_art_model(art_model, X_adv_fgsm, y_fgsm)\n",
    "print(f\"Predictions on Adversarial Attacks | Indices: {y_pred_adv_fgsm.index[:5]}... | Shape: {y_pred_adv_fgsm.shape}\")\n",
    "y_pred_fgsm = y_pred.loc[X_fgsm.index]\n",
    "\n",
    "import multiprocessing\n",
    "num_cores = multiprocessing.cpu_count()\n",
    "X_adv_cw = ag.generate_cw_attacks_parallel(art_model, X_cw, num_cores=num_cores)\n",
    "print(f\"Create CW Adversarial Attack | Indices: {X_adv_cw.index[:5]}... | Shape: {X_adv_cw.shape}\")\n",
    "y_pred_adv_cw = ag.evaluate_art_model(art_model, X_adv_cw, y_cw)\n",
    "print(f\"Predictions on Adversarial Attacks | Indices: {y_pred_adv_cw.index[:5]}... | Shape: {y_pred_adv_cw.shape}\")\n",
    "y_pred_cw = y_pred.loc[X_cw.index]\n",
    "\n",
    "X_adv_jsma = ag.generate_jsma_attacks(art_model, X_jsma)\n",
    "print(f\"Create JSMA Adversarial Attack | Indices: {X_adv_jsma.index[:5]}... | Shape: {X_adv_jsma.shape}\")\n",
    "y_pred_adv_jsma = ag.evaluate_art_model(art_model, X_adv_jsma, y_jsma)\n",
    "print(f\"Predictions on Adversarial Attacks | Indices: {y_pred_adv_jsma.index[:5]}... | Shape: {y_pred_adv_jsma.shape}\")\n",
    "y_pred_jsma = y_pred.loc[X_jsma.index]\n",
    "\n",
    "X_adv_pgd = ag.generate_pgd_attacks(art_model, X_pgd)\n",
    "print(f\"Create PGD Adversarial Attack | Indices: {X_adv_pgd.index[:5]}... | Shape: {X_adv_pgd.shape}\")\n",
    "y_pred_adv_pgd = ag.evaluate_art_model(art_model, X_adv_pgd, y_pgd)\n",
    "print(f\"Predictions on Adversarial Attacks | Indices: {y_pred_adv_pgd.index[:5]}... | Shape: {y_pred_adv_pgd.shape}\")\n",
    "y_pred_pgd = y_pred.loc[X_pgd.index]\n",
    "\n",
    "X_adv_bim = ag.generate_bim_attacks(art_model, X_bim)\n",
    "print(f\"Create BIM Adversarial Attack | Indices: {X_adv_bim.index[:5]}... | Shape: {X_adv_bim.shape}\")\n",
    "y_pred_adv_bim = ag.evaluate_art_model(art_model, X_adv_bim, y_bim)\n",
    "print(f\"Predictions on Adversarial Attacks | Indices: {y_pred_adv_bim.index[:5]}... | Shape: {y_pred_adv_bim.shape}\")\n",
    "y_pred_bim = y_pred.loc[X_bim.index]\n",
    "\n",
    "X_adv_deepfool = ag.generate_deepfool_attacks(art_model, X_deepfool)\n",
    "print(f\"Create DeepFool Adversarial Attack | Indices: {X_adv_deepfool.index[:5]}... | Shape: {X_adv_deepfool.shape}\")\n",
    "y_pred_adv_deepfool = ag.evaluate_art_model(art_model, X_adv_deepfool, y_deepfool)\n",
    "print(f\"Predictions on Adversarial Attacks | Indices: {y_pred_adv_deepfool.index[:5]}... | Shape: {y_pred_adv_deepfool.shape}\")\n",
    "y_pred_deepfool = y_pred.loc[X_deepfool.index]\n",
    "\n",
    "# -- Black-Box Attacks --\n",
    "X_adv_hsj = ag.generate_hsj_attacks_parallel(art_model, X_hsj, num_cores=num_cores-1) # TODO: use num_cores-1 to avoid memory error\n",
    "print(f\"Create HSJ Adversarial Attack | Indices: {X_adv_hsj.index[:5]}... | Shape: {X_adv_hsj.shape}\")\n",
    "y_pred_adv_hsj = ag.evaluate_art_model(art_model, X_adv_hsj, y_hsj)\n",
    "print(f\"Predictions on Adversarial Attacks | Indices: {y_pred_adv_hsj.index[:5]}... | Shape: {y_pred_adv_hsj.shape}\")\n",
    "y_pred_hsj = y_pred.loc[X_hsj.index]\n",
    "\n",
    "X_adv_boundary = ag.generate_boundary_attacks_parallel(art_model, X_boundary, num_cores=num_cores)\n",
    "print(f\"Create Boundary Adversarial Attack | Indices: {X_adv_boundary.index[:5]}... | Shape: {X_adv_boundary.shape}\")\n",
    "y_pred_adv_boundary = ag.evaluate_art_model(art_model, X_adv_boundary, y_boundary)\n",
    "print(f\"Predictions on Adversarial Attacks | Indices: {y_pred_adv_boundary.index[:5]}... | Shape: {y_pred_adv_boundary.shape}\")\n",
    "y_pred_boundary = y_pred.loc[X_adv_boundary.index]"
   ]
  },
  {
   "cell_type": "code",
   "execution_count": 13,
   "metadata": {},
   "outputs": [],
   "source": [
    "# store adversarial samples\n",
    "path = \"../../datasets/CIC-DDoS-2019/adversarial_samples/ypsilon-\"\n",
    "X_adv_fgsm.to_csv(path + \"fgsm.csv\", index=True)\n",
    "X_adv_cw.to_csv(path + \"cw.csv\", index=True)\n",
    "X_adv_jsma.to_csv(path + \"jsma.csv\", index=True)\n",
    "X_adv_pgd.to_csv(path + \"pgd.csv\", index=True)\n",
    "X_adv_bim.to_csv(path + \"bim.csv\", index=True)\n",
    "X_adv_deepfool.to_csv(path + \"deepfool.csv\", index=True)\n",
    "X_adv_hsj.to_csv(path + \"hsj.csv\", index=True)\n",
    "X_adv_boundary.to_csv(path + \"boundary.csv\", index=True)"
   ]
  },
  {
   "cell_type": "code",
   "execution_count": null,
   "metadata": {},
   "outputs": [
    {
     "name": "stdout",
     "output_type": "stream",
     "text": [
      "------- FGMS ATTACK -------\n",
      "Accuracy: 36.79%\n",
      "              precision    recall  f1-score   support\n",
      "\n",
      "      ATTACK     0.0614    0.0175    0.0273      7581\n",
      "      BENIGN     0.4197    0.7260    0.5319      7419\n",
      "\n",
      "    accuracy                         0.3679     15000\n",
      "   macro avg     0.2405    0.3718    0.2796     15000\n",
      "weighted avg     0.2386    0.3679    0.2769     15000\n",
      "\n",
      "Confusion Matrix: Positive == BENIGN\n",
      "TN: 133, FP: 7448, FN: 2033, TP: 5386\n",
      "------- CW ATTACK -------\n",
      "Accuracy: 69.83%\n",
      "              precision    recall  f1-score   support\n",
      "\n",
      "      ATTACK     0.7899    0.5317    0.6356      7423\n",
      "      BENIGN     0.6525    0.8614    0.7425      7577\n",
      "\n",
      "    accuracy                         0.6983     15000\n",
      "   macro avg     0.7212    0.6966    0.6891     15000\n",
      "weighted avg     0.7205    0.6983    0.6896     15000\n",
      "\n",
      "Confusion Matrix: Positive == BENIGN\n",
      "TN: 3947, FP: 3476, FN: 1050, TP: 6527\n",
      "------- JSMA ATTACK -------\n",
      "Accuracy: 1.65%\n",
      "              precision    recall  f1-score   support\n",
      "\n",
      "      ATTACK     0.0032    0.0033    0.0032      7375\n",
      "      BENIGN     0.0294    0.0292    0.0293      7625\n",
      "\n",
      "    accuracy                         0.0165     15000\n",
      "   macro avg     0.0163    0.0163    0.0163     15000\n",
      "weighted avg     0.0166    0.0165    0.0165     15000\n",
      "\n",
      "Confusion Matrix: Positive == BENIGN\n",
      "TN: 24, FP: 7351, FN: 7402, TP: 223\n",
      "------- PGD ATTACK -------\n",
      "Accuracy: 11.49%\n",
      "              precision    recall  f1-score   support\n",
      "\n",
      "      ATTACK     0.0180    0.0144    0.0160      7486\n",
      "      BENIGN     0.1796    0.2149    0.1957      7514\n",
      "\n",
      "    accuracy                         0.1149     15000\n",
      "   macro avg     0.0988    0.1147    0.1058     15000\n",
      "weighted avg     0.0989    0.1149    0.1060     15000\n",
      "\n",
      "Confusion Matrix: Positive == BENIGN\n",
      "TN: 108, FP: 7378, FN: 5899, TP: 1615\n",
      "------- BIM ATTACK -------\n",
      "Accuracy: 10.91%\n",
      "              precision    recall  f1-score   support\n",
      "\n",
      "      ATTACK     0.0176    0.0140    0.0156      7556\n",
      "      BENIGN     0.1704    0.2055    0.1863      7444\n",
      "\n",
      "    accuracy                         0.1091     15000\n",
      "   macro avg     0.0940    0.1098    0.1010     15000\n",
      "weighted avg     0.0934    0.1091    0.1003     15000\n",
      "\n",
      "Confusion Matrix: Positive == BENIGN\n",
      "TN: 106, FP: 7450, FN: 5914, TP: 1530\n",
      "------- DEEPFOOL ATTACK -------\n",
      "Accuracy: 41.53%\n",
      "              precision    recall  f1-score   support\n",
      "\n",
      "      ATTACK     0.3338    0.1820    0.2355      7425\n",
      "      BENIGN     0.4454    0.6441    0.5267      7575\n",
      "\n",
      "    accuracy                         0.4153     15000\n",
      "   macro avg     0.3896    0.4130    0.3811     15000\n",
      "weighted avg     0.3902    0.4153    0.3826     15000\n",
      "\n",
      "Confusion Matrix: Positive == BENIGN\n",
      "TN: 1351, FP: 6074, FN: 2696, TP: 4879\n",
      "------- HSJ ATTACK -------\n",
      "Accuracy: 14.67%\n",
      "              precision    recall  f1-score   support\n",
      "\n",
      "      ATTACK     0.1042    0.0938    0.0987      7473\n",
      "      BENIGN     0.1812    0.1991    0.1898      7527\n",
      "\n",
      "    accuracy                         0.1467     15000\n",
      "   macro avg     0.1427    0.1465    0.1442     15000\n",
      "weighted avg     0.1428    0.1467    0.1444     15000\n",
      "\n",
      "Confusion Matrix: Positive == BENIGN\n",
      "TN: 701, FP: 6772, FN: 6028, TP: 1499\n",
      "------- BOUNDARY ATTACK -------\n",
      "Accuracy: 6.87%\n",
      "              precision    recall  f1-score   support\n",
      "\n",
      "      ATTACK     0.0145    0.0127    0.0136      7543\n",
      "      BENIGN     0.1115    0.1254    0.1181      7457\n",
      "\n",
      "    accuracy                         0.0687     15000\n",
      "   macro avg     0.0630    0.0691    0.0658     15000\n",
      "weighted avg     0.0627    0.0687    0.0655     15000\n",
      "\n",
      "Confusion Matrix: Positive == BENIGN\n",
      "TN: 96, FP: 7447, FN: 6522, TP: 935\n",
      "------- NO ATTACK -------\n",
      "Accuracy: 98.46%\n",
      "              precision    recall  f1-score   support\n",
      "\n",
      "      ATTACK     0.9728    0.9972    0.9849     60184\n",
      "      BENIGN     0.9972    0.9720    0.9844     59816\n",
      "\n",
      "    accuracy                         0.9846    120000\n",
      "   macro avg     0.9850    0.9846    0.9846    120000\n",
      "weighted avg     0.9849    0.9846    0.9846    120000\n",
      "\n",
      "Confusion Matrix: Positive == BENIGN\n",
      "TN: 60018, FP: 166, FN: 1677, TP: 58139\n"
     ]
    }
   ],
   "source": [
    "# # load adversarial samples\n",
    "# import pandas as pd\n",
    "# path = \"../../datasets/CICIDS2017/adversarial_samples/sigma-\"\n",
    "# X_adv_fgsm = pd.read_csv(path + \"fgsm.csv\", index_col=0)\n",
    "# print(f\"------- FGMS ATTACK -------\")\n",
    "# y_pred_adv_fgsm = ag.evaluate_art_model(art_model, X_adv_fgsm, y_fgsm)\n",
    "# y_pred_fgsm = y_pred.loc[X_fgsm.index]\n",
    "# X_adv_cw = pd.read_csv(path + \"cw.csv\", index_col=0)\n",
    "# print(f\"------- CW ATTACK -------\")\n",
    "# y_pred_adv_cw = ag.evaluate_art_model(art_model, X_adv_cw, y_cw)\n",
    "# y_pred_cw = y_pred.loc[X_cw.index]\n",
    "# X_adv_jsma = pd.read_csv(path + \"jsma.csv\", index_col=0)\n",
    "# print(f\"------- JSMA ATTACK -------\")\n",
    "# y_pred_adv_jsma = ag.evaluate_art_model(art_model, X_adv_jsma, y_jsma)\n",
    "# y_pred_jsma = y_pred.loc[X_jsma.index]\n",
    "# X_adv_pgd = pd.read_csv(path + \"pgd.csv\", index_col=0)\n",
    "# print(f\"------- PGD ATTACK -------\")\n",
    "# y_pred_adv_pgd = ag.evaluate_art_model(art_model, X_adv_pgd, y_pgd)\n",
    "# y_pred_pgd = y_pred.loc[X_pgd.index]\n",
    "# X_adv_bim = pd.read_csv(path + \"bim.csv\", index_col=0)\n",
    "# print(f\"------- BIM ATTACK -------\")\n",
    "# y_pred_adv_bim = ag.evaluate_art_model(art_model, X_adv_bim, y_bim)\n",
    "# y_pred_bim = y_pred.loc[X_bim.index]\n",
    "# X_adv_deepfool = pd.read_csv(path + \"deepfool.csv\", index_col=0)\n",
    "# print(f\"------- DEEPFOOL ATTACK -------\")\n",
    "# y_pred_adv_deepfool = ag.evaluate_art_model(art_model, X_adv_deepfool, y_deepfool)\n",
    "# y_pred_deepfool = y_pred.loc[X_deepfool.index]\n",
    "# X_adv_hsj = pd.read_csv(path + \"hsj.csv\", index_col=0)\n",
    "# print(f\"------- HSJ ATTACK -------\")\n",
    "# y_pred_adv_hsj = ag.evaluate_art_model(art_model, X_adv_hsj, y_hsj)\n",
    "# y_pred_hsj = y_pred.loc[X_hsj.index]\n",
    "# X_adv_boundary = pd.read_csv(path + \"boundary.csv\", index_col=0)\n",
    "# print(f\"------- BOUNDARY ATTACK -------\")\n",
    "# y_pred_adv_boundary = ag.evaluate_art_model(art_model, X_adv_boundary, y_boundary)\n",
    "# y_pred_boundary = y_pred.loc[X_boundary.index]\n",
    "# print(f\"------- NO ATTACK -------\")\n",
    "# y_pred_no_attack = ag.evaluate_art_model(art_model, X_normal, y_normal)"
   ]
  },
  {
   "cell_type": "code",
   "execution_count": 7,
   "metadata": {},
   "outputs": [
    {
     "data": {
      "image/png": "[encoded data removed]",
      "text/plain": [
       "<Figure size 1000x600 with 1 Axes>"
      ]
     },
     "metadata": {},
     "output_type": "display_data"
    }
   ],
   "source": [
    "from sklearn.metrics import accuracy_score, confusion_matrix, classification_report\n",
    "\n",
    "accuracy_before_attack_fgsm = accuracy_score(y_fgsm, y_pred_fgsm)\n",
    "accuracy_after_attack_fgsm = accuracy_score(y_fgsm, y_pred_adv_fgsm)\n",
    "accuracy_before_attack_cw = accuracy_score(y_cw, y_pred_cw)\n",
    "accuracy_after_attack_cw = accuracy_score(y_cw, y_pred_adv_cw)\n",
    "accuracy_before_attack_jsma = accuracy_score(y_jsma, y_pred_jsma)\n",
    "accuracy_after_attack_jsma = accuracy_score(y_jsma, y_pred_adv_jsma)\n",
    "accuracy_before_attack_pgd = accuracy_score(y_pgd, y_pred_pgd)\n",
    "accuracy_after_attack_pgd = accuracy_score(y_pgd, y_pred_adv_pgd)\n",
    "accuracy_before_attack_bim = accuracy_score(y_bim, y_pred_bim)\n",
    "accuracy_after_attack_bim = accuracy_score(y_bim, y_pred_adv_bim)\n",
    "accuracy_before_attack_deepfool = accuracy_score(y_deepfool, y_pred_deepfool)\n",
    "accuracy_after_attack_deepfool = accuracy_score(y_deepfool, y_pred_adv_deepfool)\n",
    "accuracy_before_attack_hsj = accuracy_score(y_hsj, y_pred_hsj)\n",
    "accuracy_after_attack_hsj = accuracy_score(y_hsj, y_pred_adv_hsj)\n",
    "accuracy_before_attack_boundary = accuracy_score(y_boundary, y_pred_boundary)\n",
    "accuracy_after_attack_boundary = accuracy_score(y_boundary, y_pred_adv_boundary)\n",
    "\n",
    "\n",
    "import matplotlib.pyplot as plt\n",
    "import numpy as np\n",
    "\n",
    "# Names of the attacks\n",
    "attacks = ['FGSM', 'CW', 'JSMA', 'PGD', 'BIM', 'DeepFool', 'HSJ', 'Boundary']\n",
    "\n",
    "# Accuracy before and after attacks\n",
    "accuracy_before = [\n",
    "    accuracy_before_attack_fgsm,\n",
    "    accuracy_before_attack_cw,\n",
    "    accuracy_before_attack_jsma,\n",
    "    accuracy_before_attack_pgd,\n",
    "    accuracy_before_attack_bim,\n",
    "    accuracy_before_attack_deepfool,\n",
    "    accuracy_before_attack_hsj,\n",
    "    accuracy_before_attack_boundary\n",
    "]\n",
    "\n",
    "accuracy_after = [\n",
    "    accuracy_after_attack_fgsm,\n",
    "    accuracy_after_attack_cw,\n",
    "    accuracy_after_attack_jsma,\n",
    "    accuracy_after_attack_pgd,\n",
    "    accuracy_after_attack_bim,\n",
    "    accuracy_after_attack_deepfool,\n",
    "    accuracy_after_attack_hsj,\n",
    "    accuracy_after_attack_boundary\n",
    "]\n",
    "\n",
    "# Bar positions\n",
    "x = np.arange(len(attacks))\n",
    "width = 0.35\n",
    "\n",
    "# Create the bar plot\n",
    "plt.figure(figsize=(10, 6))\n",
    "plt.bar(x - width/2, accuracy_before, width, label='Before Attack')\n",
    "plt.bar(x + width/2, accuracy_after, width, label='After Attack')\n",
    "\n",
    "# Labels and formatting\n",
    "plt.ylabel('Accuracy')\n",
    "plt.xlabel('Adversarial Attacks')\n",
    "plt.title('IDS Accuracy Before and After Adversarial Attacks')\n",
    "plt.xticks(x, attacks)\n",
    "plt.ylim(0, 1.0)\n",
    "plt.legend()\n",
    "plt.grid(axis='y', linestyle='--', alpha=0.7)\n",
    "plt.tight_layout()\n",
    "\n",
    "# Show the plot\n",
    "plt.show()\n"
   ]
  },
  {
   "cell_type": "markdown",
   "metadata": {},
   "source": [
    "### Find correct classified samples from each Attack and plot difference"
   ]
  },
  {
   "cell_type": "code",
   "execution_count": 7,
   "metadata": {},
   "outputs": [],
   "source": [
    "def get_correctly_benign_classified_indices(y_train, y_pred):\n",
    "    benign_indices = y_train[y_train['BENIGN'] == 1].index\n",
    "    benign_adv_predicted_indices = y_pred[y_pred['BENIGN'] == 1].index\n",
    "    correctly_benign_classified_indices = benign_indices.intersection(benign_adv_predicted_indices)\n",
    "    return correctly_benign_classified_indices\n",
    "\n",
    "def get_misclassified_as_benign_due_attack_indices(y_train, y_pred, y_pred_adv):\n",
    "    attack_indices = y_train[y_train['ATTACK'] == 1].index\n",
    "    attack_adv_predicted_indices = y_pred[y_pred['ATTACK'] == 1].index\n",
    "    benign_predicted_adversarial_indices = y_pred_adv[y_pred_adv['BENIGN'] == 1].index\n",
    "    misclassified_as_benign_due_attack_indices = attack_indices.intersection(attack_adv_predicted_indices).intersection(benign_predicted_adversarial_indices)\n",
    "    return misclassified_as_benign_due_attack_indices\n",
    "\n",
    "def get_correctly_malicious_classified_indices(y_train, y_pred):\n",
    "    malicious_indices = y_train[y_train['ATTACK'] == 1].index\n",
    "    malicious_adv_predicted_indices = y_pred[y_pred['ATTACK'] == 1].index\n",
    "    correctly_malicious_classified_indices = malicious_indices.intersection(malicious_adv_predicted_indices)\n",
    "    return correctly_malicious_classified_indices\n",
    "\n",
    "def get_misclassified_as_malicious_due_attack_indices(y_train, y_pred, y_pred_adv):\n",
    "    benign_indices = y_train[y_train['BENIGN'] == 1].index\n",
    "    benign_adv_predicted_indices = y_pred[y_pred['BENIGN'] == 1].index\n",
    "    attack_predicted_adversarial_indices = y_pred_adv[y_pred_adv['ATTACK'] == 1].index\n",
    "    misclassified_as_malicious_due_attack_indices = benign_indices.intersection(benign_adv_predicted_indices).intersection(attack_predicted_adversarial_indices)\n",
    "    return misclassified_as_malicious_due_attack_indices"
   ]
  },
  {
   "cell_type": "code",
   "execution_count": 8,
   "metadata": {},
   "outputs": [
    {
     "name": "stdout",
     "output_type": "stream",
     "text": [
      "------ Normal Data ------\n",
      "9957 | Correctly classified as BENIGN from the IDS\n",
      "1 | ATTACK sample misclassified as BENIGN from the IDS\n",
      "10022 | Correctly classified as ATTACK from the IDS\n",
      "20 | BENIGN sample misclassified as ATTACK from the IDS\n",
      "Sum: 20000\n",
      "------ FGSM Data ------\n",
      "274 | Correctly classified as BENIGN from the IDS\n",
      "918 | ATTACK sample misclassified as BENIGN from the IDS\n",
      "312 | Correctly classified as ATTACK from the IDS\n",
      "996 | BENIGN sample misclassified as ATTACK from the IDS\n",
      "Sum: 2500\n",
      "------ CW Data ------\n",
      "1114 | Correctly classified as BENIGN from the IDS\n",
      "5 | ATTACK sample misclassified as BENIGN from the IDS\n",
      "1262 | Correctly classified as ATTACK from the IDS\n",
      "119 | BENIGN sample misclassified as ATTACK from the IDS\n",
      "Sum: 2500\n",
      "------ JSMA Data ------\n",
      "4 | Correctly classified as BENIGN from the IDS\n",
      "1247 | ATTACK sample misclassified as BENIGN from the IDS\n",
      "0 | Correctly classified as ATTACK from the IDS\n",
      "1249 | BENIGN sample misclassified as ATTACK from the IDS\n",
      "Sum: 2500\n",
      "------ PGD Data ------\n",
      "198 | Correctly classified as BENIGN from the IDS\n",
      "1121 | ATTACK sample misclassified as BENIGN from the IDS\n",
      "136 | Correctly classified as ATTACK from the IDS\n",
      "1045 | BENIGN sample misclassified as ATTACK from the IDS\n",
      "Sum: 2500\n",
      "------ DeepFool Data ------\n",
      "232 | Correctly classified as BENIGN from the IDS\n",
      "861 | ATTACK sample misclassified as BENIGN from the IDS\n",
      "338 | Correctly classified as ATTACK from the IDS\n",
      "1069 | BENIGN sample misclassified as ATTACK from the IDS\n",
      "Sum: 2500\n",
      "------ BIM Data ------\n",
      "243 | Correctly classified as BENIGN from the IDS\n",
      "1089 | ATTACK sample misclassified as BENIGN from the IDS\n",
      "141 | Correctly classified as ATTACK from the IDS\n",
      "1027 | BENIGN sample misclassified as ATTACK from the IDS\n",
      "Sum: 2500\n",
      "------ Boundary Data ------\n",
      "1270 | Correctly classified as BENIGN from the IDS\n",
      "1225 | ATTACK sample misclassified as BENIGN from the IDS\n",
      "1 | Correctly classified as ATTACK from the IDS\n",
      "2 | BENIGN sample misclassified as ATTACK from the IDS\n",
      "Sum: 2498\n",
      "------ HSJ Data ------\n",
      "1228 | Correctly classified as BENIGN from the IDS\n",
      "1272 | ATTACK sample misclassified as BENIGN from the IDS\n",
      "0 | Correctly classified as ATTACK from the IDS\n",
      "0 | BENIGN sample misclassified as ATTACK from the IDS\n",
      "Sum: 2500\n"
     ]
    }
   ],
   "source": [
    "y_pred_normal = y_pred.loc[X_normal.index]\n",
    "correctly_benign_classified_indices = get_correctly_benign_classified_indices(y_normal, y_pred_normal)\n",
    "misclassified_as_benign_indices = get_misclassified_as_benign_due_attack_indices(y_normal, y_normal, y_pred_normal)\n",
    "correctly_malicious_classified_indices = get_correctly_malicious_classified_indices(y_normal, y_pred_normal)\n",
    "misclassified_as_malicious_due_attack_indices = get_misclassified_as_malicious_due_attack_indices(y_normal, y_normal, y_pred_normal)\n",
    "print(f\"------ Normal Data ------\")\n",
    "print(f\"{len(correctly_benign_classified_indices)} | Correctly classified as BENIGN from the IDS\")\n",
    "print(f\"{len(misclassified_as_benign_indices)} | ATTACK sample misclassified as BENIGN from the IDS\")\n",
    "print(f\"{len(correctly_malicious_classified_indices)} | Correctly classified as ATTACK from the IDS\")\n",
    "print(f\"{len(misclassified_as_malicious_due_attack_indices)} | BENIGN sample misclassified as ATTACK from the IDS\")\n",
    "print(f\"Sum: {len(correctly_benign_classified_indices) + len(misclassified_as_benign_indices) + len(correctly_malicious_classified_indices) + len(misclassified_as_malicious_due_attack_indices)}\")\n",
    "\n",
    "correctly_benign_classified_indices_fgsm = get_correctly_benign_classified_indices(y_fgsm, y_pred_adv_fgsm)\n",
    "misclassified_as_benign_due_attack_indices_fgsm = get_misclassified_as_benign_due_attack_indices(y_fgsm, y_pred_fgsm, y_pred_adv_fgsm)\n",
    "correctly_malicious_classified_indices_fgsm = get_correctly_malicious_classified_indices(y_fgsm, y_pred_adv_fgsm)\n",
    "misclassified_as_malicious_due_attack_indices_fgsm = get_misclassified_as_malicious_due_attack_indices(y_fgsm, y_pred_fgsm, y_pred_adv_fgsm)\n",
    "print(f\"------ FGSM Data ------\")\n",
    "print(f\"{len(correctly_benign_classified_indices_fgsm)} | Correctly classified as BENIGN from the IDS\")\n",
    "print(f\"{len(misclassified_as_benign_due_attack_indices_fgsm)} | ATTACK sample misclassified as BENIGN from the IDS\")\n",
    "print(f\"{len(correctly_malicious_classified_indices_fgsm)} | Correctly classified as ATTACK from the IDS\")\n",
    "print(f\"{len(misclassified_as_malicious_due_attack_indices_fgsm)} | BENIGN sample misclassified as ATTACK from the IDS\")\n",
    "print(f\"Sum: {len(correctly_benign_classified_indices_fgsm) + len(misclassified_as_benign_due_attack_indices_fgsm) + len(correctly_malicious_classified_indices_fgsm) + len(misclassified_as_malicious_due_attack_indices_fgsm)}\")\n",
    "\n",
    "correctly_benign_classified_indices_cw = get_correctly_benign_classified_indices(y_cw, y_pred_adv_cw)\n",
    "misclassified_as_benign_due_attack_indices_cw = get_misclassified_as_benign_due_attack_indices(y_cw, y_pred_cw, y_pred_adv_cw)\n",
    "correctly_malicious_classified_indices_cw = get_correctly_malicious_classified_indices(y_cw, y_pred_adv_cw)\n",
    "misclassified_as_malicious_due_attack_indices_cw = get_misclassified_as_malicious_due_attack_indices(y_cw, y_pred_cw, y_pred_adv_cw)\n",
    "print(f\"------ CW Data ------\")\n",
    "print(f\"{len(correctly_benign_classified_indices_cw)} | Correctly classified as BENIGN from the IDS\")\n",
    "print(f\"{len(misclassified_as_benign_due_attack_indices_cw)} | ATTACK sample misclassified as BENIGN from the IDS\")\n",
    "print(f\"{len(correctly_malicious_classified_indices_cw)} | Correctly classified as ATTACK from the IDS\")\n",
    "print(f\"{len(misclassified_as_malicious_due_attack_indices_cw)} | BENIGN sample misclassified as ATTACK from the IDS\")\n",
    "print(f\"Sum: {len(correctly_benign_classified_indices_cw) + len(misclassified_as_benign_due_attack_indices_cw) + len(correctly_malicious_classified_indices_cw) + len(misclassified_as_malicious_due_attack_indices_cw)}\")\n",
    "\n",
    "correctly_benign_classified_indices_jsma = get_correctly_benign_classified_indices(y_jsma, y_pred_adv_jsma)\n",
    "misclassified_as_benign_due_attack_indices_jsma = get_misclassified_as_benign_due_attack_indices(y_jsma, y_pred_jsma, y_pred_adv_jsma)\n",
    "correctly_malicious_classified_indices_jsma = get_correctly_malicious_classified_indices(y_jsma, y_pred_adv_jsma)\n",
    "misclassified_as_malicious_due_attack_indices_jsma = get_misclassified_as_malicious_due_attack_indices(y_jsma, y_pred_jsma, y_pred_adv_jsma)\n",
    "print(f\"------ JSMA Data ------\")\n",
    "print(f\"{len(correctly_benign_classified_indices_jsma)} | Correctly classified as BENIGN from the IDS\")\n",
    "print(f\"{len(misclassified_as_benign_due_attack_indices_jsma)} | ATTACK sample misclassified as BENIGN from the IDS\")\n",
    "print(f\"{len(correctly_malicious_classified_indices_jsma)} | Correctly classified as ATTACK from the IDS\")\n",
    "print(f\"{len(misclassified_as_malicious_due_attack_indices_jsma)} | BENIGN sample misclassified as ATTACK from the IDS\")\n",
    "print(f\"Sum: {len(correctly_benign_classified_indices_jsma) + len(misclassified_as_benign_due_attack_indices_jsma) + len(correctly_malicious_classified_indices_jsma) + len(misclassified_as_malicious_due_attack_indices_jsma)}\")\n",
    "\n",
    "correctly_benign_classified_indices_pgd = get_correctly_benign_classified_indices(y_pgd, y_pred_adv_pgd)\n",
    "misclassified_as_benign_due_attack_indices_pgd = get_misclassified_as_benign_due_attack_indices(y_pgd, y_pred_pgd, y_pred_adv_pgd)\n",
    "correctly_malicious_classified_indices_pgd = get_correctly_malicious_classified_indices(y_pgd, y_pred_adv_pgd)\n",
    "misclassified_as_malicious_due_attack_indices_pgd = get_misclassified_as_malicious_due_attack_indices(y_pgd, y_pred_pgd, y_pred_adv_pgd)\n",
    "print(f\"------ PGD Data ------\")\n",
    "print(f\"{len(correctly_benign_classified_indices_pgd)} | Correctly classified as BENIGN from the IDS\")\n",
    "print(f\"{len(misclassified_as_benign_due_attack_indices_pgd)} | ATTACK sample misclassified as BENIGN from the IDS\")\n",
    "print(f\"{len(correctly_malicious_classified_indices_pgd)} | Correctly classified as ATTACK from the IDS\")\n",
    "print(f\"{len(misclassified_as_malicious_due_attack_indices_pgd)} | BENIGN sample misclassified as ATTACK from the IDS\")\n",
    "print(f\"Sum: {len(correctly_benign_classified_indices_pgd) + len(misclassified_as_benign_due_attack_indices_pgd) + len(correctly_malicious_classified_indices_pgd) + len(misclassified_as_malicious_due_attack_indices_pgd)}\")\n",
    "\n",
    "correctly_benign_classified_indices_deepfool = get_correctly_benign_classified_indices(y_deepfool, y_pred_adv_deepfool)\n",
    "misclassified_as_benign_due_attack_indices_deepfool = get_misclassified_as_benign_due_attack_indices(y_deepfool, y_pred_deepfool, y_pred_adv_deepfool)\n",
    "correctly_malicious_classified_indices_deepfool = get_correctly_malicious_classified_indices(y_deepfool, y_pred_adv_deepfool)\n",
    "misclassified_as_malicious_due_attack_indices_deepfool = get_misclassified_as_malicious_due_attack_indices(y_deepfool, y_pred_deepfool, y_pred_adv_deepfool)\n",
    "print(f\"------ DeepFool Data ------\")\n",
    "print(f\"{len(correctly_benign_classified_indices_deepfool)} | Correctly classified as BENIGN from the IDS\")\n",
    "print(f\"{len(misclassified_as_benign_due_attack_indices_deepfool)} | ATTACK sample misclassified as BENIGN from the IDS\")\n",
    "print(f\"{len(correctly_malicious_classified_indices_deepfool)} | Correctly classified as ATTACK from the IDS\")\n",
    "print(f\"{len(misclassified_as_malicious_due_attack_indices_deepfool)} | BENIGN sample misclassified as ATTACK from the IDS\")\n",
    "print(f\"Sum: {len(correctly_benign_classified_indices_deepfool) + len(misclassified_as_benign_due_attack_indices_deepfool) + len(correctly_malicious_classified_indices_deepfool) + len(misclassified_as_malicious_due_attack_indices_deepfool)}\")\n",
    "\n",
    "correctly_benign_classified_indices_bim = get_correctly_benign_classified_indices(y_bim, y_pred_adv_bim)\n",
    "misclassified_as_benign_due_attack_indices_bim = get_misclassified_as_benign_due_attack_indices(y_bim, y_pred_bim, y_pred_adv_bim)\n",
    "correctly_malicious_classified_indices_bim = get_correctly_malicious_classified_indices(y_bim, y_pred_adv_bim)\n",
    "misclassified_as_malicious_due_attack_indices_bim = get_misclassified_as_malicious_due_attack_indices(y_bim, y_pred_bim, y_pred_adv_bim)\n",
    "print(f\"------ BIM Data ------\")\n",
    "print(f\"{len(correctly_benign_classified_indices_bim)} | Correctly classified as BENIGN from the IDS\")\n",
    "print(f\"{len(misclassified_as_benign_due_attack_indices_bim)} | ATTACK sample misclassified as BENIGN from the IDS\")\n",
    "print(f\"{len(correctly_malicious_classified_indices_bim)} | Correctly classified as ATTACK from the IDS\")\n",
    "print(f\"{len(misclassified_as_malicious_due_attack_indices_bim)} | BENIGN sample misclassified as ATTACK from the IDS\")\n",
    "print(f\"Sum: {len(correctly_benign_classified_indices_bim) + len(misclassified_as_benign_due_attack_indices_bim) + len(correctly_malicious_classified_indices_bim) + len(misclassified_as_malicious_due_attack_indices_bim)}\")\n",
    "\n",
    "correctly_benign_classified_indices_boundary = get_correctly_benign_classified_indices(y_boundary, y_pred_adv_boundary)\n",
    "misclassified_as_benign_due_attack_indices_boundary = get_misclassified_as_benign_due_attack_indices(y_boundary, y_pred_boundary, y_pred_adv_boundary)\n",
    "correctly_malicious_classified_indices_boundary = get_correctly_malicious_classified_indices(y_boundary, y_pred_adv_boundary)\n",
    "misclassified_as_malicious_due_attack_indices_boundary = get_misclassified_as_malicious_due_attack_indices(y_boundary, y_pred_boundary, y_pred_adv_boundary)\n",
    "print(f\"------ Boundary Data ------\")\n",
    "print(f\"{len(correctly_benign_classified_indices_boundary)} | Correctly classified as BENIGN from the IDS\")\n",
    "print(f\"{len(misclassified_as_benign_due_attack_indices_boundary)} | ATTACK sample misclassified as BENIGN from the IDS\")\n",
    "print(f\"{len(correctly_malicious_classified_indices_boundary)} | Correctly classified as ATTACK from the IDS\")\n",
    "print(f\"{len(misclassified_as_malicious_due_attack_indices_boundary)} | BENIGN sample misclassified as ATTACK from the IDS\")\n",
    "print(f\"Sum: {len(correctly_benign_classified_indices_boundary) + len(misclassified_as_benign_due_attack_indices_boundary) + len(correctly_malicious_classified_indices_boundary) + len(misclassified_as_malicious_due_attack_indices_boundary)}\")\n",
    "\n",
    "correctly_benign_classified_indices_hsj = get_correctly_benign_classified_indices(y_hsj, y_pred_adv_hsj)\n",
    "misclassified_as_benign_due_attack_indices_hsj = get_misclassified_as_benign_due_attack_indices(y_hsj, y_pred_hsj, y_pred_adv_hsj)\n",
    "correctly_malicious_classified_indices_hsj = get_correctly_malicious_classified_indices(y_hsj, y_pred_adv_hsj)\n",
    "misclassified_as_malicious_due_attack_indices_hsj = get_misclassified_as_malicious_due_attack_indices(y_hsj, y_pred_hsj, y_pred_adv_hsj)\n",
    "print(f\"------ HSJ Data ------\")\n",
    "print(f\"{len(correctly_benign_classified_indices_hsj)} | Correctly classified as BENIGN from the IDS\")\n",
    "print(f\"{len(misclassified_as_benign_due_attack_indices_hsj)} | ATTACK sample misclassified as BENIGN from the IDS\")\n",
    "print(f\"{len(correctly_malicious_classified_indices_hsj)} | Correctly classified as ATTACK from the IDS\")\n",
    "print(f\"{len(misclassified_as_malicious_due_attack_indices_hsj)} | BENIGN sample misclassified as ATTACK from the IDS\")\n",
    "print(f\"Sum: {len(correctly_benign_classified_indices_hsj) + len(misclassified_as_benign_due_attack_indices_hsj) + len(correctly_malicious_classified_indices_hsj) + len(misclassified_as_malicious_due_attack_indices_hsj)}\")"
   ]
  },
  {
   "cell_type": "code",
   "execution_count": 111,
   "metadata": {},
   "outputs": [
    {
     "data": {
      "image/png": "[encoded data removed]",
      "text/plain": [
       "<Figure size 1000x600 with 1 Axes>"
      ]
     },
     "metadata": {},
     "output_type": "display_data"
    },
    {
     "data": {
      "image/png": "[encoded data removed]",
      "text/plain": [
       "<Figure size 1000x600 with 1 Axes>"
      ]
     },
     "metadata": {},
     "output_type": "display_data"
    }
   ],
   "source": [
    "import functions.visualizer as visualizer\n",
    "import importlib\n",
    "importlib.reload(visualizer)\n",
    "\n",
    "combined_misclassified_indices_cw = np.concatenate([misclassified_as_benign_due_attack_indices_cw, misclassified_as_malicious_due_attack_indices_cw])\n",
    "combined_correctly_classified_indices_cw = np.concatenate([correctly_benign_classified_indices_cw, correctly_malicious_classified_indices_cw])\n",
    "visualizer.visualize_data_distribution(X_cw.loc[combined_misclassified_indices_cw], 'Normal Data', X_adv_cw.loc[combined_misclassified_indices_cw], 'Adversarial C&W Data causing Misclassification')\n",
    "visualizer.visualize_data_distribution(X_cw.loc[combined_correctly_classified_indices_cw], 'Normal Data', X_adv_cw.loc[combined_correctly_classified_indices_cw], 'Adversarial C&W Data causing Correct Classification')"
   ]
  },
  {
   "cell_type": "markdown",
   "metadata": {},
   "source": [
    "## Explainer"
   ]
  },
  {
   "cell_type": "code",
   "execution_count": 9,
   "metadata": {},
   "outputs": [
    {
     "name": "stderr",
     "output_type": "stream",
     "text": [
      "PermutationExplainer explainer: 20001it [08:39, 38.04it/s]                           \n"
     ]
    },
    {
     "name": "stdout",
     "output_type": "stream",
     "text": [
      "Generate Explanations | Indices: Index([7192857, 1001927, 1015180, 2148828, 5363931], dtype='int64')... | Shape: (20000, 70)\n"
     ]
    },
    {
     "name": "stderr",
     "output_type": "stream",
     "text": [
      "PermutationExplainer explainer: 2501it [01:13, 29.78it/s]                          \n"
     ]
    },
    {
     "name": "stdout",
     "output_type": "stream",
     "text": [
      "Generate FGSM Adversarial Explanations | Indices: Index([10357469, 1013627, 3071392, 1007802, 6730701], dtype='int64')... | Shape: (2500, 70)\n"
     ]
    },
    {
     "name": "stderr",
     "output_type": "stream",
     "text": [
      "PermutationExplainer explainer: 2501it [01:08, 31.58it/s]                          \n"
     ]
    },
    {
     "name": "stdout",
     "output_type": "stream",
     "text": [
      "Generate CW Adversarial Explanations | Indices: Index([6102888, 1015270, 9050801, 9020151, 5796816], dtype='int64')... | Shape: (2500, 70)\n"
     ]
    },
    {
     "name": "stderr",
     "output_type": "stream",
     "text": [
      "PermutationExplainer explainer: 2501it [01:07, 31.64it/s]                          \n"
     ]
    },
    {
     "name": "stdout",
     "output_type": "stream",
     "text": [
      "Generate JSMA Adversarial Explanations | Indices: Index([1007193, 8013792, 5299937, 8748402, 1004898], dtype='int64')... | Shape: (2500, 70)\n"
     ]
    },
    {
     "name": "stderr",
     "output_type": "stream",
     "text": [
      "PermutationExplainer explainer: 2501it [01:17, 27.83it/s]                          \n"
     ]
    },
    {
     "name": "stdout",
     "output_type": "stream",
     "text": [
      "Generate PGD Adversarial Explanations | Indices: Index([6492969, 5291628, 3381749, 2541671, 8887309], dtype='int64')... | Shape: (2500, 70)\n"
     ]
    },
    {
     "name": "stderr",
     "output_type": "stream",
     "text": [
      "PermutationExplainer explainer: 2501it [01:16, 28.10it/s]                          \n"
     ]
    },
    {
     "name": "stdout",
     "output_type": "stream",
     "text": [
      "Generate BIM Adversarial Explanations | Indices: Index([1000621, 1815008, 1011102, 7119241, 5166918], dtype='int64')... | Shape: (2500, 70)\n"
     ]
    },
    {
     "name": "stderr",
     "output_type": "stream",
     "text": [
      "PermutationExplainer explainer: 2501it [01:13, 29.36it/s]                          \n"
     ]
    },
    {
     "name": "stdout",
     "output_type": "stream",
     "text": [
      "Generate DeepFool Adversarial Explanations | Indices: Index([7800566, 1013259, 1015136, 1009012, 1001239], dtype='int64')... | Shape: (2500, 70)\n"
     ]
    },
    {
     "name": "stderr",
     "output_type": "stream",
     "text": [
      "PermutationExplainer explainer: 2501it [01:16, 28.43it/s]                          \n"
     ]
    },
    {
     "name": "stdout",
     "output_type": "stream",
     "text": [
      "Generate Boundary Adversarial Explanations | Indices: Index([6698337, 1013498, 6412521, 1012312, 1014705], dtype='int64')... | Shape: (2500, 70)\n"
     ]
    },
    {
     "name": "stderr",
     "output_type": "stream",
     "text": [
      "PermutationExplainer explainer: 2501it [01:15, 28.45it/s]                          "
     ]
    },
    {
     "name": "stdout",
     "output_type": "stream",
     "text": [
      "Generate HSJ Adversarial Explanations | Indices: Index([5741515, 1007053, 1178144, 1009559, 5010989], dtype='int64')... | Shape: (2500, 70)\n"
     ]
    },
    {
     "name": "stderr",
     "output_type": "stream",
     "text": [
      "\n"
     ]
    }
   ],
   "source": [
    "import functions.explainer as exp\n",
    "import importlib\n",
    "importlib.reload(exp)\n",
    "\n",
    "explainer = exp.generate_shap_explainer(ids_model, X_train)\n",
    "\n",
    "shap_values_df = exp.generate_shap_values(explainer, X_normal)\n",
    "print(f\"Generate Explanations | Indices: {shap_values_df.index[:5]}... | Shape: {shap_values_df.shape}\")\n",
    "\n",
    "shap_values_adv_df_fgsm = exp.generate_shap_values(explainer, X_adv_fgsm)\n",
    "print(f\"Generate FGSM Adversarial Explanations | Indices: {shap_values_adv_df_fgsm.index[:5]}... | Shape: {shap_values_adv_df_fgsm.shape}\")\n",
    "\n",
    "shap_values_adv_df_cw = exp.generate_shap_values(explainer, X_adv_cw)\n",
    "print(f\"Generate CW Adversarial Explanations | Indices: {shap_values_adv_df_cw.index[:5]}... | Shape: {shap_values_adv_df_cw.shape}\")\n",
    "\n",
    "shap_values_adv_df_jsma = exp.generate_shap_values(explainer, X_adv_jsma)\n",
    "print(f\"Generate JSMA Adversarial Explanations | Indices: {shap_values_adv_df_jsma.index[:5]}... | Shape: {shap_values_adv_df_jsma.shape}\")\n",
    "\n",
    "shap_values_adv_df_pgd = exp.generate_shap_values(explainer, X_adv_pgd)\n",
    "print(f\"Generate PGD Adversarial Explanations | Indices: {shap_values_adv_df_pgd.index[:5]}... | Shape: {shap_values_adv_df_pgd.shape}\")\n",
    "\n",
    "shap_values_adv_df_bim = exp.generate_shap_values(explainer, X_adv_bim)\n",
    "print(f\"Generate BIM Adversarial Explanations | Indices: {shap_values_adv_df_bim.index[:5]}... | Shape: {shap_values_adv_df_bim.shape}\")\n",
    "\n",
    "shap_values_adv_df_deepfool = exp.generate_shap_values(explainer, X_adv_deepfool)\n",
    "print(f\"Generate DeepFool Adversarial Explanations | Indices: {shap_values_adv_df_deepfool.index[:5]}... | Shape: {shap_values_adv_df_deepfool.shape}\")\n",
    "\n",
    "shap_values_adv_df_boundary = exp.generate_shap_values(explainer, X_adv_boundary)\n",
    "print(f\"Generate Boundary Adversarial Explanations | Indices: {shap_values_adv_df_boundary.index[:5]}... | Shape: {shap_values_adv_df_boundary.shape}\")\n",
    "\n",
    "shap_values_adv_df_hsj = exp.generate_shap_values(explainer, X_adv_hsj)\n",
    "print(f\"Generate HSJ Adversarial Explanations | Indices: {shap_values_adv_df_hsj.index[:5]}... | Shape: {shap_values_adv_df_hsj.shape}\")"
   ]
  },
  {
   "cell_type": "code",
   "execution_count": 12,
   "metadata": {},
   "outputs": [],
   "source": [
    "# store shap values\n",
    "class_name = 'ypsilon'\n",
    "dataset_name = 'CIC-DDoS-2019'\n",
    "shap_values_df.to_csv(\"../../datasets/\"+dataset_name+\"/shap_values/\"+class_name +\"-shap_values.csv\", index=True)\n",
    "shap_values_adv_df_fgsm.to_csv(\"../../datasets/\"+dataset_name+\"/shap_values/\"+class_name +\"-shap_values_adv_fgsm.csv\", index=True)\n",
    "shap_values_adv_df_cw.to_csv(\"../../datasets/\"+dataset_name+\"/shap_values/\"+class_name +\"-shap_values_adv_cw.csv\", index=True)\n",
    "shap_values_adv_df_jsma.to_csv(\"../../datasets/\"+dataset_name+\"/shap_values/\"+class_name +\"-shap_values_adv_jsma.csv\", index=True)\n",
    "shap_values_adv_df_pgd.to_csv(\"../../datasets/\"+dataset_name+\"/shap_values/\"+class_name +\"-shap_values_adv_pgd.csv\", index=True)\n",
    "shap_values_adv_df_bim.to_csv(\"../../datasets/\"+dataset_name+\"/shap_values/\"+class_name +\"-shap_values_adv_bim.csv\", index=True)\n",
    "shap_values_adv_df_deepfool.to_csv(\"../../datasets/\"+dataset_name+\"/shap_values/\"+class_name +\"-shap_values_adv_deepfool.csv\", index=True)\n",
    "shap_values_adv_df_boundary.to_csv(\"../../datasets/\"+dataset_name+\"/shap_values/\"+class_name +\"-shap_values_adv_boundary.csv\", index=True)\n",
    "shap_values_adv_df_hsj.to_csv(\"../../datasets/\"+dataset_name+\"/shap_values/\"+class_name +\"-shap_values_adv_hsj.csv\", index=True)"
   ]
  },
  {
   "cell_type": "code",
   "execution_count": null,
   "metadata": {},
   "outputs": [],
   "source": [
    "# # load shap values\n",
    "# import pandas as pd\n",
    "# shap_values_df = pd.read_csv(\"../../datasets/CICIDS2017/shap_values/sigma-shap_values.csv\", index_col=0)\n",
    "# shap_values_adv_df_fgsm = pd.read_csv(\"../../datasets/CICIDS2017/shap_values/sigma-shap_values_adv_fgsm.csv\", index_col=0)\n",
    "# shap_values_adv_df_cw = pd.read_csv(\"../../datasets/CICIDS2017/shap_values/sigma-shap_values_adv_cw.csv\", index_col=0)\n",
    "# shap_values_adv_df_jsma = pd.read_csv(\"../../datasets/CICIDS2017/shap_values/sigma-shap_values_adv_jsma.csv\", index_col=0)\n",
    "# shap_values_adv_df_pgd = pd.read_csv(\"../../datasets/CICIDS2017/shap_values/sigma-shap_values_adv_pgd.csv\", index_col=0)\n",
    "# shap_values_adv_df_bim = pd.read_csv(\"../../datasets/CICIDS2017/shap_values/sigma-shap_values_adv_bim.csv\", index_col=0)\n",
    "# shap_values_adv_df_deepfool = pd.read_csv(\"../../datasets/CICIDS2017/shap_values/sigma-shap_values_adv_deepfool.csv\", index_col=0)\n",
    "# shap_values_adv_df_boundary = pd.read_csv(\"../../datasets/CICIDS2017/shap_values/sigma-shap_values_adv_boundary.csv\", index_col=0)\n",
    "# shap_values_adv_df_hsj = pd.read_csv(\"../../datasets/CICIDS2017/shap_values/sigma-shap_values_adv_hsj.csv\", index_col=0)\n",
    "# import functions.explainer as exp\n",
    "# import importlib\n",
    "# importlib.reload(exp)\n",
    "# explainer = exp.generate_shap_explainer(ids_model, X_train)"
   ]
  },
  {
   "cell_type": "code",
   "execution_count": 14,
   "metadata": {},
   "outputs": [
    {
     "name": "stdout",
     "output_type": "stream",
     "text": [
      " ADV Correctly BENIGN : (10070, 70) | ADV Correctly ATTACK: (9928, 70) | BENIGN: (9957, 70) | ATTACK: (10022, 70)\n"
     ]
    }
   ],
   "source": [
    "import pandas as pd\n",
    "adv_concat_correctly_benign_classified_shaps = pd.concat([\n",
    "    shap_values_adv_df_fgsm.loc[correctly_benign_classified_indices_fgsm],\n",
    "    shap_values_adv_df_pgd.loc[correctly_benign_classified_indices_pgd],\n",
    "    shap_values_adv_df_cw.loc[correctly_benign_classified_indices_cw],\n",
    "    shap_values_adv_df_jsma.loc[correctly_benign_classified_indices_jsma],\n",
    "    shap_values_adv_df_deepfool.loc[correctly_benign_classified_indices_deepfool],\n",
    "    shap_values_adv_df_bim.loc[correctly_benign_classified_indices_bim],\n",
    "    shap_values_adv_df_boundary.loc[correctly_benign_classified_indices_boundary],\n",
    "    shap_values_adv_df_hsj.loc[correctly_benign_classified_indices_hsj],\n",
    "\n",
    "    shap_values_adv_df_fgsm.loc[misclassified_as_malicious_due_attack_indices_fgsm], \n",
    "    shap_values_adv_df_pgd.loc[misclassified_as_malicious_due_attack_indices_pgd],\n",
    "    shap_values_adv_df_cw.loc[misclassified_as_malicious_due_attack_indices_cw],\n",
    "    shap_values_adv_df_jsma.loc[misclassified_as_malicious_due_attack_indices_jsma],\n",
    "    shap_values_adv_df_deepfool.loc[misclassified_as_malicious_due_attack_indices_deepfool],\n",
    "    shap_values_adv_df_bim.loc[misclassified_as_malicious_due_attack_indices_bim],\n",
    "    shap_values_adv_df_boundary.loc[misclassified_as_malicious_due_attack_indices_boundary],\n",
    "    shap_values_adv_df_hsj.loc[misclassified_as_malicious_due_attack_indices_hsj],\n",
    "\n",
    "    ], axis=0)\n",
    "\n",
    "\n",
    "adv_concat_correctly_malicious_classified_shaps = pd.concat([\n",
    "    shap_values_adv_df_fgsm.loc[correctly_malicious_classified_indices_fgsm], \n",
    "    shap_values_adv_df_pgd.loc[correctly_malicious_classified_indices_pgd],\n",
    "    shap_values_adv_df_cw.loc[correctly_malicious_classified_indices_cw],\n",
    "    shap_values_adv_df_jsma.loc[correctly_malicious_classified_indices_jsma],\n",
    "    shap_values_adv_df_deepfool.loc[correctly_malicious_classified_indices_deepfool],\n",
    "    shap_values_adv_df_bim.loc[correctly_malicious_classified_indices_bim],\n",
    "    shap_values_adv_df_boundary.loc[correctly_malicious_classified_indices_boundary],\n",
    "    shap_values_adv_df_hsj.loc[correctly_malicious_classified_indices_hsj],\n",
    "\n",
    "    shap_values_adv_df_fgsm.loc[misclassified_as_benign_due_attack_indices_fgsm], \n",
    "    shap_values_adv_df_pgd.loc[misclassified_as_benign_due_attack_indices_pgd],\n",
    "    shap_values_adv_df_cw.loc[misclassified_as_benign_due_attack_indices_cw],\n",
    "    shap_values_adv_df_jsma.loc[misclassified_as_benign_due_attack_indices_jsma],\n",
    "    shap_values_adv_df_deepfool.loc[misclassified_as_benign_due_attack_indices_deepfool],\n",
    "    shap_values_adv_df_bim.loc[misclassified_as_benign_due_attack_indices_bim],\n",
    "    shap_values_adv_df_boundary.loc[misclassified_as_benign_due_attack_indices_boundary],\n",
    "    shap_values_adv_df_hsj.loc[misclassified_as_benign_due_attack_indices_hsj],\n",
    "\n",
    "    ], axis=0)\n",
    "\n",
    "\n",
    "concat_correct_benign_shaps = pd.concat([\n",
    "    shap_values_df.loc[correctly_benign_classified_indices], \n",
    "    ], axis=0)\n",
    "\n",
    "concat_correct_attack_shaps = pd.concat([\n",
    "    shap_values_df.loc[correctly_malicious_classified_indices],\n",
    "    ], axis=0)\n",
    "\n",
    "print(f\" ADV Correctly BENIGN : {adv_concat_correctly_benign_classified_shaps.shape} | ADV Correctly ATTACK: {adv_concat_correctly_malicious_classified_shaps.shape} | BENIGN: {concat_correct_benign_shaps.shape} | ATTACK: {concat_correct_attack_shaps.shape}\")"
   ]
  },
  {
   "cell_type": "markdown",
   "metadata": {},
   "source": [
    "## Detector"
   ]
  },
  {
   "cell_type": "code",
   "execution_count": 15,
   "metadata": {},
   "outputs": [
    {
     "name": "stdout",
     "output_type": "stream",
     "text": [
      "Class 'ADV CORRECT ATTACK' has 9928 samples.\n",
      "Class 'ADV CORRECT BENIGN' has 10070 samples.\n",
      "Class 'CORRECT BENIGN' has 9957 samples.\n",
      "Class 'CORRECT ATTACK' has 10022 samples.\n",
      "Generated dataset: X shape (39977, 70), y shape (39977, 4)\n",
      "Epoch 1/20\n"
     ]
    },
    {
     "name": "stderr",
     "output_type": "stream",
     "text": [
      "2025-06-30 14:56:54.875097: E tensorflow/core/framework/node_def_util.cc:676] NodeDef mentions attribute use_unbounded_threadpool which is not in the op definition: Op<name=MapDataset; signature=input_dataset:variant, other_arguments: -> handle:variant; attr=f:func; attr=Targuments:list(type),min=0; attr=output_types:list(type),min=1; attr=output_shapes:list(shape),min=1; attr=use_inter_op_parallelism:bool,default=true; attr=preserve_cardinality:bool,default=false; attr=force_synchronous:bool,default=false; attr=metadata:string,default=\"\"> This may be expected if your graph generating binary is newer  than this binary. Unknown attributes will be ignored. NodeDef: {{node ParallelMapDatasetV2/_15}}\n"
     ]
    },
    {
     "name": "stdout",
     "output_type": "stream",
     "text": [
      "\u001b[1m720/720\u001b[0m \u001b[32m━━━━━━━━━━━━━━━━━━━━\u001b[0m\u001b[37m\u001b[0m \u001b[1m2s\u001b[0m 1ms/step - accuracy: 0.6862 - loss: 0.8695 - val_accuracy: 0.8624 - val_loss: 0.3430\n",
      "Epoch 2/20\n",
      "\u001b[1m720/720\u001b[0m \u001b[32m━━━━━━━━━━━━━━━━━━━━\u001b[0m\u001b[37m\u001b[0m \u001b[1m1s\u001b[0m 1ms/step - accuracy: 0.8416 - loss: 0.3984 - val_accuracy: 0.8649 - val_loss: 0.3306\n",
      "Epoch 3/20\n",
      "\u001b[1m720/720\u001b[0m \u001b[32m━━━━━━━━━━━━━━━━━━━━\u001b[0m\u001b[37m\u001b[0m \u001b[1m1s\u001b[0m 1ms/step - accuracy: 0.8530 - loss: 0.3744 - val_accuracy: 0.8655 - val_loss: 0.3282\n",
      "Epoch 4/20\n",
      "\u001b[1m720/720\u001b[0m \u001b[32m━━━━━━━━━━━━━━━━━━━━\u001b[0m\u001b[37m\u001b[0m \u001b[1m1s\u001b[0m 1ms/step - accuracy: 0.8551 - loss: 0.3633 - val_accuracy: 0.8655 - val_loss: 0.3269\n",
      "Epoch 5/20\n",
      "\u001b[1m720/720\u001b[0m \u001b[32m━━━━━━━━━━━━━━━━━━━━\u001b[0m\u001b[37m\u001b[0m \u001b[1m1s\u001b[0m 1ms/step - accuracy: 0.8554 - loss: 0.3591 - val_accuracy: 0.8662 - val_loss: 0.3261\n",
      "Epoch 6/20\n",
      "\u001b[1m720/720\u001b[0m \u001b[32m━━━━━━━━━━━━━━━━━━━━\u001b[0m\u001b[37m\u001b[0m \u001b[1m1s\u001b[0m 1ms/step - accuracy: 0.8554 - loss: 0.3525 - val_accuracy: 0.8659 - val_loss: 0.3250\n",
      "Epoch 7/20\n",
      "\u001b[1m720/720\u001b[0m \u001b[32m━━━━━━━━━━━━━━━━━━━━\u001b[0m\u001b[37m\u001b[0m \u001b[1m1s\u001b[0m 1ms/step - accuracy: 0.8574 - loss: 0.3479 - val_accuracy: 0.8659 - val_loss: 0.3252\n",
      "Epoch 8/20\n",
      "\u001b[1m720/720\u001b[0m \u001b[32m━━━━━━━━━━━━━━━━━━━━\u001b[0m\u001b[37m\u001b[0m \u001b[1m1s\u001b[0m 1ms/step - accuracy: 0.8568 - loss: 0.3465 - val_accuracy: 0.8649 - val_loss: 0.3252\n",
      "Epoch 9/20\n",
      "\u001b[1m720/720\u001b[0m \u001b[32m━━━━━━━━━━━━━━━━━━━━\u001b[0m\u001b[37m\u001b[0m \u001b[1m1s\u001b[0m 1ms/step - accuracy: 0.8576 - loss: 0.3439 - val_accuracy: 0.8649 - val_loss: 0.3253\n",
      "Epoch 10/20\n",
      "\u001b[1m720/720\u001b[0m \u001b[32m━━━━━━━━━━━━━━━━━━━━\u001b[0m\u001b[37m\u001b[0m \u001b[1m1s\u001b[0m 1ms/step - accuracy: 0.8569 - loss: 0.3455 - val_accuracy: 0.8656 - val_loss: 0.3257\n",
      "Epoch 11/20\n",
      "\u001b[1m720/720\u001b[0m \u001b[32m━━━━━━━━━━━━━━━━━━━━\u001b[0m\u001b[37m\u001b[0m \u001b[1m1s\u001b[0m 1ms/step - accuracy: 0.8571 - loss: 0.3437 - val_accuracy: 0.8655 - val_loss: 0.3254\n",
      "Epoch 12/20\n",
      "\u001b[1m720/720\u001b[0m \u001b[32m━━━━━━━━━━━━━━━━━━━━\u001b[0m\u001b[37m\u001b[0m \u001b[1m1s\u001b[0m 1ms/step - accuracy: 0.8578 - loss: 0.3420 - val_accuracy: 0.8659 - val_loss: 0.3246\n",
      "Epoch 13/20\n",
      "\u001b[1m720/720\u001b[0m \u001b[32m━━━━━━━━━━━━━━━━━━━━\u001b[0m\u001b[37m\u001b[0m \u001b[1m1s\u001b[0m 1ms/step - accuracy: 0.8575 - loss: 0.3399 - val_accuracy: 0.8659 - val_loss: 0.3255\n",
      "Epoch 14/20\n",
      "\u001b[1m720/720\u001b[0m \u001b[32m━━━━━━━━━━━━━━━━━━━━\u001b[0m\u001b[37m\u001b[0m \u001b[1m1s\u001b[0m 1ms/step - accuracy: 0.8588 - loss: 0.3384 - val_accuracy: 0.8660 - val_loss: 0.3233\n",
      "Epoch 15/20\n",
      "\u001b[1m720/720\u001b[0m \u001b[32m━━━━━━━━━━━━━━━━━━━━\u001b[0m\u001b[37m\u001b[0m \u001b[1m1s\u001b[0m 1ms/step - accuracy: 0.8578 - loss: 0.3377 - val_accuracy: 0.8665 - val_loss: 0.3239\n",
      "Epoch 16/20\n",
      "\u001b[1m720/720\u001b[0m \u001b[32m━━━━━━━━━━━━━━━━━━━━\u001b[0m\u001b[37m\u001b[0m \u001b[1m1s\u001b[0m 1ms/step - accuracy: 0.8587 - loss: 0.3372 - val_accuracy: 0.8663 - val_loss: 0.3236\n",
      "Epoch 17/20\n",
      "\u001b[1m720/720\u001b[0m \u001b[32m━━━━━━━━━━━━━━━━━━━━\u001b[0m\u001b[37m\u001b[0m \u001b[1m1s\u001b[0m 1ms/step - accuracy: 0.8594 - loss: 0.3371 - val_accuracy: 0.8662 - val_loss: 0.3236\n",
      "Epoch 18/20\n",
      "\u001b[1m720/720\u001b[0m \u001b[32m━━━━━━━━━━━━━━━━━━━━\u001b[0m\u001b[37m\u001b[0m \u001b[1m1s\u001b[0m 1ms/step - accuracy: 0.8594 - loss: 0.3353 - val_accuracy: 0.8662 - val_loss: 0.3247\n",
      "Epoch 19/20\n",
      "\u001b[1m720/720\u001b[0m \u001b[32m━━━━━━━━━━━━━━━━━━━━\u001b[0m\u001b[37m\u001b[0m \u001b[1m1s\u001b[0m 1ms/step - accuracy: 0.8595 - loss: 0.3363 - val_accuracy: 0.8662 - val_loss: 0.3242\n",
      "Epoch 20/20\n",
      "\u001b[1m720/720\u001b[0m \u001b[32m━━━━━━━━━━━━━━━━━━━━\u001b[0m\u001b[37m\u001b[0m \u001b[1m1s\u001b[0m 1ms/step - accuracy: 0.8601 - loss: 0.3347 - val_accuracy: 0.8655 - val_loss: 0.3266\n",
      "\u001b[1m125/125\u001b[0m \u001b[32m━━━━━━━━━━━━━━━━━━━━\u001b[0m\u001b[37m\u001b[0m \u001b[1m0s\u001b[0m 647us/step\n"
     ]
    },
    {
     "name": "stderr",
     "output_type": "stream",
     "text": [
      "2025-06-30 14:57:12.792828: E tensorflow/core/framework/node_def_util.cc:676] NodeDef mentions attribute use_unbounded_threadpool which is not in the op definition: Op<name=MapDataset; signature=input_dataset:variant, other_arguments: -> handle:variant; attr=f:func; attr=Targuments:list(type),min=0; attr=output_types:list(type),min=1; attr=output_shapes:list(shape),min=1; attr=use_inter_op_parallelism:bool,default=true; attr=preserve_cardinality:bool,default=false; attr=force_synchronous:bool,default=false; attr=metadata:string,default=\"\"> This may be expected if your graph generating binary is newer  than this binary. Unknown attributes will be ignored. NodeDef: {{node ParallelMapDatasetV2/_14}}\n"
     ]
    }
   ],
   "source": [
    "import functions.detector as det\n",
    "import importlib\n",
    "importlib.reload(det)\n",
    "\n",
    "# create dataframe\n",
    "class_samples = {\n",
    "    'ADV CORRECT ATTACK': adv_concat_correctly_malicious_classified_shaps,\n",
    "    'ADV CORRECT BENIGN': adv_concat_correctly_benign_classified_shaps,\n",
    "    'CORRECT BENIGN': concat_correct_benign_shaps, \n",
    "    'CORRECT ATTACK': concat_correct_attack_shaps,\n",
    "}\n",
    "X, y = det.build_detector_dataset(class_samples)\n",
    "\n",
    "# split data\n",
    "X_train_det, X_test_det, y_train_det, y_test_det = train_test_split(X, y, test_size=0.1, random_state=1503)\n",
    "\n",
    "# build detector\n",
    "detector = det.build_detector(X_train_det, y_train_det, X_test_det, y_test_det, plot_train_performance=False)\n",
    "\n",
    "# store detector\n",
    "det.store(detector, 'ypsilon')"
   ]
  },
  {
   "cell_type": "code",
   "execution_count": 16,
   "metadata": {},
   "outputs": [
    {
     "name": "stdout",
     "output_type": "stream",
     "text": [
      "\u001b[1m  1/125\u001b[0m \u001b[37m━━━━━━━━━━━━━━━━━━━━\u001b[0m \u001b[1m1s\u001b[0m 16ms/step"
     ]
    },
    {
     "name": "stdout",
     "output_type": "stream",
     "text": [
      "\u001b[1m125/125\u001b[0m \u001b[32m━━━━━━━━━━━━━━━━━━━━\u001b[0m\u001b[37m\u001b[0m \u001b[1m0s\u001b[0m 466us/step\n",
      "Predictions on Detector | Indices: Index([1011872, 8541198, 1077002, 772263, 1002484], dtype='int64')... | Shape: (3998, 4)\n",
      "[2 0 1 2 2] [2 0 1 2 2]\n",
      "Overall Accuracy: 0.8659\n",
      "Classification Report (Overall):\n"
     ]
    },
    {
     "name": "stderr",
     "output_type": "stream",
     "text": [
      "2025-06-30 14:57:21.178129: E tensorflow/core/framework/node_def_util.cc:676] NodeDef mentions attribute use_unbounded_threadpool which is not in the op definition: Op<name=MapDataset; signature=input_dataset:variant, other_arguments: -> handle:variant; attr=f:func; attr=Targuments:list(type),min=0; attr=output_types:list(type),min=1; attr=output_shapes:list(shape),min=1; attr=use_inter_op_parallelism:bool,default=true; attr=preserve_cardinality:bool,default=false; attr=force_synchronous:bool,default=false; attr=metadata:string,default=\"\"> This may be expected if your graph generating binary is newer  than this binary. Unknown attributes will be ignored. NodeDef: {{node ParallelMapDatasetV2/_14}}\n"
     ]
    },
    {
     "data": {
      "text/plain": [
       "'                    precision    recall  f1-score   support\\n\\nADV CORRECT ATTACK     0.9989    0.8583    0.9232      1023\\nADV CORRECT BENIGN     0.9968    0.6133    0.7594      1006\\n    CORRECT BENIGN     0.7220    0.9980    0.8379      1002\\n    CORRECT ATTACK     0.8673    1.0000    0.9289       967\\n\\n          accuracy                         0.8659      3998\\n         macro avg     0.8962    0.8674    0.8624      3998\\n      weighted avg     0.8971    0.8659    0.8620      3998\\n'"
      ]
     },
     "execution_count": 16,
     "metadata": {},
     "output_type": "execute_result"
    }
   ],
   "source": [
    "# Evaluate detector\n",
    "y_pred_det = det.predict(detector, X_test_det, y.columns)\n",
    "print(f\"Predictions on Detector | Indices: {y_pred_det.index[:5]}... | Shape: {y_pred_det.shape}\")\n",
    "\n",
    "# Convert one-hot to class indices\n",
    "y_true_indices = np.argmax(y_test_det, axis=1)\n",
    "y_true_indices_pd = pd.Series(y_true_indices, index=y_test_det.index)\n",
    "y_pred_indices = np.argmax(y_pred_det, axis=1)\n",
    "y_pred_indices_pd = pd.Series(y_pred_indices, index=y_pred_det.index)\n",
    "print(y_true_indices[:5], y_pred_indices[:5])\n",
    "\n",
    "from sklearn.metrics import classification_report, accuracy_score, confusion_matrix\n",
    "\n",
    "# Compute Accuracy\n",
    "accuracy = accuracy_score(y_true_indices, y_pred_indices)\n",
    "print(f\"Overall Accuracy: {accuracy:.4f}\")\n",
    "\n",
    "# Compute Classification Report for overall classification\n",
    "print(\"Classification Report (Overall):\")\n",
    "classification_report(y_true_indices, y_pred_indices, target_names=y.columns, zero_division=0, digits=4)"
   ]
  },
  {
   "cell_type": "markdown",
   "metadata": {},
   "source": [
    "---\n",
    "## Manual Evaluation\n",
    "We perform the whole two-stages approach on new unseen data and evaluate the following scores:\n",
    "- Recall\n",
    "- Precision\n",
    "- Accuracy\n",
    "- F1 Score"
   ]
  },
  {
   "cell_type": "code",
   "execution_count": 17,
   "metadata": {},
   "outputs": [
    {
     "name": "stdout",
     "output_type": "stream",
     "text": [
      "--- Sampling balanced data ---\n",
      "Sample to shape: (2000, 70)\n"
     ]
    },
    {
     "data": {
      "text/plain": [
       "BENIGN  ATTACK\n",
       "False   True      1000\n",
       "True    False     1000\n",
       "Name: count, dtype: int64"
      ]
     },
     "execution_count": 17,
     "metadata": {},
     "output_type": "execute_result"
    }
   ],
   "source": [
    "y_eval, X_eval, _ = dp.sample_balanced_data(y_test, X_test, sample_size=1000, random_state=3001)\n",
    "y_eval.value_counts()"
   ]
  },
  {
   "cell_type": "code",
   "execution_count": 18,
   "metadata": {},
   "outputs": [
    {
     "name": "stdout",
     "output_type": "stream",
     "text": [
      "-- Preprocessing data --\n",
      "--- Splitting labels and features ---\n",
      "--- Encoding labels as binary one-hot values ---\n",
      "--- Sampling balanced data ---\n",
      "Sample to shape: (2000, 70)\n",
      "--- Normalizing features using MinMaxScaler ---\n",
      "Generate Features | Indices: Index([1012259, 1012769, 1011002, 5010681, 1004176], dtype='int64')... | Shape: (2000, 70)\n",
      "Generate Labels | Indices: Index([1012259, 1012769, 1011002, 5010681, 1004176], dtype='int64')... | Shape: (2000, 2)\n",
      "BENIGN  ATTACK\n",
      "False   True      1000\n",
      "True    False     1000\n",
      "Name: count, dtype: int64\n"
     ]
    }
   ],
   "source": [
    "import functions.data_preprocessing as dp\n",
    "import importlib\n",
    "importlib.reload(dp)\n",
    "\n",
    "# dataset\n",
    "# exclude previously used samples\n",
    "dataset_eval_excluded = dataset.drop(index=used_indices) # TODO: problem -> we already used all the benign samples\n",
    "\n",
    "X_eval, y_eval, used_eval_indices = dp.preprocess_data(dataset, encoding_type, normalizer, zero_columns, sample_size=1000, random_sample_state=3001)\n",
    "print(f\"Generate Features | Indices: {X_eval.index[:5]}... | Shape: {X_eval.shape}\")\n",
    "print(f\"Generate Labels | Indices: {y_eval.index[:5]}... | Shape: {y_eval.shape}\")\n",
    "print(y_eval.value_counts())"
   ]
  },
  {
   "cell_type": "markdown",
   "metadata": {},
   "source": [
    "### Just for Import"
   ]
  },
  {
   "cell_type": "code",
   "execution_count": 6,
   "metadata": {},
   "outputs": [],
   "source": [
    "import functions.detector as det\n",
    "import functions.explainer as exp\n",
    "import functions.attack_generator as ag\n",
    "importlib.reload(det)\n",
    "import numpy as np\n",
    "detector = det.load('ypsilon')\n",
    "\n",
    "explainer = exp.generate_shap_explainer(ids_model, X_train)\n",
    "\n",
    "all_features = dataset.drop(columns=[' Label'])\n",
    "art_model = ag.convert_to_art_model(ids_model, X_train) # TODO: use all features for generating art model\n",
    "\n",
    "import multiprocessing\n",
    "num_cores = multiprocessing.cpu_count()"
   ]
  },
  {
   "cell_type": "markdown",
   "metadata": {},
   "source": [
    "### Normal IDS Prediction"
   ]
  },
  {
   "cell_type": "code",
   "execution_count": 19,
   "metadata": {},
   "outputs": [
    {
     "name": "stdout",
     "output_type": "stream",
     "text": [
      "\u001b[1m63/63\u001b[0m \u001b[32m━━━━━━━━━━━━━━━━━━━━\u001b[0m\u001b[37m\u001b[0m \u001b[1m0s\u001b[0m 870us/step\n",
      "Global Accuracy: 99.80%\n",
      "              precision    recall  f1-score   support\n",
      "\n",
      "      ATTACK     0.9960    1.0000    0.9980      1000\n",
      "      BENIGN     1.0000    0.9960    0.9980      1000\n",
      "\n",
      "    accuracy                         0.9980      2000\n",
      "   macro avg     0.9980    0.9980    0.9980      2000\n",
      "weighted avg     0.9980    0.9980    0.9980      2000\n",
      "\n"
     ]
    },
    {
     "name": "stderr",
     "output_type": "stream",
     "text": [
      "2025-06-30 14:57:54.760171: E tensorflow/core/framework/node_def_util.cc:676] NodeDef mentions attribute use_unbounded_threadpool which is not in the op definition: Op<name=MapDataset; signature=input_dataset:variant, other_arguments: -> handle:variant; attr=f:func; attr=Targuments:list(type),min=0; attr=output_types:list(type),min=1; attr=output_shapes:list(shape),min=1; attr=use_inter_op_parallelism:bool,default=true; attr=preserve_cardinality:bool,default=false; attr=force_synchronous:bool,default=false; attr=metadata:string,default=\"\"> This may be expected if your graph generating binary is newer  than this binary. Unknown attributes will be ignored. NodeDef: {{node ParallelMapDatasetV2/_14}}\n"
     ]
    }
   ],
   "source": [
    "y_pred_norm = ids.predict(ids_model, X_eval, y_eval.columns)\n",
    "ids.evaluate_model(y_pred_norm, y_eval)"
   ]
  },
  {
   "cell_type": "code",
   "execution_count": null,
   "metadata": {},
   "outputs": [
    {
     "name": "stdout",
     "output_type": "stream",
     "text": [
      "Running attack using 24 CPU cores...\n",
      "\n",
      "Process 97305 is generating adversarial examples for batch of size 83 \n",
      "Process 97304 is generating adversarial examples for batch of size 83 \n",
      "Process 97303 is generating adversarial examples for batch of size 83 \n",
      "Process 97306 is generating adversarial examples for batch of size 83 \n",
      "Process 97308 is generating adversarial examples for batch of size 83 \n",
      "Process 97307 is generating adversarial examples for batch of size 83 \n",
      "Process 97309 is generating adversarial examples for batch of size 83 \n",
      "Process 97310 is generating adversarial examples for batch of size 83 \n",
      "Process 97311 is generating adversarial examples for batch of size 83 \n",
      "Process 97313 is generating adversarial examples for batch of size 83 \n",
      "Process 97315 is generating adversarial examples for batch of size 83 \n",
      "Process 97312 is generating adversarial examples for batch of size 83 \n",
      "Process 97314 is generating adversarial examples for batch of size 83 \n",
      "Process 97317 is generating adversarial examples for batch of size 83 \n",
      "Process 97316 is generating adversarial examples for batch of size 83 \n",
      "\n",
      "\n",
      "\n",
      "\n",
      "Process 97318 is generating adversarial examples for batch of size 83 \n",
      "\n",
      "\n",
      "\n",
      "\n",
      "\n",
      "Process 97319 is generating adversarial examples for batch of size 83 \n",
      "Process 97321 is generating adversarial examples for batch of size 83 \n",
      "Process 97320 is generating adversarial examples for batch of size 83 \n",
      "\n",
      "Process 97322 is generating adversarial examples for batch of size 83 \n",
      "\n",
      "\n",
      "\n",
      "\n",
      "Process 97324 is generating adversarial examples for batch of size 83 \n",
      "\n",
      "Process 97325 is generating adversarial examples for batch of size 83 \n",
      "Process 97323 is generating adversarial examples for batch of size 83 \n",
      "\n",
      "\n",
      "\n",
      "\n",
      "\n",
      "\n",
      "\n",
      "\n",
      "Process 97326 is generating adversarial examples for batch of size 91 \n",
      "\n"
     ]
    },
    {
     "data": {
      "application/vnd.jupyter.widget-view+json": {
       "model_id": "34d655174cea4130a9d5e4fabba9d773",
       "version_major": 2,
       "version_minor": 0
      },
      "text/plain": [
       "HopSkipJump:   0%|          | 0/83 [00:00<?, ?it/s]"
      ]
     },
     "metadata": {},
     "output_type": "display_data"
    },
    {
     "data": {
      "application/vnd.jupyter.widget-view+json": {
       "model_id": "dca48569e04e42478e7190385d709c1d",
       "version_major": 2,
       "version_minor": 0
      },
      "text/plain": [
       "HopSkipJump:   0%|          | 0/83 [00:00<?, ?it/s]"
      ]
     },
     "metadata": {},
     "output_type": "display_data"
    },
    {
     "data": {
      "application/vnd.jupyter.widget-view+json": {
       "model_id": "50ba60b075414bf4943cb2bc3a2ac3fc",
       "version_major": 2,
       "version_minor": 0
      },
      "text/plain": [
       "HopSkipJump:   0%|          | 0/83 [00:00<?, ?it/s]"
      ]
     },
     "metadata": {},
     "output_type": "display_data"
    },
    {
     "data": {
      "application/vnd.jupyter.widget-view+json": {
       "model_id": "187af0f1f8fd49d98b115f6b33e8dee9",
       "version_major": 2,
       "version_minor": 0
      },
      "text/plain": [
       "HopSkipJump:   0%|          | 0/83 [00:00<?, ?it/s]"
      ]
     },
     "metadata": {},
     "output_type": "display_data"
    },
    {
     "data": {
      "application/vnd.jupyter.widget-view+json": {
       "model_id": "b6c3cad3b29b4bf9af873b561a66572c",
       "version_major": 2,
       "version_minor": 0
      },
      "text/plain": [
       "HopSkipJump:   0%|          | 0/83 [00:00<?, ?it/s]"
      ]
     },
     "metadata": {},
     "output_type": "display_data"
    },
    {
     "data": {
      "application/vnd.jupyter.widget-view+json": {
       "model_id": "73060fe02f42425bbf03a90123e60caa",
       "version_major": 2,
       "version_minor": 0
      },
      "text/plain": [
       "HopSkipJump:   0%|          | 0/83 [00:00<?, ?it/s]"
      ]
     },
     "metadata": {},
     "output_type": "display_data"
    },
    {
     "data": {
      "application/vnd.jupyter.widget-view+json": {
       "model_id": "46b44819b5114730b4c773ddbaeb03ca",
       "version_major": 2,
       "version_minor": 0
      },
      "text/plain": [
       "HopSkipJump:   0%|          | 0/83 [00:00<?, ?it/s]"
      ]
     },
     "metadata": {},
     "output_type": "display_data"
    },
    {
     "data": {
      "application/vnd.jupyter.widget-view+json": {
       "model_id": "ea4e792d6bd54db2b959dc2c9edd706c",
       "version_major": 2,
       "version_minor": 0
      },
      "text/plain": [
       "HopSkipJump:   0%|          | 0/83 [00:00<?, ?it/s]"
      ]
     },
     "metadata": {},
     "output_type": "display_data"
    },
    {
     "data": {
      "application/vnd.jupyter.widget-view+json": {
       "model_id": "50540e758eac409d9798064dcb024a85",
       "version_major": 2,
       "version_minor": 0
      },
      "text/plain": [
       "HopSkipJump:   0%|          | 0/83 [00:00<?, ?it/s]"
      ]
     },
     "metadata": {},
     "output_type": "display_data"
    },
    {
     "data": {
      "application/vnd.jupyter.widget-view+json": {
       "model_id": "1d40603cdc0c4eac93e943d0506722cb",
       "version_major": 2,
       "version_minor": 0
      },
      "text/plain": [
       "HopSkipJump:   0%|          | 0/83 [00:00<?, ?it/s]"
      ]
     },
     "metadata": {},
     "output_type": "display_data"
    },
    {
     "data": {
      "application/vnd.jupyter.widget-view+json": {
       "model_id": "c1972d5234ab498a83c158852c74dc62",
       "version_major": 2,
       "version_minor": 0
      },
      "text/plain": [
       "HopSkipJump:   0%|          | 0/83 [00:00<?, ?it/s]"
      ]
     },
     "metadata": {},
     "output_type": "display_data"
    },
    {
     "data": {
      "application/vnd.jupyter.widget-view+json": {
       "model_id": "23a649e229dd4ebf8fa5ae2670712360",
       "version_major": 2,
       "version_minor": 0
      },
      "text/plain": [
       "HopSkipJump:   0%|          | 0/83 [00:00<?, ?it/s]"
      ]
     },
     "metadata": {},
     "output_type": "display_data"
    },
    {
     "data": {
      "application/vnd.jupyter.widget-view+json": {
       "model_id": "35fc1f607b874254bad21b87135e726b",
       "version_major": 2,
       "version_minor": 0
      },
      "text/plain": [
       "HopSkipJump:   0%|          | 0/83 [00:00<?, ?it/s]"
      ]
     },
     "metadata": {},
     "output_type": "display_data"
    },
    {
     "data": {
      "application/vnd.jupyter.widget-view+json": {
       "model_id": "c46d3f381f1b423dbe5b34876c55d08b",
       "version_major": 2,
       "version_minor": 0
      },
      "text/plain": [
       "HopSkipJump:   0%|          | 0/83 [00:00<?, ?it/s]"
      ]
     },
     "metadata": {},
     "output_type": "display_data"
    },
    {
     "data": {
      "application/vnd.jupyter.widget-view+json": {
       "model_id": "fc1d5235e727439f96df5715af54b125",
       "version_major": 2,
       "version_minor": 0
      },
      "text/plain": [
       "HopSkipJump:   0%|          | 0/83 [00:00<?, ?it/s]"
      ]
     },
     "metadata": {},
     "output_type": "display_data"
    },
    {
     "data": {
      "application/vnd.jupyter.widget-view+json": {
       "model_id": "c21e80b6dfea44a285c404c46d73dfbc",
       "version_major": 2,
       "version_minor": 0
      },
      "text/plain": [
       "HopSkipJump:   0%|          | 0/83 [00:00<?, ?it/s]"
      ]
     },
     "metadata": {},
     "output_type": "display_data"
    },
    {
     "data": {
      "application/vnd.jupyter.widget-view+json": {
       "model_id": "044daab723a94f21b6a0b66941bf7c47",
       "version_major": 2,
       "version_minor": 0
      },
      "text/plain": [
       "HopSkipJump:   0%|          | 0/83 [00:00<?, ?it/s]"
      ]
     },
     "metadata": {},
     "output_type": "display_data"
    },
    {
     "data": {
      "application/vnd.jupyter.widget-view+json": {
       "model_id": "9c23b5758ae142c7a4e654597f64155e",
       "version_major": 2,
       "version_minor": 0
      },
      "text/plain": [
       "HopSkipJump:   0%|          | 0/83 [00:00<?, ?it/s]"
      ]
     },
     "metadata": {},
     "output_type": "display_data"
    },
    {
     "data": {
      "application/vnd.jupyter.widget-view+json": {
       "model_id": "a652696a8c2041b6ad9345a9948402af",
       "version_major": 2,
       "version_minor": 0
      },
      "text/plain": [
       "HopSkipJump:   0%|          | 0/83 [00:00<?, ?it/s]"
      ]
     },
     "metadata": {},
     "output_type": "display_data"
    },
    {
     "data": {
      "application/vnd.jupyter.widget-view+json": {
       "model_id": "65487d3efa0e439a908958531c2422e6",
       "version_major": 2,
       "version_minor": 0
      },
      "text/plain": [
       "HopSkipJump:   0%|          | 0/83 [00:00<?, ?it/s]"
      ]
     },
     "metadata": {},
     "output_type": "display_data"
    },
    {
     "data": {
      "application/vnd.jupyter.widget-view+json": {
       "model_id": "b5bd896c2e7840bcb7ca1bddd354d611",
       "version_major": 2,
       "version_minor": 0
      },
      "text/plain": [
       "HopSkipJump:   0%|          | 0/83 [00:00<?, ?it/s]"
      ]
     },
     "metadata": {},
     "output_type": "display_data"
    },
    {
     "data": {
      "application/vnd.jupyter.widget-view+json": {
       "model_id": "4e87b80a7da248ac951684d6e6a485a2",
       "version_major": 2,
       "version_minor": 0
      },
      "text/plain": [
       "HopSkipJump:   0%|          | 0/83 [00:00<?, ?it/s]"
      ]
     },
     "metadata": {},
     "output_type": "display_data"
    },
    {
     "data": {
      "application/vnd.jupyter.widget-view+json": {
       "model_id": "ff3e7644868243e0a07da02e266a5d81",
       "version_major": 2,
       "version_minor": 0
      },
      "text/plain": [
       "HopSkipJump:   0%|          | 0/83 [00:00<?, ?it/s]"
      ]
     },
     "metadata": {},
     "output_type": "display_data"
    },
    {
     "data": {
      "application/vnd.jupyter.widget-view+json": {
       "model_id": "54b908dd74784c24a4f4eeb197a470e0",
       "version_major": 2,
       "version_minor": 0
      },
      "text/plain": [
       "HopSkipJump:   0%|          | 0/91 [00:00<?, ?it/s]"
      ]
     },
     "metadata": {},
     "output_type": "display_data"
    },
    {
     "name": "stdout",
     "output_type": "stream",
     "text": [
      "Adversarial HopSkipJump examples generated. Shape: (2000, 70)\n",
      "Create Adversarial Attack | Indices: Index([1012259, 1012769, 1011002, 5010681, 1004176], dtype='int64')... | Shape: (2000, 70)\n",
      "Accuracy: 50.00%\n",
      "              precision    recall  f1-score   support\n",
      "\n",
      "      ATTACK     0.0000    0.0000    0.0000      1000\n",
      "      BENIGN     0.5000    1.0000    0.6667      1000\n",
      "\n",
      "    accuracy                         0.5000      2000\n",
      "   macro avg     0.2500    0.5000    0.3333      2000\n",
      "weighted avg     0.2500    0.5000    0.3333      2000\n",
      "\n",
      "Confusion Matrix: Positive == BENIGN\n",
      "TN: 0, FP: 1000, FN: 0, TP: 1000\n",
      "Predictions on Adversarial Attacks | Indices: Index([1012259, 1012769, 1011002, 5010681, 1004176], dtype='int64')... | Shape: (2000, 2)\n"
     ]
    }
   ],
   "source": [
    "importlib.reload(ag)\n",
    "\n",
    "import multiprocessing\n",
    "num_cores = multiprocessing.cpu_count()\n",
    "X_adv_eval = ag.generate_boundary_attacks_parallel(art_model, X_eval, num_cores=num_cores)\n",
    "print(f\"Create Adversarial Attack | Indices: {X_adv_eval.index[:5]}... | Shape: {X_adv_eval.shape}\")\n",
    "\n",
    "y_pred_adv_eval = ag.evaluate_art_model(art_model, X_adv_eval, y_eval)\n",
    "print(f\"Predictions on Adversarial Attacks | Indices: {y_pred_adv_eval.index[:5]}... | Shape: {y_pred_adv_eval.shape}\")"
   ]
  },
  {
   "cell_type": "code",
   "execution_count": null,
   "metadata": {},
   "outputs": [
    {
     "name": "stderr",
     "output_type": "stream",
     "text": [
      "PermutationExplainer explainer:  73%|███████▎  | 1459/2000 [00:42<00:17, 30.52it/s]"
     ]
    }
   ],
   "source": [
    "importlib.reload(exp)\n",
    "X_eval_adv_shap_values_df = exp.generate_shap_values(explainer, X_adv_eval)\n",
    "\n",
    "print(f\"Create Explanations | Indices: {X_eval_adv_shap_values_df.index[:5]}... | Shape: {X_eval_adv_shap_values_df.shape}\")"
   ]
  },
  {
   "cell_type": "code",
   "execution_count": null,
   "metadata": {},
   "outputs": [],
   "source": [
    "# # normal shap values\n",
    "# y_pred_adv_eval = ag.evaluate_art_model(art_model, X_eval, y_eval)\n",
    "# print(f\"Predictions on Adversarial Attacks | Indices: {y_pred_adv_eval.index[:5]}... | Shape: {y_pred_adv_eval.shape}\")\n",
    "\n",
    "# X_eval_adv_shap_values_df = exp.generate_shap_values(explainer, X_eval)\n",
    "\n",
    "# print(f\"Create Explanations | Indices: {X_eval_adv_shap_values_df.index[:5]}... | Shape: {X_eval_adv_shap_values_df.shape}\")"
   ]
  },
  {
   "cell_type": "code",
   "execution_count": null,
   "metadata": {},
   "outputs": [
    {
     "name": "stdout",
     "output_type": "stream",
     "text": [
      "\u001b[1m 1/63\u001b[0m \u001b[37m━━━━━━━━━━━━━━━━━━━━\u001b[0m \u001b[1m0s\u001b[0m 15ms/step"
     ]
    },
    {
     "name": "stderr",
     "output_type": "stream",
     "text": [
      "2025-06-30 15:20:43.950456: E tensorflow/core/framework/node_def_util.cc:676] NodeDef mentions attribute use_unbounded_threadpool which is not in the op definition: Op<name=MapDataset; signature=input_dataset:variant, other_arguments: -> handle:variant; attr=f:func; attr=Targuments:list(type),min=0; attr=output_types:list(type),min=1; attr=output_shapes:list(shape),min=1; attr=use_inter_op_parallelism:bool,default=true; attr=preserve_cardinality:bool,default=false; attr=force_synchronous:bool,default=false; attr=metadata:string,default=\"\"> This may be expected if your graph generating binary is newer  than this binary. Unknown attributes will be ignored. NodeDef: {{node ParallelMapDatasetV2/_14}}\n"
     ]
    },
    {
     "name": "stdout",
     "output_type": "stream",
     "text": [
      "\u001b[1m63/63\u001b[0m \u001b[32m━━━━━━━━━━━━━━━━━━━━\u001b[0m\u001b[37m\u001b[0m \u001b[1m0s\u001b[0m 546us/step\n"
     ]
    }
   ],
   "source": [
    "importlib.reload(det)\n",
    "benign_eval_idx = y_eval[y_eval['BENIGN'] == 1].index\n",
    "attack_eval_idx = y_eval[y_eval['ATTACK'] == 1].index\n",
    "\n",
    "pred_benign_idx = y_pred_adv_eval[y_pred_adv_eval['BENIGN'] == 1].index\n",
    "pred_attack_idx = y_pred_adv_eval[y_pred_adv_eval['ATTACK'] == 1].index\n",
    "\n",
    "# predict\n",
    "columns = ['ADV CORRECT ATTACK', 'ADV CORRECT BENIGN', 'CORRECT BENIGN', 'CORRECT ATTACK']\n",
    "y_pred_eval_detector = det.predict(detector, X_eval_adv_shap_values_df, columns)\n",
    "# y_pred_eval_detector = det.predict(detector, X_adv_eval, columns)\n",
    "\n",
    "\n",
    "# correctly_classified_det_idx = y_pred_eval_detector[y_pred_eval_detector['BENIGN'] == 1].index\n",
    "# misclassified_det_idx = y_pred_eval_detector[y_pred_eval_detector['ATTACK'] == 1].index"
   ]
  },
  {
   "cell_type": "code",
   "execution_count": null,
   "metadata": {},
   "outputs": [
    {
     "name": "stdout",
     "output_type": "stream",
     "text": [
      "Predicted Class 0: 804\n",
      "Predicted Class 1: 724\n",
      "Predicted Class 2: 281\n",
      "Predicted Class 3: 191\n",
      "All Predicted Classes:  2000\n"
     ]
    }
   ],
   "source": [
    "pred_class_0 = y_pred_eval_detector[y_pred_eval_detector['ADV CORRECT BENIGN'] == 1].index \n",
    "pred_class_1 = y_pred_eval_detector[y_pred_eval_detector['ADV CORRECT ATTACK'] == 1].index\n",
    "pred_class_2 = y_pred_eval_detector[y_pred_eval_detector['CORRECT ATTACK'] == 1].index\n",
    "pred_class_3 = y_pred_eval_detector[y_pred_eval_detector['CORRECT BENIGN'] == 1].index\n",
    "print(f\"Predicted Class 0: {len(pred_class_0)}\")\n",
    "print(f\"Predicted Class 1: {len(pred_class_1)}\")\n",
    "print(f\"Predicted Class 2: {len(pred_class_2)}\")\n",
    "print(f\"Predicted Class 3: {len(pred_class_3)}\")\n",
    "print(\"All Predicted Classes: \", len(pred_class_0) + len(pred_class_1) + len(pred_class_2) + len(pred_class_3))"
   ]
  },
  {
   "cell_type": "code",
   "execution_count": null,
   "metadata": {},
   "outputs": [
    {
     "name": "stdout",
     "output_type": "stream",
     "text": [
      "Detector classifies 'BENIGN' samples as correct 'BENIGN': 994\n",
      "Detector mis-classifies 'ATTACK' samples as correct 'BENIGN': 1\n",
      "Detector classifies 'ATTACK' samples as misclassified due to 'ATTACK': 999\n",
      "Detector classifies 'BENIGN' samples as misclassified due to 'ATTACK': 6\n",
      "TP: 994\n",
      "FP: 1\n",
      "TN: 999\n",
      "FN: 6\n",
      "Sum: 2000\n"
     ]
    }
   ],
   "source": [
    "# TODO: define correct and misclassified classes for each attack:\n",
    "benign_pred_idx = y_pred_eval_detector.loc[pred_class_0].index # Detector classifies 'BENIGN' samples as correct 'BENIGN'\n",
    "attack_pred_idx = y_pred_eval_detector.loc[pred_class_1].index # Detector classifies 'ATTACK' samples as misclassified due to 'ATTACK'\n",
    "\n",
    "# generate bening_pred_idx: pred_class_0 and 3 are benign\n",
    "benign_pred_idx = np.concatenate([y_pred_eval_detector.loc[pred_class_0].index, y_pred_eval_detector.loc[pred_class_3].index]) # Detector classifies 'BENIGN' samples as correct 'BENIGN'\n",
    "# generate attack_pred_idx: pred_class_1 and 2 are attack\n",
    "attack_pred_idx = np.concatenate([y_pred_eval_detector.loc[pred_class_1].index, y_pred_eval_detector.loc[pred_class_2].index]) # Detector classifies 'ATTACK' samples as misclassified due to 'ATTACK'\n",
    "\n",
    "# After Detector Stage\n",
    "TP = len(benign_eval_idx.intersection(benign_pred_idx)) # Detector classifies 'BENIGN' samples as correct 'BENIGN'\n",
    "print(f\"Detector classifies 'BENIGN' samples as correct 'BENIGN': {TP}\")\n",
    "FP = len(attack_eval_idx.intersection(benign_pred_idx)) # Detector classifies 'ATTACK' samples as correct 'BENIGN'\n",
    "print(f\"Detector mis-classifies 'ATTACK' samples as correct 'BENIGN': {FP}\")\n",
    "\n",
    "TN = len(attack_eval_idx.intersection(attack_pred_idx)) # Detector classifies 'ATTACK' samples as misclassified due to 'ATTACK'\n",
    "print(f\"Detector classifies 'ATTACK' samples as misclassified due to 'ATTACK': {TN}\")\n",
    "FN = len(benign_eval_idx.intersection(attack_pred_idx)) # Detector classifies 'BENIGN' samples as misclassified due to 'ATTACK'\n",
    "print(f\"Detector classifies 'BENIGN' samples as misclassified due to 'ATTACK': {FN}\")\n",
    "\n",
    "print(f\"TP: {TP}\")\n",
    "print(f\"FP: {FP}\")\n",
    "print(f\"TN: {TN}\")\n",
    "print(f\"FN: {FN}\")\n",
    "print(f\"Sum: {TP + FP + TN + FN}\")"
   ]
  },
  {
   "cell_type": "code",
   "execution_count": null,
   "metadata": {},
   "outputs": [
    {
     "name": "stdout",
     "output_type": "stream",
     "text": [
      "Global Accuracy: 99.65%\n",
      "              precision    recall  f1-score   support\n",
      "\n",
      "      ATTACK     0.9940    0.9990    0.9965      1000\n",
      "      BENIGN     0.9990    0.9940    0.9965      1000\n",
      "\n",
      "    accuracy                         0.9965      2000\n",
      "   macro avg     0.9965    0.9965    0.9965      2000\n",
      "weighted avg     0.9965    0.9965    0.9965      2000\n",
      "\n",
      "True Negative Rate: 99.90%\n",
      "False Positive Rate: 0.10%\n",
      "True Positive Rate: 99.40%\n",
      "False Negative Rate: 0.60%\n"
     ]
    }
   ],
   "source": [
    "from sklearn.metrics import classification_report\n",
    "\n",
    "print(f\"Global Accuracy: {(TP + TN) / (TP + FP + TN + FN) * 100:.2f}%\")\n",
    "\n",
    "# Construct a fake y_true and y_pred to match sklearn's classification_report format\n",
    "y_true = np.array([1] * TP + [0] * TN + [1] * FN + [0] * FP)  # True labels\n",
    "y_pred = np.array([1] * TP + [0] * TN + [0] * FN + [1] * FP)  # Predicted labels\n",
    "\n",
    "# Generate classification report\n",
    "report = classification_report(y_true, y_pred, target_names=['ATTACK', 'BENIGN'], digits=4) # reverse labels because classification_report assumes first label is 0\n",
    "print(report)\n",
    "\n",
    "print(f\"True Negative Rate: {TN/(TN+FP)*100:.2f}%\")\n",
    "print(f\"False Positive Rate: {FP/(TN+FP)*100:.2f}%\")\n",
    "print(f\"True Positive Rate: {TP/(TP+FN)*100:.2f}%\")\n",
    "print(f\"False Negative Rate: {FN/(TP+FN)*100:.2f}%\")"
   ]
  },
  {
   "cell_type": "markdown",
   "metadata": {},
   "source": [
    "---\n",
    "### Attack Success Rate - Adversarial Attack Misclassify IDS"
   ]
  },
  {
   "cell_type": "markdown",
   "metadata": {},
   "source": [
    "#### ASR with Defense"
   ]
  },
  {
   "cell_type": "code",
   "execution_count": 86,
   "metadata": {},
   "outputs": [
    {
     "name": "stdout",
     "output_type": "stream",
     "text": [
      " 2 ATTACK\n",
      " 990 BENIGN\n",
      "Attack Success Rate: 0.0010\n",
      "Effective Adversarial Mitigation Rate: 0.9990\n"
     ]
    }
   ],
   "source": [
    "# how many samples gets misclassified?\n",
    "print(f\" {len(pred_class_2)} ATTACK\")\n",
    "print(f\" {len(pred_class_3)} BENIGN\")\n",
    "\n",
    "misclassified_benign = pred_class_2.intersection(benign_eval_idx)\n",
    "misclassified_malicious = pred_class_3.intersection(attack_eval_idx)\n",
    "\n",
    "asr = (len(misclassified_benign) + len(misclassified_malicious)) / len(X_eval)\n",
    "print(f\"Attack Success Rate: {asr:.4f}\")\n",
    "\n",
    "eamr = 1 - asr\n",
    "print(f\"Effective Adversarial Mitigation Rate: {eamr:.4f}\")"
   ]
  },
  {
   "cell_type": "markdown",
   "metadata": {},
   "source": [
    "#### ASR without Defense"
   ]
  },
  {
   "cell_type": "code",
   "execution_count": null,
   "metadata": {},
   "outputs": [
    {
     "name": "stdout",
     "output_type": "stream",
     "text": [
      "Misclassified Benign Normal Samples: 720\n",
      "Misclassified Attack Normal Samples: 788\n",
      "Attack Success Rate on Normal Data: 0.7540\n"
     ]
    }
   ],
   "source": [
    "\n",
    "asr_normal_benign_class = y_pred_adv_eval[y_pred_adv_eval['BENIGN']].index\n",
    "asr_normal_attack_class = y_pred_adv_eval[y_pred_adv_eval['ATTACK']].index\n",
    "\n",
    "misclassified_benign_normal = asr_normal_benign_class.intersection(attack_eval_idx)\n",
    "misclassified_attack_normal = asr_normal_attack_class.intersection(benign_eval_idx)\n",
    "print(f\"Misclassified Benign Normal Samples: {len(misclassified_benign_normal)}\")\n",
    "print(f\"Misclassified Attack Normal Samples: {len(misclassified_attack_normal)}\")\n",
    "asr_normal = (len(misclassified_benign_normal) + len(misclassified_attack_normal)) / len(X_eval)\n",
    "print(f\"Attack Success Rate on Normal Data: {asr_normal:.4f}\")"
   ]
  }
 ],
 "metadata": {
  "kernelspec": {
   "display_name": ".env",
   "language": "python",
   "name": "python3"
  },
  "language_info": {
   "codemirror_mode": {
    "name": "ipython",
    "version": 3
   },
   "file_extension": ".py",
   "mimetype": "text/x-python",
   "name": "python",
   "nbconvert_exporter": "python",
   "pygments_lexer": "ipython3",
   "version": "3.12.3"
  }
 },
 "nbformat": 4,
 "nbformat_minor": 4
}
